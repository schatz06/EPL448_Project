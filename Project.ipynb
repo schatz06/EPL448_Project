{
  "nbformat": 4,
  "nbformat_minor": 0,
  "metadata": {
    "colab": {
      "name": "Project.ipynb",
      "provenance": [],
      "collapsed_sections": [
        "lSZ9eR3V62Sl"
      ],
      "include_colab_link": true
    },
    "kernelspec": {
      "name": "python3",
      "display_name": "Python 3"
    }
  },
  "cells": [
    {
      "cell_type": "markdown",
      "metadata": {
        "id": "view-in-github",
        "colab_type": "text"
      },
      "source": [
        "<a href=\"https://colab.research.google.com/github/schatz06/EPL448_Project/blob/main/Project.ipynb\" target=\"_parent\"><img src=\"https://colab.research.google.com/assets/colab-badge.svg\" alt=\"Open In Colab\"/></a>"
      ]
    },
    {
      "cell_type": "markdown",
      "metadata": {
        "id": "lSZ9eR3V62Sl"
      },
      "source": [
        "##Map Driver##"
      ]
    },
    {
      "cell_type": "code",
      "metadata": {
        "id": "H6gWIa3e64WR"
      },
      "source": [
        "#from google.colab import drive\r\n",
        "#drive.mount('/content/drive')"
      ],
      "execution_count": 1,
      "outputs": []
    },
    {
      "cell_type": "markdown",
      "metadata": {
        "id": "aEzG66o-6q4k"
      },
      "source": [
        "##Import Packages ## "
      ]
    },
    {
      "cell_type": "code",
      "metadata": {
        "id": "_w-zmPSb3hbo"
      },
      "source": [
        "import numpy as np \r\n",
        "import pandas as pd \r\n",
        "import matplotlib.pyplot as plt\r\n",
        "import sklearn\r\n",
        "from sklearn.preprocessing import MinMaxScaler\r\n",
        "import pandas.plotting as pdplt"
      ],
      "execution_count": 2,
      "outputs": []
    },
    {
      "cell_type": "markdown",
      "metadata": {
        "id": "qZVs8QhC692H"
      },
      "source": [
        "##Read Data##"
      ]
    },
    {
      "cell_type": "code",
      "metadata": {
        "id": "e8JFrF547AWh"
      },
      "source": [
        "train_data = pd.read_excel('Data_Train.xlsx') # read training data\r\n",
        "test_data  = pd.read_excel('Data_Test.xlsx') # read test data"
      ],
      "execution_count": 3,
      "outputs": []
    },
    {
      "cell_type": "markdown",
      "metadata": {
        "id": "T_HnEvEW9Azg"
      },
      "source": [
        "Check for corrupted or empty records"
      ]
    },
    {
      "cell_type": "code",
      "metadata": {
        "colab": {
          "base_uri": "https://localhost:8080/"
        },
        "id": "RCJcTvO28eMw",
        "outputId": "2c1db0df-176b-4cd6-fefb-a3183dc4fbd4"
      },
      "source": [
        "print(\"Problematic records in training data: \",train_data.isnull().sum().sum())\r\n",
        "print(\"Problematic records in test data: \",test_data.isnull().sum().sum())"
      ],
      "execution_count": 4,
      "outputs": [
        {
          "output_type": "stream",
          "text": [
            "Problematic records in training data:  0\n",
            "Problematic records in test data:  0\n"
          ],
          "name": "stdout"
        }
      ]
    },
    {
      "cell_type": "markdown",
      "metadata": {
        "id": "kI7MFZS_-qOk"
      },
      "source": [
        "##Train Data Preprocessing##"
      ]
    },
    {
      "cell_type": "markdown",
      "metadata": {
        "id": "Yd8JoIa9xBMF"
      },
      "source": [
        "Dataset Shape"
      ]
    },
    {
      "cell_type": "code",
      "metadata": {
        "id": "s08q3CZRxP0P",
        "outputId": "e1bdae9e-26a8-49bd-e5ac-15c1910deb6f",
        "colab": {
          "base_uri": "https://localhost:8080/"
        }
      },
      "source": [
        "print(train_data.shape)"
      ],
      "execution_count": 5,
      "outputs": [
        {
          "output_type": "stream",
          "text": [
            "(6237, 9)\n"
          ],
          "name": "stdout"
        }
      ]
    },
    {
      "cell_type": "markdown",
      "metadata": {
        "id": "_4gcx2GexpaF"
      },
      "source": [
        "Peek of the data"
      ]
    },
    {
      "cell_type": "code",
      "metadata": {
        "id": "ZIPjvBKExr5N",
        "outputId": "f254f598-a59e-471f-bd9e-e4fb9b0f5e1d",
        "colab": {
          "base_uri": "https://localhost:8080/",
          "height": 293
        }
      },
      "source": [
        "train_data.head()"
      ],
      "execution_count": 6,
      "outputs": [
        {
          "output_type": "execute_result",
          "data": {
            "text/html": [
              "<div>\n",
              "<style scoped>\n",
              "    .dataframe tbody tr th:only-of-type {\n",
              "        vertical-align: middle;\n",
              "    }\n",
              "\n",
              "    .dataframe tbody tr th {\n",
              "        vertical-align: top;\n",
              "    }\n",
              "\n",
              "    .dataframe thead th {\n",
              "        text-align: right;\n",
              "    }\n",
              "</style>\n",
              "<table border=\"1\" class=\"dataframe\">\n",
              "  <thead>\n",
              "    <tr style=\"text-align: right;\">\n",
              "      <th></th>\n",
              "      <th>Title</th>\n",
              "      <th>Author</th>\n",
              "      <th>Edition</th>\n",
              "      <th>Reviews</th>\n",
              "      <th>Ratings</th>\n",
              "      <th>Synopsis</th>\n",
              "      <th>Genre</th>\n",
              "      <th>BookCategory</th>\n",
              "      <th>Price</th>\n",
              "    </tr>\n",
              "  </thead>\n",
              "  <tbody>\n",
              "    <tr>\n",
              "      <th>0</th>\n",
              "      <td>The Prisoner's Gold (The Hunters 3)</td>\n",
              "      <td>Chris Kuzneski</td>\n",
              "      <td>Paperback,– 10 Mar 2016</td>\n",
              "      <td>4.0 out of 5 stars</td>\n",
              "      <td>8 customer reviews</td>\n",
              "      <td>THE HUNTERS return in their third brilliant no...</td>\n",
              "      <td>Action &amp; Adventure (Books)</td>\n",
              "      <td>Action &amp; Adventure</td>\n",
              "      <td>220.00</td>\n",
              "    </tr>\n",
              "    <tr>\n",
              "      <th>1</th>\n",
              "      <td>Guru Dutt: A Tragedy in Three Acts</td>\n",
              "      <td>Arun Khopkar</td>\n",
              "      <td>Paperback,– 7 Nov 2012</td>\n",
              "      <td>3.9 out of 5 stars</td>\n",
              "      <td>14 customer reviews</td>\n",
              "      <td>A layered portrait of a troubled genius for wh...</td>\n",
              "      <td>Cinema &amp; Broadcast (Books)</td>\n",
              "      <td>Biographies, Diaries &amp; True Accounts</td>\n",
              "      <td>202.93</td>\n",
              "    </tr>\n",
              "    <tr>\n",
              "      <th>2</th>\n",
              "      <td>Leviathan (Penguin Classics)</td>\n",
              "      <td>Thomas Hobbes</td>\n",
              "      <td>Paperback,– 25 Feb 1982</td>\n",
              "      <td>4.8 out of 5 stars</td>\n",
              "      <td>6 customer reviews</td>\n",
              "      <td>\"During the time men live without a common Pow...</td>\n",
              "      <td>International Relations</td>\n",
              "      <td>Humour</td>\n",
              "      <td>299.00</td>\n",
              "    </tr>\n",
              "    <tr>\n",
              "      <th>3</th>\n",
              "      <td>A Pocket Full of Rye (Miss Marple)</td>\n",
              "      <td>Agatha Christie</td>\n",
              "      <td>Paperback,– 5 Oct 2017</td>\n",
              "      <td>4.1 out of 5 stars</td>\n",
              "      <td>13 customer reviews</td>\n",
              "      <td>A handful of grain is found in the pocket of a...</td>\n",
              "      <td>Contemporary Fiction (Books)</td>\n",
              "      <td>Crime, Thriller &amp; Mystery</td>\n",
              "      <td>180.00</td>\n",
              "    </tr>\n",
              "    <tr>\n",
              "      <th>4</th>\n",
              "      <td>LIFE 70 Years of Extraordinary Photography</td>\n",
              "      <td>Editors of Life</td>\n",
              "      <td>Hardcover,– 10 Oct 2006</td>\n",
              "      <td>5.0 out of 5 stars</td>\n",
              "      <td>1 customer review</td>\n",
              "      <td>For seven decades, \"Life\" has been thrilling t...</td>\n",
              "      <td>Photography Textbooks</td>\n",
              "      <td>Arts, Film &amp; Photography</td>\n",
              "      <td>965.62</td>\n",
              "    </tr>\n",
              "  </tbody>\n",
              "</table>\n",
              "</div>"
            ],
            "text/plain": [
              "                                        Title  ...   Price\n",
              "0         The Prisoner's Gold (The Hunters 3)  ...  220.00\n",
              "1          Guru Dutt: A Tragedy in Three Acts  ...  202.93\n",
              "2                Leviathan (Penguin Classics)  ...  299.00\n",
              "3          A Pocket Full of Rye (Miss Marple)  ...  180.00\n",
              "4  LIFE 70 Years of Extraordinary Photography  ...  965.62\n",
              "\n",
              "[5 rows x 9 columns]"
            ]
          },
          "metadata": {
            "tags": []
          },
          "execution_count": 6
        }
      ]
    },
    {
      "cell_type": "markdown",
      "metadata": {
        "id": "uMMeJ4y3x_9f"
      },
      "source": [
        "Data type for each column"
      ]
    },
    {
      "cell_type": "code",
      "metadata": {
        "id": "SNIuiIa1yDVZ",
        "outputId": "37d6b9f6-2bd8-48d5-82b0-c977eaf889af",
        "colab": {
          "base_uri": "https://localhost:8080/"
        }
      },
      "source": [
        "print(train_data.dtypes)"
      ],
      "execution_count": 7,
      "outputs": [
        {
          "output_type": "stream",
          "text": [
            "Title            object\n",
            "Author           object\n",
            "Edition          object\n",
            "Reviews          object\n",
            "Ratings          object\n",
            "Synopsis         object\n",
            "Genre            object\n",
            "BookCategory     object\n",
            "Price           float64\n",
            "dtype: object\n"
          ],
          "name": "stdout"
        }
      ]
    },
    {
      "cell_type": "markdown",
      "metadata": {
        "id": "XbiMRVP7yP31"
      },
      "source": [
        "Statistical summary"
      ]
    },
    {
      "cell_type": "code",
      "metadata": {
        "id": "FqBEEmyayR-y",
        "outputId": "2efd0903-f717-42b5-fd3f-93bbde6b7155",
        "colab": {
          "base_uri": "https://localhost:8080/"
        }
      },
      "source": [
        "print(train_data.describe())"
      ],
      "execution_count": 8,
      "outputs": [
        {
          "output_type": "stream",
          "text": [
            "              Price\n",
            "count   6237.000000\n",
            "mean     560.707516\n",
            "std      690.110657\n",
            "min       25.000000\n",
            "25%      249.180000\n",
            "50%      373.000000\n",
            "75%      599.000000\n",
            "max    14100.000000\n"
          ],
          "name": "stdout"
        }
      ]
    },
    {
      "cell_type": "markdown",
      "metadata": {
        "id": "NrRn8uZQF7sA"
      },
      "source": [
        "Reviews Normalization"
      ]
    },
    {
      "cell_type": "code",
      "metadata": {
        "id": "pAEN8VBk-ttV",
        "outputId": "7cb2b72a-e0e1-4c18-f3df-d4215db49d27",
        "colab": {
          "base_uri": "https://localhost:8080/",
          "height": 793
        }
      },
      "source": [
        "train_data['Reviews'] = train_data.Reviews.apply(lambda r: float(r.split()[0])) # get only the review rule \r\n",
        "plt.boxplot(train_data['Reviews'])\r\n",
        "plt.show()\r\n",
        "plt.hist(train_data['Reviews'])\r\n",
        "plt.show()\r\n",
        "pdplt.scatter_matrix(train_data[['Reviews','Price']])\r\n",
        "plt.show()\r\n",
        "train_data['Reviews'] = (train_data.Reviews - train_data.Reviews.min())/(train_data.Reviews.max() - train_data.Reviews.min()) # normalize reviews \r\n"
      ],
      "execution_count": 9,
      "outputs": [
        {
          "output_type": "display_data",
          "data": {
            "image/png": "[encoded data removed]",
            "text/plain": [
              "<Figure size 432x288 with 1 Axes>"
            ]
          },
          "metadata": {
            "tags": [],
            "needs_background": "light"
          }
        },
        {
          "output_type": "display_data",
          "data": {
            "image/png": "[encoded data removed]",
            "text/plain": [
              "<Figure size 432x288 with 1 Axes>"
            ]
          },
          "metadata": {
            "tags": [],
            "needs_background": "light"
          }
        },
        {
          "output_type": "display_data",
          "data": {
            "image/png": "[encoded data removed]",
            "text/plain": [
              "<Figure size 432x288 with 4 Axes>"
            ]
          },
          "metadata": {
            "tags": [],
            "needs_background": "light"
          }
        }
      ]
    },
    {
      "cell_type": "markdown",
      "metadata": {
        "id": "1RVGKZheJ7tw"
      },
      "source": [
        "Ratings Normalization"
      ]
    },
    {
      "cell_type": "code",
      "metadata": {
        "id": "gfja3WZ6J_TZ",
        "outputId": "d4f7964c-dc6a-41e6-a14d-34cec054c03b",
        "colab": {
          "base_uri": "https://localhost:8080/",
          "height": 513
        }
      },
      "source": [
        "train_data['Ratings'] = train_data.Ratings.apply(lambda r: float(r.split()[0].replace(',',''))) # get only the rating \r\n",
        "train_data['Ratings'] = (train_data.Ratings - train_data.Ratings.min())/(train_data.Ratings.max() - train_data.Ratings.min()) # normalize rating \r\n",
        "plt.boxplot(train_data['Ratings'])\r\n",
        "plt.show()\r\n",
        "plt.hist(train_data['Ratings'])\r\n",
        "plt.show()"
      ],
      "execution_count": 10,
      "outputs": [
        {
          "output_type": "display_data",
          "data": {
            "image/png": "[encoded data removed]",
            "text/plain": [
              "<Figure size 432x288 with 1 Axes>"
            ]
          },
          "metadata": {
            "tags": [],
            "needs_background": "light"
          }
        },
        {
          "output_type": "display_data",
          "data": {
            "image/png": "[encoded data removed]",
            "text/plain": [
              "<Figure size 432x288 with 1 Axes>"
            ]
          },
          "metadata": {
            "tags": [],
            "needs_background": "light"
          }
        }
      ]
    },
    {
      "cell_type": "markdown",
      "metadata": {
        "id": "0zfAjj-9NAjj"
      },
      "source": [
        "Drop Title & Author & Synopsis & Genre columns"
      ]
    },
    {
      "cell_type": "code",
      "metadata": {
        "id": "-rYTtCQMNDsQ",
        "colab": {
          "base_uri": "https://localhost:8080/"
        },
        "outputId": "73e2b42d-1645-40f3-b758-884cd949f870"
      },
      "source": [
        "train_data.pop('Author')\r\n",
        "train_data.pop('Title')\r\n",
        "train_data.pop('Synopsis')\r\n",
        "train_data.pop('Genre')"
      ],
      "execution_count": 11,
      "outputs": [
        {
          "output_type": "execute_result",
          "data": {
            "text/plain": [
              "0         Action & Adventure (Books)\n",
              "1         Cinema & Broadcast (Books)\n",
              "2            International Relations\n",
              "3       Contemporary Fiction (Books)\n",
              "4              Photography Textbooks\n",
              "                    ...             \n",
              "6232            Anthropology (Books)\n",
              "6233    Contemporary Fiction (Books)\n",
              "6234                 Romance (Books)\n",
              "6235      Action & Adventure (Books)\n",
              "6236      Action & Adventure (Books)\n",
              "Name: Genre, Length: 6237, dtype: object"
            ]
          },
          "metadata": {
            "tags": []
          },
          "execution_count": 11
        }
      ]
    },
    {
      "cell_type": "markdown",
      "metadata": {
        "id": "q0BSBRuKP_ro"
      },
      "source": [
        "Edition Normalization / Drop edition"
      ]
    },
    {
      "cell_type": "code",
      "metadata": {
        "id": "wk1NmTiZQC0S",
        "colab": {
          "base_uri": "https://localhost:8080/"
        },
        "outputId": "71fee1f6-19c3-4f99-cc4b-a28b90436588"
      },
      "source": [
        "#train_data['Edition'] = train_data.Edition.apply(lambda r: r.split(',')[0]) # get only the type of book e.g Paperback or Hardcover\r\n",
        "#train_data= pd.get_dummies(train_data, columns= ['Edition'])\r\n",
        "train_data.pop('Edition')"
      ],
      "execution_count": 12,
      "outputs": [
        {
          "output_type": "execute_result",
          "data": {
            "text/plain": [
              "0       Paperback,– 10 Mar 2016\n",
              "1        Paperback,– 7 Nov 2012\n",
              "2       Paperback,– 25 Feb 1982\n",
              "3        Paperback,– 5 Oct 2017\n",
              "4       Hardcover,– 10 Oct 2006\n",
              "                 ...           \n",
              "6232     Paperback,– 8 Aug 2018\n",
              "6233    Paperback,– 21 Nov 2016\n",
              "6234     Paperback,– 8 Jun 2006\n",
              "6235    Paperback,– 15 Jan 2015\n",
              "6236    Paperback,– 21 Dec 2016\n",
              "Name: Edition, Length: 6237, dtype: object"
            ]
          },
          "metadata": {
            "tags": []
          },
          "execution_count": 12
        }
      ]
    },
    {
      "cell_type": "markdown",
      "metadata": {
        "id": "CJPpUrNZilDE"
      },
      "source": [
        "Book Category Normalization / Extract Categories"
      ]
    },
    {
      "cell_type": "code",
      "metadata": {
        "id": "2YMm7wBoi0Bf"
      },
      "source": [
        "train_data= pd.get_dummies(train_data, columns= ['BookCategory'],drop_first=True)"
      ],
      "execution_count": 13,
      "outputs": []
    },
    {
      "cell_type": "markdown",
      "metadata": {
        "id": "J9_VvYKToPrq"
      },
      "source": [
        "Finish training inputs(z)"
      ]
    },
    {
      "cell_type": "code",
      "metadata": {
        "id": "Bd__7oEcnzIe"
      },
      "source": [
        "z = train_data"
      ],
      "execution_count": 14,
      "outputs": []
    },
    {
      "cell_type": "code",
      "metadata": {
        "colab": {
          "base_uri": "https://localhost:8080/",
          "height": 261
        },
        "id": "u68uHxTKn8pS",
        "outputId": "568acea3-15c3-457a-b574-cfb375d90f83"
      },
      "source": [
        "train_data.head()"
      ],
      "execution_count": 15,
      "outputs": [
        {
          "output_type": "execute_result",
          "data": {
            "text/html": [
              "<div>\n",
              "<style scoped>\n",
              "    .dataframe tbody tr th:only-of-type {\n",
              "        vertical-align: middle;\n",
              "    }\n",
              "\n",
              "    .dataframe tbody tr th {\n",
              "        vertical-align: top;\n",
              "    }\n",
              "\n",
              "    .dataframe thead th {\n",
              "        text-align: right;\n",
              "    }\n",
              "</style>\n",
              "<table border=\"1\" class=\"dataframe\">\n",
              "  <thead>\n",
              "    <tr style=\"text-align: right;\">\n",
              "      <th></th>\n",
              "      <th>Reviews</th>\n",
              "      <th>Ratings</th>\n",
              "      <th>Price</th>\n",
              "      <th>BookCategory_Arts, Film &amp; Photography</th>\n",
              "      <th>BookCategory_Biographies, Diaries &amp; True Accounts</th>\n",
              "      <th>BookCategory_Comics &amp; Mangas</th>\n",
              "      <th>BookCategory_Computing, Internet &amp; Digital Media</th>\n",
              "      <th>BookCategory_Crime, Thriller &amp; Mystery</th>\n",
              "      <th>BookCategory_Humour</th>\n",
              "      <th>BookCategory_Language, Linguistics &amp; Writing</th>\n",
              "      <th>BookCategory_Politics</th>\n",
              "      <th>BookCategory_Romance</th>\n",
              "      <th>BookCategory_Sports</th>\n",
              "    </tr>\n",
              "  </thead>\n",
              "  <tbody>\n",
              "    <tr>\n",
              "      <th>0</th>\n",
              "      <td>0.750</td>\n",
              "      <td>0.001150</td>\n",
              "      <td>220.00</td>\n",
              "      <td>0</td>\n",
              "      <td>0</td>\n",
              "      <td>0</td>\n",
              "      <td>0</td>\n",
              "      <td>0</td>\n",
              "      <td>0</td>\n",
              "      <td>0</td>\n",
              "      <td>0</td>\n",
              "      <td>0</td>\n",
              "      <td>0</td>\n",
              "    </tr>\n",
              "    <tr>\n",
              "      <th>1</th>\n",
              "      <td>0.725</td>\n",
              "      <td>0.002135</td>\n",
              "      <td>202.93</td>\n",
              "      <td>0</td>\n",
              "      <td>1</td>\n",
              "      <td>0</td>\n",
              "      <td>0</td>\n",
              "      <td>0</td>\n",
              "      <td>0</td>\n",
              "      <td>0</td>\n",
              "      <td>0</td>\n",
              "      <td>0</td>\n",
              "      <td>0</td>\n",
              "    </tr>\n",
              "    <tr>\n",
              "      <th>2</th>\n",
              "      <td>0.950</td>\n",
              "      <td>0.000821</td>\n",
              "      <td>299.00</td>\n",
              "      <td>0</td>\n",
              "      <td>0</td>\n",
              "      <td>0</td>\n",
              "      <td>0</td>\n",
              "      <td>0</td>\n",
              "      <td>1</td>\n",
              "      <td>0</td>\n",
              "      <td>0</td>\n",
              "      <td>0</td>\n",
              "      <td>0</td>\n",
              "    </tr>\n",
              "    <tr>\n",
              "      <th>3</th>\n",
              "      <td>0.775</td>\n",
              "      <td>0.001971</td>\n",
              "      <td>180.00</td>\n",
              "      <td>0</td>\n",
              "      <td>0</td>\n",
              "      <td>0</td>\n",
              "      <td>0</td>\n",
              "      <td>1</td>\n",
              "      <td>0</td>\n",
              "      <td>0</td>\n",
              "      <td>0</td>\n",
              "      <td>0</td>\n",
              "      <td>0</td>\n",
              "    </tr>\n",
              "    <tr>\n",
              "      <th>4</th>\n",
              "      <td>1.000</td>\n",
              "      <td>0.000000</td>\n",
              "      <td>965.62</td>\n",
              "      <td>1</td>\n",
              "      <td>0</td>\n",
              "      <td>0</td>\n",
              "      <td>0</td>\n",
              "      <td>0</td>\n",
              "      <td>0</td>\n",
              "      <td>0</td>\n",
              "      <td>0</td>\n",
              "      <td>0</td>\n",
              "      <td>0</td>\n",
              "    </tr>\n",
              "  </tbody>\n",
              "</table>\n",
              "</div>"
            ],
            "text/plain": [
              "   Reviews   Ratings  ...  BookCategory_Romance  BookCategory_Sports\n",
              "0    0.750  0.001150  ...                     0                    0\n",
              "1    0.725  0.002135  ...                     0                    0\n",
              "2    0.950  0.000821  ...                     0                    0\n",
              "3    0.775  0.001971  ...                     0                    0\n",
              "4    1.000  0.000000  ...                     0                    0\n",
              "\n",
              "[5 rows x 13 columns]"
            ]
          },
          "metadata": {
            "tags": []
          },
          "execution_count": 15
        }
      ]
    },
    {
      "cell_type": "markdown",
      "metadata": {
        "id": "8HlOsPmfomM_"
      },
      "source": [
        "##Test Data Preprocessing##"
      ]
    },
    {
      "cell_type": "markdown",
      "metadata": {
        "id": "p6g0wsKgpNB7"
      },
      "source": [
        "Reviews Normalization"
      ]
    },
    {
      "cell_type": "code",
      "metadata": {
        "id": "xHvVloNcowkL"
      },
      "source": [
        "test_data['Reviews'] = test_data.Reviews.apply(lambda r: float(r.split()[0])) # get only the review rule \r\n",
        "test_data['Reviews'] = (test_data.Reviews - test_data.Reviews.mean())/(test_data.Reviews.std()) # normalize reviews "
      ],
      "execution_count": 16,
      "outputs": []
    },
    {
      "cell_type": "markdown",
      "metadata": {
        "id": "6AhUA_qjpP0_"
      },
      "source": [
        "Ratings Normalization"
      ]
    },
    {
      "cell_type": "code",
      "metadata": {
        "id": "usjQWRpBpRvG"
      },
      "source": [
        "test_data['Ratings'] = test_data.Ratings.apply(lambda r: float(r.split()[0].replace(',',''))) # get only the rating \r\n",
        "test_data['Ratings'] = (test_data.Ratings - test_data.Ratings.mean())/(test_data.Ratings.std()) # normalize rating "
      ],
      "execution_count": 17,
      "outputs": []
    },
    {
      "cell_type": "markdown",
      "metadata": {
        "id": "ioo8hl6apgRW"
      },
      "source": [
        "Drop Title & Author & Synopsis & Genre columns"
      ]
    },
    {
      "cell_type": "code",
      "metadata": {
        "colab": {
          "base_uri": "https://localhost:8080/"
        },
        "id": "nPuONcnkpgu5",
        "outputId": "2ddc88b4-e469-45ba-f8d3-d86845e0ada4"
      },
      "source": [
        "test_data.pop('Author')\r\n",
        "test_data.pop('Title')\r\n",
        "test_data.pop('Synopsis')\r\n",
        "test_data.pop('Genre')"
      ],
      "execution_count": 18,
      "outputs": [
        {
          "output_type": "execute_result",
          "data": {
            "text/plain": [
              "0                            Short Stories (Books)\n",
              "1                      Operating Systems Textbooks\n",
              "2                                  Romance (Books)\n",
              "3       Programming & Software Development (Books)\n",
              "4                              Linguistics (Books)\n",
              "                           ...                    \n",
              "1555                                        Design\n",
              "1556                  Children's Reference (Books)\n",
              "1557                                Humour (Books)\n",
              "1558                         United States History\n",
              "1559                                  Dictionaries\n",
              "Name: Genre, Length: 1560, dtype: object"
            ]
          },
          "metadata": {
            "tags": []
          },
          "execution_count": 18
        }
      ]
    },
    {
      "cell_type": "markdown",
      "metadata": {
        "id": "JU-2_lAVpo3b"
      },
      "source": [
        "Edition Normalization / Drop edition "
      ]
    },
    {
      "cell_type": "code",
      "metadata": {
        "colab": {
          "base_uri": "https://localhost:8080/"
        },
        "id": "tXHrEkgEpq7A",
        "outputId": "2ec6b8c8-c580-4fd0-db59-68f2c07bdfd6"
      },
      "source": [
        "#test_data['Edition'] = test_data.Edition.apply(lambda r: r.split(',')[0]) # get only the type of book e.g Paperback or Hardcover\r\n",
        "#test_data= pd.get_dummies(test_data, columns= ['Edition'])\r\n",
        "test_data.pop('Edition')"
      ],
      "execution_count": 19,
      "outputs": [
        {
          "output_type": "execute_result",
          "data": {
            "text/plain": [
              "0       Mass Market Paperback,– 1 Oct 1986\n",
              "1          Paperback,– Import, 26 Apr 2018\n",
              "2                  Paperback,– 17 Mar 2011\n",
              "3                         Paperback,– 2016\n",
              "4                  Paperback,– 26 Dec 2011\n",
              "                       ...                \n",
              "1555               Paperback,– 14 Apr 2011\n",
              "1556                Paperback,– 8 May 2013\n",
              "1557                Paperback,– 6 Sep 2011\n",
              "1558               Paperback,– 22 Sep 2009\n",
              "1559               Paperback,– 16 Sep 2016\n",
              "Name: Edition, Length: 1560, dtype: object"
            ]
          },
          "metadata": {
            "tags": []
          },
          "execution_count": 19
        }
      ]
    },
    {
      "cell_type": "markdown",
      "metadata": {
        "id": "RguWaZQXp3Iz"
      },
      "source": [
        "Book Category Normalization / Extract Categories"
      ]
    },
    {
      "cell_type": "code",
      "metadata": {
        "id": "iSU2ovyBp3ju"
      },
      "source": [
        "test_data= pd.get_dummies(test_data, columns= ['BookCategory'],drop_first=True)"
      ],
      "execution_count": 20,
      "outputs": []
    },
    {
      "cell_type": "markdown",
      "metadata": {
        "id": "PgJqI6IKqDOg"
      },
      "source": [
        "Finish Test set Inputs"
      ]
    },
    {
      "cell_type": "code",
      "metadata": {
        "colab": {
          "base_uri": "https://localhost:8080/",
          "height": 261
        },
        "id": "XoEkL8CKqFGI",
        "outputId": "d27c5339-f09b-4f75-dcbb-92ed04863bb3"
      },
      "source": [
        "z_test = test_data\r\n",
        "z_test.head()"
      ],
      "execution_count": 21,
      "outputs": [
        {
          "output_type": "execute_result",
          "data": {
            "text/html": [
              "<div>\n",
              "<style scoped>\n",
              "    .dataframe tbody tr th:only-of-type {\n",
              "        vertical-align: middle;\n",
              "    }\n",
              "\n",
              "    .dataframe tbody tr th {\n",
              "        vertical-align: top;\n",
              "    }\n",
              "\n",
              "    .dataframe thead th {\n",
              "        text-align: right;\n",
              "    }\n",
              "</style>\n",
              "<table border=\"1\" class=\"dataframe\">\n",
              "  <thead>\n",
              "    <tr style=\"text-align: right;\">\n",
              "      <th></th>\n",
              "      <th>Reviews</th>\n",
              "      <th>Ratings</th>\n",
              "      <th>BookCategory_Arts, Film &amp; Photography</th>\n",
              "      <th>BookCategory_Biographies, Diaries &amp; True Accounts</th>\n",
              "      <th>BookCategory_Comics &amp; Mangas</th>\n",
              "      <th>BookCategory_Computing, Internet &amp; Digital Media</th>\n",
              "      <th>BookCategory_Crime, Thriller &amp; Mystery</th>\n",
              "      <th>BookCategory_Humour</th>\n",
              "      <th>BookCategory_Language, Linguistics &amp; Writing</th>\n",
              "      <th>BookCategory_Politics</th>\n",
              "      <th>BookCategory_Romance</th>\n",
              "      <th>BookCategory_Sports</th>\n",
              "    </tr>\n",
              "  </thead>\n",
              "  <tbody>\n",
              "    <tr>\n",
              "      <th>0</th>\n",
              "      <td>0.140178</td>\n",
              "      <td>5.627725</td>\n",
              "      <td>0</td>\n",
              "      <td>0</td>\n",
              "      <td>0</td>\n",
              "      <td>0</td>\n",
              "      <td>1</td>\n",
              "      <td>0</td>\n",
              "      <td>0</td>\n",
              "      <td>0</td>\n",
              "      <td>0</td>\n",
              "      <td>0</td>\n",
              "    </tr>\n",
              "    <tr>\n",
              "      <th>1</th>\n",
              "      <td>1.038851</td>\n",
              "      <td>-0.198467</td>\n",
              "      <td>0</td>\n",
              "      <td>0</td>\n",
              "      <td>0</td>\n",
              "      <td>1</td>\n",
              "      <td>0</td>\n",
              "      <td>0</td>\n",
              "      <td>0</td>\n",
              "      <td>0</td>\n",
              "      <td>0</td>\n",
              "      <td>0</td>\n",
              "    </tr>\n",
              "    <tr>\n",
              "      <th>2</th>\n",
              "      <td>1.038851</td>\n",
              "      <td>-0.180241</td>\n",
              "      <td>0</td>\n",
              "      <td>0</td>\n",
              "      <td>0</td>\n",
              "      <td>0</td>\n",
              "      <td>0</td>\n",
              "      <td>0</td>\n",
              "      <td>0</td>\n",
              "      <td>0</td>\n",
              "      <td>1</td>\n",
              "      <td>0</td>\n",
              "    </tr>\n",
              "    <tr>\n",
              "      <th>3</th>\n",
              "      <td>-0.309159</td>\n",
              "      <td>-0.137714</td>\n",
              "      <td>0</td>\n",
              "      <td>0</td>\n",
              "      <td>0</td>\n",
              "      <td>1</td>\n",
              "      <td>0</td>\n",
              "      <td>0</td>\n",
              "      <td>0</td>\n",
              "      <td>0</td>\n",
              "      <td>0</td>\n",
              "      <td>0</td>\n",
              "    </tr>\n",
              "    <tr>\n",
              "      <th>4</th>\n",
              "      <td>0.140178</td>\n",
              "      <td>-0.149865</td>\n",
              "      <td>0</td>\n",
              "      <td>0</td>\n",
              "      <td>0</td>\n",
              "      <td>0</td>\n",
              "      <td>0</td>\n",
              "      <td>0</td>\n",
              "      <td>1</td>\n",
              "      <td>0</td>\n",
              "      <td>0</td>\n",
              "      <td>0</td>\n",
              "    </tr>\n",
              "  </tbody>\n",
              "</table>\n",
              "</div>"
            ],
            "text/plain": [
              "    Reviews   Ratings  ...  BookCategory_Romance  BookCategory_Sports\n",
              "0  0.140178  5.627725  ...                     0                    0\n",
              "1  1.038851 -0.198467  ...                     0                    0\n",
              "2  1.038851 -0.180241  ...                     1                    0\n",
              "3 -0.309159 -0.137714  ...                     0                    0\n",
              "4  0.140178 -0.149865  ...                     0                    0\n",
              "\n",
              "[5 rows x 12 columns]"
            ]
          },
          "metadata": {
            "tags": []
          },
          "execution_count": 21
        }
      ]
    },
    {
      "cell_type": "markdown",
      "metadata": {
        "id": "PAt51RdLsNCW"
      },
      "source": [
        "##Training Feed Forward Model##"
      ]
    },
    {
      "cell_type": "markdown",
      "metadata": {
        "id": "dnrYQgZXXyF-"
      },
      "source": [
        "Split Train Set in Train  & Validation Sets(70/30)"
      ]
    },
    {
      "cell_type": "code",
      "metadata": {
        "id": "_tMNNUcNVYXb"
      },
      "source": [
        "############# inputs to the neural network #######################\r\n",
        "train_set = z.sample(frac=0.7,random_state=200)\r\n",
        "validation_set = z.drop(train_set.index)\r\n",
        "######################### normalized target outputs for training set##########\r\n",
        "y_train_set = train_set.pop('Price')\r\n",
        "y_train_set_max = y_train_set.max()\r\n",
        "y_train_set_min = y_train_set.min()\r\n",
        "y_train_set = (y_train_set - y_train_set_min) /( y_train_set_max - y_train_set_min)\r\n",
        "\r\n",
        "########################## normalized target outputs for validation set #######\r\n",
        "y_validation_set = validation_set.pop('Price')\r\n",
        "y_validation_set_max = y_validation_set.max()\r\n",
        "y_validation_set_min = y_validation_set.min()\r\n",
        "y_validation_set = (y_validation_set - y_validation_set_min) /( y_validation_set_max - y_validation_set_min)"
      ],
      "execution_count": 22,
      "outputs": []
    },
    {
      "cell_type": "markdown",
      "metadata": {
        "id": "jPs5PXTyeT3_"
      },
      "source": [
        "Import tensorflow"
      ]
    },
    {
      "cell_type": "code",
      "metadata": {
        "id": "gquwg7t6eWD3",
        "colab": {
          "base_uri": "https://localhost:8080/"
        },
        "outputId": "2adfd97a-b354-4010-d76e-1eeafa9c6cd8"
      },
      "source": [
        "%tensorflow_version 2.x  # this line is not required unless you are in a notebook\r\n",
        "# TensorFlow and tf.keras\r\n",
        "import tensorflow as tf\r\n",
        "from tensorflow import keras\r\n",
        "from keras.preprocessing.text import Tokenizer\r\n",
        "from keras import models\r\n",
        "from keras import layers\r\n",
        "from sklearn.datasets import make_regression\r\n",
        "from sklearn.model_selection import train_test_split\r\n",
        "from sklearn import preprocessing"
      ],
      "execution_count": 23,
      "outputs": [
        {
          "output_type": "stream",
          "text": [
            "`%tensorflow_version` only switches the major version: 1.x or 2.x.\n",
            "You set: `2.x  # this line is not required unless you are in a notebook`. This will be interpreted as: `2.x`.\n",
            "\n",
            "\n",
            "TensorFlow 2.x selected.\n"
          ],
          "name": "stdout"
        }
      ]
    },
    {
      "cell_type": "markdown",
      "metadata": {
        "id": "tfWtmH-MeyD4"
      },
      "source": [
        "Build model/neural network"
      ]
    },
    {
      "cell_type": "code",
      "metadata": {
        "id": "bh0gL1QYe0Ya"
      },
      "source": [
        "# Start neural network\r\n",
        "network = models.Sequential()\r\n",
        "\r\n",
        "# Add fully connected layer with a ReLU activation function\r\n",
        "network.add(layers.Dense(units=32, activation='sigmoid', input_shape=(train_set.shape[1],)))\r\n",
        "\r\n",
        "# Add fully connected layer with a ReLU activation function\r\n",
        "network.add(layers.Dense(units=32, activation='sigmoid'))\r\n",
        "\r\n",
        "# Add fully connected layer with no activation function\r\n",
        "network.add(layers.Dense(units=1,activation='sigmoid'))"
      ],
      "execution_count": 24,
      "outputs": []
    },
    {
      "cell_type": "code",
      "metadata": {
        "id": "4k2sL7RMlAVK",
        "colab": {
          "base_uri": "https://localhost:8080/"
        },
        "outputId": "b5a7fd60-b970-446b-fc29-48dd6f61aa58"
      },
      "source": [
        "network.summary()"
      ],
      "execution_count": 25,
      "outputs": [
        {
          "output_type": "stream",
          "text": [
            "Model: \"sequential\"\n",
            "_________________________________________________________________\n",
            "Layer (type)                 Output Shape              Param #   \n",
            "=================================================================\n",
            "dense (Dense)                (None, 32)                416       \n",
            "_________________________________________________________________\n",
            "dense_1 (Dense)              (None, 32)                1056      \n",
            "_________________________________________________________________\n",
            "dense_2 (Dense)              (None, 1)                 33        \n",
            "=================================================================\n",
            "Total params: 1,505\n",
            "Trainable params: 1,505\n",
            "Non-trainable params: 0\n",
            "_________________________________________________________________\n"
          ],
          "name": "stdout"
        }
      ]
    },
    {
      "cell_type": "markdown",
      "metadata": {
        "id": "6QeZDiW7fzpS"
      },
      "source": [
        "Compile model"
      ]
    },
    {
      "cell_type": "code",
      "metadata": {
        "id": "JnxNcAk-f1OB"
      },
      "source": [
        "# Compile neural network\r\n",
        "network.compile(loss='mse', # Mean squared error\r\n",
        "                optimizer='RMSprop', # Optimization algorithm\r\n",
        "                ) # Mean squared error"
      ],
      "execution_count": 26,
      "outputs": []
    },
    {
      "cell_type": "markdown",
      "metadata": {
        "id": "L7cm4ZYQhf8k"
      },
      "source": [
        "Model Training"
      ]
    },
    {
      "cell_type": "code",
      "metadata": {
        "id": "ox7_QFszhhZy",
        "colab": {
          "base_uri": "https://localhost:8080/"
        },
        "outputId": "a9edbef8-bfbb-449f-ef16-2b5cc88068c9"
      },
      "source": [
        "# Train neural network\r\n",
        "history = network.fit(train_set, # Features\r\n",
        "                      y_train_set, # Target vector\r\n",
        "                      epochs=30, # Number of epochs\r\n",
        "                      verbose=1, # Output\r\n",
        "                      batch_size=100, # Number of observations per batch\r\n",
        "                      validation_data=(validation_set,y_validation_set)) # Data for evaluation"
      ],
      "execution_count": 27,
      "outputs": [
        {
          "output_type": "stream",
          "text": [
            "Epoch 1/30\n",
            "44/44 [==============================] - 1s 12ms/step - loss: 0.0629 - val_loss: 0.0093\n",
            "Epoch 2/30\n",
            "44/44 [==============================] - 0s 2ms/step - loss: 0.0060 - val_loss: 0.0035\n",
            "Epoch 3/30\n",
            "44/44 [==============================] - 0s 2ms/step - loss: 0.0022 - val_loss: 0.0033\n",
            "Epoch 4/30\n",
            "44/44 [==============================] - 0s 2ms/step - loss: 0.0021 - val_loss: 0.0033\n",
            "Epoch 5/30\n",
            "44/44 [==============================] - 0s 2ms/step - loss: 0.0020 - val_loss: 0.0032\n",
            "Epoch 6/30\n",
            "44/44 [==============================] - 0s 3ms/step - loss: 0.0019 - val_loss: 0.0032\n",
            "Epoch 7/30\n",
            "44/44 [==============================] - 0s 3ms/step - loss: 0.0020 - val_loss: 0.0032\n",
            "Epoch 8/30\n",
            "44/44 [==============================] - 0s 3ms/step - loss: 0.0028 - val_loss: 0.0032\n",
            "Epoch 9/30\n",
            "44/44 [==============================] - 0s 2ms/step - loss: 0.0017 - val_loss: 0.0031\n",
            "Epoch 10/30\n",
            "44/44 [==============================] - 0s 2ms/step - loss: 0.0020 - val_loss: 0.0032\n",
            "Epoch 11/30\n",
            "44/44 [==============================] - 0s 2ms/step - loss: 0.0022 - val_loss: 0.0031\n",
            "Epoch 12/30\n",
            "44/44 [==============================] - 0s 2ms/step - loss: 0.0018 - val_loss: 0.0031\n",
            "Epoch 13/30\n",
            "44/44 [==============================] - 0s 2ms/step - loss: 0.0020 - val_loss: 0.0031\n",
            "Epoch 14/30\n",
            "44/44 [==============================] - 0s 3ms/step - loss: 0.0026 - val_loss: 0.0031\n",
            "Epoch 15/30\n",
            "44/44 [==============================] - 0s 3ms/step - loss: 0.0018 - val_loss: 0.0031\n",
            "Epoch 16/30\n",
            "44/44 [==============================] - 0s 2ms/step - loss: 0.0018 - val_loss: 0.0030\n",
            "Epoch 17/30\n",
            "44/44 [==============================] - 0s 2ms/step - loss: 0.0025 - val_loss: 0.0030\n",
            "Epoch 18/30\n",
            "44/44 [==============================] - 0s 2ms/step - loss: 0.0020 - val_loss: 0.0030\n",
            "Epoch 19/30\n",
            "44/44 [==============================] - 0s 2ms/step - loss: 0.0018 - val_loss: 0.0030\n",
            "Epoch 20/30\n",
            "44/44 [==============================] - 0s 3ms/step - loss: 0.0017 - val_loss: 0.0030\n",
            "Epoch 21/30\n",
            "44/44 [==============================] - 0s 2ms/step - loss: 0.0017 - val_loss: 0.0030\n",
            "Epoch 22/30\n",
            "44/44 [==============================] - 0s 2ms/step - loss: 0.0020 - val_loss: 0.0030\n",
            "Epoch 23/30\n",
            "44/44 [==============================] - 0s 2ms/step - loss: 0.0019 - val_loss: 0.0030\n",
            "Epoch 24/30\n",
            "44/44 [==============================] - 0s 2ms/step - loss: 0.0021 - val_loss: 0.0030\n",
            "Epoch 25/30\n",
            "44/44 [==============================] - 0s 3ms/step - loss: 0.0022 - val_loss: 0.0030\n",
            "Epoch 26/30\n",
            "44/44 [==============================] - 0s 2ms/step - loss: 0.0018 - val_loss: 0.0030\n",
            "Epoch 27/30\n",
            "44/44 [==============================] - 0s 3ms/step - loss: 0.0020 - val_loss: 0.0030\n",
            "Epoch 28/30\n",
            "44/44 [==============================] - 0s 3ms/step - loss: 0.0018 - val_loss: 0.0030\n",
            "Epoch 29/30\n",
            "44/44 [==============================] - 0s 2ms/step - loss: 0.0016 - val_loss: 0.0030\n",
            "Epoch 30/30\n",
            "44/44 [==============================] - 0s 2ms/step - loss: 0.0019 - val_loss: 0.0030\n"
          ],
          "name": "stdout"
        }
      ]
    },
    {
      "cell_type": "markdown",
      "metadata": {
        "id": "URpAALTPsw7o"
      },
      "source": [
        "##Predict Prices Using Feed Forward Neural Network##"
      ]
    },
    {
      "cell_type": "markdown",
      "metadata": {
        "id": "YAr5jq6ftGbT"
      },
      "source": [
        "Predict"
      ]
    },
    {
      "cell_type": "code",
      "metadata": {
        "id": "6LkuTWCYszWR"
      },
      "source": [
        "predictions = network.predict(z_test)\r\n"
      ],
      "execution_count": null,
      "outputs": []
    },
    {
      "cell_type": "markdown",
      "metadata": {
        "id": "q1OW2MNVtIXs"
      },
      "source": [
        "Denormalize"
      ]
    },
    {
      "cell_type": "code",
      "metadata": {
        "id": "M4xZGvDxs9jG"
      },
      "source": [
        "actual_prices = (predictions*(y_train_set_max - y_train_set_min)) + y_train_set_min"
      ],
      "execution_count": 29,
      "outputs": []
    },
    {
      "cell_type": "markdown",
      "metadata": {
        "id": "mussO5fRtp2t"
      },
      "source": [
        "Save prediction to Excel File"
      ]
    },
    {
      "cell_type": "code",
      "metadata": {
        "colab": {
          "base_uri": "https://localhost:8080/",
          "height": 206
        },
        "id": "Pe9dMT1atWrw",
        "outputId": "c212c026-5c64-4971-c083-c1f7c4ad6eae"
      },
      "source": [
        "df = pd.DataFrame(actual_prices.astype(int))\r\n",
        "df.columns=['Price']\r\n",
        "filepath = 'Predictions.xlsx'\r\n",
        "df.to_excel(filepath, index=False)\r\n",
        "df.head()"
      ],
      "execution_count": 30,
      "outputs": [
        {
          "output_type": "execute_result",
          "data": {
            "text/html": [
              "<div>\n",
              "<style scoped>\n",
              "    .dataframe tbody tr th:only-of-type {\n",
              "        vertical-align: middle;\n",
              "    }\n",
              "\n",
              "    .dataframe tbody tr th {\n",
              "        vertical-align: top;\n",
              "    }\n",
              "\n",
              "    .dataframe thead th {\n",
              "        text-align: right;\n",
              "    }\n",
              "</style>\n",
              "<table border=\"1\" class=\"dataframe\">\n",
              "  <thead>\n",
              "    <tr style=\"text-align: right;\">\n",
              "      <th></th>\n",
              "      <th>Price</th>\n",
              "    </tr>\n",
              "  </thead>\n",
              "  <tbody>\n",
              "    <tr>\n",
              "      <th>0</th>\n",
              "      <td>141</td>\n",
              "    </tr>\n",
              "    <tr>\n",
              "      <th>1</th>\n",
              "      <td>1074</td>\n",
              "    </tr>\n",
              "    <tr>\n",
              "      <th>2</th>\n",
              "      <td>391</td>\n",
              "    </tr>\n",
              "    <tr>\n",
              "      <th>3</th>\n",
              "      <td>688</td>\n",
              "    </tr>\n",
              "    <tr>\n",
              "      <th>4</th>\n",
              "      <td>396</td>\n",
              "    </tr>\n",
              "  </tbody>\n",
              "</table>\n",
              "</div>"
            ],
            "text/plain": [
              "   Price\n",
              "0    141\n",
              "1   1074\n",
              "2    391\n",
              "3    688\n",
              "4    396"
            ]
          },
          "metadata": {
            "tags": []
          },
          "execution_count": 30
        }
      ]
    },
    {
      "cell_type": "markdown",
      "metadata": {
        "id": "nAnHg8pg0i8r"
      },
      "source": [
        "##Radial Basis Function## "
      ]
    },
    {
      "cell_type": "markdown",
      "metadata": {
        "id": "QV6Ds8In1kX5"
      },
      "source": [
        "Create custom RBF Layer"
      ]
    },
    {
      "cell_type": "code",
      "metadata": {
        "id": "zVkEtcVh0nBh"
      },
      "source": [
        "from keras.layers import Layer\r\n",
        "from keras import backend as K\r\n",
        "\r\n",
        "class RBFLayer(Layer):\r\n",
        "    def __init__(self, units, gamma, **kwargs):\r\n",
        "        super(RBFLayer, self).__init__(**kwargs)\r\n",
        "        self.units = units\r\n",
        "        self.gamma = K.cast_to_floatx(gamma)\r\n",
        "\r\n",
        "    def build(self, input_shape):\r\n",
        "#         print(input_shape)\r\n",
        "#         print(self.units)\r\n",
        "        self.mu = self.add_weight(name='mu',\r\n",
        "                                  shape=(int(input_shape[1]), self.units),\r\n",
        "                                  initializer='uniform',\r\n",
        "                                  trainable=True)\r\n",
        "        super(RBFLayer, self).build(input_shape)\r\n",
        "\r\n",
        "    def call(self, inputs):\r\n",
        "        diff = K.expand_dims(inputs) - self.mu\r\n",
        "        l2 = K.sum(K.pow(diff, 2), axis=1)\r\n",
        "        res = K.exp(-1 * self.gamma * l2)\r\n",
        "        return res\r\n",
        "\r\n",
        "    def compute_output_shape(self, input_shape):\r\n",
        "        return (input_shape[0], self.units)"
      ],
      "execution_count": 31,
      "outputs": []
    },
    {
      "cell_type": "markdown",
      "metadata": {
        "id": "Un42163E11Fn"
      },
      "source": [
        "Create Network"
      ]
    },
    {
      "cell_type": "code",
      "metadata": {
        "id": "i6PXMvvU13cI"
      },
      "source": [
        "from keras.layers import Dense, Flatten\r\n",
        "from keras.models import Sequential\r\n",
        "from keras.losses import binary_crossentropy\r\n",
        "\r\n",
        "\r\n",
        "# Start neural network\r\n",
        "network2 = models.Sequential()\r\n",
        "\r\n",
        "network2.add(layers.Dense(units=50, activation='sigmoid', input_shape=(train_set.shape[1],)))\r\n",
        "\r\n",
        "network2.add(RBFLayer(400, 0.4))\r\n",
        "\r\n",
        "# Add fully connected layer with no activation function\r\n",
        "network2.add(layers.Dense(units=1,activation='sigmoid'))\r\n",
        "\r\n",
        "network2.compile(optimizer='rmsprop', loss=binary_crossentropy)"
      ],
      "execution_count": 32,
      "outputs": []
    },
    {
      "cell_type": "code",
      "metadata": {
        "id": "T5CZyt9H25iy",
        "outputId": "684df887-f1d8-40ad-eff6-d04f43e0c6c0",
        "colab": {
          "base_uri": "https://localhost:8080/"
        }
      },
      "source": [
        "# Train neural network\r\n",
        "history2 = network2.fit(train_set, # Features\r\n",
        "                      y_train_set, # Target vector\r\n",
        "                      epochs=40, # Number of epochs\r\n",
        "                      verbose=1, # Output\r\n",
        "                      batch_size=100, # Number of observations per batch\r\n",
        "                      validation_data=(validation_set,y_validation_set)) # Data for evaluation"
      ],
      "execution_count": 33,
      "outputs": [
        {
          "output_type": "stream",
          "text": [
            "Epoch 1/40\n",
            "44/44 [==============================] - 2s 23ms/step - loss: 0.6130 - val_loss: 0.3292\n",
            "Epoch 2/40\n",
            "44/44 [==============================] - 1s 18ms/step - loss: 0.2556 - val_loss: 0.1760\n",
            "Epoch 3/40\n",
            "44/44 [==============================] - 1s 19ms/step - loss: 0.1610 - val_loss: 0.1738\n",
            "Epoch 4/40\n",
            "44/44 [==============================] - 1s 19ms/step - loss: 0.1642 - val_loss: 0.1715\n",
            "Epoch 5/40\n",
            "44/44 [==============================] - 1s 19ms/step - loss: 0.1609 - val_loss: 0.1709\n",
            "Epoch 6/40\n",
            "44/44 [==============================] - 1s 20ms/step - loss: 0.1645 - val_loss: 0.1715\n",
            "Epoch 7/40\n",
            "44/44 [==============================] - 1s 19ms/step - loss: 0.1587 - val_loss: 0.1702\n",
            "Epoch 8/40\n",
            "44/44 [==============================] - 1s 19ms/step - loss: 0.1590 - val_loss: 0.1703\n",
            "Epoch 9/40\n",
            "44/44 [==============================] - 1s 19ms/step - loss: 0.1593 - val_loss: 0.1699\n",
            "Epoch 10/40\n",
            "44/44 [==============================] - 1s 20ms/step - loss: 0.1571 - val_loss: 0.1696\n",
            "Epoch 11/40\n",
            "44/44 [==============================] - 1s 19ms/step - loss: 0.1562 - val_loss: 0.1695\n",
            "Epoch 12/40\n",
            "44/44 [==============================] - 1s 19ms/step - loss: 0.1599 - val_loss: 0.1698\n",
            "Epoch 13/40\n",
            "44/44 [==============================] - 1s 19ms/step - loss: 0.1595 - val_loss: 0.1699\n",
            "Epoch 14/40\n",
            "44/44 [==============================] - 1s 18ms/step - loss: 0.1586 - val_loss: 0.1697\n",
            "Epoch 15/40\n",
            "44/44 [==============================] - 1s 19ms/step - loss: 0.1595 - val_loss: 0.1697\n",
            "Epoch 16/40\n",
            "44/44 [==============================] - 1s 20ms/step - loss: 0.1568 - val_loss: 0.1701\n",
            "Epoch 17/40\n",
            "44/44 [==============================] - 1s 19ms/step - loss: 0.1558 - val_loss: 0.1695\n",
            "Epoch 18/40\n",
            "44/44 [==============================] - 1s 20ms/step - loss: 0.1609 - val_loss: 0.1694\n",
            "Epoch 19/40\n",
            "44/44 [==============================] - 1s 19ms/step - loss: 0.1607 - val_loss: 0.1699\n",
            "Epoch 20/40\n",
            "44/44 [==============================] - 1s 19ms/step - loss: 0.1586 - val_loss: 0.1695\n",
            "Epoch 21/40\n",
            "44/44 [==============================] - 1s 19ms/step - loss: 0.1602 - val_loss: 0.1691\n",
            "Epoch 22/40\n",
            "44/44 [==============================] - 1s 20ms/step - loss: 0.1579 - val_loss: 0.1693\n",
            "Epoch 23/40\n",
            "44/44 [==============================] - 1s 19ms/step - loss: 0.1537 - val_loss: 0.1695\n",
            "Epoch 24/40\n",
            "44/44 [==============================] - 1s 19ms/step - loss: 0.1537 - val_loss: 0.1691\n",
            "Epoch 25/40\n",
            "44/44 [==============================] - 1s 19ms/step - loss: 0.1573 - val_loss: 0.1692\n",
            "Epoch 26/40\n",
            "44/44 [==============================] - 1s 19ms/step - loss: 0.1599 - val_loss: 0.1694\n",
            "Epoch 27/40\n",
            "44/44 [==============================] - 1s 20ms/step - loss: 0.1571 - val_loss: 0.1692\n",
            "Epoch 28/40\n",
            "44/44 [==============================] - 1s 20ms/step - loss: 0.1566 - val_loss: 0.1692\n",
            "Epoch 29/40\n",
            "44/44 [==============================] - 1s 20ms/step - loss: 0.1566 - val_loss: 0.1704\n",
            "Epoch 30/40\n",
            "44/44 [==============================] - 1s 20ms/step - loss: 0.1551 - val_loss: 0.1695\n",
            "Epoch 31/40\n",
            "44/44 [==============================] - 1s 20ms/step - loss: 0.1569 - val_loss: 0.1695\n",
            "Epoch 32/40\n",
            "44/44 [==============================] - 1s 20ms/step - loss: 0.1575 - val_loss: 0.1694\n",
            "Epoch 33/40\n",
            "44/44 [==============================] - 1s 20ms/step - loss: 0.1586 - val_loss: 0.1692\n",
            "Epoch 34/40\n",
            "44/44 [==============================] - 1s 20ms/step - loss: 0.1590 - val_loss: 0.1695\n",
            "Epoch 35/40\n",
            "44/44 [==============================] - 1s 20ms/step - loss: 0.1612 - val_loss: 0.1701\n",
            "Epoch 36/40\n",
            "44/44 [==============================] - 1s 20ms/step - loss: 0.1596 - val_loss: 0.1693\n",
            "Epoch 37/40\n",
            "44/44 [==============================] - 1s 20ms/step - loss: 0.1572 - val_loss: 0.1695\n",
            "Epoch 38/40\n",
            "44/44 [==============================] - 1s 20ms/step - loss: 0.1555 - val_loss: 0.1695\n",
            "Epoch 39/40\n",
            "44/44 [==============================] - 1s 20ms/step - loss: 0.1574 - val_loss: 0.1696\n",
            "Epoch 40/40\n",
            "44/44 [==============================] - 1s 20ms/step - loss: 0.1535 - val_loss: 0.1692\n"
          ],
          "name": "stdout"
        }
      ]
    },
    {
      "cell_type": "markdown",
      "metadata": {
        "id": "zeWALJMZ3XcD"
      },
      "source": [
        "##Predict Prices Using Radial Basis Function##"
      ]
    },
    {
      "cell_type": "markdown",
      "metadata": {
        "id": "r8ibOurS3kk5"
      },
      "source": [
        "Predict"
      ]
    },
    {
      "cell_type": "code",
      "metadata": {
        "id": "s_r11Ttb3gCZ"
      },
      "source": [
        "predictions2 = network2.predict(z_test)"
      ],
      "execution_count": 34,
      "outputs": []
    },
    {
      "cell_type": "markdown",
      "metadata": {
        "id": "6pIeIgAW3ljs"
      },
      "source": [
        "Denormalize"
      ]
    },
    {
      "cell_type": "code",
      "metadata": {
        "id": "Wdm6Vq303kDS"
      },
      "source": [
        "actual_prices2 = (predictions2*(y_train_set_max - y_train_set_min)) + y_train_set_min"
      ],
      "execution_count": 35,
      "outputs": []
    },
    {
      "cell_type": "markdown",
      "metadata": {
        "id": "5qLfDK4S3siu"
      },
      "source": [
        "Save Predictions to Excel File"
      ]
    },
    {
      "cell_type": "code",
      "metadata": {
        "id": "0hAqY6V33tB_",
        "colab": {
          "base_uri": "https://localhost:8080/",
          "height": 206
        },
        "outputId": "ff6c92da-7fcc-4b4f-e836-ca39b6a17048"
      },
      "source": [
        "df2 = pd.DataFrame(actual_prices2.astype(int))\r\n",
        "df2.columns=['Price']\r\n",
        "filepath = 'Predictions2.xlsx'\r\n",
        "df2.to_excel(filepath, index=False)\r\n",
        "df2.head()"
      ],
      "execution_count": 36,
      "outputs": [
        {
          "output_type": "execute_result",
          "data": {
            "text/html": [
              "<div>\n",
              "<style scoped>\n",
              "    .dataframe tbody tr th:only-of-type {\n",
              "        vertical-align: middle;\n",
              "    }\n",
              "\n",
              "    .dataframe tbody tr th {\n",
              "        vertical-align: top;\n",
              "    }\n",
              "\n",
              "    .dataframe thead th {\n",
              "        text-align: right;\n",
              "    }\n",
              "</style>\n",
              "<table border=\"1\" class=\"dataframe\">\n",
              "  <thead>\n",
              "    <tr style=\"text-align: right;\">\n",
              "      <th></th>\n",
              "      <th>Price</th>\n",
              "    </tr>\n",
              "  </thead>\n",
              "  <tbody>\n",
              "    <tr>\n",
              "      <th>0</th>\n",
              "      <td>25</td>\n",
              "    </tr>\n",
              "    <tr>\n",
              "      <th>1</th>\n",
              "      <td>2217</td>\n",
              "    </tr>\n",
              "    <tr>\n",
              "      <th>2</th>\n",
              "      <td>1136</td>\n",
              "    </tr>\n",
              "    <tr>\n",
              "      <th>3</th>\n",
              "      <td>1027</td>\n",
              "    </tr>\n",
              "    <tr>\n",
              "      <th>4</th>\n",
              "      <td>770</td>\n",
              "    </tr>\n",
              "  </tbody>\n",
              "</table>\n",
              "</div>"
            ],
            "text/plain": [
              "   Price\n",
              "0     25\n",
              "1   2217\n",
              "2   1136\n",
              "3   1027\n",
              "4    770"
            ]
          },
          "metadata": {
            "tags": []
          },
          "execution_count": 36
        }
      ]
    }
  ]
}