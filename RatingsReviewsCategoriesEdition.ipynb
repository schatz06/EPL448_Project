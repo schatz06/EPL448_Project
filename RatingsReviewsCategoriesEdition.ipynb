{
  "nbformat": 4,
  "nbformat_minor": 0,
  "metadata": {
    "colab": {
      "name": "Project.ipynb",
      "provenance": [],
      "collapsed_sections": [
        "lSZ9eR3V62Sl"
      ],
      "toc_visible": true,
      "include_colab_link": true
    },
    "kernelspec": {
      "name": "python3",
      "display_name": "Python 3"
    }
  },
  "cells": [
    {
      "cell_type": "markdown",
      "metadata": {
        "id": "view-in-github",
        "colab_type": "text"
      },
      "source": [
        "<a href=\"https://colab.research.google.com/github/schatz06/EPL448_Project/blob/main/RatingsReviewsCategoriesEdition.ipynb\" target=\"_parent\"><img src=\"https://colab.research.google.com/assets/colab-badge.svg\" alt=\"Open In Colab\"/></a>"
      ]
    },
    {
      "cell_type": "markdown",
      "metadata": {
        "id": "aEzG66o-6q4k"
      },
      "source": [
        "##Import Packages ## "
      ]
    },
    {
      "cell_type": "code",
      "metadata": {
        "id": "_w-zmPSb3hbo"
      },
      "source": [
        "import numpy as np \n",
        "import pandas as pd \n",
        "import matplotlib.pyplot as plt\n",
        "import sklearn\n",
        "from sklearn.preprocessing import MinMaxScaler\n",
        "from sklearn.preprocessing import PowerTransformer\n",
        "import pandas.plotting as pdplt"
      ],
      "execution_count": 30,
      "outputs": []
    },
    {
      "cell_type": "markdown",
      "metadata": {
        "id": "qZVs8QhC692H"
      },
      "source": [
        "##Read Data##"
      ]
    },
    {
      "cell_type": "code",
      "metadata": {
        "id": "e8JFrF547AWh"
      },
      "source": [
        "train_data = pd.read_excel('Data_Train.xlsx') # read training data\n",
        "test_data  = pd.read_excel('Data_Test.xlsx') # read test data"
      ],
      "execution_count": 31,
      "outputs": []
    },
    {
      "cell_type": "markdown",
      "metadata": {
        "id": "T_HnEvEW9Azg"
      },
      "source": [
        "Check for corrupted or empty records"
      ]
    },
    {
      "cell_type": "code",
      "metadata": {
        "colab": {
          "base_uri": "https://localhost:8080/"
        },
        "id": "RCJcTvO28eMw",
        "outputId": "cb87fa49-3cf1-4335-9966-f0137563147d"
      },
      "source": [
        "print(\"Shape of train data\",train_data.shape,\"Problematic records in training data: \",train_data.isnull().sum().sum())\n",
        "print(\"Shape of test data\",test_data.shape,\"Problematic records in test data: \",test_data.isnull().sum().sum())"
      ],
      "execution_count": 32,
      "outputs": [
        {
          "output_type": "stream",
          "text": [
            "Shape of train data (6237, 9) Problematic records in training data:  0\n",
            "Shape of test data (1560, 8) Problematic records in test data:  0\n"
          ],
          "name": "stdout"
        }
      ]
    },
    {
      "cell_type": "markdown",
      "metadata": {
        "id": "kI7MFZS_-qOk"
      },
      "source": [
        "##Train Data Preprocessing##"
      ]
    },
    {
      "cell_type": "markdown",
      "metadata": {
        "id": "_4gcx2GexpaF"
      },
      "source": [
        "Peek of the data"
      ]
    },
    {
      "cell_type": "code",
      "metadata": {
        "id": "ZIPjvBKExr5N",
        "colab": {
          "base_uri": "https://localhost:8080/",
          "height": 293
        },
        "outputId": "03919dc3-3733-45ec-8841-3d2fb8f9f2a4"
      },
      "source": [
        "train_data.head()"
      ],
      "execution_count": 33,
      "outputs": [
        {
          "output_type": "execute_result",
          "data": {
            "text/html": [
              "<div>\n",
              "<style scoped>\n",
              "    .dataframe tbody tr th:only-of-type {\n",
              "        vertical-align: middle;\n",
              "    }\n",
              "\n",
              "    .dataframe tbody tr th {\n",
              "        vertical-align: top;\n",
              "    }\n",
              "\n",
              "    .dataframe thead th {\n",
              "        text-align: right;\n",
              "    }\n",
              "</style>\n",
              "<table border=\"1\" class=\"dataframe\">\n",
              "  <thead>\n",
              "    <tr style=\"text-align: right;\">\n",
              "      <th></th>\n",
              "      <th>Title</th>\n",
              "      <th>Author</th>\n",
              "      <th>Edition</th>\n",
              "      <th>Reviews</th>\n",
              "      <th>Ratings</th>\n",
              "      <th>Synopsis</th>\n",
              "      <th>Genre</th>\n",
              "      <th>BookCategory</th>\n",
              "      <th>Price</th>\n",
              "    </tr>\n",
              "  </thead>\n",
              "  <tbody>\n",
              "    <tr>\n",
              "      <th>0</th>\n",
              "      <td>The Prisoner's Gold (The Hunters 3)</td>\n",
              "      <td>Chris Kuzneski</td>\n",
              "      <td>Paperback,– 10 Mar 2016</td>\n",
              "      <td>4.0 out of 5 stars</td>\n",
              "      <td>8 customer reviews</td>\n",
              "      <td>THE HUNTERS return in their third brilliant no...</td>\n",
              "      <td>Action &amp; Adventure (Books)</td>\n",
              "      <td>Action &amp; Adventure</td>\n",
              "      <td>220.00</td>\n",
              "    </tr>\n",
              "    <tr>\n",
              "      <th>1</th>\n",
              "      <td>Guru Dutt: A Tragedy in Three Acts</td>\n",
              "      <td>Arun Khopkar</td>\n",
              "      <td>Paperback,– 7 Nov 2012</td>\n",
              "      <td>3.9 out of 5 stars</td>\n",
              "      <td>14 customer reviews</td>\n",
              "      <td>A layered portrait of a troubled genius for wh...</td>\n",
              "      <td>Cinema &amp; Broadcast (Books)</td>\n",
              "      <td>Biographies, Diaries &amp; True Accounts</td>\n",
              "      <td>202.93</td>\n",
              "    </tr>\n",
              "    <tr>\n",
              "      <th>2</th>\n",
              "      <td>Leviathan (Penguin Classics)</td>\n",
              "      <td>Thomas Hobbes</td>\n",
              "      <td>Paperback,– 25 Feb 1982</td>\n",
              "      <td>4.8 out of 5 stars</td>\n",
              "      <td>6 customer reviews</td>\n",
              "      <td>\"During the time men live without a common Pow...</td>\n",
              "      <td>International Relations</td>\n",
              "      <td>Humour</td>\n",
              "      <td>299.00</td>\n",
              "    </tr>\n",
              "    <tr>\n",
              "      <th>3</th>\n",
              "      <td>A Pocket Full of Rye (Miss Marple)</td>\n",
              "      <td>Agatha Christie</td>\n",
              "      <td>Paperback,– 5 Oct 2017</td>\n",
              "      <td>4.1 out of 5 stars</td>\n",
              "      <td>13 customer reviews</td>\n",
              "      <td>A handful of grain is found in the pocket of a...</td>\n",
              "      <td>Contemporary Fiction (Books)</td>\n",
              "      <td>Crime, Thriller &amp; Mystery</td>\n",
              "      <td>180.00</td>\n",
              "    </tr>\n",
              "    <tr>\n",
              "      <th>4</th>\n",
              "      <td>LIFE 70 Years of Extraordinary Photography</td>\n",
              "      <td>Editors of Life</td>\n",
              "      <td>Hardcover,– 10 Oct 2006</td>\n",
              "      <td>5.0 out of 5 stars</td>\n",
              "      <td>1 customer review</td>\n",
              "      <td>For seven decades, \"Life\" has been thrilling t...</td>\n",
              "      <td>Photography Textbooks</td>\n",
              "      <td>Arts, Film &amp; Photography</td>\n",
              "      <td>965.62</td>\n",
              "    </tr>\n",
              "  </tbody>\n",
              "</table>\n",
              "</div>"
            ],
            "text/plain": [
              "                                        Title  ...   Price\n",
              "0         The Prisoner's Gold (The Hunters 3)  ...  220.00\n",
              "1          Guru Dutt: A Tragedy in Three Acts  ...  202.93\n",
              "2                Leviathan (Penguin Classics)  ...  299.00\n",
              "3          A Pocket Full of Rye (Miss Marple)  ...  180.00\n",
              "4  LIFE 70 Years of Extraordinary Photography  ...  965.62\n",
              "\n",
              "[5 rows x 9 columns]"
            ]
          },
          "metadata": {
            "tags": []
          },
          "execution_count": 33
        }
      ]
    },
    {
      "cell_type": "markdown",
      "metadata": {
        "id": "XbiMRVP7yP31"
      },
      "source": [
        "Statistical summary"
      ]
    },
    {
      "cell_type": "code",
      "metadata": {
        "id": "FqBEEmyayR-y",
        "colab": {
          "base_uri": "https://localhost:8080/"
        },
        "outputId": "fa540333-ac23-4369-9b6c-20fb877bd098"
      },
      "source": [
        "print(train_data.describe())"
      ],
      "execution_count": 34,
      "outputs": [
        {
          "output_type": "stream",
          "text": [
            "              Price\n",
            "count   6237.000000\n",
            "mean     560.707516\n",
            "std      690.110657\n",
            "min       25.000000\n",
            "25%      249.180000\n",
            "50%      373.000000\n",
            "75%      599.000000\n",
            "max    14100.000000\n"
          ],
          "name": "stdout"
        }
      ]
    },
    {
      "cell_type": "markdown",
      "metadata": {
        "id": "Kx7l64_j_lqA"
      },
      "source": [
        "Price box plot"
      ]
    },
    {
      "cell_type": "code",
      "metadata": {
        "colab": {
          "base_uri": "https://localhost:8080/",
          "height": 1000
        },
        "id": "vUWPlEfM_ne6",
        "outputId": "6c07ec23-584d-4bfd-978a-7450961c03cb"
      },
      "source": [
        "plt.boxplot(train_data['Price'])\n",
        "plt.show()\n",
        "plt.hist(train_data['Price'])\n",
        "plt.show()\n",
        "median = np.percentile(train_data.Price,50)  # median\n",
        "std = train_data.Price.std() # standard deviation \n",
        "train_data = train_data.drop(train_data[ train_data.Price > (median+3*std)].index) # drop \"outliers \" that are > median + 3*std\n",
        "plt.boxplot(train_data['Price'])\n",
        "plt.show()\n",
        "plt.hist(train_data['Price'])\n",
        "plt.show()"
      ],
      "execution_count": 35,
      "outputs": [
        {
          "output_type": "display_data",
          "data": {
            "image/png": "[encoded data removed]",
            "text/plain": [
              "<Figure size 432x288 with 1 Axes>"
            ]
          },
          "metadata": {
            "tags": [],
            "needs_background": "light"
          }
        },
        {
          "output_type": "display_data",
          "data": {
            "image/png": "[encoded data removed]",
            "text/plain": [
              "<Figure size 432x288 with 1 Axes>"
            ]
          },
          "metadata": {
            "tags": [],
            "needs_background": "light"
          }
        },
        {
          "output_type": "display_data",
          "data": {
            "image/png": "[encoded data removed]",
            "text/plain": [
              "<Figure size 432x288 with 1 Axes>"
            ]
          },
          "metadata": {
            "tags": [],
            "needs_background": "light"
          }
        },
        {
          "output_type": "display_data",
          "data": {
            "image/png": "[encoded data removed]",
            "text/plain": [
              "<Figure size 432x288 with 1 Axes>"
            ]
          },
          "metadata": {
            "tags": [],
            "needs_background": "light"
          }
        }
      ]
    },
    {
      "cell_type": "code",
      "metadata": {
        "id": "MFeMcsfb5-bs",
        "colab": {
          "base_uri": "https://localhost:8080/",
          "height": 300
        },
        "outputId": "a2f32d67-2303-4dcb-c3b3-a54d47a7b984"
      },
      "source": [
        "train_data.describe()"
      ],
      "execution_count": 36,
      "outputs": [
        {
          "output_type": "execute_result",
          "data": {
            "text/html": [
              "<div>\n",
              "<style scoped>\n",
              "    .dataframe tbody tr th:only-of-type {\n",
              "        vertical-align: middle;\n",
              "    }\n",
              "\n",
              "    .dataframe tbody tr th {\n",
              "        vertical-align: top;\n",
              "    }\n",
              "\n",
              "    .dataframe thead th {\n",
              "        text-align: right;\n",
              "    }\n",
              "</style>\n",
              "<table border=\"1\" class=\"dataframe\">\n",
              "  <thead>\n",
              "    <tr style=\"text-align: right;\">\n",
              "      <th></th>\n",
              "      <th>Price</th>\n",
              "    </tr>\n",
              "  </thead>\n",
              "  <tbody>\n",
              "    <tr>\n",
              "      <th>count</th>\n",
              "      <td>6105.000000</td>\n",
              "    </tr>\n",
              "    <tr>\n",
              "      <th>mean</th>\n",
              "      <td>487.640822</td>\n",
              "    </tr>\n",
              "    <tr>\n",
              "      <th>std</th>\n",
              "      <td>384.816876</td>\n",
              "    </tr>\n",
              "    <tr>\n",
              "      <th>min</th>\n",
              "      <td>25.000000</td>\n",
              "    </tr>\n",
              "    <tr>\n",
              "      <th>25%</th>\n",
              "      <td>248.000000</td>\n",
              "    </tr>\n",
              "    <tr>\n",
              "      <th>50%</th>\n",
              "      <td>369.000000</td>\n",
              "    </tr>\n",
              "    <tr>\n",
              "      <th>75%</th>\n",
              "      <td>579.000000</td>\n",
              "    </tr>\n",
              "    <tr>\n",
              "      <th>max</th>\n",
              "      <td>2442.000000</td>\n",
              "    </tr>\n",
              "  </tbody>\n",
              "</table>\n",
              "</div>"
            ],
            "text/plain": [
              "             Price\n",
              "count  6105.000000\n",
              "mean    487.640822\n",
              "std     384.816876\n",
              "min      25.000000\n",
              "25%     248.000000\n",
              "50%     369.000000\n",
              "75%     579.000000\n",
              "max    2442.000000"
            ]
          },
          "metadata": {
            "tags": []
          },
          "execution_count": 36
        }
      ]
    },
    {
      "cell_type": "markdown",
      "metadata": {
        "id": "NrRn8uZQF7sA"
      },
      "source": [
        "Reviews Normalization"
      ]
    },
    {
      "cell_type": "code",
      "metadata": {
        "id": "pAEN8VBk-ttV",
        "colab": {
          "base_uri": "https://localhost:8080/",
          "height": 513
        },
        "outputId": "ded639cf-26f8-447b-dfbe-2e73b3b3bb70"
      },
      "source": [
        "train_data['Reviews'] = train_data.Reviews.apply(lambda r: float(r.split()[0])) # get only the review rule \n",
        "plt.boxplot(train_data['Reviews'])\n",
        "plt.show()\n",
        "plt.hist(train_data['Reviews'])\n",
        "plt.show()\n",
        "#train_data['Reviews'] = (train_data.Reviews - train_data.Reviews.min())/(train_data.Reviews.max() - train_data.Reviews.min()) # normalize reviews \n"
      ],
      "execution_count": 37,
      "outputs": [
        {
          "output_type": "display_data",
          "data": {
            "image/png": "[encoded data removed]",
            "text/plain": [
              "<Figure size 432x288 with 1 Axes>"
            ]
          },
          "metadata": {
            "tags": [],
            "needs_background": "light"
          }
        },
        {
          "output_type": "display_data",
          "data": {
            "image/png": "[encoded data removed]",
            "text/plain": [
              "<Figure size 432x288 with 1 Axes>"
            ]
          },
          "metadata": {
            "tags": [],
            "needs_background": "light"
          }
        }
      ]
    },
    {
      "cell_type": "markdown",
      "metadata": {
        "id": "1RVGKZheJ7tw"
      },
      "source": [
        "Ratings Normalization"
      ]
    },
    {
      "cell_type": "code",
      "metadata": {
        "id": "gfja3WZ6J_TZ",
        "colab": {
          "base_uri": "https://localhost:8080/",
          "height": 513
        },
        "outputId": "b05c59db-6227-49b8-fc7a-c2d45ae22830"
      },
      "source": [
        "train_data['Ratings'] = train_data.Ratings.apply(lambda r: float(r.split()[0].replace(',',''))) # get only the rating \n",
        "plt.boxplot(train_data['Ratings'])\n",
        "plt.show()\n",
        "plt.hist(train_data['Ratings'])\n",
        "plt.show()\n",
        "#train_data['Ratings'] = power.fit_transform(train_data[['Ratings']])\n",
        "#plt.hist(train_data['Ratings'])\n",
        "#plt.show()\n",
        "#train_data['Ratings'] = (train_data.Ratings - train_data.Ratings.min())/(train_data.Ratings.max() - train_data.Ratings.min()) # normalize rating "
      ],
      "execution_count": 38,
      "outputs": [
        {
          "output_type": "display_data",
          "data": {
            "image/png": "[encoded data removed]",
            "text/plain": [
              "<Figure size 432x288 with 1 Axes>"
            ]
          },
          "metadata": {
            "tags": [],
            "needs_background": "light"
          }
        },
        {
          "output_type": "display_data",
          "data": {
            "image/png": "[encoded data removed]",
            "text/plain": [
              "<Figure size 432x288 with 1 Axes>"
            ]
          },
          "metadata": {
            "tags": [],
            "needs_background": "light"
          }
        }
      ]
    },
    {
      "cell_type": "markdown",
      "metadata": {
        "id": "0zfAjj-9NAjj"
      },
      "source": [
        "Drop Title & Author & Synopsis & Genre columns"
      ]
    },
    {
      "cell_type": "code",
      "metadata": {
        "id": "-rYTtCQMNDsQ",
        "colab": {
          "base_uri": "https://localhost:8080/"
        },
        "outputId": "f07325ad-d2c7-4e16-cc09-cfbd4f1f4723"
      },
      "source": [
        "train_data.pop('Author')\n",
        "train_data.pop('Title')\n",
        "train_data.pop('Synopsis')\n",
        "train_data.pop('Genre')"
      ],
      "execution_count": 39,
      "outputs": [
        {
          "output_type": "execute_result",
          "data": {
            "text/plain": [
              "0         Action & Adventure (Books)\n",
              "1         Cinema & Broadcast (Books)\n",
              "2            International Relations\n",
              "3       Contemporary Fiction (Books)\n",
              "4              Photography Textbooks\n",
              "                    ...             \n",
              "6232            Anthropology (Books)\n",
              "6233    Contemporary Fiction (Books)\n",
              "6234                 Romance (Books)\n",
              "6235      Action & Adventure (Books)\n",
              "6236      Action & Adventure (Books)\n",
              "Name: Genre, Length: 6105, dtype: object"
            ]
          },
          "metadata": {
            "tags": []
          },
          "execution_count": 39
        }
      ]
    },
    {
      "cell_type": "markdown",
      "metadata": {
        "id": "q0BSBRuKP_ro"
      },
      "source": [
        "Edition Normalization / Drop edition"
      ]
    },
    {
      "cell_type": "code",
      "metadata": {
        "id": "wk1NmTiZQC0S"
      },
      "source": [
        "#train_data['Edition_Year'] = train_data['Edition'].apply(lambda x: x.split()[-1] if x.split()[-1].isdigit() else 'na')\n",
        "train_data['Edition'] = train_data['Edition'].apply(lambda x: x.split(',')[0])\n",
        "#train_data.pop('Edition')"
      ],
      "execution_count": 40,
      "outputs": []
    },
    {
      "cell_type": "code",
      "metadata": {
        "colab": {
          "base_uri": "https://localhost:8080/",
          "height": 206
        },
        "id": "fTwxG8pYK5jg",
        "outputId": "42f6a090-80c8-46b9-9ded-50141d2ccb39"
      },
      "source": [
        "train_data.head()"
      ],
      "execution_count": 41,
      "outputs": [
        {
          "output_type": "execute_result",
          "data": {
            "text/html": [
              "<div>\n",
              "<style scoped>\n",
              "    .dataframe tbody tr th:only-of-type {\n",
              "        vertical-align: middle;\n",
              "    }\n",
              "\n",
              "    .dataframe tbody tr th {\n",
              "        vertical-align: top;\n",
              "    }\n",
              "\n",
              "    .dataframe thead th {\n",
              "        text-align: right;\n",
              "    }\n",
              "</style>\n",
              "<table border=\"1\" class=\"dataframe\">\n",
              "  <thead>\n",
              "    <tr style=\"text-align: right;\">\n",
              "      <th></th>\n",
              "      <th>Edition</th>\n",
              "      <th>Reviews</th>\n",
              "      <th>Ratings</th>\n",
              "      <th>BookCategory</th>\n",
              "      <th>Price</th>\n",
              "    </tr>\n",
              "  </thead>\n",
              "  <tbody>\n",
              "    <tr>\n",
              "      <th>0</th>\n",
              "      <td>Paperback</td>\n",
              "      <td>4.0</td>\n",
              "      <td>8.0</td>\n",
              "      <td>Action &amp; Adventure</td>\n",
              "      <td>220.00</td>\n",
              "    </tr>\n",
              "    <tr>\n",
              "      <th>1</th>\n",
              "      <td>Paperback</td>\n",
              "      <td>3.9</td>\n",
              "      <td>14.0</td>\n",
              "      <td>Biographies, Diaries &amp; True Accounts</td>\n",
              "      <td>202.93</td>\n",
              "    </tr>\n",
              "    <tr>\n",
              "      <th>2</th>\n",
              "      <td>Paperback</td>\n",
              "      <td>4.8</td>\n",
              "      <td>6.0</td>\n",
              "      <td>Humour</td>\n",
              "      <td>299.00</td>\n",
              "    </tr>\n",
              "    <tr>\n",
              "      <th>3</th>\n",
              "      <td>Paperback</td>\n",
              "      <td>4.1</td>\n",
              "      <td>13.0</td>\n",
              "      <td>Crime, Thriller &amp; Mystery</td>\n",
              "      <td>180.00</td>\n",
              "    </tr>\n",
              "    <tr>\n",
              "      <th>4</th>\n",
              "      <td>Hardcover</td>\n",
              "      <td>5.0</td>\n",
              "      <td>1.0</td>\n",
              "      <td>Arts, Film &amp; Photography</td>\n",
              "      <td>965.62</td>\n",
              "    </tr>\n",
              "  </tbody>\n",
              "</table>\n",
              "</div>"
            ],
            "text/plain": [
              "     Edition  Reviews  Ratings                          BookCategory   Price\n",
              "0  Paperback      4.0      8.0                    Action & Adventure  220.00\n",
              "1  Paperback      3.9     14.0  Biographies, Diaries & True Accounts  202.93\n",
              "2  Paperback      4.8      6.0                                Humour  299.00\n",
              "3  Paperback      4.1     13.0             Crime, Thriller & Mystery  180.00\n",
              "4  Hardcover      5.0      1.0              Arts, Film & Photography  965.62"
            ]
          },
          "metadata": {
            "tags": []
          },
          "execution_count": 41
        }
      ]
    },
    {
      "cell_type": "markdown",
      "metadata": {
        "id": "CJPpUrNZilDE"
      },
      "source": [
        "Book Category Normalization / Extract Categories"
      ]
    },
    {
      "cell_type": "code",
      "metadata": {
        "id": "2YMm7wBoi0Bf"
      },
      "source": [
        "train_data= pd.get_dummies(train_data, columns= ['BookCategory'],drop_first=True)"
      ],
      "execution_count": 42,
      "outputs": []
    },
    {
      "cell_type": "markdown",
      "metadata": {
        "id": "J9_VvYKToPrq"
      },
      "source": [
        "Finish training inputs(z)"
      ]
    },
    {
      "cell_type": "code",
      "metadata": {
        "id": "Bd__7oEcnzIe"
      },
      "source": [
        "z = train_data"
      ],
      "execution_count": 43,
      "outputs": []
    },
    {
      "cell_type": "code",
      "metadata": {
        "colab": {
          "base_uri": "https://localhost:8080/",
          "height": 261
        },
        "id": "u68uHxTKn8pS",
        "outputId": "a19adb80-4fd4-4053-956a-3922fb0f634e"
      },
      "source": [
        "train_data.head()"
      ],
      "execution_count": 44,
      "outputs": [
        {
          "output_type": "execute_result",
          "data": {
            "text/html": [
              "<div>\n",
              "<style scoped>\n",
              "    .dataframe tbody tr th:only-of-type {\n",
              "        vertical-align: middle;\n",
              "    }\n",
              "\n",
              "    .dataframe tbody tr th {\n",
              "        vertical-align: top;\n",
              "    }\n",
              "\n",
              "    .dataframe thead th {\n",
              "        text-align: right;\n",
              "    }\n",
              "</style>\n",
              "<table border=\"1\" class=\"dataframe\">\n",
              "  <thead>\n",
              "    <tr style=\"text-align: right;\">\n",
              "      <th></th>\n",
              "      <th>Edition</th>\n",
              "      <th>Reviews</th>\n",
              "      <th>Ratings</th>\n",
              "      <th>Price</th>\n",
              "      <th>BookCategory_Arts, Film &amp; Photography</th>\n",
              "      <th>BookCategory_Biographies, Diaries &amp; True Accounts</th>\n",
              "      <th>BookCategory_Comics &amp; Mangas</th>\n",
              "      <th>BookCategory_Computing, Internet &amp; Digital Media</th>\n",
              "      <th>BookCategory_Crime, Thriller &amp; Mystery</th>\n",
              "      <th>BookCategory_Humour</th>\n",
              "      <th>BookCategory_Language, Linguistics &amp; Writing</th>\n",
              "      <th>BookCategory_Politics</th>\n",
              "      <th>BookCategory_Romance</th>\n",
              "      <th>BookCategory_Sports</th>\n",
              "    </tr>\n",
              "  </thead>\n",
              "  <tbody>\n",
              "    <tr>\n",
              "      <th>0</th>\n",
              "      <td>Paperback</td>\n",
              "      <td>4.0</td>\n",
              "      <td>8.0</td>\n",
              "      <td>220.00</td>\n",
              "      <td>0</td>\n",
              "      <td>0</td>\n",
              "      <td>0</td>\n",
              "      <td>0</td>\n",
              "      <td>0</td>\n",
              "      <td>0</td>\n",
              "      <td>0</td>\n",
              "      <td>0</td>\n",
              "      <td>0</td>\n",
              "      <td>0</td>\n",
              "    </tr>\n",
              "    <tr>\n",
              "      <th>1</th>\n",
              "      <td>Paperback</td>\n",
              "      <td>3.9</td>\n",
              "      <td>14.0</td>\n",
              "      <td>202.93</td>\n",
              "      <td>0</td>\n",
              "      <td>1</td>\n",
              "      <td>0</td>\n",
              "      <td>0</td>\n",
              "      <td>0</td>\n",
              "      <td>0</td>\n",
              "      <td>0</td>\n",
              "      <td>0</td>\n",
              "      <td>0</td>\n",
              "      <td>0</td>\n",
              "    </tr>\n",
              "    <tr>\n",
              "      <th>2</th>\n",
              "      <td>Paperback</td>\n",
              "      <td>4.8</td>\n",
              "      <td>6.0</td>\n",
              "      <td>299.00</td>\n",
              "      <td>0</td>\n",
              "      <td>0</td>\n",
              "      <td>0</td>\n",
              "      <td>0</td>\n",
              "      <td>0</td>\n",
              "      <td>1</td>\n",
              "      <td>0</td>\n",
              "      <td>0</td>\n",
              "      <td>0</td>\n",
              "      <td>0</td>\n",
              "    </tr>\n",
              "    <tr>\n",
              "      <th>3</th>\n",
              "      <td>Paperback</td>\n",
              "      <td>4.1</td>\n",
              "      <td>13.0</td>\n",
              "      <td>180.00</td>\n",
              "      <td>0</td>\n",
              "      <td>0</td>\n",
              "      <td>0</td>\n",
              "      <td>0</td>\n",
              "      <td>1</td>\n",
              "      <td>0</td>\n",
              "      <td>0</td>\n",
              "      <td>0</td>\n",
              "      <td>0</td>\n",
              "      <td>0</td>\n",
              "    </tr>\n",
              "    <tr>\n",
              "      <th>4</th>\n",
              "      <td>Hardcover</td>\n",
              "      <td>5.0</td>\n",
              "      <td>1.0</td>\n",
              "      <td>965.62</td>\n",
              "      <td>1</td>\n",
              "      <td>0</td>\n",
              "      <td>0</td>\n",
              "      <td>0</td>\n",
              "      <td>0</td>\n",
              "      <td>0</td>\n",
              "      <td>0</td>\n",
              "      <td>0</td>\n",
              "      <td>0</td>\n",
              "      <td>0</td>\n",
              "    </tr>\n",
              "  </tbody>\n",
              "</table>\n",
              "</div>"
            ],
            "text/plain": [
              "     Edition  Reviews  ...  BookCategory_Romance  BookCategory_Sports\n",
              "0  Paperback      4.0  ...                     0                    0\n",
              "1  Paperback      3.9  ...                     0                    0\n",
              "2  Paperback      4.8  ...                     0                    0\n",
              "3  Paperback      4.1  ...                     0                    0\n",
              "4  Hardcover      5.0  ...                     0                    0\n",
              "\n",
              "[5 rows x 14 columns]"
            ]
          },
          "metadata": {
            "tags": []
          },
          "execution_count": 44
        }
      ]
    },
    {
      "cell_type": "markdown",
      "metadata": {
        "id": "8HlOsPmfomM_"
      },
      "source": [
        "##Test Data Preprocessing##"
      ]
    },
    {
      "cell_type": "markdown",
      "metadata": {
        "id": "p6g0wsKgpNB7"
      },
      "source": [
        "Reviews Normalization"
      ]
    },
    {
      "cell_type": "code",
      "metadata": {
        "id": "xHvVloNcowkL"
      },
      "source": [
        "test_data['Reviews'] = test_data.Reviews.apply(lambda r: float(r.split()[0])) # get only the review rule \n",
        "#test_data[['Reviews']] = power.fit_transform(test_data[['Reviews']])\n",
        "# test_data['Reviews'] = (test_data.Reviews - test_data.Reviews.mean())/(test_data.Reviews.std()) # normalize reviews "
      ],
      "execution_count": 45,
      "outputs": []
    },
    {
      "cell_type": "markdown",
      "metadata": {
        "id": "6AhUA_qjpP0_"
      },
      "source": [
        "Ratings Normalization"
      ]
    },
    {
      "cell_type": "code",
      "metadata": {
        "id": "usjQWRpBpRvG"
      },
      "source": [
        "test_data['Ratings'] = test_data.Ratings.apply(lambda r: float(r.split()[0].replace(',',''))) # get only the rating \n",
        "#test_data[['Ratings']] = power.fit_transform(test_data[['Ratings']])\n",
        "# test_data['Ratings'] = (test_data.Ratings - test_data.Ratings.mean())/(test_data.Ratings.std()) # normalize rating "
      ],
      "execution_count": 46,
      "outputs": []
    },
    {
      "cell_type": "markdown",
      "metadata": {
        "id": "ioo8hl6apgRW"
      },
      "source": [
        "Drop Title & Synopsis columns"
      ]
    },
    {
      "cell_type": "code",
      "metadata": {
        "colab": {
          "base_uri": "https://localhost:8080/"
        },
        "id": "nPuONcnkpgu5",
        "outputId": "8226b0ea-8756-4e80-8837-68dc1ab6fa7c"
      },
      "source": [
        "test_data.pop('Title')\n",
        "test_data.pop('Synopsis')"
      ],
      "execution_count": 47,
      "outputs": [
        {
          "output_type": "execute_result",
          "data": {
            "text/plain": [
              "0       A collection of entire body of work of the She...\n",
              "1       Enhance your software deployment workflow usin...\n",
              "2       'Watch out, world. Here I come!'\\nFor Victoria...\n",
              "3       If you want to learn how to program, working w...\n",
              "4       Learn and practise the verbs, prepositions and...\n",
              "                              ...                        \n",
              "1555    We design to elicit responses from people. We ...\n",
              "1556    A 30-day course to write simple, sharp and att...\n",
              "1557    The perennial bestseller-now available as a se...\n",
              "1558    Heinz Guderian - master of the Blitzkrieg and ...\n",
              "1559    Learn Spanish with the most convenient and eff...\n",
              "Name: Synopsis, Length: 1560, dtype: object"
            ]
          },
          "metadata": {
            "tags": []
          },
          "execution_count": 47
        }
      ]
    },
    {
      "cell_type": "code",
      "metadata": {
        "id": "i3Iv8fwj9Emu",
        "outputId": "a69a3d1e-734a-4d90-8b23-ee4d86b38d41",
        "colab": {
          "base_uri": "https://localhost:8080/"
        }
      },
      "source": [
        "test_data.pop('Author')\n",
        "test_data.pop('Genre')"
      ],
      "execution_count": 48,
      "outputs": [
        {
          "output_type": "execute_result",
          "data": {
            "text/plain": [
              "0                            Short Stories (Books)\n",
              "1                      Operating Systems Textbooks\n",
              "2                                  Romance (Books)\n",
              "3       Programming & Software Development (Books)\n",
              "4                              Linguistics (Books)\n",
              "                           ...                    \n",
              "1555                                        Design\n",
              "1556                  Children's Reference (Books)\n",
              "1557                                Humour (Books)\n",
              "1558                         United States History\n",
              "1559                                  Dictionaries\n",
              "Name: Genre, Length: 1560, dtype: object"
            ]
          },
          "metadata": {
            "tags": []
          },
          "execution_count": 48
        }
      ]
    },
    {
      "cell_type": "markdown",
      "metadata": {
        "id": "JU-2_lAVpo3b"
      },
      "source": [
        "Edition Normalization / Drop edition "
      ]
    },
    {
      "cell_type": "code",
      "metadata": {
        "id": "tXHrEkgEpq7A"
      },
      "source": [
        "# test_data['Edition'] = test_data.Edition.apply(lambda r: r.split(',')[0]) # get only the type of book e.g Paperback or Hardcover\n",
        "# test_editions = test_data['Edition'].unique()\n",
        "# total_editions = np.unique(np.append(editions,test_editions))\n",
        "# print(total_editions)\n",
        "# test_data= pd.get_dummies(test_data, columns= ['Edition'])\n",
        "# test_data[editions] = 0\n",
        "#Remove edition column because we have different editions on train set and different editions on test set\n",
        "#test_data['Edition_Year'] = test_data['Edition'].apply(lambda x: x.split()[-1] if x.split()[-1].isdigit() else 'na')\n",
        "test_data['Edition'] = test_data['Edition'].apply(lambda x: x.split(',')[0])\n",
        "#test_data.pop('Edition')"
      ],
      "execution_count": 49,
      "outputs": []
    },
    {
      "cell_type": "code",
      "metadata": {
        "colab": {
          "base_uri": "https://localhost:8080/",
          "height": 206
        },
        "id": "GngcnxzHMoz2",
        "outputId": "7781047a-fb86-45a6-e826-8c5178aadf73"
      },
      "source": [
        "test_data.head()"
      ],
      "execution_count": 50,
      "outputs": [
        {
          "output_type": "execute_result",
          "data": {
            "text/html": [
              "<div>\n",
              "<style scoped>\n",
              "    .dataframe tbody tr th:only-of-type {\n",
              "        vertical-align: middle;\n",
              "    }\n",
              "\n",
              "    .dataframe tbody tr th {\n",
              "        vertical-align: top;\n",
              "    }\n",
              "\n",
              "    .dataframe thead th {\n",
              "        text-align: right;\n",
              "    }\n",
              "</style>\n",
              "<table border=\"1\" class=\"dataframe\">\n",
              "  <thead>\n",
              "    <tr style=\"text-align: right;\">\n",
              "      <th></th>\n",
              "      <th>Edition</th>\n",
              "      <th>Reviews</th>\n",
              "      <th>Ratings</th>\n",
              "      <th>BookCategory</th>\n",
              "    </tr>\n",
              "  </thead>\n",
              "  <tbody>\n",
              "    <tr>\n",
              "      <th>0</th>\n",
              "      <td>Mass Market Paperback</td>\n",
              "      <td>4.4</td>\n",
              "      <td>960.0</td>\n",
              "      <td>Crime, Thriller &amp; Mystery</td>\n",
              "    </tr>\n",
              "    <tr>\n",
              "      <th>1</th>\n",
              "      <td>Paperback</td>\n",
              "      <td>5.0</td>\n",
              "      <td>1.0</td>\n",
              "      <td>Computing, Internet &amp; Digital Media</td>\n",
              "    </tr>\n",
              "    <tr>\n",
              "      <th>2</th>\n",
              "      <td>Paperback</td>\n",
              "      <td>5.0</td>\n",
              "      <td>4.0</td>\n",
              "      <td>Romance</td>\n",
              "    </tr>\n",
              "    <tr>\n",
              "      <th>3</th>\n",
              "      <td>Paperback</td>\n",
              "      <td>4.1</td>\n",
              "      <td>11.0</td>\n",
              "      <td>Computing, Internet &amp; Digital Media</td>\n",
              "    </tr>\n",
              "    <tr>\n",
              "      <th>4</th>\n",
              "      <td>Paperback</td>\n",
              "      <td>4.4</td>\n",
              "      <td>9.0</td>\n",
              "      <td>Language, Linguistics &amp; Writing</td>\n",
              "    </tr>\n",
              "  </tbody>\n",
              "</table>\n",
              "</div>"
            ],
            "text/plain": [
              "                 Edition  Reviews  Ratings                         BookCategory\n",
              "0  Mass Market Paperback      4.4    960.0            Crime, Thriller & Mystery\n",
              "1              Paperback      5.0      1.0  Computing, Internet & Digital Media\n",
              "2              Paperback      5.0      4.0                              Romance\n",
              "3              Paperback      4.1     11.0  Computing, Internet & Digital Media\n",
              "4              Paperback      4.4      9.0      Language, Linguistics & Writing"
            ]
          },
          "metadata": {
            "tags": []
          },
          "execution_count": 50
        }
      ]
    },
    {
      "cell_type": "markdown",
      "metadata": {
        "id": "RguWaZQXp3Iz"
      },
      "source": [
        "Book Category Normalization / Extract Categories"
      ]
    },
    {
      "cell_type": "code",
      "metadata": {
        "id": "iSU2ovyBp3ju"
      },
      "source": [
        "test_data= pd.get_dummies(test_data, columns= ['BookCategory'],drop_first=True)"
      ],
      "execution_count": 51,
      "outputs": []
    },
    {
      "cell_type": "markdown",
      "metadata": {
        "id": "PgJqI6IKqDOg"
      },
      "source": [
        "Finish Test set Inputs"
      ]
    },
    {
      "cell_type": "code",
      "metadata": {
        "colab": {
          "base_uri": "https://localhost:8080/",
          "height": 296
        },
        "id": "XoEkL8CKqFGI",
        "outputId": "58dbb089-b0f1-4c44-8d5b-10b1dc9dbd14"
      },
      "source": [
        "z_test = test_data\n",
        "z_test.head()"
      ],
      "execution_count": 52,
      "outputs": [
        {
          "output_type": "execute_result",
          "data": {
            "text/html": [
              "<div>\n",
              "<style scoped>\n",
              "    .dataframe tbody tr th:only-of-type {\n",
              "        vertical-align: middle;\n",
              "    }\n",
              "\n",
              "    .dataframe tbody tr th {\n",
              "        vertical-align: top;\n",
              "    }\n",
              "\n",
              "    .dataframe thead th {\n",
              "        text-align: right;\n",
              "    }\n",
              "</style>\n",
              "<table border=\"1\" class=\"dataframe\">\n",
              "  <thead>\n",
              "    <tr style=\"text-align: right;\">\n",
              "      <th></th>\n",
              "      <th>Edition</th>\n",
              "      <th>Reviews</th>\n",
              "      <th>Ratings</th>\n",
              "      <th>BookCategory_Arts, Film &amp; Photography</th>\n",
              "      <th>BookCategory_Biographies, Diaries &amp; True Accounts</th>\n",
              "      <th>BookCategory_Comics &amp; Mangas</th>\n",
              "      <th>BookCategory_Computing, Internet &amp; Digital Media</th>\n",
              "      <th>BookCategory_Crime, Thriller &amp; Mystery</th>\n",
              "      <th>BookCategory_Humour</th>\n",
              "      <th>BookCategory_Language, Linguistics &amp; Writing</th>\n",
              "      <th>BookCategory_Politics</th>\n",
              "      <th>BookCategory_Romance</th>\n",
              "      <th>BookCategory_Sports</th>\n",
              "    </tr>\n",
              "  </thead>\n",
              "  <tbody>\n",
              "    <tr>\n",
              "      <th>0</th>\n",
              "      <td>Mass Market Paperback</td>\n",
              "      <td>4.4</td>\n",
              "      <td>960.0</td>\n",
              "      <td>0</td>\n",
              "      <td>0</td>\n",
              "      <td>0</td>\n",
              "      <td>0</td>\n",
              "      <td>1</td>\n",
              "      <td>0</td>\n",
              "      <td>0</td>\n",
              "      <td>0</td>\n",
              "      <td>0</td>\n",
              "      <td>0</td>\n",
              "    </tr>\n",
              "    <tr>\n",
              "      <th>1</th>\n",
              "      <td>Paperback</td>\n",
              "      <td>5.0</td>\n",
              "      <td>1.0</td>\n",
              "      <td>0</td>\n",
              "      <td>0</td>\n",
              "      <td>0</td>\n",
              "      <td>1</td>\n",
              "      <td>0</td>\n",
              "      <td>0</td>\n",
              "      <td>0</td>\n",
              "      <td>0</td>\n",
              "      <td>0</td>\n",
              "      <td>0</td>\n",
              "    </tr>\n",
              "    <tr>\n",
              "      <th>2</th>\n",
              "      <td>Paperback</td>\n",
              "      <td>5.0</td>\n",
              "      <td>4.0</td>\n",
              "      <td>0</td>\n",
              "      <td>0</td>\n",
              "      <td>0</td>\n",
              "      <td>0</td>\n",
              "      <td>0</td>\n",
              "      <td>0</td>\n",
              "      <td>0</td>\n",
              "      <td>0</td>\n",
              "      <td>1</td>\n",
              "      <td>0</td>\n",
              "    </tr>\n",
              "    <tr>\n",
              "      <th>3</th>\n",
              "      <td>Paperback</td>\n",
              "      <td>4.1</td>\n",
              "      <td>11.0</td>\n",
              "      <td>0</td>\n",
              "      <td>0</td>\n",
              "      <td>0</td>\n",
              "      <td>1</td>\n",
              "      <td>0</td>\n",
              "      <td>0</td>\n",
              "      <td>0</td>\n",
              "      <td>0</td>\n",
              "      <td>0</td>\n",
              "      <td>0</td>\n",
              "    </tr>\n",
              "    <tr>\n",
              "      <th>4</th>\n",
              "      <td>Paperback</td>\n",
              "      <td>4.4</td>\n",
              "      <td>9.0</td>\n",
              "      <td>0</td>\n",
              "      <td>0</td>\n",
              "      <td>0</td>\n",
              "      <td>0</td>\n",
              "      <td>0</td>\n",
              "      <td>0</td>\n",
              "      <td>1</td>\n",
              "      <td>0</td>\n",
              "      <td>0</td>\n",
              "      <td>0</td>\n",
              "    </tr>\n",
              "  </tbody>\n",
              "</table>\n",
              "</div>"
            ],
            "text/plain": [
              "                 Edition  Reviews  ...  BookCategory_Romance  BookCategory_Sports\n",
              "0  Mass Market Paperback      4.4  ...                     0                    0\n",
              "1              Paperback      5.0  ...                     0                    0\n",
              "2              Paperback      5.0  ...                     1                    0\n",
              "3              Paperback      4.1  ...                     0                    0\n",
              "4              Paperback      4.4  ...                     0                    0\n",
              "\n",
              "[5 rows x 13 columns]"
            ]
          },
          "metadata": {
            "tags": []
          },
          "execution_count": 52
        }
      ]
    },
    {
      "cell_type": "markdown",
      "metadata": {
        "id": "6CvImNyopZ8x"
      },
      "source": [
        "## Combine Train and Test datasets to extract categorical features ##"
      ]
    },
    {
      "cell_type": "code",
      "metadata": {
        "id": "mBt-9AkypiuG"
      },
      "source": [
        "train = train_data.copy()\n",
        "test = test_data.copy()\n",
        "concat = pd.concat(objs=[train,test],axis=0)\n",
        "y = train.pop('Price')"
      ],
      "execution_count": 53,
      "outputs": []
    },
    {
      "cell_type": "code",
      "metadata": {
        "id": "P1gTns5s96Kt",
        "outputId": "84128d51-8a33-4ccf-a2f1-a77a27d2d924",
        "colab": {
          "base_uri": "https://localhost:8080/",
          "height": 261
        }
      },
      "source": [
        "concat.head()"
      ],
      "execution_count": 54,
      "outputs": [
        {
          "output_type": "execute_result",
          "data": {
            "text/html": [
              "<div>\n",
              "<style scoped>\n",
              "    .dataframe tbody tr th:only-of-type {\n",
              "        vertical-align: middle;\n",
              "    }\n",
              "\n",
              "    .dataframe tbody tr th {\n",
              "        vertical-align: top;\n",
              "    }\n",
              "\n",
              "    .dataframe thead th {\n",
              "        text-align: right;\n",
              "    }\n",
              "</style>\n",
              "<table border=\"1\" class=\"dataframe\">\n",
              "  <thead>\n",
              "    <tr style=\"text-align: right;\">\n",
              "      <th></th>\n",
              "      <th>Edition</th>\n",
              "      <th>Reviews</th>\n",
              "      <th>Ratings</th>\n",
              "      <th>Price</th>\n",
              "      <th>BookCategory_Arts, Film &amp; Photography</th>\n",
              "      <th>BookCategory_Biographies, Diaries &amp; True Accounts</th>\n",
              "      <th>BookCategory_Comics &amp; Mangas</th>\n",
              "      <th>BookCategory_Computing, Internet &amp; Digital Media</th>\n",
              "      <th>BookCategory_Crime, Thriller &amp; Mystery</th>\n",
              "      <th>BookCategory_Humour</th>\n",
              "      <th>BookCategory_Language, Linguistics &amp; Writing</th>\n",
              "      <th>BookCategory_Politics</th>\n",
              "      <th>BookCategory_Romance</th>\n",
              "      <th>BookCategory_Sports</th>\n",
              "    </tr>\n",
              "  </thead>\n",
              "  <tbody>\n",
              "    <tr>\n",
              "      <th>0</th>\n",
              "      <td>Paperback</td>\n",
              "      <td>4.0</td>\n",
              "      <td>8.0</td>\n",
              "      <td>220.00</td>\n",
              "      <td>0</td>\n",
              "      <td>0</td>\n",
              "      <td>0</td>\n",
              "      <td>0</td>\n",
              "      <td>0</td>\n",
              "      <td>0</td>\n",
              "      <td>0</td>\n",
              "      <td>0</td>\n",
              "      <td>0</td>\n",
              "      <td>0</td>\n",
              "    </tr>\n",
              "    <tr>\n",
              "      <th>1</th>\n",
              "      <td>Paperback</td>\n",
              "      <td>3.9</td>\n",
              "      <td>14.0</td>\n",
              "      <td>202.93</td>\n",
              "      <td>0</td>\n",
              "      <td>1</td>\n",
              "      <td>0</td>\n",
              "      <td>0</td>\n",
              "      <td>0</td>\n",
              "      <td>0</td>\n",
              "      <td>0</td>\n",
              "      <td>0</td>\n",
              "      <td>0</td>\n",
              "      <td>0</td>\n",
              "    </tr>\n",
              "    <tr>\n",
              "      <th>2</th>\n",
              "      <td>Paperback</td>\n",
              "      <td>4.8</td>\n",
              "      <td>6.0</td>\n",
              "      <td>299.00</td>\n",
              "      <td>0</td>\n",
              "      <td>0</td>\n",
              "      <td>0</td>\n",
              "      <td>0</td>\n",
              "      <td>0</td>\n",
              "      <td>1</td>\n",
              "      <td>0</td>\n",
              "      <td>0</td>\n",
              "      <td>0</td>\n",
              "      <td>0</td>\n",
              "    </tr>\n",
              "    <tr>\n",
              "      <th>3</th>\n",
              "      <td>Paperback</td>\n",
              "      <td>4.1</td>\n",
              "      <td>13.0</td>\n",
              "      <td>180.00</td>\n",
              "      <td>0</td>\n",
              "      <td>0</td>\n",
              "      <td>0</td>\n",
              "      <td>0</td>\n",
              "      <td>1</td>\n",
              "      <td>0</td>\n",
              "      <td>0</td>\n",
              "      <td>0</td>\n",
              "      <td>0</td>\n",
              "      <td>0</td>\n",
              "    </tr>\n",
              "    <tr>\n",
              "      <th>4</th>\n",
              "      <td>Hardcover</td>\n",
              "      <td>5.0</td>\n",
              "      <td>1.0</td>\n",
              "      <td>965.62</td>\n",
              "      <td>1</td>\n",
              "      <td>0</td>\n",
              "      <td>0</td>\n",
              "      <td>0</td>\n",
              "      <td>0</td>\n",
              "      <td>0</td>\n",
              "      <td>0</td>\n",
              "      <td>0</td>\n",
              "      <td>0</td>\n",
              "      <td>0</td>\n",
              "    </tr>\n",
              "  </tbody>\n",
              "</table>\n",
              "</div>"
            ],
            "text/plain": [
              "     Edition  Reviews  ...  BookCategory_Romance  BookCategory_Sports\n",
              "0  Paperback      4.0  ...                     0                    0\n",
              "1  Paperback      3.9  ...                     0                    0\n",
              "2  Paperback      4.8  ...                     0                    0\n",
              "3  Paperback      4.1  ...                     0                    0\n",
              "4  Hardcover      5.0  ...                     0                    0\n",
              "\n",
              "[5 rows x 14 columns]"
            ]
          },
          "metadata": {
            "tags": []
          },
          "execution_count": 54
        }
      ]
    },
    {
      "cell_type": "code",
      "metadata": {
        "id": "D51X7eGH-Exx"
      },
      "source": [
        "concat= pd.get_dummies(concat, columns= ['Edition'],drop_first=True)"
      ],
      "execution_count": 55,
      "outputs": []
    },
    {
      "cell_type": "code",
      "metadata": {
        "id": "pnlOBQdWqLNc"
      },
      "source": [
        "from sklearn.preprocessing import LabelEncoder\n",
        "\n",
        "le = LabelEncoder()"
      ],
      "execution_count": 27,
      "outputs": []
    },
    {
      "cell_type": "code",
      "metadata": {
        "id": "zd-MTWTsqNs2"
      },
      "source": [
        "cols_toEncode = ['Author','Genre','Edition_Year']"
      ],
      "execution_count": 28,
      "outputs": []
    },
    {
      "cell_type": "code",
      "metadata": {
        "id": "vbh0diN0qUPb"
      },
      "source": [
        "#concat['Edition_Year'] = le.fit_transform(concat['Edition_Year'])\n",
        "#concat['Author'] = le.fit_transform(concat['Author'])\n",
        "#concat['Genre'] = le.fit_transform(concat['Genre'])\n",
        "concat['Edition'] = le.fit_transform(concat['Edition'])"
      ],
      "execution_count": null,
      "outputs": []
    },
    {
      "cell_type": "code",
      "metadata": {
        "id": "3TYv3Bq--bxz",
        "outputId": "8ed58db4-46a1-4aef-c036-f0422b173b06",
        "colab": {
          "base_uri": "https://localhost:8080/",
          "height": 261
        }
      },
      "source": [
        "concat.head()"
      ],
      "execution_count": 56,
      "outputs": [
        {
          "output_type": "execute_result",
          "data": {
            "text/html": [
              "<div>\n",
              "<style scoped>\n",
              "    .dataframe tbody tr th:only-of-type {\n",
              "        vertical-align: middle;\n",
              "    }\n",
              "\n",
              "    .dataframe tbody tr th {\n",
              "        vertical-align: top;\n",
              "    }\n",
              "\n",
              "    .dataframe thead th {\n",
              "        text-align: right;\n",
              "    }\n",
              "</style>\n",
              "<table border=\"1\" class=\"dataframe\">\n",
              "  <thead>\n",
              "    <tr style=\"text-align: right;\">\n",
              "      <th></th>\n",
              "      <th>Reviews</th>\n",
              "      <th>Ratings</th>\n",
              "      <th>Price</th>\n",
              "      <th>BookCategory_Arts, Film &amp; Photography</th>\n",
              "      <th>BookCategory_Biographies, Diaries &amp; True Accounts</th>\n",
              "      <th>BookCategory_Comics &amp; Mangas</th>\n",
              "      <th>BookCategory_Computing, Internet &amp; Digital Media</th>\n",
              "      <th>BookCategory_Crime, Thriller &amp; Mystery</th>\n",
              "      <th>BookCategory_Humour</th>\n",
              "      <th>BookCategory_Language, Linguistics &amp; Writing</th>\n",
              "      <th>BookCategory_Politics</th>\n",
              "      <th>BookCategory_Romance</th>\n",
              "      <th>BookCategory_Sports</th>\n",
              "      <th>Edition_(French)</th>\n",
              "      <th>Edition_(German)</th>\n",
              "      <th>Edition_(Kannada)</th>\n",
              "      <th>Edition_(Spanish)</th>\n",
              "      <th>Edition_Board book</th>\n",
              "      <th>Edition_Cards</th>\n",
              "      <th>Edition_Flexibound</th>\n",
              "      <th>Edition_Hardcover</th>\n",
              "      <th>Edition_Leather Bound</th>\n",
              "      <th>Edition_Library Binding</th>\n",
              "      <th>Edition_Loose Leaf</th>\n",
              "      <th>Edition_Mass Market Paperback</th>\n",
              "      <th>Edition_Paperback</th>\n",
              "      <th>Edition_Perfect Paperback</th>\n",
              "      <th>Edition_Plastic Comb</th>\n",
              "      <th>Edition_Sheet music</th>\n",
              "      <th>Edition_Spiral-bound</th>\n",
              "      <th>Edition_Tankobon Softcover</th>\n",
              "    </tr>\n",
              "  </thead>\n",
              "  <tbody>\n",
              "    <tr>\n",
              "      <th>0</th>\n",
              "      <td>4.0</td>\n",
              "      <td>8.0</td>\n",
              "      <td>220.00</td>\n",
              "      <td>0</td>\n",
              "      <td>0</td>\n",
              "      <td>0</td>\n",
              "      <td>0</td>\n",
              "      <td>0</td>\n",
              "      <td>0</td>\n",
              "      <td>0</td>\n",
              "      <td>0</td>\n",
              "      <td>0</td>\n",
              "      <td>0</td>\n",
              "      <td>0</td>\n",
              "      <td>0</td>\n",
              "      <td>0</td>\n",
              "      <td>0</td>\n",
              "      <td>0</td>\n",
              "      <td>0</td>\n",
              "      <td>0</td>\n",
              "      <td>0</td>\n",
              "      <td>0</td>\n",
              "      <td>0</td>\n",
              "      <td>0</td>\n",
              "      <td>0</td>\n",
              "      <td>1</td>\n",
              "      <td>0</td>\n",
              "      <td>0</td>\n",
              "      <td>0</td>\n",
              "      <td>0</td>\n",
              "      <td>0</td>\n",
              "    </tr>\n",
              "    <tr>\n",
              "      <th>1</th>\n",
              "      <td>3.9</td>\n",
              "      <td>14.0</td>\n",
              "      <td>202.93</td>\n",
              "      <td>0</td>\n",
              "      <td>1</td>\n",
              "      <td>0</td>\n",
              "      <td>0</td>\n",
              "      <td>0</td>\n",
              "      <td>0</td>\n",
              "      <td>0</td>\n",
              "      <td>0</td>\n",
              "      <td>0</td>\n",
              "      <td>0</td>\n",
              "      <td>0</td>\n",
              "      <td>0</td>\n",
              "      <td>0</td>\n",
              "      <td>0</td>\n",
              "      <td>0</td>\n",
              "      <td>0</td>\n",
              "      <td>0</td>\n",
              "      <td>0</td>\n",
              "      <td>0</td>\n",
              "      <td>0</td>\n",
              "      <td>0</td>\n",
              "      <td>0</td>\n",
              "      <td>1</td>\n",
              "      <td>0</td>\n",
              "      <td>0</td>\n",
              "      <td>0</td>\n",
              "      <td>0</td>\n",
              "      <td>0</td>\n",
              "    </tr>\n",
              "    <tr>\n",
              "      <th>2</th>\n",
              "      <td>4.8</td>\n",
              "      <td>6.0</td>\n",
              "      <td>299.00</td>\n",
              "      <td>0</td>\n",
              "      <td>0</td>\n",
              "      <td>0</td>\n",
              "      <td>0</td>\n",
              "      <td>0</td>\n",
              "      <td>1</td>\n",
              "      <td>0</td>\n",
              "      <td>0</td>\n",
              "      <td>0</td>\n",
              "      <td>0</td>\n",
              "      <td>0</td>\n",
              "      <td>0</td>\n",
              "      <td>0</td>\n",
              "      <td>0</td>\n",
              "      <td>0</td>\n",
              "      <td>0</td>\n",
              "      <td>0</td>\n",
              "      <td>0</td>\n",
              "      <td>0</td>\n",
              "      <td>0</td>\n",
              "      <td>0</td>\n",
              "      <td>0</td>\n",
              "      <td>1</td>\n",
              "      <td>0</td>\n",
              "      <td>0</td>\n",
              "      <td>0</td>\n",
              "      <td>0</td>\n",
              "      <td>0</td>\n",
              "    </tr>\n",
              "    <tr>\n",
              "      <th>3</th>\n",
              "      <td>4.1</td>\n",
              "      <td>13.0</td>\n",
              "      <td>180.00</td>\n",
              "      <td>0</td>\n",
              "      <td>0</td>\n",
              "      <td>0</td>\n",
              "      <td>0</td>\n",
              "      <td>1</td>\n",
              "      <td>0</td>\n",
              "      <td>0</td>\n",
              "      <td>0</td>\n",
              "      <td>0</td>\n",
              "      <td>0</td>\n",
              "      <td>0</td>\n",
              "      <td>0</td>\n",
              "      <td>0</td>\n",
              "      <td>0</td>\n",
              "      <td>0</td>\n",
              "      <td>0</td>\n",
              "      <td>0</td>\n",
              "      <td>0</td>\n",
              "      <td>0</td>\n",
              "      <td>0</td>\n",
              "      <td>0</td>\n",
              "      <td>0</td>\n",
              "      <td>1</td>\n",
              "      <td>0</td>\n",
              "      <td>0</td>\n",
              "      <td>0</td>\n",
              "      <td>0</td>\n",
              "      <td>0</td>\n",
              "    </tr>\n",
              "    <tr>\n",
              "      <th>4</th>\n",
              "      <td>5.0</td>\n",
              "      <td>1.0</td>\n",
              "      <td>965.62</td>\n",
              "      <td>1</td>\n",
              "      <td>0</td>\n",
              "      <td>0</td>\n",
              "      <td>0</td>\n",
              "      <td>0</td>\n",
              "      <td>0</td>\n",
              "      <td>0</td>\n",
              "      <td>0</td>\n",
              "      <td>0</td>\n",
              "      <td>0</td>\n",
              "      <td>0</td>\n",
              "      <td>0</td>\n",
              "      <td>0</td>\n",
              "      <td>0</td>\n",
              "      <td>0</td>\n",
              "      <td>0</td>\n",
              "      <td>0</td>\n",
              "      <td>1</td>\n",
              "      <td>0</td>\n",
              "      <td>0</td>\n",
              "      <td>0</td>\n",
              "      <td>0</td>\n",
              "      <td>0</td>\n",
              "      <td>0</td>\n",
              "      <td>0</td>\n",
              "      <td>0</td>\n",
              "      <td>0</td>\n",
              "      <td>0</td>\n",
              "    </tr>\n",
              "  </tbody>\n",
              "</table>\n",
              "</div>"
            ],
            "text/plain": [
              "   Reviews  Ratings  ...  Edition_Spiral-bound  Edition_Tankobon Softcover\n",
              "0      4.0      8.0  ...                     0                           0\n",
              "1      3.9     14.0  ...                     0                           0\n",
              "2      4.8      6.0  ...                     0                           0\n",
              "3      4.1     13.0  ...                     0                           0\n",
              "4      5.0      1.0  ...                     0                           0\n",
              "\n",
              "[5 rows x 31 columns]"
            ]
          },
          "metadata": {
            "tags": []
          },
          "execution_count": 56
        }
      ]
    },
    {
      "cell_type": "code",
      "metadata": {
        "id": "fSowQ-XUqeBg"
      },
      "source": [
        "train_size = len(train)\n",
        "train = concat[:train_size]\n",
        "test = concat[train_size:]"
      ],
      "execution_count": 57,
      "outputs": []
    },
    {
      "cell_type": "code",
      "metadata": {
        "id": "noJh9rzwqglO"
      },
      "source": [
        "#train = train.astype({'Edition':'int'})\n",
        "#test = test.astype({'Edition':'int'})\n",
        "#train = train.astype({'Author':'int','Genre':'int','Edition':'int','Edition_Year':'int'})\n",
        "#test = test.astype({'Author':'int','Genre':'int','Edition':'int','Edition_Year':'int'})"
      ],
      "execution_count": null,
      "outputs": []
    },
    {
      "cell_type": "code",
      "metadata": {
        "id": "aOWqGAjjq3vH",
        "colab": {
          "base_uri": "https://localhost:8080/",
          "height": 261
        },
        "outputId": "f832e469-e078-4ec5-e1f8-0a9172311086"
      },
      "source": [
        "train.head()"
      ],
      "execution_count": 58,
      "outputs": [
        {
          "output_type": "execute_result",
          "data": {
            "text/html": [
              "<div>\n",
              "<style scoped>\n",
              "    .dataframe tbody tr th:only-of-type {\n",
              "        vertical-align: middle;\n",
              "    }\n",
              "\n",
              "    .dataframe tbody tr th {\n",
              "        vertical-align: top;\n",
              "    }\n",
              "\n",
              "    .dataframe thead th {\n",
              "        text-align: right;\n",
              "    }\n",
              "</style>\n",
              "<table border=\"1\" class=\"dataframe\">\n",
              "  <thead>\n",
              "    <tr style=\"text-align: right;\">\n",
              "      <th></th>\n",
              "      <th>Reviews</th>\n",
              "      <th>Ratings</th>\n",
              "      <th>Price</th>\n",
              "      <th>BookCategory_Arts, Film &amp; Photography</th>\n",
              "      <th>BookCategory_Biographies, Diaries &amp; True Accounts</th>\n",
              "      <th>BookCategory_Comics &amp; Mangas</th>\n",
              "      <th>BookCategory_Computing, Internet &amp; Digital Media</th>\n",
              "      <th>BookCategory_Crime, Thriller &amp; Mystery</th>\n",
              "      <th>BookCategory_Humour</th>\n",
              "      <th>BookCategory_Language, Linguistics &amp; Writing</th>\n",
              "      <th>BookCategory_Politics</th>\n",
              "      <th>BookCategory_Romance</th>\n",
              "      <th>BookCategory_Sports</th>\n",
              "      <th>Edition_(French)</th>\n",
              "      <th>Edition_(German)</th>\n",
              "      <th>Edition_(Kannada)</th>\n",
              "      <th>Edition_(Spanish)</th>\n",
              "      <th>Edition_Board book</th>\n",
              "      <th>Edition_Cards</th>\n",
              "      <th>Edition_Flexibound</th>\n",
              "      <th>Edition_Hardcover</th>\n",
              "      <th>Edition_Leather Bound</th>\n",
              "      <th>Edition_Library Binding</th>\n",
              "      <th>Edition_Loose Leaf</th>\n",
              "      <th>Edition_Mass Market Paperback</th>\n",
              "      <th>Edition_Paperback</th>\n",
              "      <th>Edition_Perfect Paperback</th>\n",
              "      <th>Edition_Plastic Comb</th>\n",
              "      <th>Edition_Sheet music</th>\n",
              "      <th>Edition_Spiral-bound</th>\n",
              "      <th>Edition_Tankobon Softcover</th>\n",
              "    </tr>\n",
              "  </thead>\n",
              "  <tbody>\n",
              "    <tr>\n",
              "      <th>0</th>\n",
              "      <td>4.0</td>\n",
              "      <td>8.0</td>\n",
              "      <td>220.00</td>\n",
              "      <td>0</td>\n",
              "      <td>0</td>\n",
              "      <td>0</td>\n",
              "      <td>0</td>\n",
              "      <td>0</td>\n",
              "      <td>0</td>\n",
              "      <td>0</td>\n",
              "      <td>0</td>\n",
              "      <td>0</td>\n",
              "      <td>0</td>\n",
              "      <td>0</td>\n",
              "      <td>0</td>\n",
              "      <td>0</td>\n",
              "      <td>0</td>\n",
              "      <td>0</td>\n",
              "      <td>0</td>\n",
              "      <td>0</td>\n",
              "      <td>0</td>\n",
              "      <td>0</td>\n",
              "      <td>0</td>\n",
              "      <td>0</td>\n",
              "      <td>0</td>\n",
              "      <td>1</td>\n",
              "      <td>0</td>\n",
              "      <td>0</td>\n",
              "      <td>0</td>\n",
              "      <td>0</td>\n",
              "      <td>0</td>\n",
              "    </tr>\n",
              "    <tr>\n",
              "      <th>1</th>\n",
              "      <td>3.9</td>\n",
              "      <td>14.0</td>\n",
              "      <td>202.93</td>\n",
              "      <td>0</td>\n",
              "      <td>1</td>\n",
              "      <td>0</td>\n",
              "      <td>0</td>\n",
              "      <td>0</td>\n",
              "      <td>0</td>\n",
              "      <td>0</td>\n",
              "      <td>0</td>\n",
              "      <td>0</td>\n",
              "      <td>0</td>\n",
              "      <td>0</td>\n",
              "      <td>0</td>\n",
              "      <td>0</td>\n",
              "      <td>0</td>\n",
              "      <td>0</td>\n",
              "      <td>0</td>\n",
              "      <td>0</td>\n",
              "      <td>0</td>\n",
              "      <td>0</td>\n",
              "      <td>0</td>\n",
              "      <td>0</td>\n",
              "      <td>0</td>\n",
              "      <td>1</td>\n",
              "      <td>0</td>\n",
              "      <td>0</td>\n",
              "      <td>0</td>\n",
              "      <td>0</td>\n",
              "      <td>0</td>\n",
              "    </tr>\n",
              "    <tr>\n",
              "      <th>2</th>\n",
              "      <td>4.8</td>\n",
              "      <td>6.0</td>\n",
              "      <td>299.00</td>\n",
              "      <td>0</td>\n",
              "      <td>0</td>\n",
              "      <td>0</td>\n",
              "      <td>0</td>\n",
              "      <td>0</td>\n",
              "      <td>1</td>\n",
              "      <td>0</td>\n",
              "      <td>0</td>\n",
              "      <td>0</td>\n",
              "      <td>0</td>\n",
              "      <td>0</td>\n",
              "      <td>0</td>\n",
              "      <td>0</td>\n",
              "      <td>0</td>\n",
              "      <td>0</td>\n",
              "      <td>0</td>\n",
              "      <td>0</td>\n",
              "      <td>0</td>\n",
              "      <td>0</td>\n",
              "      <td>0</td>\n",
              "      <td>0</td>\n",
              "      <td>0</td>\n",
              "      <td>1</td>\n",
              "      <td>0</td>\n",
              "      <td>0</td>\n",
              "      <td>0</td>\n",
              "      <td>0</td>\n",
              "      <td>0</td>\n",
              "    </tr>\n",
              "    <tr>\n",
              "      <th>3</th>\n",
              "      <td>4.1</td>\n",
              "      <td>13.0</td>\n",
              "      <td>180.00</td>\n",
              "      <td>0</td>\n",
              "      <td>0</td>\n",
              "      <td>0</td>\n",
              "      <td>0</td>\n",
              "      <td>1</td>\n",
              "      <td>0</td>\n",
              "      <td>0</td>\n",
              "      <td>0</td>\n",
              "      <td>0</td>\n",
              "      <td>0</td>\n",
              "      <td>0</td>\n",
              "      <td>0</td>\n",
              "      <td>0</td>\n",
              "      <td>0</td>\n",
              "      <td>0</td>\n",
              "      <td>0</td>\n",
              "      <td>0</td>\n",
              "      <td>0</td>\n",
              "      <td>0</td>\n",
              "      <td>0</td>\n",
              "      <td>0</td>\n",
              "      <td>0</td>\n",
              "      <td>1</td>\n",
              "      <td>0</td>\n",
              "      <td>0</td>\n",
              "      <td>0</td>\n",
              "      <td>0</td>\n",
              "      <td>0</td>\n",
              "    </tr>\n",
              "    <tr>\n",
              "      <th>4</th>\n",
              "      <td>5.0</td>\n",
              "      <td>1.0</td>\n",
              "      <td>965.62</td>\n",
              "      <td>1</td>\n",
              "      <td>0</td>\n",
              "      <td>0</td>\n",
              "      <td>0</td>\n",
              "      <td>0</td>\n",
              "      <td>0</td>\n",
              "      <td>0</td>\n",
              "      <td>0</td>\n",
              "      <td>0</td>\n",
              "      <td>0</td>\n",
              "      <td>0</td>\n",
              "      <td>0</td>\n",
              "      <td>0</td>\n",
              "      <td>0</td>\n",
              "      <td>0</td>\n",
              "      <td>0</td>\n",
              "      <td>0</td>\n",
              "      <td>1</td>\n",
              "      <td>0</td>\n",
              "      <td>0</td>\n",
              "      <td>0</td>\n",
              "      <td>0</td>\n",
              "      <td>0</td>\n",
              "      <td>0</td>\n",
              "      <td>0</td>\n",
              "      <td>0</td>\n",
              "      <td>0</td>\n",
              "      <td>0</td>\n",
              "    </tr>\n",
              "  </tbody>\n",
              "</table>\n",
              "</div>"
            ],
            "text/plain": [
              "   Reviews  Ratings  ...  Edition_Spiral-bound  Edition_Tankobon Softcover\n",
              "0      4.0      8.0  ...                     0                           0\n",
              "1      3.9     14.0  ...                     0                           0\n",
              "2      4.8      6.0  ...                     0                           0\n",
              "3      4.1     13.0  ...                     0                           0\n",
              "4      5.0      1.0  ...                     0                           0\n",
              "\n",
              "[5 rows x 31 columns]"
            ]
          },
          "metadata": {
            "tags": []
          },
          "execution_count": 58
        }
      ]
    },
    {
      "cell_type": "code",
      "metadata": {
        "id": "UJnh0eZercvc",
        "colab": {
          "base_uri": "https://localhost:8080/",
          "height": 261
        },
        "outputId": "c193c339-24d6-45dc-8117-7e0c7acc30f2"
      },
      "source": [
        "y = train.pop('Price')\n",
        "train.head()"
      ],
      "execution_count": 59,
      "outputs": [
        {
          "output_type": "execute_result",
          "data": {
            "text/html": [
              "<div>\n",
              "<style scoped>\n",
              "    .dataframe tbody tr th:only-of-type {\n",
              "        vertical-align: middle;\n",
              "    }\n",
              "\n",
              "    .dataframe tbody tr th {\n",
              "        vertical-align: top;\n",
              "    }\n",
              "\n",
              "    .dataframe thead th {\n",
              "        text-align: right;\n",
              "    }\n",
              "</style>\n",
              "<table border=\"1\" class=\"dataframe\">\n",
              "  <thead>\n",
              "    <tr style=\"text-align: right;\">\n",
              "      <th></th>\n",
              "      <th>Reviews</th>\n",
              "      <th>Ratings</th>\n",
              "      <th>BookCategory_Arts, Film &amp; Photography</th>\n",
              "      <th>BookCategory_Biographies, Diaries &amp; True Accounts</th>\n",
              "      <th>BookCategory_Comics &amp; Mangas</th>\n",
              "      <th>BookCategory_Computing, Internet &amp; Digital Media</th>\n",
              "      <th>BookCategory_Crime, Thriller &amp; Mystery</th>\n",
              "      <th>BookCategory_Humour</th>\n",
              "      <th>BookCategory_Language, Linguistics &amp; Writing</th>\n",
              "      <th>BookCategory_Politics</th>\n",
              "      <th>BookCategory_Romance</th>\n",
              "      <th>BookCategory_Sports</th>\n",
              "      <th>Edition_(French)</th>\n",
              "      <th>Edition_(German)</th>\n",
              "      <th>Edition_(Kannada)</th>\n",
              "      <th>Edition_(Spanish)</th>\n",
              "      <th>Edition_Board book</th>\n",
              "      <th>Edition_Cards</th>\n",
              "      <th>Edition_Flexibound</th>\n",
              "      <th>Edition_Hardcover</th>\n",
              "      <th>Edition_Leather Bound</th>\n",
              "      <th>Edition_Library Binding</th>\n",
              "      <th>Edition_Loose Leaf</th>\n",
              "      <th>Edition_Mass Market Paperback</th>\n",
              "      <th>Edition_Paperback</th>\n",
              "      <th>Edition_Perfect Paperback</th>\n",
              "      <th>Edition_Plastic Comb</th>\n",
              "      <th>Edition_Sheet music</th>\n",
              "      <th>Edition_Spiral-bound</th>\n",
              "      <th>Edition_Tankobon Softcover</th>\n",
              "    </tr>\n",
              "  </thead>\n",
              "  <tbody>\n",
              "    <tr>\n",
              "      <th>0</th>\n",
              "      <td>4.0</td>\n",
              "      <td>8.0</td>\n",
              "      <td>0</td>\n",
              "      <td>0</td>\n",
              "      <td>0</td>\n",
              "      <td>0</td>\n",
              "      <td>0</td>\n",
              "      <td>0</td>\n",
              "      <td>0</td>\n",
              "      <td>0</td>\n",
              "      <td>0</td>\n",
              "      <td>0</td>\n",
              "      <td>0</td>\n",
              "      <td>0</td>\n",
              "      <td>0</td>\n",
              "      <td>0</td>\n",
              "      <td>0</td>\n",
              "      <td>0</td>\n",
              "      <td>0</td>\n",
              "      <td>0</td>\n",
              "      <td>0</td>\n",
              "      <td>0</td>\n",
              "      <td>0</td>\n",
              "      <td>0</td>\n",
              "      <td>1</td>\n",
              "      <td>0</td>\n",
              "      <td>0</td>\n",
              "      <td>0</td>\n",
              "      <td>0</td>\n",
              "      <td>0</td>\n",
              "    </tr>\n",
              "    <tr>\n",
              "      <th>1</th>\n",
              "      <td>3.9</td>\n",
              "      <td>14.0</td>\n",
              "      <td>0</td>\n",
              "      <td>1</td>\n",
              "      <td>0</td>\n",
              "      <td>0</td>\n",
              "      <td>0</td>\n",
              "      <td>0</td>\n",
              "      <td>0</td>\n",
              "      <td>0</td>\n",
              "      <td>0</td>\n",
              "      <td>0</td>\n",
              "      <td>0</td>\n",
              "      <td>0</td>\n",
              "      <td>0</td>\n",
              "      <td>0</td>\n",
              "      <td>0</td>\n",
              "      <td>0</td>\n",
              "      <td>0</td>\n",
              "      <td>0</td>\n",
              "      <td>0</td>\n",
              "      <td>0</td>\n",
              "      <td>0</td>\n",
              "      <td>0</td>\n",
              "      <td>1</td>\n",
              "      <td>0</td>\n",
              "      <td>0</td>\n",
              "      <td>0</td>\n",
              "      <td>0</td>\n",
              "      <td>0</td>\n",
              "    </tr>\n",
              "    <tr>\n",
              "      <th>2</th>\n",
              "      <td>4.8</td>\n",
              "      <td>6.0</td>\n",
              "      <td>0</td>\n",
              "      <td>0</td>\n",
              "      <td>0</td>\n",
              "      <td>0</td>\n",
              "      <td>0</td>\n",
              "      <td>1</td>\n",
              "      <td>0</td>\n",
              "      <td>0</td>\n",
              "      <td>0</td>\n",
              "      <td>0</td>\n",
              "      <td>0</td>\n",
              "      <td>0</td>\n",
              "      <td>0</td>\n",
              "      <td>0</td>\n",
              "      <td>0</td>\n",
              "      <td>0</td>\n",
              "      <td>0</td>\n",
              "      <td>0</td>\n",
              "      <td>0</td>\n",
              "      <td>0</td>\n",
              "      <td>0</td>\n",
              "      <td>0</td>\n",
              "      <td>1</td>\n",
              "      <td>0</td>\n",
              "      <td>0</td>\n",
              "      <td>0</td>\n",
              "      <td>0</td>\n",
              "      <td>0</td>\n",
              "    </tr>\n",
              "    <tr>\n",
              "      <th>3</th>\n",
              "      <td>4.1</td>\n",
              "      <td>13.0</td>\n",
              "      <td>0</td>\n",
              "      <td>0</td>\n",
              "      <td>0</td>\n",
              "      <td>0</td>\n",
              "      <td>1</td>\n",
              "      <td>0</td>\n",
              "      <td>0</td>\n",
              "      <td>0</td>\n",
              "      <td>0</td>\n",
              "      <td>0</td>\n",
              "      <td>0</td>\n",
              "      <td>0</td>\n",
              "      <td>0</td>\n",
              "      <td>0</td>\n",
              "      <td>0</td>\n",
              "      <td>0</td>\n",
              "      <td>0</td>\n",
              "      <td>0</td>\n",
              "      <td>0</td>\n",
              "      <td>0</td>\n",
              "      <td>0</td>\n",
              "      <td>0</td>\n",
              "      <td>1</td>\n",
              "      <td>0</td>\n",
              "      <td>0</td>\n",
              "      <td>0</td>\n",
              "      <td>0</td>\n",
              "      <td>0</td>\n",
              "    </tr>\n",
              "    <tr>\n",
              "      <th>4</th>\n",
              "      <td>5.0</td>\n",
              "      <td>1.0</td>\n",
              "      <td>1</td>\n",
              "      <td>0</td>\n",
              "      <td>0</td>\n",
              "      <td>0</td>\n",
              "      <td>0</td>\n",
              "      <td>0</td>\n",
              "      <td>0</td>\n",
              "      <td>0</td>\n",
              "      <td>0</td>\n",
              "      <td>0</td>\n",
              "      <td>0</td>\n",
              "      <td>0</td>\n",
              "      <td>0</td>\n",
              "      <td>0</td>\n",
              "      <td>0</td>\n",
              "      <td>0</td>\n",
              "      <td>0</td>\n",
              "      <td>1</td>\n",
              "      <td>0</td>\n",
              "      <td>0</td>\n",
              "      <td>0</td>\n",
              "      <td>0</td>\n",
              "      <td>0</td>\n",
              "      <td>0</td>\n",
              "      <td>0</td>\n",
              "      <td>0</td>\n",
              "      <td>0</td>\n",
              "      <td>0</td>\n",
              "    </tr>\n",
              "  </tbody>\n",
              "</table>\n",
              "</div>"
            ],
            "text/plain": [
              "   Reviews  Ratings  ...  Edition_Spiral-bound  Edition_Tankobon Softcover\n",
              "0      4.0      8.0  ...                     0                           0\n",
              "1      3.9     14.0  ...                     0                           0\n",
              "2      4.8      6.0  ...                     0                           0\n",
              "3      4.1     13.0  ...                     0                           0\n",
              "4      5.0      1.0  ...                     0                           0\n",
              "\n",
              "[5 rows x 30 columns]"
            ]
          },
          "metadata": {
            "tags": []
          },
          "execution_count": 59
        }
      ]
    },
    {
      "cell_type": "code",
      "metadata": {
        "id": "Bj56JCqTrm53",
        "colab": {
          "base_uri": "https://localhost:8080/",
          "height": 261
        },
        "outputId": "801b1a0b-5b7b-4634-f652-8b5f4174c5a8"
      },
      "source": [
        "test.pop('Price')\n",
        "test.head()"
      ],
      "execution_count": 60,
      "outputs": [
        {
          "output_type": "execute_result",
          "data": {
            "text/html": [
              "<div>\n",
              "<style scoped>\n",
              "    .dataframe tbody tr th:only-of-type {\n",
              "        vertical-align: middle;\n",
              "    }\n",
              "\n",
              "    .dataframe tbody tr th {\n",
              "        vertical-align: top;\n",
              "    }\n",
              "\n",
              "    .dataframe thead th {\n",
              "        text-align: right;\n",
              "    }\n",
              "</style>\n",
              "<table border=\"1\" class=\"dataframe\">\n",
              "  <thead>\n",
              "    <tr style=\"text-align: right;\">\n",
              "      <th></th>\n",
              "      <th>Reviews</th>\n",
              "      <th>Ratings</th>\n",
              "      <th>BookCategory_Arts, Film &amp; Photography</th>\n",
              "      <th>BookCategory_Biographies, Diaries &amp; True Accounts</th>\n",
              "      <th>BookCategory_Comics &amp; Mangas</th>\n",
              "      <th>BookCategory_Computing, Internet &amp; Digital Media</th>\n",
              "      <th>BookCategory_Crime, Thriller &amp; Mystery</th>\n",
              "      <th>BookCategory_Humour</th>\n",
              "      <th>BookCategory_Language, Linguistics &amp; Writing</th>\n",
              "      <th>BookCategory_Politics</th>\n",
              "      <th>BookCategory_Romance</th>\n",
              "      <th>BookCategory_Sports</th>\n",
              "      <th>Edition_(French)</th>\n",
              "      <th>Edition_(German)</th>\n",
              "      <th>Edition_(Kannada)</th>\n",
              "      <th>Edition_(Spanish)</th>\n",
              "      <th>Edition_Board book</th>\n",
              "      <th>Edition_Cards</th>\n",
              "      <th>Edition_Flexibound</th>\n",
              "      <th>Edition_Hardcover</th>\n",
              "      <th>Edition_Leather Bound</th>\n",
              "      <th>Edition_Library Binding</th>\n",
              "      <th>Edition_Loose Leaf</th>\n",
              "      <th>Edition_Mass Market Paperback</th>\n",
              "      <th>Edition_Paperback</th>\n",
              "      <th>Edition_Perfect Paperback</th>\n",
              "      <th>Edition_Plastic Comb</th>\n",
              "      <th>Edition_Sheet music</th>\n",
              "      <th>Edition_Spiral-bound</th>\n",
              "      <th>Edition_Tankobon Softcover</th>\n",
              "    </tr>\n",
              "  </thead>\n",
              "  <tbody>\n",
              "    <tr>\n",
              "      <th>0</th>\n",
              "      <td>4.4</td>\n",
              "      <td>960.0</td>\n",
              "      <td>0</td>\n",
              "      <td>0</td>\n",
              "      <td>0</td>\n",
              "      <td>0</td>\n",
              "      <td>1</td>\n",
              "      <td>0</td>\n",
              "      <td>0</td>\n",
              "      <td>0</td>\n",
              "      <td>0</td>\n",
              "      <td>0</td>\n",
              "      <td>0</td>\n",
              "      <td>0</td>\n",
              "      <td>0</td>\n",
              "      <td>0</td>\n",
              "      <td>0</td>\n",
              "      <td>0</td>\n",
              "      <td>0</td>\n",
              "      <td>0</td>\n",
              "      <td>0</td>\n",
              "      <td>0</td>\n",
              "      <td>0</td>\n",
              "      <td>1</td>\n",
              "      <td>0</td>\n",
              "      <td>0</td>\n",
              "      <td>0</td>\n",
              "      <td>0</td>\n",
              "      <td>0</td>\n",
              "      <td>0</td>\n",
              "    </tr>\n",
              "    <tr>\n",
              "      <th>1</th>\n",
              "      <td>5.0</td>\n",
              "      <td>1.0</td>\n",
              "      <td>0</td>\n",
              "      <td>0</td>\n",
              "      <td>0</td>\n",
              "      <td>1</td>\n",
              "      <td>0</td>\n",
              "      <td>0</td>\n",
              "      <td>0</td>\n",
              "      <td>0</td>\n",
              "      <td>0</td>\n",
              "      <td>0</td>\n",
              "      <td>0</td>\n",
              "      <td>0</td>\n",
              "      <td>0</td>\n",
              "      <td>0</td>\n",
              "      <td>0</td>\n",
              "      <td>0</td>\n",
              "      <td>0</td>\n",
              "      <td>0</td>\n",
              "      <td>0</td>\n",
              "      <td>0</td>\n",
              "      <td>0</td>\n",
              "      <td>0</td>\n",
              "      <td>1</td>\n",
              "      <td>0</td>\n",
              "      <td>0</td>\n",
              "      <td>0</td>\n",
              "      <td>0</td>\n",
              "      <td>0</td>\n",
              "    </tr>\n",
              "    <tr>\n",
              "      <th>2</th>\n",
              "      <td>5.0</td>\n",
              "      <td>4.0</td>\n",
              "      <td>0</td>\n",
              "      <td>0</td>\n",
              "      <td>0</td>\n",
              "      <td>0</td>\n",
              "      <td>0</td>\n",
              "      <td>0</td>\n",
              "      <td>0</td>\n",
              "      <td>0</td>\n",
              "      <td>1</td>\n",
              "      <td>0</td>\n",
              "      <td>0</td>\n",
              "      <td>0</td>\n",
              "      <td>0</td>\n",
              "      <td>0</td>\n",
              "      <td>0</td>\n",
              "      <td>0</td>\n",
              "      <td>0</td>\n",
              "      <td>0</td>\n",
              "      <td>0</td>\n",
              "      <td>0</td>\n",
              "      <td>0</td>\n",
              "      <td>0</td>\n",
              "      <td>1</td>\n",
              "      <td>0</td>\n",
              "      <td>0</td>\n",
              "      <td>0</td>\n",
              "      <td>0</td>\n",
              "      <td>0</td>\n",
              "    </tr>\n",
              "    <tr>\n",
              "      <th>3</th>\n",
              "      <td>4.1</td>\n",
              "      <td>11.0</td>\n",
              "      <td>0</td>\n",
              "      <td>0</td>\n",
              "      <td>0</td>\n",
              "      <td>1</td>\n",
              "      <td>0</td>\n",
              "      <td>0</td>\n",
              "      <td>0</td>\n",
              "      <td>0</td>\n",
              "      <td>0</td>\n",
              "      <td>0</td>\n",
              "      <td>0</td>\n",
              "      <td>0</td>\n",
              "      <td>0</td>\n",
              "      <td>0</td>\n",
              "      <td>0</td>\n",
              "      <td>0</td>\n",
              "      <td>0</td>\n",
              "      <td>0</td>\n",
              "      <td>0</td>\n",
              "      <td>0</td>\n",
              "      <td>0</td>\n",
              "      <td>0</td>\n",
              "      <td>1</td>\n",
              "      <td>0</td>\n",
              "      <td>0</td>\n",
              "      <td>0</td>\n",
              "      <td>0</td>\n",
              "      <td>0</td>\n",
              "    </tr>\n",
              "    <tr>\n",
              "      <th>4</th>\n",
              "      <td>4.4</td>\n",
              "      <td>9.0</td>\n",
              "      <td>0</td>\n",
              "      <td>0</td>\n",
              "      <td>0</td>\n",
              "      <td>0</td>\n",
              "      <td>0</td>\n",
              "      <td>0</td>\n",
              "      <td>1</td>\n",
              "      <td>0</td>\n",
              "      <td>0</td>\n",
              "      <td>0</td>\n",
              "      <td>0</td>\n",
              "      <td>0</td>\n",
              "      <td>0</td>\n",
              "      <td>0</td>\n",
              "      <td>0</td>\n",
              "      <td>0</td>\n",
              "      <td>0</td>\n",
              "      <td>0</td>\n",
              "      <td>0</td>\n",
              "      <td>0</td>\n",
              "      <td>0</td>\n",
              "      <td>0</td>\n",
              "      <td>1</td>\n",
              "      <td>0</td>\n",
              "      <td>0</td>\n",
              "      <td>0</td>\n",
              "      <td>0</td>\n",
              "      <td>0</td>\n",
              "    </tr>\n",
              "  </tbody>\n",
              "</table>\n",
              "</div>"
            ],
            "text/plain": [
              "   Reviews  Ratings  ...  Edition_Spiral-bound  Edition_Tankobon Softcover\n",
              "0      4.4    960.0  ...                     0                           0\n",
              "1      5.0      1.0  ...                     0                           0\n",
              "2      5.0      4.0  ...                     0                           0\n",
              "3      4.1     11.0  ...                     0                           0\n",
              "4      4.4      9.0  ...                     0                           0\n",
              "\n",
              "[5 rows x 30 columns]"
            ]
          },
          "metadata": {
            "tags": []
          },
          "execution_count": 60
        }
      ]
    },
    {
      "cell_type": "markdown",
      "metadata": {
        "id": "BAkbjxgojgJh"
      },
      "source": [
        "##Prediction Methods##"
      ]
    },
    {
      "cell_type": "markdown",
      "metadata": {
        "id": "1x5owWboubGF"
      },
      "source": [
        "Split train and test data\n"
      ]
    },
    {
      "cell_type": "code",
      "metadata": {
        "id": "Qk5c9T64ubgJ"
      },
      "source": [
        "#y = train_data.pop('Price').to_numpy()\n",
        "#X = train_data.to_numpy()\n",
        "X = train.to_numpy()"
      ],
      "execution_count": 61,
      "outputs": []
    },
    {
      "cell_type": "markdown",
      "metadata": {
        "id": "BSB71Ok0uT_w"
      },
      "source": [
        "Import packages"
      ]
    },
    {
      "cell_type": "code",
      "metadata": {
        "id": "hoDaDxKNtIBM"
      },
      "source": [
        "from sklearn.linear_model import LinearRegression\n",
        "from sklearn.linear_model import Lasso\n",
        "from sklearn.linear_model import ElasticNet\n",
        "from sklearn.tree import DecisionTreeRegressor\n",
        "from sklearn.neighbors import KNeighborsRegressor\n",
        "from sklearn.ensemble import GradientBoostingRegressor\n",
        "from sklearn.ensemble import RandomForestRegressor\n",
        "from sklearn.svm import SVR\n",
        "from sklearn.svm import LinearSVR\n",
        "from sklearn.preprocessing import StandardScaler\n",
        "from sklearn.model_selection import KFold\n",
        "from sklearn.model_selection import cross_val_score\n",
        "from sklearn.metrics import mean_squared_error\n",
        "import warnings\n",
        "warnings.filterwarnings(\"ignore\")"
      ],
      "execution_count": 62,
      "outputs": []
    },
    {
      "cell_type": "markdown",
      "metadata": {
        "id": "_VVB_OhCuYfB"
      },
      "source": [
        "Create pipelines"
      ]
    },
    {
      "cell_type": "code",
      "metadata": {
        "id": "8oxkyjmEuTkt",
        "colab": {
          "base_uri": "https://localhost:8080/"
        },
        "outputId": "61745382-e202-43fd-e0a2-ee5249e8863d"
      },
      "source": [
        "from sklearn.pipeline import Pipeline\n",
        "pipelines = []\n",
        "pipelines.append(('ScaledLR', Pipeline([('Scaler', StandardScaler()),('LR',LinearRegression())])))\n",
        "pipelines.append(('ScaledLASSO', Pipeline([('Scaler', StandardScaler()),('LASSO', Lasso())])))\n",
        "pipelines.append(('ScaledEN', Pipeline([('Scaler', StandardScaler()),('EN', ElasticNet())])))\n",
        "pipelines.append(('ScaledKNN', Pipeline([('Scaler', StandardScaler()),('KNN', KNeighborsRegressor())])))\n",
        "pipelines.append(('ScaledDT', Pipeline([('Scaler', StandardScaler()),('DT', DecisionTreeRegressor())])))\n",
        "pipelines.append(('ScaledGBM', Pipeline([('Scaler', StandardScaler()),('GBM', GradientBoostingRegressor())])))\n",
        "pipelines.append(('ScaledRF', Pipeline([('Scaler', StandardScaler()),('RF',RandomForestRegressor())])))\n",
        "pipelines.append(('ScaledSVR', Pipeline([('Scaler', StandardScaler()),('SVR',SVR())])))\n",
        "results = []\n",
        "names = []\n",
        "for name, model in pipelines:\n",
        "    kfold = KFold(n_splits=10, random_state=21)\n",
        "    cv_results = cross_val_score(model, X, y, cv=kfold, scoring='neg_mean_squared_error')\n",
        "    results.append(cv_results)\n",
        "    names.append(name)\n",
        "    msg = \"%s: %f (%f)\" % (name,-cv_results.mean(), cv_results.std())\n",
        "    print(msg)\n",
        "\n"
      ],
      "execution_count": 63,
      "outputs": [
        {
          "output_type": "stream",
          "text": [
            "ScaledLR: 2597312547299649181244719104.000000 (4161845264878830528713719808.000000)\n",
            "ScaledLASSO: 118181.850988 (11478.745507)\n",
            "ScaledEN: 120839.022109 (11281.521337)\n",
            "ScaledKNN: 129847.576713 (12116.162043)\n",
            "ScaledDT: 171136.797576 (18384.819186)\n",
            "ScaledGBM: 113348.474166 (11943.697033)\n",
            "ScaledRF: 132340.883050 (11988.635959)\n",
            "ScaledSVR: 146012.696877 (13740.318026)\n"
          ],
          "name": "stdout"
        }
      ]
    },
    {
      "cell_type": "markdown",
      "metadata": {
        "id": "YYn-NOx4JJvm"
      },
      "source": [
        "Decision Tree Regressor\n",
        "\n",
        "\n",
        "*   One time run\n",
        "*   Not used to extract final results\n",
        "\n"
      ]
    },
    {
      "cell_type": "code",
      "metadata": {
        "id": "PBvLUau8JI8U",
        "colab": {
          "base_uri": "https://localhost:8080/",
          "height": 206
        },
        "outputId": "fd5a33b0-76c9-4e9a-e576-6db323a443ba"
      },
      "source": [
        "scaler = StandardScaler().fit(X)\n",
        "rescaled_X_train = scaler.transform(X)\n",
        "model = DecisionTreeRegressor()\n",
        "model.fit(rescaled_X_train, y)\n",
        "\n",
        "scaler = StandardScaler().fit(test)\n",
        "rescaled_X_test = scaler.transform(test)\n",
        "predictions = model.predict(rescaled_X_test)\n",
        "\n",
        "df_dt = pd.DataFrame(predictions.astype(int))\n",
        "df_dt.columns=['Price']\n",
        "filepath_dt = 'Predictions_DecisionTrees.xlsx'\n",
        "df_dt.to_excel(filepath_dt, index=False)\n",
        "df_dt.head()"
      ],
      "execution_count": 65,
      "outputs": [
        {
          "output_type": "execute_result",
          "data": {
            "text/html": [
              "<div>\n",
              "<style scoped>\n",
              "    .dataframe tbody tr th:only-of-type {\n",
              "        vertical-align: middle;\n",
              "    }\n",
              "\n",
              "    .dataframe tbody tr th {\n",
              "        vertical-align: top;\n",
              "    }\n",
              "\n",
              "    .dataframe thead th {\n",
              "        text-align: right;\n",
              "    }\n",
              "</style>\n",
              "<table border=\"1\" class=\"dataframe\">\n",
              "  <thead>\n",
              "    <tr style=\"text-align: right;\">\n",
              "      <th></th>\n",
              "      <th>Price</th>\n",
              "    </tr>\n",
              "  </thead>\n",
              "  <tbody>\n",
              "    <tr>\n",
              "      <th>0</th>\n",
              "      <td>488</td>\n",
              "    </tr>\n",
              "    <tr>\n",
              "      <th>1</th>\n",
              "      <td>478</td>\n",
              "    </tr>\n",
              "    <tr>\n",
              "      <th>2</th>\n",
              "      <td>150</td>\n",
              "    </tr>\n",
              "    <tr>\n",
              "      <th>3</th>\n",
              "      <td>1020</td>\n",
              "    </tr>\n",
              "    <tr>\n",
              "      <th>4</th>\n",
              "      <td>856</td>\n",
              "    </tr>\n",
              "  </tbody>\n",
              "</table>\n",
              "</div>"
            ],
            "text/plain": [
              "   Price\n",
              "0    488\n",
              "1    478\n",
              "2    150\n",
              "3   1020\n",
              "4    856"
            ]
          },
          "metadata": {
            "tags": []
          },
          "execution_count": 65
        }
      ]
    },
    {
      "cell_type": "markdown",
      "metadata": {
        "id": "G2SogEi7Htta"
      },
      "source": [
        "Gradient Boosting Regressor\n",
        "\n",
        "\n",
        "*   Used for the final results\n",
        "\n"
      ]
    },
    {
      "cell_type": "code",
      "metadata": {
        "id": "HCjDIffgIRq3",
        "colab": {
          "base_uri": "https://localhost:8080/"
        },
        "outputId": "9d9dc136-3aa1-4624-a323-e80a9882e480"
      },
      "source": [
        "best_lr = 0\n",
        "best_num_est = 0 \n",
        "best_mse = np.Infinity\n",
        "for num_estim in (50,60,70,80,90,100,110,120,130):\n",
        "    for lr in (0.01,0.03,0.05,0.1,0.3,0.5):\n",
        "        kfold = KFold(n_splits=10, random_state=21)\n",
        "        gbr = GradientBoostingRegressor(n_estimators=num_estim,learning_rate=lr)\n",
        "        cv_results = cross_val_score(gbr, X, y, cv=kfold, scoring='neg_mean_squared_error')\n",
        "        if -cv_results.mean() < best_mse:\n",
        "            best_lr = lr\n",
        "            best_num_est = num_estim\n",
        "            best_mse = -cv_results.mean()\n",
        "        msg = \"%s %s: %f (%f)\" % (num_estim,lr,-cv_results.mean(), cv_results.std())\n",
        "        print(msg)\n",
        "print(best_lr,best_num_est)"
      ],
      "execution_count": 66,
      "outputs": [
        {
          "output_type": "stream",
          "text": [
            "50 0.01: 134345.183986 (11769.401011)\n",
            "50 0.03: 122456.087000 (11345.468696)\n",
            "50 0.05: 117489.938746 (11289.466673)\n",
            "50 0.1: 113818.454854 (11597.652843)\n",
            "50 0.3: 113232.686921 (11578.615039)\n",
            "50 0.5: 115553.843750 (12271.215014)\n",
            "60 0.01: 132547.535333 (11733.908797)\n",
            "60 0.03: 120610.056587 (11334.162382)\n",
            "60 0.05: 116108.544880 (11297.018855)\n",
            "60 0.1: 113574.141224 (11670.937748)\n",
            "60 0.3: 113391.249062 (12322.457960)\n",
            "60 0.5: 115487.845142 (11974.257332)\n",
            "70 0.01: 130978.866306 (11671.908915)\n",
            "70 0.03: 119191.601788 (11313.946307)\n",
            "70 0.05: 115214.312080 (11445.463360)\n",
            "70 0.1: 113535.322722 (11816.312473)\n",
            "70 0.3: 113578.777685 (12122.502418)\n",
            "70 0.5: 116209.374971 (12506.650975)\n",
            "80 0.01: 129575.044327 (11630.772853)\n",
            "80 0.03: 117996.957328 (11323.850090)\n",
            "80 0.05: 114625.875413 (11495.371150)\n",
            "80 0.1: 113487.740663 (11820.529932)\n",
            "80 0.3: 114177.407434 (11621.263152)\n",
            "80 0.5: 116604.030719 (11755.526255)\n",
            "90 0.01: 128313.977578 (11575.732998)\n",
            "90 0.03: 117074.273909 (11367.279498)\n",
            "90 0.05: 114185.795375 (11540.819786)\n",
            "90 0.1: 113452.457982 (11845.076819)\n",
            "90 0.3: 113466.858683 (11148.926308)\n",
            "90 0.5: 117022.983573 (12319.283749)\n",
            "100 0.01: 127146.486651 (11535.683543)\n",
            "100 0.03: 116299.801213 (11419.992685)\n",
            "100 0.05: 113893.683293 (11549.359012)\n",
            "100 0.1: 113431.636995 (11945.878318)\n",
            "100 0.3: 113665.585690 (11645.927332)\n",
            "100 0.5: 117411.966525 (12260.276004)\n",
            "110 0.01: 126048.623311 (11492.958745)\n",
            "110 0.03: 115677.188789 (11468.690164)\n",
            "110 0.05: 113713.482277 (11657.011174)\n",
            "110 0.1: 113492.794969 (11977.730513)\n",
            "110 0.3: 113914.080277 (11509.995894)\n",
            "110 0.5: 118381.506661 (11680.799328)\n",
            "120 0.01: 125056.551614 (11447.322814)\n",
            "120 0.03: 115197.722244 (11509.392091)\n",
            "120 0.05: 113564.640249 (11721.582096)\n",
            "120 0.1: 113426.521974 (12041.143544)\n",
            "120 0.3: 114090.899369 (11647.186910)\n",
            "120 0.5: 118444.913605 (11696.215541)\n",
            "130 0.01: 124143.220567 (11423.462510)\n",
            "130 0.03: 114795.466161 (11542.293491)\n",
            "130 0.05: 113451.290346 (11745.609696)\n",
            "130 0.1: 113405.550969 (12003.734776)\n",
            "130 0.3: 114483.581344 (11334.971481)\n",
            "130 0.5: 118692.994549 (12539.028462)\n",
            "0.3 50\n"
          ],
          "name": "stdout"
        }
      ]
    },
    {
      "cell_type": "code",
      "metadata": {
        "id": "HKPeQ4qfvHFh",
        "colab": {
          "base_uri": "https://localhost:8080/",
          "height": 206
        },
        "outputId": "b4de2a7b-0655-4b86-90b6-1a8fa96dfa93"
      },
      "source": [
        "scaler = StandardScaler().fit(X)\n",
        "rescaled_X_train = scaler.transform(X)\n",
        "model = GradientBoostingRegressor(random_state=21, n_estimators=best_num_est, learning_rate= best_lr)\n",
        "model.fit(rescaled_X_train, y)\n",
        "\n",
        "scaler = StandardScaler().fit(test)\n",
        "rescaled_X_test = scaler.transform(test)\n",
        "predictions = model.predict(rescaled_X_test)\n",
        "\n",
        "df2 = pd.DataFrame(predictions.astype(int))\n",
        "df2.columns=['Price']\n",
        "df2['Price']= df2['Price']\n",
        "filepath2 = 'PredictionsGradientBoosting.xlsx'\n",
        "df2.to_excel(filepath2, index=False)\n",
        "df2.head()"
      ],
      "execution_count": 67,
      "outputs": [
        {
          "output_type": "execute_result",
          "data": {
            "text/html": [
              "<div>\n",
              "<style scoped>\n",
              "    .dataframe tbody tr th:only-of-type {\n",
              "        vertical-align: middle;\n",
              "    }\n",
              "\n",
              "    .dataframe tbody tr th {\n",
              "        vertical-align: top;\n",
              "    }\n",
              "\n",
              "    .dataframe thead th {\n",
              "        text-align: right;\n",
              "    }\n",
              "</style>\n",
              "<table border=\"1\" class=\"dataframe\">\n",
              "  <thead>\n",
              "    <tr style=\"text-align: right;\">\n",
              "      <th></th>\n",
              "      <th>Price</th>\n",
              "    </tr>\n",
              "  </thead>\n",
              "  <tbody>\n",
              "    <tr>\n",
              "      <th>0</th>\n",
              "      <td>418</td>\n",
              "    </tr>\n",
              "    <tr>\n",
              "      <th>1</th>\n",
              "      <td>809</td>\n",
              "    </tr>\n",
              "    <tr>\n",
              "      <th>2</th>\n",
              "      <td>414</td>\n",
              "    </tr>\n",
              "    <tr>\n",
              "      <th>3</th>\n",
              "      <td>678</td>\n",
              "    </tr>\n",
              "    <tr>\n",
              "      <th>4</th>\n",
              "      <td>391</td>\n",
              "    </tr>\n",
              "  </tbody>\n",
              "</table>\n",
              "</div>"
            ],
            "text/plain": [
              "   Price\n",
              "0    418\n",
              "1    809\n",
              "2    414\n",
              "3    678\n",
              "4    391"
            ]
          },
          "metadata": {
            "tags": []
          },
          "execution_count": 67
        }
      ]
    },
    {
      "cell_type": "markdown",
      "metadata": {
        "id": "35EG6H4PHyYs"
      },
      "source": [
        "Random Forest regressor\n",
        "\n",
        "\n",
        "*   Used for the final results\n",
        "\n",
        "\n"
      ]
    },
    {
      "cell_type": "code",
      "metadata": {
        "id": "cMP20SNE-bcS",
        "colab": {
          "base_uri": "https://localhost:8080/"
        },
        "outputId": "04649590-9c6c-4bae-e089-fad1e9843789"
      },
      "source": [
        "best_num_est = 0 \n",
        "best_mse = np.Infinity\n",
        "for num_estim in (50,60,70,80,90,100,110,120,130):\n",
        "        kfold = KFold(n_splits=10, random_state=21)\n",
        "        rf = RandomForestRegressor(n_estimators=num_estim,)\n",
        "        cv_results = cross_val_score(rf, X, y, cv=kfold, scoring='neg_mean_squared_error')\n",
        "        if -cv_results.mean() < best_mse:\n",
        "            best_num_est = num_estim\n",
        "            best_mse = -cv_results.mean()\n",
        "        msg = \"%s: %f (%f)\" % (num_estim,-cv_results.mean(), cv_results.std())\n",
        "        print(msg)\n",
        "print(best_num_est)"
      ],
      "execution_count": 68,
      "outputs": [
        {
          "output_type": "stream",
          "text": [
            "50: 132484.435623 (12731.425437)\n",
            "60: 131949.448766 (12991.717823)\n",
            "70: 132012.798534 (12854.686491)\n",
            "80: 132134.224066 (12406.613544)\n",
            "90: 131850.363441 (12760.776040)\n",
            "100: 131376.887050 (12711.704302)\n",
            "110: 131593.871013 (12906.605293)\n",
            "120: 132057.033283 (12894.302380)\n",
            "130: 131615.501966 (12253.356637)\n",
            "100\n"
          ],
          "name": "stdout"
        }
      ]
    },
    {
      "cell_type": "code",
      "metadata": {
        "id": "-6b_ltNoH0Q_",
        "colab": {
          "base_uri": "https://localhost:8080/",
          "height": 206
        },
        "outputId": "77e72494-8617-439b-e0e7-58b221904682"
      },
      "source": [
        "scaler = StandardScaler().fit(X)\n",
        "rescaled_X_train = scaler.transform(X)\n",
        "model = RandomForestRegressor(n_estimators=best_num_est)\n",
        "model.fit(rescaled_X_train, y)\n",
        "\n",
        "scaler = StandardScaler().fit(test)\n",
        "rescaled_X_test = scaler.transform(test)\n",
        "predictions = model.predict(rescaled_X_test)\n",
        "\n",
        "df3 = pd.DataFrame(predictions.astype(int))\n",
        "df3.columns=['Price']\n",
        "filepath3 = 'Predictions_RandomForest.xlsx'\n",
        "df3.to_excel(filepath3, index=False)\n",
        "df3.head()"
      ],
      "execution_count": 69,
      "outputs": [
        {
          "output_type": "execute_result",
          "data": {
            "text/html": [
              "<div>\n",
              "<style scoped>\n",
              "    .dataframe tbody tr th:only-of-type {\n",
              "        vertical-align: middle;\n",
              "    }\n",
              "\n",
              "    .dataframe tbody tr th {\n",
              "        vertical-align: top;\n",
              "    }\n",
              "\n",
              "    .dataframe thead th {\n",
              "        text-align: right;\n",
              "    }\n",
              "</style>\n",
              "<table border=\"1\" class=\"dataframe\">\n",
              "  <thead>\n",
              "    <tr style=\"text-align: right;\">\n",
              "      <th></th>\n",
              "      <th>Price</th>\n",
              "    </tr>\n",
              "  </thead>\n",
              "  <tbody>\n",
              "    <tr>\n",
              "      <th>0</th>\n",
              "      <td>379</td>\n",
              "    </tr>\n",
              "    <tr>\n",
              "      <th>1</th>\n",
              "      <td>700</td>\n",
              "    </tr>\n",
              "    <tr>\n",
              "      <th>2</th>\n",
              "      <td>201</td>\n",
              "    </tr>\n",
              "    <tr>\n",
              "      <th>3</th>\n",
              "      <td>1308</td>\n",
              "    </tr>\n",
              "    <tr>\n",
              "      <th>4</th>\n",
              "      <td>500</td>\n",
              "    </tr>\n",
              "  </tbody>\n",
              "</table>\n",
              "</div>"
            ],
            "text/plain": [
              "   Price\n",
              "0    379\n",
              "1    700\n",
              "2    201\n",
              "3   1308\n",
              "4    500"
            ]
          },
          "metadata": {
            "tags": []
          },
          "execution_count": 69
        }
      ]
    },
    {
      "cell_type": "markdown",
      "metadata": {
        "id": "YB2sJDICLCtA"
      },
      "source": [
        "KNeighbors Regressor\n",
        "*   One time run\n",
        "*   Not used to extract final results\n",
        "\n"
      ]
    },
    {
      "cell_type": "code",
      "metadata": {
        "id": "65P71E2jLFTf",
        "colab": {
          "base_uri": "https://localhost:8080/",
          "height": 206
        },
        "outputId": "3d629bcc-51ca-45a5-937f-4c832c330d62"
      },
      "source": [
        "scaler = StandardScaler().fit(X)\n",
        "rescaled_X_train = scaler.transform(X)\n",
        "model = KNeighborsRegressor()\n",
        "model.fit(rescaled_X_train, y)\n",
        "\n",
        "scaler = StandardScaler().fit(test)\n",
        "rescaled_X_test = scaler.transform(test)\n",
        "predictions = model.predict(rescaled_X_test)\n",
        "\n",
        "df4 = pd.DataFrame(predictions.astype(int))\n",
        "df4.columns=['Price']\n",
        "filepath4 = 'Predictions_KNeighbors.xlsx'\n",
        "df4.to_excel(filepath4, index=False)\n",
        "df4.head()"
      ],
      "execution_count": 70,
      "outputs": [
        {
          "output_type": "execute_result",
          "data": {
            "text/html": [
              "<div>\n",
              "<style scoped>\n",
              "    .dataframe tbody tr th:only-of-type {\n",
              "        vertical-align: middle;\n",
              "    }\n",
              "\n",
              "    .dataframe tbody tr th {\n",
              "        vertical-align: top;\n",
              "    }\n",
              "\n",
              "    .dataframe thead th {\n",
              "        text-align: right;\n",
              "    }\n",
              "</style>\n",
              "<table border=\"1\" class=\"dataframe\">\n",
              "  <thead>\n",
              "    <tr style=\"text-align: right;\">\n",
              "      <th></th>\n",
              "      <th>Price</th>\n",
              "    </tr>\n",
              "  </thead>\n",
              "  <tbody>\n",
              "    <tr>\n",
              "      <th>0</th>\n",
              "      <td>352</td>\n",
              "    </tr>\n",
              "    <tr>\n",
              "      <th>1</th>\n",
              "      <td>776</td>\n",
              "    </tr>\n",
              "    <tr>\n",
              "      <th>2</th>\n",
              "      <td>374</td>\n",
              "    </tr>\n",
              "    <tr>\n",
              "      <th>3</th>\n",
              "      <td>1548</td>\n",
              "    </tr>\n",
              "    <tr>\n",
              "      <th>4</th>\n",
              "      <td>518</td>\n",
              "    </tr>\n",
              "  </tbody>\n",
              "</table>\n",
              "</div>"
            ],
            "text/plain": [
              "   Price\n",
              "0    352\n",
              "1    776\n",
              "2    374\n",
              "3   1548\n",
              "4    518"
            ]
          },
          "metadata": {
            "tags": []
          },
          "execution_count": 70
        }
      ]
    },
    {
      "cell_type": "markdown",
      "metadata": {
        "id": "KFUsfysCMAqF"
      },
      "source": [
        "Elastic Net\n",
        "*   One time run\n",
        "*   Not used to extract final results\n",
        "\n"
      ]
    },
    {
      "cell_type": "code",
      "metadata": {
        "id": "jw2HN91eMBz7",
        "colab": {
          "base_uri": "https://localhost:8080/",
          "height": 206
        },
        "outputId": "eca37528-c64b-4ced-acdd-3ccbd28d7317"
      },
      "source": [
        "scaler = StandardScaler().fit(X)\n",
        "rescaled_X_train = scaler.transform(X)\n",
        "model = ElasticNet()\n",
        "model.fit(rescaled_X_train, y)\n",
        "\n",
        "scaler = StandardScaler().fit(test)\n",
        "rescaled_X_test = scaler.transform(test)\n",
        "predictions = model.predict(rescaled_X_test)\n",
        "\n",
        "df5 = pd.DataFrame(predictions.astype(int))\n",
        "df5.columns=['Price']\n",
        "filepath5 = 'Predictions_ElasticNet.xlsx'\n",
        "df5.to_excel(filepath5, index=False)\n",
        "df5.head()"
      ],
      "execution_count": 71,
      "outputs": [
        {
          "output_type": "execute_result",
          "data": {
            "text/html": [
              "<div>\n",
              "<style scoped>\n",
              "    .dataframe tbody tr th:only-of-type {\n",
              "        vertical-align: middle;\n",
              "    }\n",
              "\n",
              "    .dataframe tbody tr th {\n",
              "        vertical-align: top;\n",
              "    }\n",
              "\n",
              "    .dataframe thead th {\n",
              "        text-align: right;\n",
              "    }\n",
              "</style>\n",
              "<table border=\"1\" class=\"dataframe\">\n",
              "  <thead>\n",
              "    <tr style=\"text-align: right;\">\n",
              "      <th></th>\n",
              "      <th>Price</th>\n",
              "    </tr>\n",
              "  </thead>\n",
              "  <tbody>\n",
              "    <tr>\n",
              "      <th>0</th>\n",
              "      <td>230</td>\n",
              "    </tr>\n",
              "    <tr>\n",
              "      <th>1</th>\n",
              "      <td>648</td>\n",
              "    </tr>\n",
              "    <tr>\n",
              "      <th>2</th>\n",
              "      <td>392</td>\n",
              "    </tr>\n",
              "    <tr>\n",
              "      <th>3</th>\n",
              "      <td>609</td>\n",
              "    </tr>\n",
              "    <tr>\n",
              "      <th>4</th>\n",
              "      <td>410</td>\n",
              "    </tr>\n",
              "  </tbody>\n",
              "</table>\n",
              "</div>"
            ],
            "text/plain": [
              "   Price\n",
              "0    230\n",
              "1    648\n",
              "2    392\n",
              "3    609\n",
              "4    410"
            ]
          },
          "metadata": {
            "tags": []
          },
          "execution_count": 71
        }
      ]
    },
    {
      "cell_type": "markdown",
      "metadata": {
        "id": "pllMX3gAMn0J"
      },
      "source": [
        "Lasso\n",
        "*   One time run\n",
        "*   Not used to extract final results\n",
        "\n"
      ]
    },
    {
      "cell_type": "code",
      "metadata": {
        "id": "JfI1s-lyMo8T",
        "colab": {
          "base_uri": "https://localhost:8080/",
          "height": 206
        },
        "outputId": "eccd2334-0814-4afd-b28a-dab5f68bcc23"
      },
      "source": [
        "scaler = StandardScaler().fit(X)\n",
        "rescaled_X_train = scaler.transform(X)\n",
        "model = Lasso()\n",
        "model.fit(rescaled_X_train, y)\n",
        "\n",
        "scaler = StandardScaler().fit(test)\n",
        "rescaled_X_test = scaler.transform(test)\n",
        "predictions = model.predict(rescaled_X_test)\n",
        "\n",
        "df6 = pd.DataFrame(predictions.astype(int))\n",
        "df6.columns=['Price']\n",
        "filepath6 = 'Predictions_Lasso.xlsx'\n",
        "df6.to_excel(filepath6, index=False)\n",
        "df6.head()"
      ],
      "execution_count": 72,
      "outputs": [
        {
          "output_type": "execute_result",
          "data": {
            "text/html": [
              "<div>\n",
              "<style scoped>\n",
              "    .dataframe tbody tr th:only-of-type {\n",
              "        vertical-align: middle;\n",
              "    }\n",
              "\n",
              "    .dataframe tbody tr th {\n",
              "        vertical-align: top;\n",
              "    }\n",
              "\n",
              "    .dataframe thead th {\n",
              "        text-align: right;\n",
              "    }\n",
              "</style>\n",
              "<table border=\"1\" class=\"dataframe\">\n",
              "  <thead>\n",
              "    <tr style=\"text-align: right;\">\n",
              "      <th></th>\n",
              "      <th>Price</th>\n",
              "    </tr>\n",
              "  </thead>\n",
              "  <tbody>\n",
              "    <tr>\n",
              "      <th>0</th>\n",
              "      <td>167</td>\n",
              "    </tr>\n",
              "    <tr>\n",
              "      <th>1</th>\n",
              "      <td>733</td>\n",
              "    </tr>\n",
              "    <tr>\n",
              "      <th>2</th>\n",
              "      <td>371</td>\n",
              "    </tr>\n",
              "    <tr>\n",
              "      <th>3</th>\n",
              "      <td>679</td>\n",
              "    </tr>\n",
              "    <tr>\n",
              "      <th>4</th>\n",
              "      <td>391</td>\n",
              "    </tr>\n",
              "  </tbody>\n",
              "</table>\n",
              "</div>"
            ],
            "text/plain": [
              "   Price\n",
              "0    167\n",
              "1    733\n",
              "2    371\n",
              "3    679\n",
              "4    391"
            ]
          },
          "metadata": {
            "tags": []
          },
          "execution_count": 72
        }
      ]
    },
    {
      "cell_type": "markdown",
      "metadata": {
        "id": "xtR6cqYINEoF"
      },
      "source": [
        "Linear Regression\n",
        "*   One time run\n",
        "*   Not used to extract final results\n",
        "\n"
      ]
    },
    {
      "cell_type": "code",
      "metadata": {
        "id": "8WV8RLy2NGDV",
        "colab": {
          "base_uri": "https://localhost:8080/",
          "height": 206
        },
        "outputId": "7d20be53-385f-4cb9-ed0e-9a2dc3096ff3"
      },
      "source": [
        "scaler = StandardScaler().fit(X)\n",
        "rescaled_X_train = scaler.transform(X)\n",
        "model = LinearRegression()\n",
        "model.fit(rescaled_X_train, y)\n",
        "\n",
        "scaler = StandardScaler().fit(test)\n",
        "rescaled_X_test = scaler.transform(test)\n",
        "predictions = model.predict(rescaled_X_test)\n",
        "\n",
        "df7 = pd.DataFrame(predictions.astype(int))\n",
        "df7.columns=['Price']\n",
        "filepath7 = 'Predictions_LinearRegression.xlsx'\n",
        "df7.to_excel(filepath7, index=False)\n",
        "df7.head()"
      ],
      "execution_count": 73,
      "outputs": [
        {
          "output_type": "execute_result",
          "data": {
            "text/html": [
              "<div>\n",
              "<style scoped>\n",
              "    .dataframe tbody tr th:only-of-type {\n",
              "        vertical-align: middle;\n",
              "    }\n",
              "\n",
              "    .dataframe tbody tr th {\n",
              "        vertical-align: top;\n",
              "    }\n",
              "\n",
              "    .dataframe thead th {\n",
              "        text-align: right;\n",
              "    }\n",
              "</style>\n",
              "<table border=\"1\" class=\"dataframe\">\n",
              "  <thead>\n",
              "    <tr style=\"text-align: right;\">\n",
              "      <th></th>\n",
              "      <th>Price</th>\n",
              "    </tr>\n",
              "  </thead>\n",
              "  <tbody>\n",
              "    <tr>\n",
              "      <th>0</th>\n",
              "      <td>-68269733857</td>\n",
              "    </tr>\n",
              "    <tr>\n",
              "      <th>1</th>\n",
              "      <td>-38030632771</td>\n",
              "    </tr>\n",
              "    <tr>\n",
              "      <th>2</th>\n",
              "      <td>-38030633138</td>\n",
              "    </tr>\n",
              "    <tr>\n",
              "      <th>3</th>\n",
              "      <td>-38030632826</td>\n",
              "    </tr>\n",
              "    <tr>\n",
              "      <th>4</th>\n",
              "      <td>-38030633113</td>\n",
              "    </tr>\n",
              "  </tbody>\n",
              "</table>\n",
              "</div>"
            ],
            "text/plain": [
              "         Price\n",
              "0 -68269733857\n",
              "1 -38030632771\n",
              "2 -38030633138\n",
              "3 -38030632826\n",
              "4 -38030633113"
            ]
          },
          "metadata": {
            "tags": []
          },
          "execution_count": 73
        }
      ]
    },
    {
      "cell_type": "markdown",
      "metadata": {
        "id": "ro56pKQVBcTG"
      },
      "source": [
        "SVR"
      ]
    },
    {
      "cell_type": "code",
      "metadata": {
        "id": "_WGVO2uSBcBG",
        "outputId": "d8cf5e24-d27d-441d-e88e-3b7600397c5b",
        "colab": {
          "base_uri": "https://localhost:8080/",
          "height": 206
        }
      },
      "source": [
        "scaler = StandardScaler().fit(X)\n",
        "rescaled_X_train = scaler.transform(X)\n",
        "model = SVR()\n",
        "model.fit(rescaled_X_train, y)\n",
        "\n",
        "scaler = StandardScaler().fit(test)\n",
        "rescaled_X_test = scaler.transform(test)\n",
        "predictions = model.predict(rescaled_X_test)\n",
        "\n",
        "df8 = pd.DataFrame(predictions.astype(int))\n",
        "df8.columns=['Price']\n",
        "filepath8 = 'Predictions_SVR.xlsx'\n",
        "df8.to_excel(filepath8, index=False)\n",
        "df8.head()"
      ],
      "execution_count": 74,
      "outputs": [
        {
          "output_type": "execute_result",
          "data": {
            "text/html": [
              "<div>\n",
              "<style scoped>\n",
              "    .dataframe tbody tr th:only-of-type {\n",
              "        vertical-align: middle;\n",
              "    }\n",
              "\n",
              "    .dataframe tbody tr th {\n",
              "        vertical-align: top;\n",
              "    }\n",
              "\n",
              "    .dataframe thead th {\n",
              "        text-align: right;\n",
              "    }\n",
              "</style>\n",
              "<table border=\"1\" class=\"dataframe\">\n",
              "  <thead>\n",
              "    <tr style=\"text-align: right;\">\n",
              "      <th></th>\n",
              "      <th>Price</th>\n",
              "    </tr>\n",
              "  </thead>\n",
              "  <tbody>\n",
              "    <tr>\n",
              "      <th>0</th>\n",
              "      <td>389</td>\n",
              "    </tr>\n",
              "    <tr>\n",
              "      <th>1</th>\n",
              "      <td>439</td>\n",
              "    </tr>\n",
              "    <tr>\n",
              "      <th>2</th>\n",
              "      <td>322</td>\n",
              "    </tr>\n",
              "    <tr>\n",
              "      <th>3</th>\n",
              "      <td>420</td>\n",
              "    </tr>\n",
              "    <tr>\n",
              "      <th>4</th>\n",
              "      <td>343</td>\n",
              "    </tr>\n",
              "  </tbody>\n",
              "</table>\n",
              "</div>"
            ],
            "text/plain": [
              "   Price\n",
              "0    389\n",
              "1    439\n",
              "2    322\n",
              "3    420\n",
              "4    343"
            ]
          },
          "metadata": {
            "tags": []
          },
          "execution_count": 74
        }
      ]
    }
  ]
}