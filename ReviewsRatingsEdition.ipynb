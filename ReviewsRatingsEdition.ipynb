{
  "nbformat": 4,
  "nbformat_minor": 0,
  "metadata": {
    "colab": {
      "name": "Project.ipynb",
      "provenance": [],
      "collapsed_sections": [
        "lSZ9eR3V62Sl"
      ],
      "toc_visible": true,
      "include_colab_link": true
    },
    "kernelspec": {
      "name": "python3",
      "display_name": "Python 3"
    }
  },
  "cells": [
    {
      "cell_type": "markdown",
      "metadata": {
        "id": "view-in-github",
        "colab_type": "text"
      },
      "source": [
        "<a href=\"https://colab.research.google.com/github/schatz06/EPL448_Project/blob/main/ReviewsRatingsEdition.ipynb\" target=\"_parent\"><img src=\"https://colab.research.google.com/assets/colab-badge.svg\" alt=\"Open In Colab\"/></a>"
      ]
    },
    {
      "cell_type": "markdown",
      "metadata": {
        "id": "aEzG66o-6q4k"
      },
      "source": [
        "##Import Packages ## "
      ]
    },
    {
      "cell_type": "code",
      "metadata": {
        "id": "_w-zmPSb3hbo"
      },
      "source": [
        "import numpy as np \n",
        "import pandas as pd \n",
        "import matplotlib.pyplot as plt\n",
        "import sklearn\n",
        "from sklearn.preprocessing import MinMaxScaler\n",
        "from sklearn.preprocessing import PowerTransformer\n",
        "import pandas.plotting as pdplt"
      ],
      "execution_count": 1,
      "outputs": []
    },
    {
      "cell_type": "markdown",
      "metadata": {
        "id": "qZVs8QhC692H"
      },
      "source": [
        "##Read Data##"
      ]
    },
    {
      "cell_type": "code",
      "metadata": {
        "id": "e8JFrF547AWh"
      },
      "source": [
        "train_data = pd.read_excel('Data_Train.xlsx') # read training data\n",
        "test_data  = pd.read_excel('Data_Test.xlsx') # read test data"
      ],
      "execution_count": 2,
      "outputs": []
    },
    {
      "cell_type": "markdown",
      "metadata": {
        "id": "T_HnEvEW9Azg"
      },
      "source": [
        "Check for corrupted or empty records"
      ]
    },
    {
      "cell_type": "code",
      "metadata": {
        "colab": {
          "base_uri": "https://localhost:8080/"
        },
        "id": "RCJcTvO28eMw",
        "outputId": "81504b0c-5bd9-4c0d-d51d-b0e86959de97"
      },
      "source": [
        "print(\"Shape of train data\",train_data.shape,\"Problematic records in training data: \",train_data.isnull().sum().sum())\n",
        "print(\"Shape of test data\",test_data.shape,\"Problematic records in test data: \",test_data.isnull().sum().sum())"
      ],
      "execution_count": 3,
      "outputs": [
        {
          "output_type": "stream",
          "text": [
            "Shape of train data (6237, 9) Problematic records in training data:  0\n",
            "Shape of test data (1560, 8) Problematic records in test data:  0\n"
          ],
          "name": "stdout"
        }
      ]
    },
    {
      "cell_type": "markdown",
      "metadata": {
        "id": "kI7MFZS_-qOk"
      },
      "source": [
        "##Train Data Preprocessing##"
      ]
    },
    {
      "cell_type": "markdown",
      "metadata": {
        "id": "_4gcx2GexpaF"
      },
      "source": [
        "Peek of the data"
      ]
    },
    {
      "cell_type": "code",
      "metadata": {
        "id": "ZIPjvBKExr5N",
        "colab": {
          "base_uri": "https://localhost:8080/",
          "height": 293
        },
        "outputId": "daf301a5-199b-4392-c0c6-1f500b40e966"
      },
      "source": [
        "train_data.head()"
      ],
      "execution_count": 4,
      "outputs": [
        {
          "output_type": "execute_result",
          "data": {
            "text/html": [
              "<div>\n",
              "<style scoped>\n",
              "    .dataframe tbody tr th:only-of-type {\n",
              "        vertical-align: middle;\n",
              "    }\n",
              "\n",
              "    .dataframe tbody tr th {\n",
              "        vertical-align: top;\n",
              "    }\n",
              "\n",
              "    .dataframe thead th {\n",
              "        text-align: right;\n",
              "    }\n",
              "</style>\n",
              "<table border=\"1\" class=\"dataframe\">\n",
              "  <thead>\n",
              "    <tr style=\"text-align: right;\">\n",
              "      <th></th>\n",
              "      <th>Title</th>\n",
              "      <th>Author</th>\n",
              "      <th>Edition</th>\n",
              "      <th>Reviews</th>\n",
              "      <th>Ratings</th>\n",
              "      <th>Synopsis</th>\n",
              "      <th>Genre</th>\n",
              "      <th>BookCategory</th>\n",
              "      <th>Price</th>\n",
              "    </tr>\n",
              "  </thead>\n",
              "  <tbody>\n",
              "    <tr>\n",
              "      <th>0</th>\n",
              "      <td>The Prisoner's Gold (The Hunters 3)</td>\n",
              "      <td>Chris Kuzneski</td>\n",
              "      <td>Paperback,– 10 Mar 2016</td>\n",
              "      <td>4.0 out of 5 stars</td>\n",
              "      <td>8 customer reviews</td>\n",
              "      <td>THE HUNTERS return in their third brilliant no...</td>\n",
              "      <td>Action &amp; Adventure (Books)</td>\n",
              "      <td>Action &amp; Adventure</td>\n",
              "      <td>220.00</td>\n",
              "    </tr>\n",
              "    <tr>\n",
              "      <th>1</th>\n",
              "      <td>Guru Dutt: A Tragedy in Three Acts</td>\n",
              "      <td>Arun Khopkar</td>\n",
              "      <td>Paperback,– 7 Nov 2012</td>\n",
              "      <td>3.9 out of 5 stars</td>\n",
              "      <td>14 customer reviews</td>\n",
              "      <td>A layered portrait of a troubled genius for wh...</td>\n",
              "      <td>Cinema &amp; Broadcast (Books)</td>\n",
              "      <td>Biographies, Diaries &amp; True Accounts</td>\n",
              "      <td>202.93</td>\n",
              "    </tr>\n",
              "    <tr>\n",
              "      <th>2</th>\n",
              "      <td>Leviathan (Penguin Classics)</td>\n",
              "      <td>Thomas Hobbes</td>\n",
              "      <td>Paperback,– 25 Feb 1982</td>\n",
              "      <td>4.8 out of 5 stars</td>\n",
              "      <td>6 customer reviews</td>\n",
              "      <td>\"During the time men live without a common Pow...</td>\n",
              "      <td>International Relations</td>\n",
              "      <td>Humour</td>\n",
              "      <td>299.00</td>\n",
              "    </tr>\n",
              "    <tr>\n",
              "      <th>3</th>\n",
              "      <td>A Pocket Full of Rye (Miss Marple)</td>\n",
              "      <td>Agatha Christie</td>\n",
              "      <td>Paperback,– 5 Oct 2017</td>\n",
              "      <td>4.1 out of 5 stars</td>\n",
              "      <td>13 customer reviews</td>\n",
              "      <td>A handful of grain is found in the pocket of a...</td>\n",
              "      <td>Contemporary Fiction (Books)</td>\n",
              "      <td>Crime, Thriller &amp; Mystery</td>\n",
              "      <td>180.00</td>\n",
              "    </tr>\n",
              "    <tr>\n",
              "      <th>4</th>\n",
              "      <td>LIFE 70 Years of Extraordinary Photography</td>\n",
              "      <td>Editors of Life</td>\n",
              "      <td>Hardcover,– 10 Oct 2006</td>\n",
              "      <td>5.0 out of 5 stars</td>\n",
              "      <td>1 customer review</td>\n",
              "      <td>For seven decades, \"Life\" has been thrilling t...</td>\n",
              "      <td>Photography Textbooks</td>\n",
              "      <td>Arts, Film &amp; Photography</td>\n",
              "      <td>965.62</td>\n",
              "    </tr>\n",
              "  </tbody>\n",
              "</table>\n",
              "</div>"
            ],
            "text/plain": [
              "                                        Title  ...   Price\n",
              "0         The Prisoner's Gold (The Hunters 3)  ...  220.00\n",
              "1          Guru Dutt: A Tragedy in Three Acts  ...  202.93\n",
              "2                Leviathan (Penguin Classics)  ...  299.00\n",
              "3          A Pocket Full of Rye (Miss Marple)  ...  180.00\n",
              "4  LIFE 70 Years of Extraordinary Photography  ...  965.62\n",
              "\n",
              "[5 rows x 9 columns]"
            ]
          },
          "metadata": {
            "tags": []
          },
          "execution_count": 4
        }
      ]
    },
    {
      "cell_type": "markdown",
      "metadata": {
        "id": "XbiMRVP7yP31"
      },
      "source": [
        "Statistical summary"
      ]
    },
    {
      "cell_type": "code",
      "metadata": {
        "id": "FqBEEmyayR-y",
        "colab": {
          "base_uri": "https://localhost:8080/"
        },
        "outputId": "b95c4453-a90f-4547-aa15-841d305d3af7"
      },
      "source": [
        "print(train_data.describe())"
      ],
      "execution_count": 5,
      "outputs": [
        {
          "output_type": "stream",
          "text": [
            "              Price\n",
            "count   6237.000000\n",
            "mean     560.707516\n",
            "std      690.110657\n",
            "min       25.000000\n",
            "25%      249.180000\n",
            "50%      373.000000\n",
            "75%      599.000000\n",
            "max    14100.000000\n"
          ],
          "name": "stdout"
        }
      ]
    },
    {
      "cell_type": "markdown",
      "metadata": {
        "id": "Kx7l64_j_lqA"
      },
      "source": [
        "Price box plot"
      ]
    },
    {
      "cell_type": "code",
      "metadata": {
        "colab": {
          "base_uri": "https://localhost:8080/",
          "height": 1000
        },
        "id": "vUWPlEfM_ne6",
        "outputId": "e0b323aa-71e1-4a75-8396-a2aa336c49cf"
      },
      "source": [
        "plt.boxplot(train_data['Price'])\n",
        "plt.show()\n",
        "plt.hist(train_data['Price'])\n",
        "plt.show()\n",
        "median = np.percentile(train_data.Price,50)  # median\n",
        "std = train_data.Price.std() # standard deviation \n",
        "train_data = train_data.drop(train_data[ train_data.Price > (median+3*std)].index) # drop \"outliers \" that are > median + 3*std\n",
        "plt.boxplot(train_data['Price'])\n",
        "plt.show()\n",
        "plt.hist(train_data['Price'])\n",
        "plt.show()"
      ],
      "execution_count": 6,
      "outputs": [
        {
          "output_type": "display_data",
          "data": {
            "image/png": "[encoded data removed]",
            "text/plain": [
              "<Figure size 432x288 with 1 Axes>"
            ]
          },
          "metadata": {
            "tags": [],
            "needs_background": "light"
          }
        },
        {
          "output_type": "display_data",
          "data": {
            "image/png": "[encoded data removed]",
            "text/plain": [
              "<Figure size 432x288 with 1 Axes>"
            ]
          },
          "metadata": {
            "tags": [],
            "needs_background": "light"
          }
        },
        {
          "output_type": "display_data",
          "data": {
            "image/png": "[encoded data removed]",
            "text/plain": [
              "<Figure size 432x288 with 1 Axes>"
            ]
          },
          "metadata": {
            "tags": [],
            "needs_background": "light"
          }
        },
        {
          "output_type": "display_data",
          "data": {
            "image/png": "[encoded data removed]",
            "text/plain": [
              "<Figure size 432x288 with 1 Axes>"
            ]
          },
          "metadata": {
            "tags": [],
            "needs_background": "light"
          }
        }
      ]
    },
    {
      "cell_type": "code",
      "metadata": {
        "id": "MFeMcsfb5-bs",
        "colab": {
          "base_uri": "https://localhost:8080/",
          "height": 300
        },
        "outputId": "0a456b3f-a593-4546-dc6c-9e6d01446adb"
      },
      "source": [
        "train_data.describe()"
      ],
      "execution_count": 7,
      "outputs": [
        {
          "output_type": "execute_result",
          "data": {
            "text/html": [
              "<div>\n",
              "<style scoped>\n",
              "    .dataframe tbody tr th:only-of-type {\n",
              "        vertical-align: middle;\n",
              "    }\n",
              "\n",
              "    .dataframe tbody tr th {\n",
              "        vertical-align: top;\n",
              "    }\n",
              "\n",
              "    .dataframe thead th {\n",
              "        text-align: right;\n",
              "    }\n",
              "</style>\n",
              "<table border=\"1\" class=\"dataframe\">\n",
              "  <thead>\n",
              "    <tr style=\"text-align: right;\">\n",
              "      <th></th>\n",
              "      <th>Price</th>\n",
              "    </tr>\n",
              "  </thead>\n",
              "  <tbody>\n",
              "    <tr>\n",
              "      <th>count</th>\n",
              "      <td>6105.000000</td>\n",
              "    </tr>\n",
              "    <tr>\n",
              "      <th>mean</th>\n",
              "      <td>487.640822</td>\n",
              "    </tr>\n",
              "    <tr>\n",
              "      <th>std</th>\n",
              "      <td>384.816876</td>\n",
              "    </tr>\n",
              "    <tr>\n",
              "      <th>min</th>\n",
              "      <td>25.000000</td>\n",
              "    </tr>\n",
              "    <tr>\n",
              "      <th>25%</th>\n",
              "      <td>248.000000</td>\n",
              "    </tr>\n",
              "    <tr>\n",
              "      <th>50%</th>\n",
              "      <td>369.000000</td>\n",
              "    </tr>\n",
              "    <tr>\n",
              "      <th>75%</th>\n",
              "      <td>579.000000</td>\n",
              "    </tr>\n",
              "    <tr>\n",
              "      <th>max</th>\n",
              "      <td>2442.000000</td>\n",
              "    </tr>\n",
              "  </tbody>\n",
              "</table>\n",
              "</div>"
            ],
            "text/plain": [
              "             Price\n",
              "count  6105.000000\n",
              "mean    487.640822\n",
              "std     384.816876\n",
              "min      25.000000\n",
              "25%     248.000000\n",
              "50%     369.000000\n",
              "75%     579.000000\n",
              "max    2442.000000"
            ]
          },
          "metadata": {
            "tags": []
          },
          "execution_count": 7
        }
      ]
    },
    {
      "cell_type": "markdown",
      "metadata": {
        "id": "NrRn8uZQF7sA"
      },
      "source": [
        "Reviews Normalization"
      ]
    },
    {
      "cell_type": "code",
      "metadata": {
        "id": "pAEN8VBk-ttV",
        "colab": {
          "base_uri": "https://localhost:8080/",
          "height": 513
        },
        "outputId": "8193e09c-cbf9-4d46-f929-bd3a9995005e"
      },
      "source": [
        "train_data['Reviews'] = train_data.Reviews.apply(lambda r: float(r.split()[0])) # get only the review rule \n",
        "plt.boxplot(train_data['Reviews'])\n",
        "plt.show()\n",
        "plt.hist(train_data['Reviews'])\n",
        "plt.show()"
      ],
      "execution_count": 8,
      "outputs": [
        {
          "output_type": "display_data",
          "data": {
            "image/png": "[encoded data removed]",
            "text/plain": [
              "<Figure size 432x288 with 1 Axes>"
            ]
          },
          "metadata": {
            "tags": [],
            "needs_background": "light"
          }
        },
        {
          "output_type": "display_data",
          "data": {
            "image/png": "[encoded data removed]",
            "text/plain": [
              "<Figure size 432x288 with 1 Axes>"
            ]
          },
          "metadata": {
            "tags": [],
            "needs_background": "light"
          }
        }
      ]
    },
    {
      "cell_type": "markdown",
      "metadata": {
        "id": "1RVGKZheJ7tw"
      },
      "source": [
        "Ratings Normalization"
      ]
    },
    {
      "cell_type": "code",
      "metadata": {
        "id": "gfja3WZ6J_TZ",
        "colab": {
          "base_uri": "https://localhost:8080/",
          "height": 513
        },
        "outputId": "b1339353-5a4a-4501-98cb-a700c0213ee5"
      },
      "source": [
        "train_data['Ratings'] = train_data.Ratings.apply(lambda r: float(r.split()[0].replace(',',''))) # get only the rating \n",
        "plt.boxplot(train_data['Ratings'])\n",
        "plt.show()\n",
        "plt.hist(train_data['Ratings'])\n",
        "plt.show()"
      ],
      "execution_count": 9,
      "outputs": [
        {
          "output_type": "display_data",
          "data": {
            "image/png": "[encoded data removed]",
            "text/plain": [
              "<Figure size 432x288 with 1 Axes>"
            ]
          },
          "metadata": {
            "tags": [],
            "needs_background": "light"
          }
        },
        {
          "output_type": "display_data",
          "data": {
            "image/png": "[encoded data removed]",
            "text/plain": [
              "<Figure size 432x288 with 1 Axes>"
            ]
          },
          "metadata": {
            "tags": [],
            "needs_background": "light"
          }
        }
      ]
    },
    {
      "cell_type": "markdown",
      "metadata": {
        "id": "0zfAjj-9NAjj"
      },
      "source": [
        "Drop Title & Author & Synopsis & Genre columns"
      ]
    },
    {
      "cell_type": "code",
      "metadata": {
        "id": "-rYTtCQMNDsQ",
        "colab": {
          "base_uri": "https://localhost:8080/"
        },
        "outputId": "ab495d2a-4034-422e-c2e4-37289e09bee5"
      },
      "source": [
        "train_data.pop('Author')\n",
        "train_data.pop('Title')\n",
        "train_data.pop('Synopsis')\n",
        "train_data.pop('Genre')"
      ],
      "execution_count": 10,
      "outputs": [
        {
          "output_type": "execute_result",
          "data": {
            "text/plain": [
              "0         Action & Adventure (Books)\n",
              "1         Cinema & Broadcast (Books)\n",
              "2            International Relations\n",
              "3       Contemporary Fiction (Books)\n",
              "4              Photography Textbooks\n",
              "                    ...             \n",
              "6232            Anthropology (Books)\n",
              "6233    Contemporary Fiction (Books)\n",
              "6234                 Romance (Books)\n",
              "6235      Action & Adventure (Books)\n",
              "6236      Action & Adventure (Books)\n",
              "Name: Genre, Length: 6105, dtype: object"
            ]
          },
          "metadata": {
            "tags": []
          },
          "execution_count": 10
        }
      ]
    },
    {
      "cell_type": "markdown",
      "metadata": {
        "id": "q0BSBRuKP_ro"
      },
      "source": [
        "Edition Normalization / Drop edition"
      ]
    },
    {
      "cell_type": "code",
      "metadata": {
        "id": "wk1NmTiZQC0S"
      },
      "source": [
        "train_data['Edition'] = train_data['Edition'].apply(lambda x: x.split(',')[0])"
      ],
      "execution_count": 11,
      "outputs": []
    },
    {
      "cell_type": "code",
      "metadata": {
        "colab": {
          "base_uri": "https://localhost:8080/",
          "height": 206
        },
        "id": "fTwxG8pYK5jg",
        "outputId": "51f44381-655f-4bb4-f1f7-4e01d0a72542"
      },
      "source": [
        "train_data.head()"
      ],
      "execution_count": 12,
      "outputs": [
        {
          "output_type": "execute_result",
          "data": {
            "text/html": [
              "<div>\n",
              "<style scoped>\n",
              "    .dataframe tbody tr th:only-of-type {\n",
              "        vertical-align: middle;\n",
              "    }\n",
              "\n",
              "    .dataframe tbody tr th {\n",
              "        vertical-align: top;\n",
              "    }\n",
              "\n",
              "    .dataframe thead th {\n",
              "        text-align: right;\n",
              "    }\n",
              "</style>\n",
              "<table border=\"1\" class=\"dataframe\">\n",
              "  <thead>\n",
              "    <tr style=\"text-align: right;\">\n",
              "      <th></th>\n",
              "      <th>Edition</th>\n",
              "      <th>Reviews</th>\n",
              "      <th>Ratings</th>\n",
              "      <th>BookCategory</th>\n",
              "      <th>Price</th>\n",
              "    </tr>\n",
              "  </thead>\n",
              "  <tbody>\n",
              "    <tr>\n",
              "      <th>0</th>\n",
              "      <td>Paperback</td>\n",
              "      <td>4.0</td>\n",
              "      <td>8.0</td>\n",
              "      <td>Action &amp; Adventure</td>\n",
              "      <td>220.00</td>\n",
              "    </tr>\n",
              "    <tr>\n",
              "      <th>1</th>\n",
              "      <td>Paperback</td>\n",
              "      <td>3.9</td>\n",
              "      <td>14.0</td>\n",
              "      <td>Biographies, Diaries &amp; True Accounts</td>\n",
              "      <td>202.93</td>\n",
              "    </tr>\n",
              "    <tr>\n",
              "      <th>2</th>\n",
              "      <td>Paperback</td>\n",
              "      <td>4.8</td>\n",
              "      <td>6.0</td>\n",
              "      <td>Humour</td>\n",
              "      <td>299.00</td>\n",
              "    </tr>\n",
              "    <tr>\n",
              "      <th>3</th>\n",
              "      <td>Paperback</td>\n",
              "      <td>4.1</td>\n",
              "      <td>13.0</td>\n",
              "      <td>Crime, Thriller &amp; Mystery</td>\n",
              "      <td>180.00</td>\n",
              "    </tr>\n",
              "    <tr>\n",
              "      <th>4</th>\n",
              "      <td>Hardcover</td>\n",
              "      <td>5.0</td>\n",
              "      <td>1.0</td>\n",
              "      <td>Arts, Film &amp; Photography</td>\n",
              "      <td>965.62</td>\n",
              "    </tr>\n",
              "  </tbody>\n",
              "</table>\n",
              "</div>"
            ],
            "text/plain": [
              "     Edition  Reviews  Ratings                          BookCategory   Price\n",
              "0  Paperback      4.0      8.0                    Action & Adventure  220.00\n",
              "1  Paperback      3.9     14.0  Biographies, Diaries & True Accounts  202.93\n",
              "2  Paperback      4.8      6.0                                Humour  299.00\n",
              "3  Paperback      4.1     13.0             Crime, Thriller & Mystery  180.00\n",
              "4  Hardcover      5.0      1.0              Arts, Film & Photography  965.62"
            ]
          },
          "metadata": {
            "tags": []
          },
          "execution_count": 12
        }
      ]
    },
    {
      "cell_type": "markdown",
      "metadata": {
        "id": "CJPpUrNZilDE"
      },
      "source": [
        "Book Category Normalization / Extract Categories"
      ]
    },
    {
      "cell_type": "code",
      "metadata": {
        "id": "2YMm7wBoi0Bf",
        "colab": {
          "base_uri": "https://localhost:8080/"
        },
        "outputId": "3e805b5b-9b9c-4108-df27-9e37ae22fdd1"
      },
      "source": [
        "train_data.pop('BookCategory')"
      ],
      "execution_count": 13,
      "outputs": [
        {
          "output_type": "execute_result",
          "data": {
            "text/plain": [
              "0                         Action & Adventure\n",
              "1       Biographies, Diaries & True Accounts\n",
              "2                                     Humour\n",
              "3                  Crime, Thriller & Mystery\n",
              "4                   Arts, Film & Photography\n",
              "                        ...                 \n",
              "6232                                  Humour\n",
              "6233               Crime, Thriller & Mystery\n",
              "6234                                 Romance\n",
              "6235                      Action & Adventure\n",
              "6236                      Action & Adventure\n",
              "Name: BookCategory, Length: 6105, dtype: object"
            ]
          },
          "metadata": {
            "tags": []
          },
          "execution_count": 13
        }
      ]
    },
    {
      "cell_type": "markdown",
      "metadata": {
        "id": "J9_VvYKToPrq"
      },
      "source": [
        "Finish training inputs(z)"
      ]
    },
    {
      "cell_type": "code",
      "metadata": {
        "id": "Bd__7oEcnzIe"
      },
      "source": [
        "z = train_data"
      ],
      "execution_count": 14,
      "outputs": []
    },
    {
      "cell_type": "code",
      "metadata": {
        "colab": {
          "base_uri": "https://localhost:8080/",
          "height": 206
        },
        "id": "u68uHxTKn8pS",
        "outputId": "954ca961-0cf1-4d20-efd7-60c8752dc8d3"
      },
      "source": [
        "train_data.head()"
      ],
      "execution_count": 15,
      "outputs": [
        {
          "output_type": "execute_result",
          "data": {
            "text/html": [
              "<div>\n",
              "<style scoped>\n",
              "    .dataframe tbody tr th:only-of-type {\n",
              "        vertical-align: middle;\n",
              "    }\n",
              "\n",
              "    .dataframe tbody tr th {\n",
              "        vertical-align: top;\n",
              "    }\n",
              "\n",
              "    .dataframe thead th {\n",
              "        text-align: right;\n",
              "    }\n",
              "</style>\n",
              "<table border=\"1\" class=\"dataframe\">\n",
              "  <thead>\n",
              "    <tr style=\"text-align: right;\">\n",
              "      <th></th>\n",
              "      <th>Edition</th>\n",
              "      <th>Reviews</th>\n",
              "      <th>Ratings</th>\n",
              "      <th>Price</th>\n",
              "    </tr>\n",
              "  </thead>\n",
              "  <tbody>\n",
              "    <tr>\n",
              "      <th>0</th>\n",
              "      <td>Paperback</td>\n",
              "      <td>4.0</td>\n",
              "      <td>8.0</td>\n",
              "      <td>220.00</td>\n",
              "    </tr>\n",
              "    <tr>\n",
              "      <th>1</th>\n",
              "      <td>Paperback</td>\n",
              "      <td>3.9</td>\n",
              "      <td>14.0</td>\n",
              "      <td>202.93</td>\n",
              "    </tr>\n",
              "    <tr>\n",
              "      <th>2</th>\n",
              "      <td>Paperback</td>\n",
              "      <td>4.8</td>\n",
              "      <td>6.0</td>\n",
              "      <td>299.00</td>\n",
              "    </tr>\n",
              "    <tr>\n",
              "      <th>3</th>\n",
              "      <td>Paperback</td>\n",
              "      <td>4.1</td>\n",
              "      <td>13.0</td>\n",
              "      <td>180.00</td>\n",
              "    </tr>\n",
              "    <tr>\n",
              "      <th>4</th>\n",
              "      <td>Hardcover</td>\n",
              "      <td>5.0</td>\n",
              "      <td>1.0</td>\n",
              "      <td>965.62</td>\n",
              "    </tr>\n",
              "  </tbody>\n",
              "</table>\n",
              "</div>"
            ],
            "text/plain": [
              "     Edition  Reviews  Ratings   Price\n",
              "0  Paperback      4.0      8.0  220.00\n",
              "1  Paperback      3.9     14.0  202.93\n",
              "2  Paperback      4.8      6.0  299.00\n",
              "3  Paperback      4.1     13.0  180.00\n",
              "4  Hardcover      5.0      1.0  965.62"
            ]
          },
          "metadata": {
            "tags": []
          },
          "execution_count": 15
        }
      ]
    },
    {
      "cell_type": "markdown",
      "metadata": {
        "id": "8HlOsPmfomM_"
      },
      "source": [
        "##Test Data Preprocessing##"
      ]
    },
    {
      "cell_type": "markdown",
      "metadata": {
        "id": "p6g0wsKgpNB7"
      },
      "source": [
        "Reviews Normalization"
      ]
    },
    {
      "cell_type": "code",
      "metadata": {
        "id": "xHvVloNcowkL"
      },
      "source": [
        "test_data['Reviews'] = test_data.Reviews.apply(lambda r: float(r.split()[0])) # get only the review rule  "
      ],
      "execution_count": 16,
      "outputs": []
    },
    {
      "cell_type": "markdown",
      "metadata": {
        "id": "6AhUA_qjpP0_"
      },
      "source": [
        "Ratings Normalization"
      ]
    },
    {
      "cell_type": "code",
      "metadata": {
        "id": "usjQWRpBpRvG"
      },
      "source": [
        "test_data['Ratings'] = test_data.Ratings.apply(lambda r: float(r.split()[0].replace(',',''))) # get only the rating "
      ],
      "execution_count": 17,
      "outputs": []
    },
    {
      "cell_type": "markdown",
      "metadata": {
        "id": "ioo8hl6apgRW"
      },
      "source": [
        "Drop Title & Synopsis columns"
      ]
    },
    {
      "cell_type": "code",
      "metadata": {
        "colab": {
          "base_uri": "https://localhost:8080/"
        },
        "id": "nPuONcnkpgu5",
        "outputId": "731806e8-6e27-45f6-e82d-a342584595fc"
      },
      "source": [
        "test_data.pop('Title')\n",
        "test_data.pop('Synopsis')\n",
        "test_data.pop('Author')\n",
        "test_data.pop('Genre')"
      ],
      "execution_count": 18,
      "outputs": [
        {
          "output_type": "execute_result",
          "data": {
            "text/plain": [
              "0                            Short Stories (Books)\n",
              "1                      Operating Systems Textbooks\n",
              "2                                  Romance (Books)\n",
              "3       Programming & Software Development (Books)\n",
              "4                              Linguistics (Books)\n",
              "                           ...                    \n",
              "1555                                        Design\n",
              "1556                  Children's Reference (Books)\n",
              "1557                                Humour (Books)\n",
              "1558                         United States History\n",
              "1559                                  Dictionaries\n",
              "Name: Genre, Length: 1560, dtype: object"
            ]
          },
          "metadata": {
            "tags": []
          },
          "execution_count": 18
        }
      ]
    },
    {
      "cell_type": "markdown",
      "metadata": {
        "id": "JU-2_lAVpo3b"
      },
      "source": [
        "Edition Normalization / Drop edition "
      ]
    },
    {
      "cell_type": "code",
      "metadata": {
        "id": "tXHrEkgEpq7A"
      },
      "source": [
        "test_data['Edition'] = test_data['Edition'].apply(lambda x: x.split(',')[0])"
      ],
      "execution_count": 19,
      "outputs": []
    },
    {
      "cell_type": "code",
      "metadata": {
        "colab": {
          "base_uri": "https://localhost:8080/",
          "height": 206
        },
        "id": "GngcnxzHMoz2",
        "outputId": "0c6e8978-91b4-4139-ae24-6f15ca15eeae"
      },
      "source": [
        "test_data.head()"
      ],
      "execution_count": 20,
      "outputs": [
        {
          "output_type": "execute_result",
          "data": {
            "text/html": [
              "<div>\n",
              "<style scoped>\n",
              "    .dataframe tbody tr th:only-of-type {\n",
              "        vertical-align: middle;\n",
              "    }\n",
              "\n",
              "    .dataframe tbody tr th {\n",
              "        vertical-align: top;\n",
              "    }\n",
              "\n",
              "    .dataframe thead th {\n",
              "        text-align: right;\n",
              "    }\n",
              "</style>\n",
              "<table border=\"1\" class=\"dataframe\">\n",
              "  <thead>\n",
              "    <tr style=\"text-align: right;\">\n",
              "      <th></th>\n",
              "      <th>Edition</th>\n",
              "      <th>Reviews</th>\n",
              "      <th>Ratings</th>\n",
              "      <th>BookCategory</th>\n",
              "    </tr>\n",
              "  </thead>\n",
              "  <tbody>\n",
              "    <tr>\n",
              "      <th>0</th>\n",
              "      <td>Mass Market Paperback</td>\n",
              "      <td>4.4</td>\n",
              "      <td>960.0</td>\n",
              "      <td>Crime, Thriller &amp; Mystery</td>\n",
              "    </tr>\n",
              "    <tr>\n",
              "      <th>1</th>\n",
              "      <td>Paperback</td>\n",
              "      <td>5.0</td>\n",
              "      <td>1.0</td>\n",
              "      <td>Computing, Internet &amp; Digital Media</td>\n",
              "    </tr>\n",
              "    <tr>\n",
              "      <th>2</th>\n",
              "      <td>Paperback</td>\n",
              "      <td>5.0</td>\n",
              "      <td>4.0</td>\n",
              "      <td>Romance</td>\n",
              "    </tr>\n",
              "    <tr>\n",
              "      <th>3</th>\n",
              "      <td>Paperback</td>\n",
              "      <td>4.1</td>\n",
              "      <td>11.0</td>\n",
              "      <td>Computing, Internet &amp; Digital Media</td>\n",
              "    </tr>\n",
              "    <tr>\n",
              "      <th>4</th>\n",
              "      <td>Paperback</td>\n",
              "      <td>4.4</td>\n",
              "      <td>9.0</td>\n",
              "      <td>Language, Linguistics &amp; Writing</td>\n",
              "    </tr>\n",
              "  </tbody>\n",
              "</table>\n",
              "</div>"
            ],
            "text/plain": [
              "                 Edition  Reviews  Ratings                         BookCategory\n",
              "0  Mass Market Paperback      4.4    960.0            Crime, Thriller & Mystery\n",
              "1              Paperback      5.0      1.0  Computing, Internet & Digital Media\n",
              "2              Paperback      5.0      4.0                              Romance\n",
              "3              Paperback      4.1     11.0  Computing, Internet & Digital Media\n",
              "4              Paperback      4.4      9.0      Language, Linguistics & Writing"
            ]
          },
          "metadata": {
            "tags": []
          },
          "execution_count": 20
        }
      ]
    },
    {
      "cell_type": "markdown",
      "metadata": {
        "id": "RguWaZQXp3Iz"
      },
      "source": [
        "Book Category Normalization / Extract Categories"
      ]
    },
    {
      "cell_type": "code",
      "metadata": {
        "id": "iSU2ovyBp3ju",
        "colab": {
          "base_uri": "https://localhost:8080/"
        },
        "outputId": "ae957d0f-c27f-43ba-f639-22d689f805d8"
      },
      "source": [
        "test_data.pop('BookCategory')"
      ],
      "execution_count": 21,
      "outputs": [
        {
          "output_type": "execute_result",
          "data": {
            "text/plain": [
              "0                  Crime, Thriller & Mystery\n",
              "1        Computing, Internet & Digital Media\n",
              "2                                    Romance\n",
              "3        Computing, Internet & Digital Media\n",
              "4            Language, Linguistics & Writing\n",
              "                        ...                 \n",
              "1555     Computing, Internet & Digital Media\n",
              "1556    Biographies, Diaries & True Accounts\n",
              "1557                                  Humour\n",
              "1558    Biographies, Diaries & True Accounts\n",
              "1559         Language, Linguistics & Writing\n",
              "Name: BookCategory, Length: 1560, dtype: object"
            ]
          },
          "metadata": {
            "tags": []
          },
          "execution_count": 21
        }
      ]
    },
    {
      "cell_type": "markdown",
      "metadata": {
        "id": "PgJqI6IKqDOg"
      },
      "source": [
        "Finish Test set Inputs"
      ]
    },
    {
      "cell_type": "code",
      "metadata": {
        "colab": {
          "base_uri": "https://localhost:8080/",
          "height": 206
        },
        "id": "XoEkL8CKqFGI",
        "outputId": "30f7398e-4007-4e11-eff5-bc298b059388"
      },
      "source": [
        "z_test = test_data\n",
        "z_test.head()"
      ],
      "execution_count": 22,
      "outputs": [
        {
          "output_type": "execute_result",
          "data": {
            "text/html": [
              "<div>\n",
              "<style scoped>\n",
              "    .dataframe tbody tr th:only-of-type {\n",
              "        vertical-align: middle;\n",
              "    }\n",
              "\n",
              "    .dataframe tbody tr th {\n",
              "        vertical-align: top;\n",
              "    }\n",
              "\n",
              "    .dataframe thead th {\n",
              "        text-align: right;\n",
              "    }\n",
              "</style>\n",
              "<table border=\"1\" class=\"dataframe\">\n",
              "  <thead>\n",
              "    <tr style=\"text-align: right;\">\n",
              "      <th></th>\n",
              "      <th>Edition</th>\n",
              "      <th>Reviews</th>\n",
              "      <th>Ratings</th>\n",
              "    </tr>\n",
              "  </thead>\n",
              "  <tbody>\n",
              "    <tr>\n",
              "      <th>0</th>\n",
              "      <td>Mass Market Paperback</td>\n",
              "      <td>4.4</td>\n",
              "      <td>960.0</td>\n",
              "    </tr>\n",
              "    <tr>\n",
              "      <th>1</th>\n",
              "      <td>Paperback</td>\n",
              "      <td>5.0</td>\n",
              "      <td>1.0</td>\n",
              "    </tr>\n",
              "    <tr>\n",
              "      <th>2</th>\n",
              "      <td>Paperback</td>\n",
              "      <td>5.0</td>\n",
              "      <td>4.0</td>\n",
              "    </tr>\n",
              "    <tr>\n",
              "      <th>3</th>\n",
              "      <td>Paperback</td>\n",
              "      <td>4.1</td>\n",
              "      <td>11.0</td>\n",
              "    </tr>\n",
              "    <tr>\n",
              "      <th>4</th>\n",
              "      <td>Paperback</td>\n",
              "      <td>4.4</td>\n",
              "      <td>9.0</td>\n",
              "    </tr>\n",
              "  </tbody>\n",
              "</table>\n",
              "</div>"
            ],
            "text/plain": [
              "                 Edition  Reviews  Ratings\n",
              "0  Mass Market Paperback      4.4    960.0\n",
              "1              Paperback      5.0      1.0\n",
              "2              Paperback      5.0      4.0\n",
              "3              Paperback      4.1     11.0\n",
              "4              Paperback      4.4      9.0"
            ]
          },
          "metadata": {
            "tags": []
          },
          "execution_count": 22
        }
      ]
    },
    {
      "cell_type": "markdown",
      "metadata": {
        "id": "6CvImNyopZ8x"
      },
      "source": [
        "## Combine Train and Test datasets to extract categorical features ##"
      ]
    },
    {
      "cell_type": "code",
      "metadata": {
        "id": "mBt-9AkypiuG"
      },
      "source": [
        "train = train_data.copy()\n",
        "test = test_data.copy()\n",
        "concat = pd.concat(objs=[train,test],axis=0)\n",
        "y = train.pop('Price')"
      ],
      "execution_count": 23,
      "outputs": []
    },
    {
      "cell_type": "code",
      "metadata": {
        "colab": {
          "base_uri": "https://localhost:8080/",
          "height": 206
        },
        "id": "P1gTns5s96Kt",
        "outputId": "6c1c15e5-fc7f-4982-bc0e-c165be1f3422"
      },
      "source": [
        "concat.head()"
      ],
      "execution_count": 24,
      "outputs": [
        {
          "output_type": "execute_result",
          "data": {
            "text/html": [
              "<div>\n",
              "<style scoped>\n",
              "    .dataframe tbody tr th:only-of-type {\n",
              "        vertical-align: middle;\n",
              "    }\n",
              "\n",
              "    .dataframe tbody tr th {\n",
              "        vertical-align: top;\n",
              "    }\n",
              "\n",
              "    .dataframe thead th {\n",
              "        text-align: right;\n",
              "    }\n",
              "</style>\n",
              "<table border=\"1\" class=\"dataframe\">\n",
              "  <thead>\n",
              "    <tr style=\"text-align: right;\">\n",
              "      <th></th>\n",
              "      <th>Edition</th>\n",
              "      <th>Reviews</th>\n",
              "      <th>Ratings</th>\n",
              "      <th>Price</th>\n",
              "    </tr>\n",
              "  </thead>\n",
              "  <tbody>\n",
              "    <tr>\n",
              "      <th>0</th>\n",
              "      <td>Paperback</td>\n",
              "      <td>4.0</td>\n",
              "      <td>8.0</td>\n",
              "      <td>220.00</td>\n",
              "    </tr>\n",
              "    <tr>\n",
              "      <th>1</th>\n",
              "      <td>Paperback</td>\n",
              "      <td>3.9</td>\n",
              "      <td>14.0</td>\n",
              "      <td>202.93</td>\n",
              "    </tr>\n",
              "    <tr>\n",
              "      <th>2</th>\n",
              "      <td>Paperback</td>\n",
              "      <td>4.8</td>\n",
              "      <td>6.0</td>\n",
              "      <td>299.00</td>\n",
              "    </tr>\n",
              "    <tr>\n",
              "      <th>3</th>\n",
              "      <td>Paperback</td>\n",
              "      <td>4.1</td>\n",
              "      <td>13.0</td>\n",
              "      <td>180.00</td>\n",
              "    </tr>\n",
              "    <tr>\n",
              "      <th>4</th>\n",
              "      <td>Hardcover</td>\n",
              "      <td>5.0</td>\n",
              "      <td>1.0</td>\n",
              "      <td>965.62</td>\n",
              "    </tr>\n",
              "  </tbody>\n",
              "</table>\n",
              "</div>"
            ],
            "text/plain": [
              "     Edition  Reviews  Ratings   Price\n",
              "0  Paperback      4.0      8.0  220.00\n",
              "1  Paperback      3.9     14.0  202.93\n",
              "2  Paperback      4.8      6.0  299.00\n",
              "3  Paperback      4.1     13.0  180.00\n",
              "4  Hardcover      5.0      1.0  965.62"
            ]
          },
          "metadata": {
            "tags": []
          },
          "execution_count": 24
        }
      ]
    },
    {
      "cell_type": "code",
      "metadata": {
        "id": "D51X7eGH-Exx"
      },
      "source": [
        "concat= pd.get_dummies(concat, columns= ['Edition'],drop_first=True)"
      ],
      "execution_count": 25,
      "outputs": []
    },
    {
      "cell_type": "code",
      "metadata": {
        "colab": {
          "base_uri": "https://localhost:8080/",
          "height": 261
        },
        "id": "3TYv3Bq--bxz",
        "outputId": "2ab1f80e-a5e3-4e40-ce72-ff18fb2b0c4e"
      },
      "source": [
        "concat.head()"
      ],
      "execution_count": 26,
      "outputs": [
        {
          "output_type": "execute_result",
          "data": {
            "text/html": [
              "<div>\n",
              "<style scoped>\n",
              "    .dataframe tbody tr th:only-of-type {\n",
              "        vertical-align: middle;\n",
              "    }\n",
              "\n",
              "    .dataframe tbody tr th {\n",
              "        vertical-align: top;\n",
              "    }\n",
              "\n",
              "    .dataframe thead th {\n",
              "        text-align: right;\n",
              "    }\n",
              "</style>\n",
              "<table border=\"1\" class=\"dataframe\">\n",
              "  <thead>\n",
              "    <tr style=\"text-align: right;\">\n",
              "      <th></th>\n",
              "      <th>Reviews</th>\n",
              "      <th>Ratings</th>\n",
              "      <th>Price</th>\n",
              "      <th>Edition_(French)</th>\n",
              "      <th>Edition_(German)</th>\n",
              "      <th>Edition_(Kannada)</th>\n",
              "      <th>Edition_(Spanish)</th>\n",
              "      <th>Edition_Board book</th>\n",
              "      <th>Edition_Cards</th>\n",
              "      <th>Edition_Flexibound</th>\n",
              "      <th>Edition_Hardcover</th>\n",
              "      <th>Edition_Leather Bound</th>\n",
              "      <th>Edition_Library Binding</th>\n",
              "      <th>Edition_Loose Leaf</th>\n",
              "      <th>Edition_Mass Market Paperback</th>\n",
              "      <th>Edition_Paperback</th>\n",
              "      <th>Edition_Perfect Paperback</th>\n",
              "      <th>Edition_Plastic Comb</th>\n",
              "      <th>Edition_Sheet music</th>\n",
              "      <th>Edition_Spiral-bound</th>\n",
              "      <th>Edition_Tankobon Softcover</th>\n",
              "    </tr>\n",
              "  </thead>\n",
              "  <tbody>\n",
              "    <tr>\n",
              "      <th>0</th>\n",
              "      <td>4.0</td>\n",
              "      <td>8.0</td>\n",
              "      <td>220.00</td>\n",
              "      <td>0</td>\n",
              "      <td>0</td>\n",
              "      <td>0</td>\n",
              "      <td>0</td>\n",
              "      <td>0</td>\n",
              "      <td>0</td>\n",
              "      <td>0</td>\n",
              "      <td>0</td>\n",
              "      <td>0</td>\n",
              "      <td>0</td>\n",
              "      <td>0</td>\n",
              "      <td>0</td>\n",
              "      <td>1</td>\n",
              "      <td>0</td>\n",
              "      <td>0</td>\n",
              "      <td>0</td>\n",
              "      <td>0</td>\n",
              "      <td>0</td>\n",
              "    </tr>\n",
              "    <tr>\n",
              "      <th>1</th>\n",
              "      <td>3.9</td>\n",
              "      <td>14.0</td>\n",
              "      <td>202.93</td>\n",
              "      <td>0</td>\n",
              "      <td>0</td>\n",
              "      <td>0</td>\n",
              "      <td>0</td>\n",
              "      <td>0</td>\n",
              "      <td>0</td>\n",
              "      <td>0</td>\n",
              "      <td>0</td>\n",
              "      <td>0</td>\n",
              "      <td>0</td>\n",
              "      <td>0</td>\n",
              "      <td>0</td>\n",
              "      <td>1</td>\n",
              "      <td>0</td>\n",
              "      <td>0</td>\n",
              "      <td>0</td>\n",
              "      <td>0</td>\n",
              "      <td>0</td>\n",
              "    </tr>\n",
              "    <tr>\n",
              "      <th>2</th>\n",
              "      <td>4.8</td>\n",
              "      <td>6.0</td>\n",
              "      <td>299.00</td>\n",
              "      <td>0</td>\n",
              "      <td>0</td>\n",
              "      <td>0</td>\n",
              "      <td>0</td>\n",
              "      <td>0</td>\n",
              "      <td>0</td>\n",
              "      <td>0</td>\n",
              "      <td>0</td>\n",
              "      <td>0</td>\n",
              "      <td>0</td>\n",
              "      <td>0</td>\n",
              "      <td>0</td>\n",
              "      <td>1</td>\n",
              "      <td>0</td>\n",
              "      <td>0</td>\n",
              "      <td>0</td>\n",
              "      <td>0</td>\n",
              "      <td>0</td>\n",
              "    </tr>\n",
              "    <tr>\n",
              "      <th>3</th>\n",
              "      <td>4.1</td>\n",
              "      <td>13.0</td>\n",
              "      <td>180.00</td>\n",
              "      <td>0</td>\n",
              "      <td>0</td>\n",
              "      <td>0</td>\n",
              "      <td>0</td>\n",
              "      <td>0</td>\n",
              "      <td>0</td>\n",
              "      <td>0</td>\n",
              "      <td>0</td>\n",
              "      <td>0</td>\n",
              "      <td>0</td>\n",
              "      <td>0</td>\n",
              "      <td>0</td>\n",
              "      <td>1</td>\n",
              "      <td>0</td>\n",
              "      <td>0</td>\n",
              "      <td>0</td>\n",
              "      <td>0</td>\n",
              "      <td>0</td>\n",
              "    </tr>\n",
              "    <tr>\n",
              "      <th>4</th>\n",
              "      <td>5.0</td>\n",
              "      <td>1.0</td>\n",
              "      <td>965.62</td>\n",
              "      <td>0</td>\n",
              "      <td>0</td>\n",
              "      <td>0</td>\n",
              "      <td>0</td>\n",
              "      <td>0</td>\n",
              "      <td>0</td>\n",
              "      <td>0</td>\n",
              "      <td>1</td>\n",
              "      <td>0</td>\n",
              "      <td>0</td>\n",
              "      <td>0</td>\n",
              "      <td>0</td>\n",
              "      <td>0</td>\n",
              "      <td>0</td>\n",
              "      <td>0</td>\n",
              "      <td>0</td>\n",
              "      <td>0</td>\n",
              "      <td>0</td>\n",
              "    </tr>\n",
              "  </tbody>\n",
              "</table>\n",
              "</div>"
            ],
            "text/plain": [
              "   Reviews  Ratings  ...  Edition_Spiral-bound  Edition_Tankobon Softcover\n",
              "0      4.0      8.0  ...                     0                           0\n",
              "1      3.9     14.0  ...                     0                           0\n",
              "2      4.8      6.0  ...                     0                           0\n",
              "3      4.1     13.0  ...                     0                           0\n",
              "4      5.0      1.0  ...                     0                           0\n",
              "\n",
              "[5 rows x 21 columns]"
            ]
          },
          "metadata": {
            "tags": []
          },
          "execution_count": 26
        }
      ]
    },
    {
      "cell_type": "code",
      "metadata": {
        "id": "fSowQ-XUqeBg"
      },
      "source": [
        "train_size = len(train)\n",
        "train = concat[:train_size]\n",
        "test = concat[train_size:]"
      ],
      "execution_count": 27,
      "outputs": []
    },
    {
      "cell_type": "code",
      "metadata": {
        "id": "NA7j_ES9MCGq",
        "colab": {
          "base_uri": "https://localhost:8080/",
          "height": 1000
        },
        "outputId": "8b216f69-38ff-49b9-cf9e-e9e92cf1dfc9"
      },
      "source": [
        "import seaborn as sns\n",
        "plt.figure(figsize=(25,25))\n",
        "sns.heatmap(train.corr(), annot=True, cmap='RdYlGn')"
      ],
      "execution_count": 28,
      "outputs": [
        {
          "output_type": "execute_result",
          "data": {
            "text/plain": [
              "<matplotlib.axes._subplots.AxesSubplot at 0x7fd9067fd590>"
            ]
          },
          "metadata": {
            "tags": []
          },
          "execution_count": 28
        },
        {
          "output_type": "display_data",
          "data": {
            "image/png": "[encoded data removed]",
            "text/plain": [
              "<Figure size 1800x1800 with 2 Axes>"
            ]
          },
          "metadata": {
            "tags": [],
            "needs_background": "light"
          }
        }
      ]
    },
    {
      "cell_type": "code",
      "metadata": {
        "id": "aOWqGAjjq3vH",
        "colab": {
          "base_uri": "https://localhost:8080/",
          "height": 261
        },
        "outputId": "e9a5ddaa-8c8f-4ee0-bec2-a186c08b2c52"
      },
      "source": [
        "train.head()"
      ],
      "execution_count": 29,
      "outputs": [
        {
          "output_type": "execute_result",
          "data": {
            "text/html": [
              "<div>\n",
              "<style scoped>\n",
              "    .dataframe tbody tr th:only-of-type {\n",
              "        vertical-align: middle;\n",
              "    }\n",
              "\n",
              "    .dataframe tbody tr th {\n",
              "        vertical-align: top;\n",
              "    }\n",
              "\n",
              "    .dataframe thead th {\n",
              "        text-align: right;\n",
              "    }\n",
              "</style>\n",
              "<table border=\"1\" class=\"dataframe\">\n",
              "  <thead>\n",
              "    <tr style=\"text-align: right;\">\n",
              "      <th></th>\n",
              "      <th>Reviews</th>\n",
              "      <th>Ratings</th>\n",
              "      <th>Price</th>\n",
              "      <th>Edition_(French)</th>\n",
              "      <th>Edition_(German)</th>\n",
              "      <th>Edition_(Kannada)</th>\n",
              "      <th>Edition_(Spanish)</th>\n",
              "      <th>Edition_Board book</th>\n",
              "      <th>Edition_Cards</th>\n",
              "      <th>Edition_Flexibound</th>\n",
              "      <th>Edition_Hardcover</th>\n",
              "      <th>Edition_Leather Bound</th>\n",
              "      <th>Edition_Library Binding</th>\n",
              "      <th>Edition_Loose Leaf</th>\n",
              "      <th>Edition_Mass Market Paperback</th>\n",
              "      <th>Edition_Paperback</th>\n",
              "      <th>Edition_Perfect Paperback</th>\n",
              "      <th>Edition_Plastic Comb</th>\n",
              "      <th>Edition_Sheet music</th>\n",
              "      <th>Edition_Spiral-bound</th>\n",
              "      <th>Edition_Tankobon Softcover</th>\n",
              "    </tr>\n",
              "  </thead>\n",
              "  <tbody>\n",
              "    <tr>\n",
              "      <th>0</th>\n",
              "      <td>4.0</td>\n",
              "      <td>8.0</td>\n",
              "      <td>220.00</td>\n",
              "      <td>0</td>\n",
              "      <td>0</td>\n",
              "      <td>0</td>\n",
              "      <td>0</td>\n",
              "      <td>0</td>\n",
              "      <td>0</td>\n",
              "      <td>0</td>\n",
              "      <td>0</td>\n",
              "      <td>0</td>\n",
              "      <td>0</td>\n",
              "      <td>0</td>\n",
              "      <td>0</td>\n",
              "      <td>1</td>\n",
              "      <td>0</td>\n",
              "      <td>0</td>\n",
              "      <td>0</td>\n",
              "      <td>0</td>\n",
              "      <td>0</td>\n",
              "    </tr>\n",
              "    <tr>\n",
              "      <th>1</th>\n",
              "      <td>3.9</td>\n",
              "      <td>14.0</td>\n",
              "      <td>202.93</td>\n",
              "      <td>0</td>\n",
              "      <td>0</td>\n",
              "      <td>0</td>\n",
              "      <td>0</td>\n",
              "      <td>0</td>\n",
              "      <td>0</td>\n",
              "      <td>0</td>\n",
              "      <td>0</td>\n",
              "      <td>0</td>\n",
              "      <td>0</td>\n",
              "      <td>0</td>\n",
              "      <td>0</td>\n",
              "      <td>1</td>\n",
              "      <td>0</td>\n",
              "      <td>0</td>\n",
              "      <td>0</td>\n",
              "      <td>0</td>\n",
              "      <td>0</td>\n",
              "    </tr>\n",
              "    <tr>\n",
              "      <th>2</th>\n",
              "      <td>4.8</td>\n",
              "      <td>6.0</td>\n",
              "      <td>299.00</td>\n",
              "      <td>0</td>\n",
              "      <td>0</td>\n",
              "      <td>0</td>\n",
              "      <td>0</td>\n",
              "      <td>0</td>\n",
              "      <td>0</td>\n",
              "      <td>0</td>\n",
              "      <td>0</td>\n",
              "      <td>0</td>\n",
              "      <td>0</td>\n",
              "      <td>0</td>\n",
              "      <td>0</td>\n",
              "      <td>1</td>\n",
              "      <td>0</td>\n",
              "      <td>0</td>\n",
              "      <td>0</td>\n",
              "      <td>0</td>\n",
              "      <td>0</td>\n",
              "    </tr>\n",
              "    <tr>\n",
              "      <th>3</th>\n",
              "      <td>4.1</td>\n",
              "      <td>13.0</td>\n",
              "      <td>180.00</td>\n",
              "      <td>0</td>\n",
              "      <td>0</td>\n",
              "      <td>0</td>\n",
              "      <td>0</td>\n",
              "      <td>0</td>\n",
              "      <td>0</td>\n",
              "      <td>0</td>\n",
              "      <td>0</td>\n",
              "      <td>0</td>\n",
              "      <td>0</td>\n",
              "      <td>0</td>\n",
              "      <td>0</td>\n",
              "      <td>1</td>\n",
              "      <td>0</td>\n",
              "      <td>0</td>\n",
              "      <td>0</td>\n",
              "      <td>0</td>\n",
              "      <td>0</td>\n",
              "    </tr>\n",
              "    <tr>\n",
              "      <th>4</th>\n",
              "      <td>5.0</td>\n",
              "      <td>1.0</td>\n",
              "      <td>965.62</td>\n",
              "      <td>0</td>\n",
              "      <td>0</td>\n",
              "      <td>0</td>\n",
              "      <td>0</td>\n",
              "      <td>0</td>\n",
              "      <td>0</td>\n",
              "      <td>0</td>\n",
              "      <td>1</td>\n",
              "      <td>0</td>\n",
              "      <td>0</td>\n",
              "      <td>0</td>\n",
              "      <td>0</td>\n",
              "      <td>0</td>\n",
              "      <td>0</td>\n",
              "      <td>0</td>\n",
              "      <td>0</td>\n",
              "      <td>0</td>\n",
              "      <td>0</td>\n",
              "    </tr>\n",
              "  </tbody>\n",
              "</table>\n",
              "</div>"
            ],
            "text/plain": [
              "   Reviews  Ratings  ...  Edition_Spiral-bound  Edition_Tankobon Softcover\n",
              "0      4.0      8.0  ...                     0                           0\n",
              "1      3.9     14.0  ...                     0                           0\n",
              "2      4.8      6.0  ...                     0                           0\n",
              "3      4.1     13.0  ...                     0                           0\n",
              "4      5.0      1.0  ...                     0                           0\n",
              "\n",
              "[5 rows x 21 columns]"
            ]
          },
          "metadata": {
            "tags": []
          },
          "execution_count": 29
        }
      ]
    },
    {
      "cell_type": "code",
      "metadata": {
        "id": "UJnh0eZercvc",
        "colab": {
          "base_uri": "https://localhost:8080/",
          "height": 261
        },
        "outputId": "94cb0df6-8e1f-4436-d47a-41651aff3e70"
      },
      "source": [
        "y = train.pop('Price')\n",
        "train.head()"
      ],
      "execution_count": 30,
      "outputs": [
        {
          "output_type": "execute_result",
          "data": {
            "text/html": [
              "<div>\n",
              "<style scoped>\n",
              "    .dataframe tbody tr th:only-of-type {\n",
              "        vertical-align: middle;\n",
              "    }\n",
              "\n",
              "    .dataframe tbody tr th {\n",
              "        vertical-align: top;\n",
              "    }\n",
              "\n",
              "    .dataframe thead th {\n",
              "        text-align: right;\n",
              "    }\n",
              "</style>\n",
              "<table border=\"1\" class=\"dataframe\">\n",
              "  <thead>\n",
              "    <tr style=\"text-align: right;\">\n",
              "      <th></th>\n",
              "      <th>Reviews</th>\n",
              "      <th>Ratings</th>\n",
              "      <th>Edition_(French)</th>\n",
              "      <th>Edition_(German)</th>\n",
              "      <th>Edition_(Kannada)</th>\n",
              "      <th>Edition_(Spanish)</th>\n",
              "      <th>Edition_Board book</th>\n",
              "      <th>Edition_Cards</th>\n",
              "      <th>Edition_Flexibound</th>\n",
              "      <th>Edition_Hardcover</th>\n",
              "      <th>Edition_Leather Bound</th>\n",
              "      <th>Edition_Library Binding</th>\n",
              "      <th>Edition_Loose Leaf</th>\n",
              "      <th>Edition_Mass Market Paperback</th>\n",
              "      <th>Edition_Paperback</th>\n",
              "      <th>Edition_Perfect Paperback</th>\n",
              "      <th>Edition_Plastic Comb</th>\n",
              "      <th>Edition_Sheet music</th>\n",
              "      <th>Edition_Spiral-bound</th>\n",
              "      <th>Edition_Tankobon Softcover</th>\n",
              "    </tr>\n",
              "  </thead>\n",
              "  <tbody>\n",
              "    <tr>\n",
              "      <th>0</th>\n",
              "      <td>4.0</td>\n",
              "      <td>8.0</td>\n",
              "      <td>0</td>\n",
              "      <td>0</td>\n",
              "      <td>0</td>\n",
              "      <td>0</td>\n",
              "      <td>0</td>\n",
              "      <td>0</td>\n",
              "      <td>0</td>\n",
              "      <td>0</td>\n",
              "      <td>0</td>\n",
              "      <td>0</td>\n",
              "      <td>0</td>\n",
              "      <td>0</td>\n",
              "      <td>1</td>\n",
              "      <td>0</td>\n",
              "      <td>0</td>\n",
              "      <td>0</td>\n",
              "      <td>0</td>\n",
              "      <td>0</td>\n",
              "    </tr>\n",
              "    <tr>\n",
              "      <th>1</th>\n",
              "      <td>3.9</td>\n",
              "      <td>14.0</td>\n",
              "      <td>0</td>\n",
              "      <td>0</td>\n",
              "      <td>0</td>\n",
              "      <td>0</td>\n",
              "      <td>0</td>\n",
              "      <td>0</td>\n",
              "      <td>0</td>\n",
              "      <td>0</td>\n",
              "      <td>0</td>\n",
              "      <td>0</td>\n",
              "      <td>0</td>\n",
              "      <td>0</td>\n",
              "      <td>1</td>\n",
              "      <td>0</td>\n",
              "      <td>0</td>\n",
              "      <td>0</td>\n",
              "      <td>0</td>\n",
              "      <td>0</td>\n",
              "    </tr>\n",
              "    <tr>\n",
              "      <th>2</th>\n",
              "      <td>4.8</td>\n",
              "      <td>6.0</td>\n",
              "      <td>0</td>\n",
              "      <td>0</td>\n",
              "      <td>0</td>\n",
              "      <td>0</td>\n",
              "      <td>0</td>\n",
              "      <td>0</td>\n",
              "      <td>0</td>\n",
              "      <td>0</td>\n",
              "      <td>0</td>\n",
              "      <td>0</td>\n",
              "      <td>0</td>\n",
              "      <td>0</td>\n",
              "      <td>1</td>\n",
              "      <td>0</td>\n",
              "      <td>0</td>\n",
              "      <td>0</td>\n",
              "      <td>0</td>\n",
              "      <td>0</td>\n",
              "    </tr>\n",
              "    <tr>\n",
              "      <th>3</th>\n",
              "      <td>4.1</td>\n",
              "      <td>13.0</td>\n",
              "      <td>0</td>\n",
              "      <td>0</td>\n",
              "      <td>0</td>\n",
              "      <td>0</td>\n",
              "      <td>0</td>\n",
              "      <td>0</td>\n",
              "      <td>0</td>\n",
              "      <td>0</td>\n",
              "      <td>0</td>\n",
              "      <td>0</td>\n",
              "      <td>0</td>\n",
              "      <td>0</td>\n",
              "      <td>1</td>\n",
              "      <td>0</td>\n",
              "      <td>0</td>\n",
              "      <td>0</td>\n",
              "      <td>0</td>\n",
              "      <td>0</td>\n",
              "    </tr>\n",
              "    <tr>\n",
              "      <th>4</th>\n",
              "      <td>5.0</td>\n",
              "      <td>1.0</td>\n",
              "      <td>0</td>\n",
              "      <td>0</td>\n",
              "      <td>0</td>\n",
              "      <td>0</td>\n",
              "      <td>0</td>\n",
              "      <td>0</td>\n",
              "      <td>0</td>\n",
              "      <td>1</td>\n",
              "      <td>0</td>\n",
              "      <td>0</td>\n",
              "      <td>0</td>\n",
              "      <td>0</td>\n",
              "      <td>0</td>\n",
              "      <td>0</td>\n",
              "      <td>0</td>\n",
              "      <td>0</td>\n",
              "      <td>0</td>\n",
              "      <td>0</td>\n",
              "    </tr>\n",
              "  </tbody>\n",
              "</table>\n",
              "</div>"
            ],
            "text/plain": [
              "   Reviews  Ratings  ...  Edition_Spiral-bound  Edition_Tankobon Softcover\n",
              "0      4.0      8.0  ...                     0                           0\n",
              "1      3.9     14.0  ...                     0                           0\n",
              "2      4.8      6.0  ...                     0                           0\n",
              "3      4.1     13.0  ...                     0                           0\n",
              "4      5.0      1.0  ...                     0                           0\n",
              "\n",
              "[5 rows x 20 columns]"
            ]
          },
          "metadata": {
            "tags": []
          },
          "execution_count": 30
        }
      ]
    },
    {
      "cell_type": "code",
      "metadata": {
        "id": "Bj56JCqTrm53",
        "colab": {
          "base_uri": "https://localhost:8080/",
          "height": 261
        },
        "outputId": "408da796-880d-47b7-f2e1-5b31b1c859fe"
      },
      "source": [
        "test.pop('Price')\n",
        "test.head()"
      ],
      "execution_count": 31,
      "outputs": [
        {
          "output_type": "execute_result",
          "data": {
            "text/html": [
              "<div>\n",
              "<style scoped>\n",
              "    .dataframe tbody tr th:only-of-type {\n",
              "        vertical-align: middle;\n",
              "    }\n",
              "\n",
              "    .dataframe tbody tr th {\n",
              "        vertical-align: top;\n",
              "    }\n",
              "\n",
              "    .dataframe thead th {\n",
              "        text-align: right;\n",
              "    }\n",
              "</style>\n",
              "<table border=\"1\" class=\"dataframe\">\n",
              "  <thead>\n",
              "    <tr style=\"text-align: right;\">\n",
              "      <th></th>\n",
              "      <th>Reviews</th>\n",
              "      <th>Ratings</th>\n",
              "      <th>Edition_(French)</th>\n",
              "      <th>Edition_(German)</th>\n",
              "      <th>Edition_(Kannada)</th>\n",
              "      <th>Edition_(Spanish)</th>\n",
              "      <th>Edition_Board book</th>\n",
              "      <th>Edition_Cards</th>\n",
              "      <th>Edition_Flexibound</th>\n",
              "      <th>Edition_Hardcover</th>\n",
              "      <th>Edition_Leather Bound</th>\n",
              "      <th>Edition_Library Binding</th>\n",
              "      <th>Edition_Loose Leaf</th>\n",
              "      <th>Edition_Mass Market Paperback</th>\n",
              "      <th>Edition_Paperback</th>\n",
              "      <th>Edition_Perfect Paperback</th>\n",
              "      <th>Edition_Plastic Comb</th>\n",
              "      <th>Edition_Sheet music</th>\n",
              "      <th>Edition_Spiral-bound</th>\n",
              "      <th>Edition_Tankobon Softcover</th>\n",
              "    </tr>\n",
              "  </thead>\n",
              "  <tbody>\n",
              "    <tr>\n",
              "      <th>0</th>\n",
              "      <td>4.4</td>\n",
              "      <td>960.0</td>\n",
              "      <td>0</td>\n",
              "      <td>0</td>\n",
              "      <td>0</td>\n",
              "      <td>0</td>\n",
              "      <td>0</td>\n",
              "      <td>0</td>\n",
              "      <td>0</td>\n",
              "      <td>0</td>\n",
              "      <td>0</td>\n",
              "      <td>0</td>\n",
              "      <td>0</td>\n",
              "      <td>1</td>\n",
              "      <td>0</td>\n",
              "      <td>0</td>\n",
              "      <td>0</td>\n",
              "      <td>0</td>\n",
              "      <td>0</td>\n",
              "      <td>0</td>\n",
              "    </tr>\n",
              "    <tr>\n",
              "      <th>1</th>\n",
              "      <td>5.0</td>\n",
              "      <td>1.0</td>\n",
              "      <td>0</td>\n",
              "      <td>0</td>\n",
              "      <td>0</td>\n",
              "      <td>0</td>\n",
              "      <td>0</td>\n",
              "      <td>0</td>\n",
              "      <td>0</td>\n",
              "      <td>0</td>\n",
              "      <td>0</td>\n",
              "      <td>0</td>\n",
              "      <td>0</td>\n",
              "      <td>0</td>\n",
              "      <td>1</td>\n",
              "      <td>0</td>\n",
              "      <td>0</td>\n",
              "      <td>0</td>\n",
              "      <td>0</td>\n",
              "      <td>0</td>\n",
              "    </tr>\n",
              "    <tr>\n",
              "      <th>2</th>\n",
              "      <td>5.0</td>\n",
              "      <td>4.0</td>\n",
              "      <td>0</td>\n",
              "      <td>0</td>\n",
              "      <td>0</td>\n",
              "      <td>0</td>\n",
              "      <td>0</td>\n",
              "      <td>0</td>\n",
              "      <td>0</td>\n",
              "      <td>0</td>\n",
              "      <td>0</td>\n",
              "      <td>0</td>\n",
              "      <td>0</td>\n",
              "      <td>0</td>\n",
              "      <td>1</td>\n",
              "      <td>0</td>\n",
              "      <td>0</td>\n",
              "      <td>0</td>\n",
              "      <td>0</td>\n",
              "      <td>0</td>\n",
              "    </tr>\n",
              "    <tr>\n",
              "      <th>3</th>\n",
              "      <td>4.1</td>\n",
              "      <td>11.0</td>\n",
              "      <td>0</td>\n",
              "      <td>0</td>\n",
              "      <td>0</td>\n",
              "      <td>0</td>\n",
              "      <td>0</td>\n",
              "      <td>0</td>\n",
              "      <td>0</td>\n",
              "      <td>0</td>\n",
              "      <td>0</td>\n",
              "      <td>0</td>\n",
              "      <td>0</td>\n",
              "      <td>0</td>\n",
              "      <td>1</td>\n",
              "      <td>0</td>\n",
              "      <td>0</td>\n",
              "      <td>0</td>\n",
              "      <td>0</td>\n",
              "      <td>0</td>\n",
              "    </tr>\n",
              "    <tr>\n",
              "      <th>4</th>\n",
              "      <td>4.4</td>\n",
              "      <td>9.0</td>\n",
              "      <td>0</td>\n",
              "      <td>0</td>\n",
              "      <td>0</td>\n",
              "      <td>0</td>\n",
              "      <td>0</td>\n",
              "      <td>0</td>\n",
              "      <td>0</td>\n",
              "      <td>0</td>\n",
              "      <td>0</td>\n",
              "      <td>0</td>\n",
              "      <td>0</td>\n",
              "      <td>0</td>\n",
              "      <td>1</td>\n",
              "      <td>0</td>\n",
              "      <td>0</td>\n",
              "      <td>0</td>\n",
              "      <td>0</td>\n",
              "      <td>0</td>\n",
              "    </tr>\n",
              "  </tbody>\n",
              "</table>\n",
              "</div>"
            ],
            "text/plain": [
              "   Reviews  Ratings  ...  Edition_Spiral-bound  Edition_Tankobon Softcover\n",
              "0      4.4    960.0  ...                     0                           0\n",
              "1      5.0      1.0  ...                     0                           0\n",
              "2      5.0      4.0  ...                     0                           0\n",
              "3      4.1     11.0  ...                     0                           0\n",
              "4      4.4      9.0  ...                     0                           0\n",
              "\n",
              "[5 rows x 20 columns]"
            ]
          },
          "metadata": {
            "tags": []
          },
          "execution_count": 31
        }
      ]
    },
    {
      "cell_type": "markdown",
      "metadata": {
        "id": "BAkbjxgojgJh"
      },
      "source": [
        "##Prediction Methods##"
      ]
    },
    {
      "cell_type": "markdown",
      "metadata": {
        "id": "1x5owWboubGF"
      },
      "source": [
        "Split train and test data\n"
      ]
    },
    {
      "cell_type": "code",
      "metadata": {
        "id": "Qk5c9T64ubgJ"
      },
      "source": [
        "X = train.to_numpy()"
      ],
      "execution_count": 32,
      "outputs": []
    },
    {
      "cell_type": "markdown",
      "metadata": {
        "id": "BSB71Ok0uT_w"
      },
      "source": [
        "Import packages"
      ]
    },
    {
      "cell_type": "code",
      "metadata": {
        "id": "hoDaDxKNtIBM"
      },
      "source": [
        "from sklearn.linear_model import Lasso\n",
        "from sklearn.linear_model import ElasticNet\n",
        "from sklearn.tree import DecisionTreeRegressor\n",
        "from sklearn.neighbors import KNeighborsRegressor\n",
        "from sklearn.ensemble import GradientBoostingRegressor\n",
        "from sklearn.ensemble import RandomForestRegressor\n",
        "from sklearn.svm import SVR\n",
        "from sklearn.preprocessing import StandardScaler\n",
        "from sklearn.model_selection import KFold\n",
        "from sklearn.model_selection import cross_val_score\n",
        "from sklearn.metrics import mean_squared_error\n",
        "from sklearn.model_selection import GridSearchCV\n",
        "import warnings\n",
        "warnings.filterwarnings(\"ignore\")"
      ],
      "execution_count": 33,
      "outputs": []
    },
    {
      "cell_type": "markdown",
      "metadata": {
        "id": "YYn-NOx4JJvm"
      },
      "source": [
        "Decision Tree Regressor\n"
      ]
    },
    {
      "cell_type": "code",
      "metadata": {
        "id": "ydLYooVxbQ2G",
        "outputId": "abd7e798-b1de-43df-8d23-0596415c4a63",
        "colab": {
          "base_uri": "https://localhost:8080/"
        }
      },
      "source": [
        "parameters = {'splitter': ['best','random'],\n",
        "              'min_samples_leaf': [1,2],\n",
        "              }\n",
        "scaler = StandardScaler().fit(X)\n",
        "rescaled_X_train = scaler.transform(X)\n",
        "grid_DT = GridSearchCV(estimator=DecisionTreeRegressor(), param_grid = parameters, cv = 5, n_jobs=-1,verbose =10)\n",
        "grid_DT.fit(rescaled_X_train, y)\n",
        "print(\" Results from Grid Search \" )\n",
        "print(\"\\n The best estimator across ALL searched params:\\n\",grid_DT.best_estimator_)\n",
        "print(\"\\n The best score across ALL searched params:\\n\",grid_DT.best_score_)\n",
        "print(\"\\n The best parameters across ALL searched params:\\n\",grid_DT.best_params_)"
      ],
      "execution_count": 34,
      "outputs": [
        {
          "output_type": "stream",
          "text": [
            "Fitting 5 folds for each of 4 candidates, totalling 20 fits\n"
          ],
          "name": "stdout"
        },
        {
          "output_type": "stream",
          "text": [
            "[Parallel(n_jobs=-1)]: Using backend LokyBackend with 2 concurrent workers.\n",
            "[Parallel(n_jobs=-1)]: Done   1 tasks      | elapsed:    1.2s\n",
            "[Parallel(n_jobs=-1)]: Done   4 tasks      | elapsed:    1.3s\n",
            "[Parallel(n_jobs=-1)]: Done   9 tasks      | elapsed:    1.3s\n",
            "[Parallel(n_jobs=-1)]: Done  14 tasks      | elapsed:    1.4s\n",
            "[Parallel(n_jobs=-1)]: Batch computation too fast (0.1688s.) Setting batch_size=2.\n"
          ],
          "name": "stderr"
        },
        {
          "output_type": "stream",
          "text": [
            " Results from Grid Search \n",
            "\n",
            " The best estimator across ALL searched params:\n",
            " DecisionTreeRegressor(ccp_alpha=0.0, criterion='mse', max_depth=None,\n",
            "                      max_features=None, max_leaf_nodes=None,\n",
            "                      min_impurity_decrease=0.0, min_impurity_split=None,\n",
            "                      min_samples_leaf=2, min_samples_split=2,\n",
            "                      min_weight_fraction_leaf=0.0, presort='deprecated',\n",
            "                      random_state=None, splitter='random')\n",
            "\n",
            " The best score across ALL searched params:\n",
            " 0.042024941343838364\n",
            "\n",
            " The best parameters across ALL searched params:\n",
            " {'min_samples_leaf': 2, 'splitter': 'random'}\n"
          ],
          "name": "stdout"
        },
        {
          "output_type": "stream",
          "text": [
            "[Parallel(n_jobs=-1)]: Done  20 out of  20 | elapsed:    1.4s remaining:    0.0s\n",
            "[Parallel(n_jobs=-1)]: Done  20 out of  20 | elapsed:    1.4s finished\n"
          ],
          "name": "stderr"
        }
      ]
    },
    {
      "cell_type": "code",
      "metadata": {
        "id": "PBvLUau8JI8U",
        "outputId": "f2526e9d-e872-4aa0-c0cc-3ab44bd1f26a",
        "colab": {
          "base_uri": "https://localhost:8080/",
          "height": 206
        }
      },
      "source": [
        "scaler = StandardScaler().fit(X)\n",
        "rescaled_X_train = scaler.transform(X)\n",
        "model = DecisionTreeRegressor(**grid_DT.best_params_)\n",
        "model.fit(rescaled_X_train, y)\n",
        "\n",
        "scaler = StandardScaler().fit(test)\n",
        "rescaled_X_test = scaler.transform(test)\n",
        "predictions = model.predict(rescaled_X_test)\n",
        "\n",
        "df_dt = pd.DataFrame(predictions.astype(int))\n",
        "df_dt.columns=['Price']\n",
        "filepath_dt = 'Predictions_DecisionTrees.xlsx'\n",
        "df_dt.to_excel(filepath_dt, index=False)\n",
        "df_dt.head()"
      ],
      "execution_count": 35,
      "outputs": [
        {
          "output_type": "execute_result",
          "data": {
            "text/html": [
              "<div>\n",
              "<style scoped>\n",
              "    .dataframe tbody tr th:only-of-type {\n",
              "        vertical-align: middle;\n",
              "    }\n",
              "\n",
              "    .dataframe tbody tr th {\n",
              "        vertical-align: top;\n",
              "    }\n",
              "\n",
              "    .dataframe thead th {\n",
              "        text-align: right;\n",
              "    }\n",
              "</style>\n",
              "<table border=\"1\" class=\"dataframe\">\n",
              "  <thead>\n",
              "    <tr style=\"text-align: right;\">\n",
              "      <th></th>\n",
              "      <th>Price</th>\n",
              "    </tr>\n",
              "  </thead>\n",
              "  <tbody>\n",
              "    <tr>\n",
              "      <th>0</th>\n",
              "      <td>319</td>\n",
              "    </tr>\n",
              "    <tr>\n",
              "      <th>1</th>\n",
              "      <td>603</td>\n",
              "    </tr>\n",
              "    <tr>\n",
              "      <th>2</th>\n",
              "      <td>603</td>\n",
              "    </tr>\n",
              "    <tr>\n",
              "      <th>3</th>\n",
              "      <td>394</td>\n",
              "    </tr>\n",
              "    <tr>\n",
              "      <th>4</th>\n",
              "      <td>256</td>\n",
              "    </tr>\n",
              "  </tbody>\n",
              "</table>\n",
              "</div>"
            ],
            "text/plain": [
              "   Price\n",
              "0    319\n",
              "1    603\n",
              "2    603\n",
              "3    394\n",
              "4    256"
            ]
          },
          "metadata": {
            "tags": []
          },
          "execution_count": 35
        }
      ]
    },
    {
      "cell_type": "markdown",
      "metadata": {
        "id": "G2SogEi7Htta"
      },
      "source": [
        "Gradient Boosting Regressor\n",
        "\n",
        "\n",
        "\n"
      ]
    },
    {
      "cell_type": "code",
      "metadata": {
        "id": "hWpOfoxCbZCM",
        "outputId": "3c9638e9-e54f-4a52-d394-d8b39434c062",
        "colab": {
          "base_uri": "https://localhost:8080/"
        }
      },
      "source": [
        "parameters = {'learning_rate': [0.01,0.02,0.03,0.04],\n",
        "              'subsample'    : [0.9, 0.5, 0.2, 0.1],\n",
        "              'n_estimators' : [100,500,1000,1500],\n",
        "              'max_depth'    : [4,6,8,10]\n",
        "              }\n",
        "scaler = StandardScaler().fit(X)\n",
        "rescaled_X_train = scaler.transform(X)\n",
        "grid_GBR = GridSearchCV(estimator=GradientBoostingRegressor(), param_grid = parameters, cv = 5, n_jobs=-1,verbose =10)\n",
        "grid_GBR.fit(rescaled_X_train, y)\n",
        "print(\" Results from Grid Search \" )\n",
        "print(\"\\n The best estimator across ALL searched params:\\n\",grid_GBR.best_estimator_)\n",
        "print(\"\\n The best score across ALL searched params:\\n\",grid_GBR.best_score_)\n",
        "print(\"\\n The best parameters across ALL searched params:\\n\",grid_GBR.best_params_)"
      ],
      "execution_count": 36,
      "outputs": [
        {
          "output_type": "stream",
          "text": [
            "Fitting 5 folds for each of 256 candidates, totalling 1280 fits\n"
          ],
          "name": "stdout"
        },
        {
          "output_type": "stream",
          "text": [
            "[Parallel(n_jobs=-1)]: Using backend LokyBackend with 2 concurrent workers.\n",
            "[Parallel(n_jobs=-1)]: Done   1 tasks      | elapsed:    0.5s\n",
            "[Parallel(n_jobs=-1)]: Done   4 tasks      | elapsed:    1.1s\n",
            "[Parallel(n_jobs=-1)]: Done   9 tasks      | elapsed:    2.3s\n",
            "[Parallel(n_jobs=-1)]: Done  14 tasks      | elapsed:    2.8s\n",
            "[Parallel(n_jobs=-1)]: Done  21 tasks      | elapsed:    6.0s\n",
            "[Parallel(n_jobs=-1)]: Done  28 tasks      | elapsed:   13.0s\n",
            "[Parallel(n_jobs=-1)]: Done  37 tasks      | elapsed:   18.5s\n",
            "[Parallel(n_jobs=-1)]: Done  46 tasks      | elapsed:   34.9s\n",
            "[Parallel(n_jobs=-1)]: Done  57 tasks      | elapsed:   49.5s\n",
            "[Parallel(n_jobs=-1)]: Done  68 tasks      | elapsed:  1.3min\n",
            "[Parallel(n_jobs=-1)]: Done  81 tasks      | elapsed:  1.7min\n",
            "[Parallel(n_jobs=-1)]: Done  94 tasks      | elapsed:  1.7min\n",
            "[Parallel(n_jobs=-1)]: Done 109 tasks      | elapsed:  1.9min\n",
            "[Parallel(n_jobs=-1)]: Done 124 tasks      | elapsed:  2.3min\n",
            "[Parallel(n_jobs=-1)]: Done 141 tasks      | elapsed:  2.9min\n",
            "[Parallel(n_jobs=-1)]: Done 158 tasks      | elapsed:  3.7min\n",
            "[Parallel(n_jobs=-1)]: Done 177 tasks      | elapsed:  3.8min\n",
            "[Parallel(n_jobs=-1)]: Done 196 tasks      | elapsed:  4.2min\n",
            "[Parallel(n_jobs=-1)]: Done 217 tasks      | elapsed:  5.0min\n",
            "[Parallel(n_jobs=-1)]: Done 238 tasks      | elapsed:  6.1min\n",
            "[Parallel(n_jobs=-1)]: Done 261 tasks      | elapsed:  6.4min\n",
            "[Parallel(n_jobs=-1)]: Done 284 tasks      | elapsed:  7.1min\n",
            "[Parallel(n_jobs=-1)]: Done 309 tasks      | elapsed:  8.6min\n",
            "[Parallel(n_jobs=-1)]: Done 334 tasks      | elapsed:  9.1min\n",
            "[Parallel(n_jobs=-1)]: Done 361 tasks      | elapsed:  9.4min\n",
            "[Parallel(n_jobs=-1)]: Done 388 tasks      | elapsed: 10.3min\n",
            "[Parallel(n_jobs=-1)]: Done 417 tasks      | elapsed: 10.7min\n",
            "[Parallel(n_jobs=-1)]: Done 446 tasks      | elapsed: 11.4min\n",
            "[Parallel(n_jobs=-1)]: Done 477 tasks      | elapsed: 12.7min\n",
            "[Parallel(n_jobs=-1)]: Done 508 tasks      | elapsed: 13.1min\n",
            "[Parallel(n_jobs=-1)]: Done 541 tasks      | elapsed: 14.2min\n",
            "[Parallel(n_jobs=-1)]: Done 574 tasks      | elapsed: 15.3min\n",
            "[Parallel(n_jobs=-1)]: Done 609 tasks      | elapsed: 16.4min\n",
            "[Parallel(n_jobs=-1)]: Done 644 tasks      | elapsed: 18.1min\n",
            "[Parallel(n_jobs=-1)]: Done 681 tasks      | elapsed: 18.4min\n",
            "[Parallel(n_jobs=-1)]: Done 718 tasks      | elapsed: 19.7min\n",
            "[Parallel(n_jobs=-1)]: Done 757 tasks      | elapsed: 20.1min\n",
            "[Parallel(n_jobs=-1)]: Done 796 tasks      | elapsed: 21.7min\n",
            "[Parallel(n_jobs=-1)]: Done 837 tasks      | elapsed: 22.2min\n",
            "[Parallel(n_jobs=-1)]: Done 878 tasks      | elapsed: 24.2min\n",
            "[Parallel(n_jobs=-1)]: Done 921 tasks      | elapsed: 24.9min\n",
            "[Parallel(n_jobs=-1)]: Done 964 tasks      | elapsed: 27.1min\n",
            "[Parallel(n_jobs=-1)]: Done 1009 tasks      | elapsed: 27.7min\n",
            "[Parallel(n_jobs=-1)]: Done 1054 tasks      | elapsed: 28.8min\n",
            "[Parallel(n_jobs=-1)]: Done 1101 tasks      | elapsed: 30.0min\n",
            "[Parallel(n_jobs=-1)]: Done 1148 tasks      | elapsed: 31.1min\n",
            "[Parallel(n_jobs=-1)]: Done 1197 tasks      | elapsed: 33.2min\n",
            "[Parallel(n_jobs=-1)]: Done 1246 tasks      | elapsed: 34.3min\n"
          ],
          "name": "stderr"
        },
        {
          "output_type": "stream",
          "text": [
            " Results from Grid Search \n",
            "\n",
            " The best estimator across ALL searched params:\n",
            " GradientBoostingRegressor(alpha=0.9, ccp_alpha=0.0, criterion='friedman_mse',\n",
            "                          init=None, learning_rate=0.02, loss='ls', max_depth=4,\n",
            "                          max_features=None, max_leaf_nodes=None,\n",
            "                          min_impurity_decrease=0.0, min_impurity_split=None,\n",
            "                          min_samples_leaf=1, min_samples_split=2,\n",
            "                          min_weight_fraction_leaf=0.0, n_estimators=100,\n",
            "                          n_iter_no_change=None, presort='deprecated',\n",
            "                          random_state=None, subsample=0.1, tol=0.0001,\n",
            "                          validation_fraction=0.1, verbose=0, warm_start=False)\n",
            "\n",
            " The best score across ALL searched params:\n",
            " 0.13485655859809792\n",
            "\n",
            " The best parameters across ALL searched params:\n",
            " {'learning_rate': 0.02, 'max_depth': 4, 'n_estimators': 100, 'subsample': 0.1}\n"
          ],
          "name": "stdout"
        },
        {
          "output_type": "stream",
          "text": [
            "[Parallel(n_jobs=-1)]: Done 1280 out of 1280 | elapsed: 36.1min finished\n"
          ],
          "name": "stderr"
        }
      ]
    },
    {
      "cell_type": "code",
      "metadata": {
        "id": "HKPeQ4qfvHFh",
        "outputId": "5483c5c1-7dc1-4bcd-ac74-19f05f2f78bc",
        "colab": {
          "base_uri": "https://localhost:8080/",
          "height": 206
        }
      },
      "source": [
        "scaler = StandardScaler().fit(X)\n",
        "rescaled_X_train = scaler.transform(X)\n",
        "model = GradientBoostingRegressor(**grid_GBR.best_params_)\n",
        "model.fit(rescaled_X_train, y)\n",
        "\n",
        "scaler = StandardScaler().fit(test)\n",
        "rescaled_X_test = scaler.transform(test)\n",
        "predictions = model.predict(rescaled_X_test)\n",
        "\n",
        "df2 = pd.DataFrame(predictions.astype(int))\n",
        "df2.columns=['Price']\n",
        "df2['Price']= df2['Price']\n",
        "filepath2 = 'PredictionsGradientBoosting.xlsx'\n",
        "df2.to_excel(filepath2, index=False)\n",
        "df2.head()"
      ],
      "execution_count": 37,
      "outputs": [
        {
          "output_type": "execute_result",
          "data": {
            "text/html": [
              "<div>\n",
              "<style scoped>\n",
              "    .dataframe tbody tr th:only-of-type {\n",
              "        vertical-align: middle;\n",
              "    }\n",
              "\n",
              "    .dataframe tbody tr th {\n",
              "        vertical-align: top;\n",
              "    }\n",
              "\n",
              "    .dataframe thead th {\n",
              "        text-align: right;\n",
              "    }\n",
              "</style>\n",
              "<table border=\"1\" class=\"dataframe\">\n",
              "  <thead>\n",
              "    <tr style=\"text-align: right;\">\n",
              "      <th></th>\n",
              "      <th>Price</th>\n",
              "    </tr>\n",
              "  </thead>\n",
              "  <tbody>\n",
              "    <tr>\n",
              "      <th>0</th>\n",
              "      <td>349</td>\n",
              "    </tr>\n",
              "    <tr>\n",
              "      <th>1</th>\n",
              "      <td>528</td>\n",
              "    </tr>\n",
              "    <tr>\n",
              "      <th>2</th>\n",
              "      <td>548</td>\n",
              "    </tr>\n",
              "    <tr>\n",
              "      <th>3</th>\n",
              "      <td>387</td>\n",
              "    </tr>\n",
              "    <tr>\n",
              "      <th>4</th>\n",
              "      <td>427</td>\n",
              "    </tr>\n",
              "  </tbody>\n",
              "</table>\n",
              "</div>"
            ],
            "text/plain": [
              "   Price\n",
              "0    349\n",
              "1    528\n",
              "2    548\n",
              "3    387\n",
              "4    427"
            ]
          },
          "metadata": {
            "tags": []
          },
          "execution_count": 37
        }
      ]
    },
    {
      "cell_type": "markdown",
      "metadata": {
        "id": "35EG6H4PHyYs"
      },
      "source": [
        "Random Forest regressor\n",
        "\n",
        "\n",
        "\n",
        "\n",
        "\n"
      ]
    },
    {
      "cell_type": "code",
      "metadata": {
        "id": "ftjQpkHObk7x",
        "outputId": "fb8026ff-813a-463d-9604-3ec2c44476e0",
        "colab": {
          "base_uri": "https://localhost:8080/"
        }
      },
      "source": [
        "parameters = {\n",
        "    'max_depth': [80, 90, 100, 110],\n",
        "    'max_features': [2, 3],\n",
        "    'min_samples_leaf': [3, 4, 5],\n",
        "    'min_samples_split': [8, 10, 12],\n",
        "    'n_estimators': [100,110,120,200]\n",
        "}\n",
        "scaler = StandardScaler().fit(X)\n",
        "rescaled_X_train = scaler.transform(X)\n",
        "grid_RF = GridSearchCV(estimator=RandomForestRegressor(), param_grid = parameters, cv = 5, n_jobs=-1,verbose =10)\n",
        "grid_RF.fit(rescaled_X_train, y)\n",
        "print(\" Results from Grid Search \" )\n",
        "print(\"\\n The best estimator across ALL searched params:\\n\",grid_RF.best_estimator_)\n",
        "print(\"\\n The best score across ALL searched params:\\n\",grid_RF.best_score_)\n",
        "print(\"\\n The best parameters across ALL searched params:\\n\",grid_RF.best_params_)"
      ],
      "execution_count": 38,
      "outputs": [
        {
          "output_type": "stream",
          "text": [
            "Fitting 5 folds for each of 288 candidates, totalling 1440 fits\n"
          ],
          "name": "stdout"
        },
        {
          "output_type": "stream",
          "text": [
            "[Parallel(n_jobs=-1)]: Using backend LokyBackend with 2 concurrent workers.\n",
            "[Parallel(n_jobs=-1)]: Done   1 tasks      | elapsed:    0.4s\n",
            "[Parallel(n_jobs=-1)]: Done   4 tasks      | elapsed:    0.8s\n",
            "[Parallel(n_jobs=-1)]: Done   9 tasks      | elapsed:    1.9s\n",
            "[Parallel(n_jobs=-1)]: Done  14 tasks      | elapsed:    2.7s\n",
            "[Parallel(n_jobs=-1)]: Done  21 tasks      | elapsed:    4.8s\n",
            "[Parallel(n_jobs=-1)]: Done  28 tasks      | elapsed:    6.1s\n",
            "[Parallel(n_jobs=-1)]: Done  37 tasks      | elapsed:    8.0s\n",
            "[Parallel(n_jobs=-1)]: Done  46 tasks      | elapsed:   10.1s\n",
            "[Parallel(n_jobs=-1)]: Done  57 tasks      | elapsed:   12.6s\n",
            "[Parallel(n_jobs=-1)]: Done  68 tasks      | elapsed:   14.9s\n",
            "[Parallel(n_jobs=-1)]: Done  81 tasks      | elapsed:   18.0s\n",
            "[Parallel(n_jobs=-1)]: Done  94 tasks      | elapsed:   20.5s\n",
            "[Parallel(n_jobs=-1)]: Done 109 tasks      | elapsed:   23.8s\n",
            "[Parallel(n_jobs=-1)]: Done 124 tasks      | elapsed:   27.2s\n",
            "[Parallel(n_jobs=-1)]: Done 141 tasks      | elapsed:   30.9s\n",
            "[Parallel(n_jobs=-1)]: Done 158 tasks      | elapsed:   34.5s\n",
            "[Parallel(n_jobs=-1)]: Done 177 tasks      | elapsed:   38.3s\n",
            "[Parallel(n_jobs=-1)]: Done 196 tasks      | elapsed:   43.0s\n",
            "[Parallel(n_jobs=-1)]: Done 217 tasks      | elapsed:   48.3s\n",
            "[Parallel(n_jobs=-1)]: Done 238 tasks      | elapsed:   53.7s\n",
            "[Parallel(n_jobs=-1)]: Done 261 tasks      | elapsed:   59.2s\n",
            "[Parallel(n_jobs=-1)]: Done 284 tasks      | elapsed:  1.1min\n",
            "[Parallel(n_jobs=-1)]: Done 309 tasks      | elapsed:  1.2min\n",
            "[Parallel(n_jobs=-1)]: Done 334 tasks      | elapsed:  1.3min\n",
            "[Parallel(n_jobs=-1)]: Done 361 tasks      | elapsed:  1.4min\n",
            "[Parallel(n_jobs=-1)]: Done 388 tasks      | elapsed:  1.5min\n",
            "[Parallel(n_jobs=-1)]: Done 417 tasks      | elapsed:  1.6min\n",
            "[Parallel(n_jobs=-1)]: Done 446 tasks      | elapsed:  1.7min\n",
            "[Parallel(n_jobs=-1)]: Done 477 tasks      | elapsed:  1.8min\n",
            "[Parallel(n_jobs=-1)]: Done 508 tasks      | elapsed:  1.9min\n",
            "[Parallel(n_jobs=-1)]: Done 541 tasks      | elapsed:  2.0min\n",
            "[Parallel(n_jobs=-1)]: Done 574 tasks      | elapsed:  2.2min\n",
            "[Parallel(n_jobs=-1)]: Done 609 tasks      | elapsed:  2.3min\n",
            "[Parallel(n_jobs=-1)]: Done 644 tasks      | elapsed:  2.5min\n",
            "[Parallel(n_jobs=-1)]: Done 681 tasks      | elapsed:  2.6min\n",
            "[Parallel(n_jobs=-1)]: Done 718 tasks      | elapsed:  2.8min\n",
            "[Parallel(n_jobs=-1)]: Done 757 tasks      | elapsed:  2.9min\n",
            "[Parallel(n_jobs=-1)]: Done 796 tasks      | elapsed:  3.0min\n",
            "[Parallel(n_jobs=-1)]: Done 837 tasks      | elapsed:  3.2min\n",
            "[Parallel(n_jobs=-1)]: Done 878 tasks      | elapsed:  3.3min\n",
            "[Parallel(n_jobs=-1)]: Done 921 tasks      | elapsed:  3.5min\n",
            "[Parallel(n_jobs=-1)]: Done 964 tasks      | elapsed:  3.7min\n",
            "[Parallel(n_jobs=-1)]: Done 1009 tasks      | elapsed:  3.9min\n",
            "[Parallel(n_jobs=-1)]: Done 1054 tasks      | elapsed:  4.0min\n",
            "[Parallel(n_jobs=-1)]: Done 1101 tasks      | elapsed:  4.2min\n",
            "[Parallel(n_jobs=-1)]: Done 1148 tasks      | elapsed:  4.4min\n",
            "[Parallel(n_jobs=-1)]: Done 1197 tasks      | elapsed:  4.6min\n",
            "[Parallel(n_jobs=-1)]: Done 1246 tasks      | elapsed:  4.7min\n",
            "[Parallel(n_jobs=-1)]: Done 1297 tasks      | elapsed:  4.9min\n",
            "[Parallel(n_jobs=-1)]: Done 1348 tasks      | elapsed:  5.1min\n",
            "[Parallel(n_jobs=-1)]: Done 1401 tasks      | elapsed:  5.4min\n",
            "[Parallel(n_jobs=-1)]: Done 1440 out of 1440 | elapsed:  5.5min finished\n"
          ],
          "name": "stderr"
        },
        {
          "output_type": "stream",
          "text": [
            " Results from Grid Search \n",
            "\n",
            " The best estimator across ALL searched params:\n",
            " RandomForestRegressor(bootstrap=True, ccp_alpha=0.0, criterion='mse',\n",
            "                      max_depth=80, max_features=3, max_leaf_nodes=None,\n",
            "                      max_samples=None, min_impurity_decrease=0.0,\n",
            "                      min_impurity_split=None, min_samples_leaf=3,\n",
            "                      min_samples_split=12, min_weight_fraction_leaf=0.0,\n",
            "                      n_estimators=120, n_jobs=None, oob_score=False,\n",
            "                      random_state=None, verbose=0, warm_start=False)\n",
            "\n",
            " The best score across ALL searched params:\n",
            " 0.10911834843374117\n",
            "\n",
            " The best parameters across ALL searched params:\n",
            " {'max_depth': 80, 'max_features': 3, 'min_samples_leaf': 3, 'min_samples_split': 12, 'n_estimators': 120}\n"
          ],
          "name": "stdout"
        }
      ]
    },
    {
      "cell_type": "code",
      "metadata": {
        "id": "-6b_ltNoH0Q_",
        "outputId": "42bd6658-2665-4773-f939-248836c4196c",
        "colab": {
          "base_uri": "https://localhost:8080/",
          "height": 206
        }
      },
      "source": [
        "scaler = StandardScaler().fit(X)\n",
        "rescaled_X_train = scaler.transform(X)\n",
        "model = RandomForestRegressor(**grid_RF.best_params_)\n",
        "model.fit(rescaled_X_train, y)\n",
        "\n",
        "scaler = StandardScaler().fit(test)\n",
        "rescaled_X_test = scaler.transform(test)\n",
        "predictions = model.predict(rescaled_X_test)\n",
        "\n",
        "df3 = pd.DataFrame(predictions.astype(int))\n",
        "df3.columns=['Price']\n",
        "filepath3 = 'Predictions_RandomForest.xlsx'\n",
        "df3.to_excel(filepath3, index=False)\n",
        "df3.head()"
      ],
      "execution_count": 39,
      "outputs": [
        {
          "output_type": "execute_result",
          "data": {
            "text/html": [
              "<div>\n",
              "<style scoped>\n",
              "    .dataframe tbody tr th:only-of-type {\n",
              "        vertical-align: middle;\n",
              "    }\n",
              "\n",
              "    .dataframe tbody tr th {\n",
              "        vertical-align: top;\n",
              "    }\n",
              "\n",
              "    .dataframe thead th {\n",
              "        text-align: right;\n",
              "    }\n",
              "</style>\n",
              "<table border=\"1\" class=\"dataframe\">\n",
              "  <thead>\n",
              "    <tr style=\"text-align: right;\">\n",
              "      <th></th>\n",
              "      <th>Price</th>\n",
              "    </tr>\n",
              "  </thead>\n",
              "  <tbody>\n",
              "    <tr>\n",
              "      <th>0</th>\n",
              "      <td>433</td>\n",
              "    </tr>\n",
              "    <tr>\n",
              "      <th>1</th>\n",
              "      <td>516</td>\n",
              "    </tr>\n",
              "    <tr>\n",
              "      <th>2</th>\n",
              "      <td>472</td>\n",
              "    </tr>\n",
              "    <tr>\n",
              "      <th>3</th>\n",
              "      <td>403</td>\n",
              "    </tr>\n",
              "    <tr>\n",
              "      <th>4</th>\n",
              "      <td>397</td>\n",
              "    </tr>\n",
              "  </tbody>\n",
              "</table>\n",
              "</div>"
            ],
            "text/plain": [
              "   Price\n",
              "0    433\n",
              "1    516\n",
              "2    472\n",
              "3    403\n",
              "4    397"
            ]
          },
          "metadata": {
            "tags": []
          },
          "execution_count": 39
        }
      ]
    },
    {
      "cell_type": "markdown",
      "metadata": {
        "id": "YB2sJDICLCtA"
      },
      "source": [
        "KNeighbors Regressor\n",
        "\n"
      ]
    },
    {
      "cell_type": "code",
      "metadata": {
        "id": "awmrv5OsbvJN",
        "outputId": "b2daab0f-ee97-4d96-a318-0fdf265af475",
        "colab": {
          "base_uri": "https://localhost:8080/"
        }
      },
      "source": [
        "parameters = {\n",
        "    'n_neighbors': [4, 5, 6, 7],\n",
        "    'weights': ['uniform', 'distance'],\n",
        "    'p': [1, 2]\n",
        "}\n",
        "scaler = StandardScaler().fit(X)\n",
        "rescaled_X_train = scaler.transform(X)\n",
        "grid_KNN = GridSearchCV(estimator=KNeighborsRegressor(), param_grid = parameters, cv = 5, n_jobs=-1,verbose =10)\n",
        "grid_KNN.fit(rescaled_X_train, y)\n",
        "print(\" Results from Grid Search \" )\n",
        "print(\"\\n The best estimator across ALL searched params:\\n\",grid_KNN.best_estimator_)\n",
        "print(\"\\n The best score across ALL searched params:\\n\",grid_KNN.best_score_)\n",
        "print(\"\\n The best parameters across ALL searched params:\\n\",grid_KNN.best_params_)"
      ],
      "execution_count": 40,
      "outputs": [
        {
          "output_type": "stream",
          "text": [
            "Fitting 5 folds for each of 16 candidates, totalling 80 fits\n"
          ],
          "name": "stdout"
        },
        {
          "output_type": "stream",
          "text": [
            "[Parallel(n_jobs=-1)]: Using backend LokyBackend with 2 concurrent workers.\n",
            "[Parallel(n_jobs=-1)]: Done   1 tasks      | elapsed:    0.5s\n",
            "[Parallel(n_jobs=-1)]: Done   4 tasks      | elapsed:    1.0s\n",
            "[Parallel(n_jobs=-1)]: Done   9 tasks      | elapsed:    2.3s\n",
            "[Parallel(n_jobs=-1)]: Done  14 tasks      | elapsed:    3.1s\n",
            "[Parallel(n_jobs=-1)]: Done  21 tasks      | elapsed:    4.6s\n",
            "[Parallel(n_jobs=-1)]: Done  28 tasks      | elapsed:    6.1s\n",
            "[Parallel(n_jobs=-1)]: Done  37 tasks      | elapsed:    7.9s\n",
            "[Parallel(n_jobs=-1)]: Done  46 tasks      | elapsed:    9.9s\n",
            "[Parallel(n_jobs=-1)]: Done  57 tasks      | elapsed:   12.1s\n",
            "[Parallel(n_jobs=-1)]: Done  68 tasks      | elapsed:   14.5s\n"
          ],
          "name": "stderr"
        },
        {
          "output_type": "stream",
          "text": [
            " Results from Grid Search \n",
            "\n",
            " The best estimator across ALL searched params:\n",
            " KNeighborsRegressor(algorithm='auto', leaf_size=30, metric='minkowski',\n",
            "                    metric_params=None, n_jobs=None, n_neighbors=7, p=1,\n",
            "                    weights='uniform')\n",
            "\n",
            " The best score across ALL searched params:\n",
            " 0.028925126430959368\n",
            "\n",
            " The best parameters across ALL searched params:\n",
            " {'n_neighbors': 7, 'p': 1, 'weights': 'uniform'}\n"
          ],
          "name": "stdout"
        },
        {
          "output_type": "stream",
          "text": [
            "[Parallel(n_jobs=-1)]: Done  80 out of  80 | elapsed:   16.8s finished\n"
          ],
          "name": "stderr"
        }
      ]
    },
    {
      "cell_type": "code",
      "metadata": {
        "id": "65P71E2jLFTf",
        "outputId": "d9290567-fdeb-418e-b000-d5cd6c8222e0",
        "colab": {
          "base_uri": "https://localhost:8080/",
          "height": 206
        }
      },
      "source": [
        "scaler = StandardScaler().fit(X)\n",
        "rescaled_X_train = scaler.transform(X)\n",
        "model = KNeighborsRegressor(**grid_KNN.best_params_)\n",
        "model.fit(rescaled_X_train, y)\n",
        "\n",
        "scaler = StandardScaler().fit(test)\n",
        "rescaled_X_test = scaler.transform(test)\n",
        "predictions = model.predict(rescaled_X_test)\n",
        "\n",
        "df4 = pd.DataFrame(predictions.astype(int))\n",
        "df4.columns=['Price']\n",
        "filepath4 = 'Predictions_KNeighbors.xlsx'\n",
        "df4.to_excel(filepath4, index=False)\n",
        "df4.head()"
      ],
      "execution_count": 41,
      "outputs": [
        {
          "output_type": "execute_result",
          "data": {
            "text/html": [
              "<div>\n",
              "<style scoped>\n",
              "    .dataframe tbody tr th:only-of-type {\n",
              "        vertical-align: middle;\n",
              "    }\n",
              "\n",
              "    .dataframe tbody tr th {\n",
              "        vertical-align: top;\n",
              "    }\n",
              "\n",
              "    .dataframe thead th {\n",
              "        text-align: right;\n",
              "    }\n",
              "</style>\n",
              "<table border=\"1\" class=\"dataframe\">\n",
              "  <thead>\n",
              "    <tr style=\"text-align: right;\">\n",
              "      <th></th>\n",
              "      <th>Price</th>\n",
              "    </tr>\n",
              "  </thead>\n",
              "  <tbody>\n",
              "    <tr>\n",
              "      <th>0</th>\n",
              "      <td>342</td>\n",
              "    </tr>\n",
              "    <tr>\n",
              "      <th>1</th>\n",
              "      <td>451</td>\n",
              "    </tr>\n",
              "    <tr>\n",
              "      <th>2</th>\n",
              "      <td>407</td>\n",
              "    </tr>\n",
              "    <tr>\n",
              "      <th>3</th>\n",
              "      <td>290</td>\n",
              "    </tr>\n",
              "    <tr>\n",
              "      <th>4</th>\n",
              "      <td>263</td>\n",
              "    </tr>\n",
              "  </tbody>\n",
              "</table>\n",
              "</div>"
            ],
            "text/plain": [
              "   Price\n",
              "0    342\n",
              "1    451\n",
              "2    407\n",
              "3    290\n",
              "4    263"
            ]
          },
          "metadata": {
            "tags": []
          },
          "execution_count": 41
        }
      ]
    },
    {
      "cell_type": "markdown",
      "metadata": {
        "id": "KFUsfysCMAqF"
      },
      "source": [
        "Elastic Net\n",
        "\n",
        "\n"
      ]
    },
    {
      "cell_type": "code",
      "metadata": {
        "id": "-D8i0JdacA1o",
        "outputId": "99913d36-5f07-4f0e-e38b-d0d8eef30b02",
        "colab": {
          "base_uri": "https://localhost:8080/"
        }
      },
      "source": [
        "parameters = {\n",
        "    'alpha': [0,0.5,1],\n",
        "    'l1_ratio': [0,0.5,1],\n",
        "    'selection': ['cyclic', 'random']\n",
        "}\n",
        "scaler = StandardScaler().fit(X)\n",
        "rescaled_X_train = scaler.transform(X)\n",
        "grid_EN = GridSearchCV(estimator=ElasticNet(), param_grid = parameters, cv = 5, n_jobs=-1,verbose =10)\n",
        "grid_EN.fit(rescaled_X_train, y)\n",
        "print(\" Results from Grid Search \" )\n",
        "print(\"\\n The best estimator across ALL searched params:\\n\",grid_EN.best_estimator_)\n",
        "print(\"\\n The best score across ALL searched params:\\n\",grid_EN.best_score_)\n",
        "print(\"\\n The best parameters across ALL searched params:\\n\",grid_EN.best_params_)"
      ],
      "execution_count": 42,
      "outputs": [
        {
          "output_type": "stream",
          "text": [
            "Fitting 5 folds for each of 18 candidates, totalling 90 fits\n"
          ],
          "name": "stdout"
        },
        {
          "output_type": "stream",
          "text": [
            "[Parallel(n_jobs=-1)]: Using backend LokyBackend with 2 concurrent workers.\n",
            "[Parallel(n_jobs=-1)]: Done   1 tasks      | elapsed:    0.2s\n",
            "[Parallel(n_jobs=-1)]: Batch computation too fast (0.1568s.) Setting batch_size=2.\n",
            "[Parallel(n_jobs=-1)]: Done   4 tasks      | elapsed:    0.3s\n",
            "[Parallel(n_jobs=-1)]: Done  14 tasks      | elapsed:    1.2s\n",
            "[Parallel(n_jobs=-1)]: Done  24 tasks      | elapsed:    1.9s\n",
            "[Parallel(n_jobs=-1)]: Done  38 tasks      | elapsed:    3.2s\n",
            "[Parallel(n_jobs=-1)]: Done  52 tasks      | elapsed:    3.4s\n",
            "[Parallel(n_jobs=-1)]: Batch computation too fast (0.1898s.) Setting batch_size=4.\n",
            "[Parallel(n_jobs=-1)]: Done  72 tasks      | elapsed:    4.2s\n"
          ],
          "name": "stderr"
        },
        {
          "output_type": "stream",
          "text": [
            " Results from Grid Search \n",
            "\n",
            " The best estimator across ALL searched params:\n",
            " ElasticNet(alpha=0.5, copy_X=True, fit_intercept=True, l1_ratio=0.5,\n",
            "           max_iter=1000, normalize=False, positive=False, precompute=False,\n",
            "           random_state=None, selection='random', tol=0.0001, warm_start=False)\n",
            "\n",
            " The best score across ALL searched params:\n",
            " 0.08216177600194238\n",
            "\n",
            " The best parameters across ALL searched params:\n",
            " {'alpha': 0.5, 'l1_ratio': 0.5, 'selection': 'random'}\n"
          ],
          "name": "stdout"
        },
        {
          "output_type": "stream",
          "text": [
            "[Parallel(n_jobs=-1)]: Done  90 out of  90 | elapsed:    4.6s finished\n"
          ],
          "name": "stderr"
        }
      ]
    },
    {
      "cell_type": "code",
      "metadata": {
        "id": "jw2HN91eMBz7",
        "outputId": "d04882a1-3977-4e5d-f9dd-9b9933448919",
        "colab": {
          "base_uri": "https://localhost:8080/",
          "height": 206
        }
      },
      "source": [
        "scaler = StandardScaler().fit(X)\n",
        "rescaled_X_train = scaler.transform(X)\n",
        "model = ElasticNet(**grid_EN.best_params_)\n",
        "model.fit(rescaled_X_train, y)\n",
        "\n",
        "scaler = StandardScaler().fit(test)\n",
        "rescaled_X_test = scaler.transform(test)\n",
        "predictions = model.predict(rescaled_X_test)\n",
        "\n",
        "df5 = pd.DataFrame(predictions.astype(int))\n",
        "df5.columns=['Price']\n",
        "filepath5 = 'Predictions_ElasticNet.xlsx'\n",
        "df5.to_excel(filepath5, index=False)\n",
        "df5.head()"
      ],
      "execution_count": 43,
      "outputs": [
        {
          "output_type": "execute_result",
          "data": {
            "text/html": [
              "<div>\n",
              "<style scoped>\n",
              "    .dataframe tbody tr th:only-of-type {\n",
              "        vertical-align: middle;\n",
              "    }\n",
              "\n",
              "    .dataframe tbody tr th {\n",
              "        vertical-align: top;\n",
              "    }\n",
              "\n",
              "    .dataframe thead th {\n",
              "        text-align: right;\n",
              "    }\n",
              "</style>\n",
              "<table border=\"1\" class=\"dataframe\">\n",
              "  <thead>\n",
              "    <tr style=\"text-align: right;\">\n",
              "      <th></th>\n",
              "      <th>Price</th>\n",
              "    </tr>\n",
              "  </thead>\n",
              "  <tbody>\n",
              "    <tr>\n",
              "      <th>0</th>\n",
              "      <td>213</td>\n",
              "    </tr>\n",
              "    <tr>\n",
              "      <th>1</th>\n",
              "      <td>502</td>\n",
              "    </tr>\n",
              "    <tr>\n",
              "      <th>2</th>\n",
              "      <td>501</td>\n",
              "    </tr>\n",
              "    <tr>\n",
              "      <th>3</th>\n",
              "      <td>447</td>\n",
              "    </tr>\n",
              "    <tr>\n",
              "      <th>4</th>\n",
              "      <td>465</td>\n",
              "    </tr>\n",
              "  </tbody>\n",
              "</table>\n",
              "</div>"
            ],
            "text/plain": [
              "   Price\n",
              "0    213\n",
              "1    502\n",
              "2    501\n",
              "3    447\n",
              "4    465"
            ]
          },
          "metadata": {
            "tags": []
          },
          "execution_count": 43
        }
      ]
    },
    {
      "cell_type": "markdown",
      "metadata": {
        "id": "pllMX3gAMn0J"
      },
      "source": [
        "Lasso\n",
        "\n"
      ]
    },
    {
      "cell_type": "code",
      "metadata": {
        "id": "b0raD7zLcJmx",
        "outputId": "33bcdb17-277a-48d7-a043-f736cae254e5",
        "colab": {
          "base_uri": "https://localhost:8080/"
        }
      },
      "source": [
        "parameters = {\n",
        "    'alpha': [0,0.5,1],\n",
        "    'selection': ['cyclic', 'random']\n",
        "}\n",
        "scaler = StandardScaler().fit(X)\n",
        "rescaled_X_train = scaler.transform(X)\n",
        "grid_LASSO = GridSearchCV(estimator=Lasso(), param_grid = parameters, cv = 5, n_jobs=-1,verbose =10)\n",
        "grid_LASSO.fit(rescaled_X_train, y)\n",
        "print(\" Results from Grid Search \" )\n",
        "print(\"\\n The best estimator across ALL searched params:\\n\",grid_LASSO.best_estimator_)\n",
        "print(\"\\n The best score across ALL searched params:\\n\",grid_LASSO.best_score_)\n",
        "print(\"\\n The best parameters across ALL searched params:\\n\",grid_LASSO.best_params_)"
      ],
      "execution_count": 44,
      "outputs": [
        {
          "output_type": "stream",
          "text": [
            "Fitting 5 folds for each of 6 candidates, totalling 30 fits\n"
          ],
          "name": "stdout"
        },
        {
          "output_type": "stream",
          "text": [
            "[Parallel(n_jobs=-1)]: Using backend LokyBackend with 2 concurrent workers.\n",
            "[Parallel(n_jobs=-1)]: Done   1 tasks      | elapsed:    0.1s\n",
            "[Parallel(n_jobs=-1)]: Batch computation too fast (0.1435s.) Setting batch_size=2.\n",
            "[Parallel(n_jobs=-1)]: Done   4 tasks      | elapsed:    0.3s\n",
            "[Parallel(n_jobs=-1)]: Done  14 tasks      | elapsed:    0.9s\n",
            "[Parallel(n_jobs=-1)]: Done  24 tasks      | elapsed:    1.1s\n",
            "[Parallel(n_jobs=-1)]: Done  27 out of  30 | elapsed:    1.1s remaining:    0.1s\n"
          ],
          "name": "stderr"
        },
        {
          "output_type": "stream",
          "text": [
            " Results from Grid Search \n",
            "\n",
            " The best estimator across ALL searched params:\n",
            " Lasso(alpha=0.5, copy_X=True, fit_intercept=True, max_iter=1000,\n",
            "      normalize=False, positive=False, precompute=False, random_state=None,\n",
            "      selection='random', tol=0.0001, warm_start=False)\n",
            "\n",
            " The best score across ALL searched params:\n",
            " 0.08017183741846959\n",
            "\n",
            " The best parameters across ALL searched params:\n",
            " {'alpha': 0.5, 'selection': 'random'}\n"
          ],
          "name": "stdout"
        },
        {
          "output_type": "stream",
          "text": [
            "[Parallel(n_jobs=-1)]: Done  30 out of  30 | elapsed:    1.1s finished\n"
          ],
          "name": "stderr"
        }
      ]
    },
    {
      "cell_type": "code",
      "metadata": {
        "id": "JfI1s-lyMo8T",
        "outputId": "b4117e65-f77b-4c40-86a7-49c536957223",
        "colab": {
          "base_uri": "https://localhost:8080/",
          "height": 206
        }
      },
      "source": [
        "scaler = StandardScaler().fit(X)\n",
        "rescaled_X_train = scaler.transform(X)\n",
        "model = Lasso(**grid_LASSO.best_params_)\n",
        "model.fit(rescaled_X_train, y)\n",
        "\n",
        "scaler = StandardScaler().fit(test)\n",
        "rescaled_X_test = scaler.transform(test)\n",
        "predictions = model.predict(rescaled_X_test)\n",
        "\n",
        "df6 = pd.DataFrame(predictions.astype(int))\n",
        "df6.columns=['Price']\n",
        "filepath6 = 'Predictions_Lasso.xlsx'\n",
        "df6.to_excel(filepath6, index=False)\n",
        "df6.head()"
      ],
      "execution_count": 45,
      "outputs": [
        {
          "output_type": "execute_result",
          "data": {
            "text/html": [
              "<div>\n",
              "<style scoped>\n",
              "    .dataframe tbody tr th:only-of-type {\n",
              "        vertical-align: middle;\n",
              "    }\n",
              "\n",
              "    .dataframe tbody tr th {\n",
              "        vertical-align: top;\n",
              "    }\n",
              "\n",
              "    .dataframe thead th {\n",
              "        text-align: right;\n",
              "    }\n",
              "</style>\n",
              "<table border=\"1\" class=\"dataframe\">\n",
              "  <thead>\n",
              "    <tr style=\"text-align: right;\">\n",
              "      <th></th>\n",
              "      <th>Price</th>\n",
              "    </tr>\n",
              "  </thead>\n",
              "  <tbody>\n",
              "    <tr>\n",
              "      <th>0</th>\n",
              "      <td>136</td>\n",
              "    </tr>\n",
              "    <tr>\n",
              "      <th>1</th>\n",
              "      <td>509</td>\n",
              "    </tr>\n",
              "    <tr>\n",
              "      <th>2</th>\n",
              "      <td>508</td>\n",
              "    </tr>\n",
              "    <tr>\n",
              "      <th>3</th>\n",
              "      <td>442</td>\n",
              "    </tr>\n",
              "    <tr>\n",
              "      <th>4</th>\n",
              "      <td>464</td>\n",
              "    </tr>\n",
              "  </tbody>\n",
              "</table>\n",
              "</div>"
            ],
            "text/plain": [
              "   Price\n",
              "0    136\n",
              "1    509\n",
              "2    508\n",
              "3    442\n",
              "4    464"
            ]
          },
          "metadata": {
            "tags": []
          },
          "execution_count": 45
        }
      ]
    },
    {
      "cell_type": "markdown",
      "metadata": {
        "id": "_IcpMYLcEly6"
      },
      "source": [
        "SVR"
      ]
    },
    {
      "cell_type": "code",
      "metadata": {
        "id": "tZMwt5vLElHK",
        "outputId": "962b436f-7e23-4a15-f58a-78bab5b231cc",
        "colab": {
          "base_uri": "https://localhost:8080/"
        }
      },
      "source": [
        "parameters = {\n",
        "    'C': [1,2,5,10],\n",
        "    'epsilon': [0.1,0.2,0.3],\n",
        "    'kernel' : ['linear', 'poly', 'rbf', 'sigmoid']\n",
        "}\n",
        "scaler = StandardScaler().fit(X)\n",
        "rescaled_X_train = scaler.transform(X)\n",
        "grid_SVR = GridSearchCV(estimator=SVR(), param_grid = parameters, cv = 5, n_jobs=-1,verbose =10)\n",
        "grid_SVR.fit(rescaled_X_train, y)\n",
        "print(\" Results from Grid Search \" )\n",
        "print(\"\\n The best estimator across ALL searched params:\\n\",grid_SVR.best_estimator_)\n",
        "print(\"\\n The best score across ALL searched params:\\n\",grid_SVR.best_score_)\n",
        "print(\"\\n The best parameters across ALL searched params:\\n\",grid_SVR.best_params_)"
      ],
      "execution_count": 46,
      "outputs": [
        {
          "output_type": "stream",
          "text": [
            "[Parallel(n_jobs=-1)]: Using backend LokyBackend with 2 concurrent workers.\n"
          ],
          "name": "stderr"
        },
        {
          "output_type": "stream",
          "text": [
            "Fitting 5 folds for each of 48 candidates, totalling 240 fits\n"
          ],
          "name": "stdout"
        },
        {
          "output_type": "stream",
          "text": [
            "[Parallel(n_jobs=-1)]: Done   1 tasks      | elapsed:    2.0s\n",
            "[Parallel(n_jobs=-1)]: Done   4 tasks      | elapsed:    4.0s\n",
            "[Parallel(n_jobs=-1)]: Done   9 tasks      | elapsed:   10.2s\n",
            "[Parallel(n_jobs=-1)]: Done  14 tasks      | elapsed:   16.6s\n",
            "[Parallel(n_jobs=-1)]: Done  21 tasks      | elapsed:   27.5s\n",
            "[Parallel(n_jobs=-1)]: Done  28 tasks      | elapsed:   33.7s\n",
            "[Parallel(n_jobs=-1)]: Done  37 tasks      | elapsed:   48.1s\n",
            "[Parallel(n_jobs=-1)]: Done  46 tasks      | elapsed:   57.1s\n",
            "[Parallel(n_jobs=-1)]: Done  57 tasks      | elapsed:  1.2min\n",
            "[Parallel(n_jobs=-1)]: Done  68 tasks      | elapsed:  1.4min\n",
            "[Parallel(n_jobs=-1)]: Done  81 tasks      | elapsed:  1.7min\n",
            "[Parallel(n_jobs=-1)]: Done  94 tasks      | elapsed:  2.0min\n",
            "[Parallel(n_jobs=-1)]: Done 109 tasks      | elapsed:  2.3min\n",
            "[Parallel(n_jobs=-1)]: Done 124 tasks      | elapsed:  2.6min\n",
            "[Parallel(n_jobs=-1)]: Done 141 tasks      | elapsed:  3.0min\n",
            "[Parallel(n_jobs=-1)]: Done 158 tasks      | elapsed:  3.4min\n",
            "[Parallel(n_jobs=-1)]: Done 177 tasks      | elapsed:  3.8min\n",
            "[Parallel(n_jobs=-1)]: Done 196 tasks      | elapsed:  4.2min\n",
            "[Parallel(n_jobs=-1)]: Done 217 tasks      | elapsed:  4.6min\n",
            "[Parallel(n_jobs=-1)]: Done 240 out of 240 | elapsed:  5.1min finished\n"
          ],
          "name": "stderr"
        },
        {
          "output_type": "stream",
          "text": [
            " Results from Grid Search \n",
            "\n",
            " The best estimator across ALL searched params:\n",
            " SVR(C=10, cache_size=200, coef0=0.0, degree=3, epsilon=0.3, gamma='scale',\n",
            "    kernel='rbf', max_iter=-1, shrinking=True, tol=0.001, verbose=False)\n",
            "\n",
            " The best score across ALL searched params:\n",
            " 0.01477152523106493\n",
            "\n",
            " The best parameters across ALL searched params:\n",
            " {'C': 10, 'epsilon': 0.3, 'kernel': 'rbf'}\n"
          ],
          "name": "stdout"
        }
      ]
    },
    {
      "cell_type": "code",
      "metadata": {
        "id": "9H4mUlVuEpcr",
        "outputId": "4d47a5ce-ff14-4821-bac1-5e873087068c",
        "colab": {
          "base_uri": "https://localhost:8080/",
          "height": 206
        }
      },
      "source": [
        "scaler = StandardScaler().fit(X)\n",
        "rescaled_X_train = scaler.transform(X)\n",
        "model = SVR(**grid_SVR.best_params_)\n",
        "model.fit(rescaled_X_train, y)\n",
        "\n",
        "scaler = StandardScaler().fit(test)\n",
        "rescaled_X_test = scaler.transform(test)\n",
        "predictions = model.predict(rescaled_X_test)\n",
        "\n",
        "df7 = pd.DataFrame(predictions.astype(int))\n",
        "df7.columns=['Price']\n",
        "filepath7 = 'Predictions_SVR.xlsx'\n",
        "df7.to_excel(filepath7, index=False)\n",
        "df7.head()"
      ],
      "execution_count": 47,
      "outputs": [
        {
          "output_type": "execute_result",
          "data": {
            "text/html": [
              "<div>\n",
              "<style scoped>\n",
              "    .dataframe tbody tr th:only-of-type {\n",
              "        vertical-align: middle;\n",
              "    }\n",
              "\n",
              "    .dataframe tbody tr th {\n",
              "        vertical-align: top;\n",
              "    }\n",
              "\n",
              "    .dataframe thead th {\n",
              "        text-align: right;\n",
              "    }\n",
              "</style>\n",
              "<table border=\"1\" class=\"dataframe\">\n",
              "  <thead>\n",
              "    <tr style=\"text-align: right;\">\n",
              "      <th></th>\n",
              "      <th>Price</th>\n",
              "    </tr>\n",
              "  </thead>\n",
              "  <tbody>\n",
              "    <tr>\n",
              "      <th>0</th>\n",
              "      <td>414</td>\n",
              "    </tr>\n",
              "    <tr>\n",
              "      <th>1</th>\n",
              "      <td>419</td>\n",
              "    </tr>\n",
              "    <tr>\n",
              "      <th>2</th>\n",
              "      <td>418</td>\n",
              "    </tr>\n",
              "    <tr>\n",
              "      <th>3</th>\n",
              "      <td>332</td>\n",
              "    </tr>\n",
              "    <tr>\n",
              "      <th>4</th>\n",
              "      <td>355</td>\n",
              "    </tr>\n",
              "  </tbody>\n",
              "</table>\n",
              "</div>"
            ],
            "text/plain": [
              "   Price\n",
              "0    414\n",
              "1    419\n",
              "2    418\n",
              "3    332\n",
              "4    355"
            ]
          },
          "metadata": {
            "tags": []
          },
          "execution_count": 47
        }
      ]
    }
  ]
}