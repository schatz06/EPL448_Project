{
  "nbformat": 4,
  "nbformat_minor": 0,
  "metadata": {
    "colab": {
      "name": "Project.ipynb",
      "provenance": [],
      "collapsed_sections": [
        "lSZ9eR3V62Sl"
      ],
      "toc_visible": true,
      "include_colab_link": true
    },
    "kernelspec": {
      "name": "python3",
      "display_name": "Python 3"
    }
  },
  "cells": [
    {
      "cell_type": "markdown",
      "metadata": {
        "id": "view-in-github",
        "colab_type": "text"
      },
      "source": [
        "<a href=\"https://colab.research.google.com/github/schatz06/EPL448_Project/blob/main/newversion.ipynb\" target=\"_parent\"><img src=\"https://colab.research.google.com/assets/colab-badge.svg\" alt=\"Open In Colab\"/></a>"
      ]
    },
    {
      "cell_type": "markdown",
      "metadata": {
        "id": "aEzG66o-6q4k"
      },
      "source": [
        "##Import Packages ## "
      ]
    },
    {
      "cell_type": "code",
      "metadata": {
        "id": "_w-zmPSb3hbo"
      },
      "source": [
        "import numpy as np \n",
        "import pandas as pd \n",
        "import matplotlib.pyplot as plt\n",
        "import sklearn\n",
        "from sklearn.preprocessing import MinMaxScaler\n",
        "from sklearn.preprocessing import PowerTransformer\n",
        "import pandas.plotting as pdplt"
      ],
      "execution_count": 1,
      "outputs": []
    },
    {
      "cell_type": "markdown",
      "metadata": {
        "id": "qZVs8QhC692H"
      },
      "source": [
        "##Read Data##"
      ]
    },
    {
      "cell_type": "code",
      "metadata": {
        "id": "e8JFrF547AWh"
      },
      "source": [
        "train_data = pd.read_excel('Data_Train.xlsx') # read training data\n",
        "test_data  = pd.read_excel('Data_Test.xlsx') # read test data"
      ],
      "execution_count": 2,
      "outputs": []
    },
    {
      "cell_type": "markdown",
      "metadata": {
        "id": "T_HnEvEW9Azg"
      },
      "source": [
        "Check for corrupted or empty records"
      ]
    },
    {
      "cell_type": "code",
      "metadata": {
        "colab": {
          "base_uri": "https://localhost:8080/"
        },
        "id": "RCJcTvO28eMw",
        "outputId": "b7a51a1d-4c63-4c31-9a46-4698cd14a835"
      },
      "source": [
        "print(\"Shape of train data\",train_data.shape,\"Problematic records in training data: \",train_data.isnull().sum().sum())\n",
        "print(\"Shape of test data\",test_data.shape,\"Problematic records in test data: \",test_data.isnull().sum().sum())"
      ],
      "execution_count": 3,
      "outputs": [
        {
          "output_type": "stream",
          "text": [
            "Shape of train data (6237, 9) Problematic records in training data:  0\n",
            "Shape of test data (1560, 8) Problematic records in test data:  0\n"
          ],
          "name": "stdout"
        }
      ]
    },
    {
      "cell_type": "markdown",
      "metadata": {
        "id": "kI7MFZS_-qOk"
      },
      "source": [
        "##Train Data Preprocessing##"
      ]
    },
    {
      "cell_type": "markdown",
      "metadata": {
        "id": "_4gcx2GexpaF"
      },
      "source": [
        "Peek of the data"
      ]
    },
    {
      "cell_type": "code",
      "metadata": {
        "id": "ZIPjvBKExr5N",
        "colab": {
          "base_uri": "https://localhost:8080/",
          "height": 293
        },
        "outputId": "f9560059-c2df-48ce-8bf0-eeb6d0b71c23"
      },
      "source": [
        "train_data.head()"
      ],
      "execution_count": 4,
      "outputs": [
        {
          "output_type": "execute_result",
          "data": {
            "text/html": [
              "<div>\n",
              "<style scoped>\n",
              "    .dataframe tbody tr th:only-of-type {\n",
              "        vertical-align: middle;\n",
              "    }\n",
              "\n",
              "    .dataframe tbody tr th {\n",
              "        vertical-align: top;\n",
              "    }\n",
              "\n",
              "    .dataframe thead th {\n",
              "        text-align: right;\n",
              "    }\n",
              "</style>\n",
              "<table border=\"1\" class=\"dataframe\">\n",
              "  <thead>\n",
              "    <tr style=\"text-align: right;\">\n",
              "      <th></th>\n",
              "      <th>Title</th>\n",
              "      <th>Author</th>\n",
              "      <th>Edition</th>\n",
              "      <th>Reviews</th>\n",
              "      <th>Ratings</th>\n",
              "      <th>Synopsis</th>\n",
              "      <th>Genre</th>\n",
              "      <th>BookCategory</th>\n",
              "      <th>Price</th>\n",
              "    </tr>\n",
              "  </thead>\n",
              "  <tbody>\n",
              "    <tr>\n",
              "      <th>0</th>\n",
              "      <td>The Prisoner's Gold (The Hunters 3)</td>\n",
              "      <td>Chris Kuzneski</td>\n",
              "      <td>Paperback,– 10 Mar 2016</td>\n",
              "      <td>4.0 out of 5 stars</td>\n",
              "      <td>8 customer reviews</td>\n",
              "      <td>THE HUNTERS return in their third brilliant no...</td>\n",
              "      <td>Action &amp; Adventure (Books)</td>\n",
              "      <td>Action &amp; Adventure</td>\n",
              "      <td>220.00</td>\n",
              "    </tr>\n",
              "    <tr>\n",
              "      <th>1</th>\n",
              "      <td>Guru Dutt: A Tragedy in Three Acts</td>\n",
              "      <td>Arun Khopkar</td>\n",
              "      <td>Paperback,– 7 Nov 2012</td>\n",
              "      <td>3.9 out of 5 stars</td>\n",
              "      <td>14 customer reviews</td>\n",
              "      <td>A layered portrait of a troubled genius for wh...</td>\n",
              "      <td>Cinema &amp; Broadcast (Books)</td>\n",
              "      <td>Biographies, Diaries &amp; True Accounts</td>\n",
              "      <td>202.93</td>\n",
              "    </tr>\n",
              "    <tr>\n",
              "      <th>2</th>\n",
              "      <td>Leviathan (Penguin Classics)</td>\n",
              "      <td>Thomas Hobbes</td>\n",
              "      <td>Paperback,– 25 Feb 1982</td>\n",
              "      <td>4.8 out of 5 stars</td>\n",
              "      <td>6 customer reviews</td>\n",
              "      <td>\"During the time men live without a common Pow...</td>\n",
              "      <td>International Relations</td>\n",
              "      <td>Humour</td>\n",
              "      <td>299.00</td>\n",
              "    </tr>\n",
              "    <tr>\n",
              "      <th>3</th>\n",
              "      <td>A Pocket Full of Rye (Miss Marple)</td>\n",
              "      <td>Agatha Christie</td>\n",
              "      <td>Paperback,– 5 Oct 2017</td>\n",
              "      <td>4.1 out of 5 stars</td>\n",
              "      <td>13 customer reviews</td>\n",
              "      <td>A handful of grain is found in the pocket of a...</td>\n",
              "      <td>Contemporary Fiction (Books)</td>\n",
              "      <td>Crime, Thriller &amp; Mystery</td>\n",
              "      <td>180.00</td>\n",
              "    </tr>\n",
              "    <tr>\n",
              "      <th>4</th>\n",
              "      <td>LIFE 70 Years of Extraordinary Photography</td>\n",
              "      <td>Editors of Life</td>\n",
              "      <td>Hardcover,– 10 Oct 2006</td>\n",
              "      <td>5.0 out of 5 stars</td>\n",
              "      <td>1 customer review</td>\n",
              "      <td>For seven decades, \"Life\" has been thrilling t...</td>\n",
              "      <td>Photography Textbooks</td>\n",
              "      <td>Arts, Film &amp; Photography</td>\n",
              "      <td>965.62</td>\n",
              "    </tr>\n",
              "  </tbody>\n",
              "</table>\n",
              "</div>"
            ],
            "text/plain": [
              "                                        Title  ...   Price\n",
              "0         The Prisoner's Gold (The Hunters 3)  ...  220.00\n",
              "1          Guru Dutt: A Tragedy in Three Acts  ...  202.93\n",
              "2                Leviathan (Penguin Classics)  ...  299.00\n",
              "3          A Pocket Full of Rye (Miss Marple)  ...  180.00\n",
              "4  LIFE 70 Years of Extraordinary Photography  ...  965.62\n",
              "\n",
              "[5 rows x 9 columns]"
            ]
          },
          "metadata": {
            "tags": []
          },
          "execution_count": 4
        }
      ]
    },
    {
      "cell_type": "markdown",
      "metadata": {
        "id": "XbiMRVP7yP31"
      },
      "source": [
        "Statistical summary"
      ]
    },
    {
      "cell_type": "code",
      "metadata": {
        "id": "FqBEEmyayR-y",
        "colab": {
          "base_uri": "https://localhost:8080/"
        },
        "outputId": "13c2f775-7f43-4800-a7c6-c6911cc2cc00"
      },
      "source": [
        "print(train_data.describe())"
      ],
      "execution_count": 5,
      "outputs": [
        {
          "output_type": "stream",
          "text": [
            "              Price\n",
            "count   6237.000000\n",
            "mean     560.707516\n",
            "std      690.110657\n",
            "min       25.000000\n",
            "25%      249.180000\n",
            "50%      373.000000\n",
            "75%      599.000000\n",
            "max    14100.000000\n"
          ],
          "name": "stdout"
        }
      ]
    },
    {
      "cell_type": "markdown",
      "metadata": {
        "id": "Kx7l64_j_lqA"
      },
      "source": [
        "Price box plot"
      ]
    },
    {
      "cell_type": "code",
      "metadata": {
        "colab": {
          "base_uri": "https://localhost:8080/",
          "height": 1000
        },
        "id": "vUWPlEfM_ne6",
        "outputId": "ecd1bfdc-45c7-458b-df12-e892e7e0e9d9"
      },
      "source": [
        "plt.boxplot(train_data['Price'])\n",
        "plt.show()\n",
        "plt.hist(train_data['Price'])\n",
        "plt.show()\n",
        "median = np.percentile(train_data.Price,50)  # median\n",
        "std = train_data.Price.std() # standard deviation \n",
        "train_data = train_data.drop(train_data[ train_data.Price > (median+3*std)].index) # drop \"outliers \" that are > median + 3*std\n",
        "plt.boxplot(train_data['Price'])\n",
        "plt.show()\n",
        "plt.hist(train_data['Price'])\n",
        "plt.show()\n",
        "\n",
        "#power = PowerTransformer()\n",
        "#train_data[['Price']] = power.fit_transform(train_data[['Price']])\n",
        "#plt.hist(train_data['Price'])\n",
        "#plt.show()"
      ],
      "execution_count": 46,
      "outputs": [
        {
          "output_type": "display_data",
          "data": {
            "image/png": "[encoded data removed]",
            "text/plain": [
              "<Figure size 432x288 with 1 Axes>"
            ]
          },
          "metadata": {
            "tags": [],
            "needs_background": "light"
          }
        },
        {
          "output_type": "display_data",
          "data": {
            "image/png": "[encoded data removed]",
            "text/plain": [
              "<Figure size 432x288 with 1 Axes>"
            ]
          },
          "metadata": {
            "tags": [],
            "needs_background": "light"
          }
        },
        {
          "output_type": "display_data",
          "data": {
            "image/png": "[encoded data removed]",
            "text/plain": [
              "<Figure size 432x288 with 1 Axes>"
            ]
          },
          "metadata": {
            "tags": [],
            "needs_background": "light"
          }
        },
        {
          "output_type": "display_data",
          "data": {
            "image/png": "[encoded data removed]",
            "text/plain": [
              "<Figure size 432x288 with 1 Axes>"
            ]
          },
          "metadata": {
            "tags": [],
            "needs_background": "light"
          }
        }
      ]
    },
    {
      "cell_type": "code",
      "metadata": {
        "id": "MFeMcsfb5-bs",
        "colab": {
          "base_uri": "https://localhost:8080/",
          "height": 300
        },
        "outputId": "fe1b27f4-17c8-49bf-d89d-b996d361d581"
      },
      "source": [
        "train_data.describe()"
      ],
      "execution_count": 7,
      "outputs": [
        {
          "output_type": "execute_result",
          "data": {
            "text/html": [
              "<div>\n",
              "<style scoped>\n",
              "    .dataframe tbody tr th:only-of-type {\n",
              "        vertical-align: middle;\n",
              "    }\n",
              "\n",
              "    .dataframe tbody tr th {\n",
              "        vertical-align: top;\n",
              "    }\n",
              "\n",
              "    .dataframe thead th {\n",
              "        text-align: right;\n",
              "    }\n",
              "</style>\n",
              "<table border=\"1\" class=\"dataframe\">\n",
              "  <thead>\n",
              "    <tr style=\"text-align: right;\">\n",
              "      <th></th>\n",
              "      <th>Price</th>\n",
              "    </tr>\n",
              "  </thead>\n",
              "  <tbody>\n",
              "    <tr>\n",
              "      <th>count</th>\n",
              "      <td>6237.000000</td>\n",
              "    </tr>\n",
              "    <tr>\n",
              "      <th>mean</th>\n",
              "      <td>560.707516</td>\n",
              "    </tr>\n",
              "    <tr>\n",
              "      <th>std</th>\n",
              "      <td>690.110657</td>\n",
              "    </tr>\n",
              "    <tr>\n",
              "      <th>min</th>\n",
              "      <td>25.000000</td>\n",
              "    </tr>\n",
              "    <tr>\n",
              "      <th>25%</th>\n",
              "      <td>249.180000</td>\n",
              "    </tr>\n",
              "    <tr>\n",
              "      <th>50%</th>\n",
              "      <td>373.000000</td>\n",
              "    </tr>\n",
              "    <tr>\n",
              "      <th>75%</th>\n",
              "      <td>599.000000</td>\n",
              "    </tr>\n",
              "    <tr>\n",
              "      <th>max</th>\n",
              "      <td>14100.000000</td>\n",
              "    </tr>\n",
              "  </tbody>\n",
              "</table>\n",
              "</div>"
            ],
            "text/plain": [
              "              Price\n",
              "count   6237.000000\n",
              "mean     560.707516\n",
              "std      690.110657\n",
              "min       25.000000\n",
              "25%      249.180000\n",
              "50%      373.000000\n",
              "75%      599.000000\n",
              "max    14100.000000"
            ]
          },
          "metadata": {
            "tags": []
          },
          "execution_count": 7
        }
      ]
    },
    {
      "cell_type": "markdown",
      "metadata": {
        "id": "NrRn8uZQF7sA"
      },
      "source": [
        "Reviews Normalization"
      ]
    },
    {
      "cell_type": "code",
      "metadata": {
        "id": "pAEN8VBk-ttV",
        "colab": {
          "base_uri": "https://localhost:8080/",
          "height": 793
        },
        "outputId": "4554ae6e-6e4d-4b1f-b816-77acd47ec93f"
      },
      "source": [
        "train_data['Reviews'] = train_data.Reviews.apply(lambda r: float(r.split()[0])) # get only the review rule \n",
        "plt.boxplot(train_data['Reviews'])\n",
        "plt.show()\n",
        "plt.hist(train_data['Reviews'])\n",
        "plt.show()\n",
        "pdplt.scatter_matrix(train_data[['Reviews','Price']])\n",
        "plt.show()\n",
        "#train_data[['Reviews']] = power.fit_transform(train_data[['Reviews']])\n",
        "#plt.hist(train_data['Reviews'])\n",
        "#plt.show()\n",
        "#train_data['Reviews'] = (train_data.Reviews - train_data.Reviews.min())/(train_data.Reviews.max() - train_data.Reviews.min()) # normalize reviews \n"
      ],
      "execution_count": 8,
      "outputs": [
        {
          "output_type": "display_data",
          "data": {
            "image/png": "[encoded data removed]",
            "text/plain": [
              "<Figure size 432x288 with 1 Axes>"
            ]
          },
          "metadata": {
            "tags": [],
            "needs_background": "light"
          }
        },
        {
          "output_type": "display_data",
          "data": {
            "image/png": "[encoded data removed]",
            "text/plain": [
              "<Figure size 432x288 with 1 Axes>"
            ]
          },
          "metadata": {
            "tags": [],
            "needs_background": "light"
          }
        },
        {
          "output_type": "display_data",
          "data": {
            "image/png": "[encoded data removed]",
            "text/plain": [
              "<Figure size 432x288 with 4 Axes>"
            ]
          },
          "metadata": {
            "tags": [],
            "needs_background": "light"
          }
        }
      ]
    },
    {
      "cell_type": "markdown",
      "metadata": {
        "id": "1RVGKZheJ7tw"
      },
      "source": [
        "Ratings Normalization"
      ]
    },
    {
      "cell_type": "code",
      "metadata": {
        "id": "gfja3WZ6J_TZ",
        "colab": {
          "base_uri": "https://localhost:8080/",
          "height": 790
        },
        "outputId": "f8bc248e-8b12-4cbf-e0d1-f13bace9c244"
      },
      "source": [
        "train_data['Ratings'] = train_data.Ratings.apply(lambda r: float(r.split()[0].replace(',',''))) # get only the rating \n",
        "plt.boxplot(train_data['Ratings'])\n",
        "plt.show()\n",
        "plt.hist(train_data['Ratings'])\n",
        "plt.show()\n",
        "pdplt.scatter_matrix(train_data[['Ratings','Price']])\n",
        "plt.show()\n",
        "#train_data['Ratings'] = power.fit_transform(train_data[['Ratings']])\n",
        "#plt.hist(train_data['Ratings'])\n",
        "#plt.show()\n",
        "#train_data['Ratings'] = (train_data.Ratings - train_data.Ratings.min())/(train_data.Ratings.max() - train_data.Ratings.min()) # normalize rating "
      ],
      "execution_count": 9,
      "outputs": [
        {
          "output_type": "display_data",
          "data": {
            "image/png": "[encoded data removed]",
            "text/plain": [
              "<Figure size 432x288 with 1 Axes>"
            ]
          },
          "metadata": {
            "tags": [],
            "needs_background": "light"
          }
        },
        {
          "output_type": "display_data",
          "data": {
            "image/png": "[encoded data removed]",
            "text/plain": [
              "<Figure size 432x288 with 1 Axes>"
            ]
          },
          "metadata": {
            "tags": [],
            "needs_background": "light"
          }
        },
        {
          "output_type": "display_data",
          "data": {
            "image/png": "[encoded data removed]",
            "text/plain": [
              "<Figure size 432x288 with 4 Axes>"
            ]
          },
          "metadata": {
            "tags": [],
            "needs_background": "light"
          }
        }
      ]
    },
    {
      "cell_type": "markdown",
      "metadata": {
        "id": "0zfAjj-9NAjj"
      },
      "source": [
        "Drop Title & Author & Synopsis & Genre columns"
      ]
    },
    {
      "cell_type": "code",
      "metadata": {
        "id": "-rYTtCQMNDsQ",
        "colab": {
          "base_uri": "https://localhost:8080/"
        },
        "outputId": "93f5a224-3aa2-443a-c739-415dba935128"
      },
      "source": [
        "#train_data.pop('Author')\n",
        "train_data.pop('Title')\n",
        "train_data.pop('Synopsis')\n",
        "#train_data.pop('Genre')"
      ],
      "execution_count": 10,
      "outputs": [
        {
          "output_type": "execute_result",
          "data": {
            "text/plain": [
              "0       THE HUNTERS return in their third brilliant no...\n",
              "1       A layered portrait of a troubled genius for wh...\n",
              "2       \"During the time men live without a common Pow...\n",
              "3       A handful of grain is found in the pocket of a...\n",
              "4       For seven decades, \"Life\" has been thrilling t...\n",
              "                              ...                        \n",
              "6232    'F*cking brilliant' Sarah Knight\\n'Very funny'...\n",
              "6233    In this gripping page-turner, an ex-agent on t...\n",
              "6234    'The most refreshing and radiant love story yo...\n",
              "6235    Frostfire by Amanda Hocking is the stunning fi...\n",
              "6236    Six years ago, Sam Capra watched his brother, ...\n",
              "Name: Synopsis, Length: 6237, dtype: object"
            ]
          },
          "metadata": {
            "tags": []
          },
          "execution_count": 10
        }
      ]
    },
    {
      "cell_type": "markdown",
      "metadata": {
        "id": "q0BSBRuKP_ro"
      },
      "source": [
        "Edition Normalization / Drop edition"
      ]
    },
    {
      "cell_type": "code",
      "metadata": {
        "id": "wk1NmTiZQC0S"
      },
      "source": [
        "train_data['Edition_Year'] = train_data['Edition'].apply(lambda x: x.split()[-1] if x.split()[-1].isdigit() else 'na')\n",
        "train_data['Edition'] = train_data['Edition'].apply(lambda x: x.split(',')[0])\n",
        "#train_data.pop('Edition')"
      ],
      "execution_count": 11,
      "outputs": []
    },
    {
      "cell_type": "code",
      "metadata": {
        "colab": {
          "base_uri": "https://localhost:8080/",
          "height": 206
        },
        "id": "fTwxG8pYK5jg",
        "outputId": "be44b61e-c1d4-4296-c02f-e3c13732ced4"
      },
      "source": [
        "train_data.head()"
      ],
      "execution_count": 12,
      "outputs": [
        {
          "output_type": "execute_result",
          "data": {
            "text/html": [
              "<div>\n",
              "<style scoped>\n",
              "    .dataframe tbody tr th:only-of-type {\n",
              "        vertical-align: middle;\n",
              "    }\n",
              "\n",
              "    .dataframe tbody tr th {\n",
              "        vertical-align: top;\n",
              "    }\n",
              "\n",
              "    .dataframe thead th {\n",
              "        text-align: right;\n",
              "    }\n",
              "</style>\n",
              "<table border=\"1\" class=\"dataframe\">\n",
              "  <thead>\n",
              "    <tr style=\"text-align: right;\">\n",
              "      <th></th>\n",
              "      <th>Author</th>\n",
              "      <th>Edition</th>\n",
              "      <th>Reviews</th>\n",
              "      <th>Ratings</th>\n",
              "      <th>Genre</th>\n",
              "      <th>BookCategory</th>\n",
              "      <th>Price</th>\n",
              "      <th>Edition_Year</th>\n",
              "    </tr>\n",
              "  </thead>\n",
              "  <tbody>\n",
              "    <tr>\n",
              "      <th>0</th>\n",
              "      <td>Chris Kuzneski</td>\n",
              "      <td>Paperback</td>\n",
              "      <td>4.0</td>\n",
              "      <td>8.0</td>\n",
              "      <td>Action &amp; Adventure (Books)</td>\n",
              "      <td>Action &amp; Adventure</td>\n",
              "      <td>220.00</td>\n",
              "      <td>2016</td>\n",
              "    </tr>\n",
              "    <tr>\n",
              "      <th>1</th>\n",
              "      <td>Arun Khopkar</td>\n",
              "      <td>Paperback</td>\n",
              "      <td>3.9</td>\n",
              "      <td>14.0</td>\n",
              "      <td>Cinema &amp; Broadcast (Books)</td>\n",
              "      <td>Biographies, Diaries &amp; True Accounts</td>\n",
              "      <td>202.93</td>\n",
              "      <td>2012</td>\n",
              "    </tr>\n",
              "    <tr>\n",
              "      <th>2</th>\n",
              "      <td>Thomas Hobbes</td>\n",
              "      <td>Paperback</td>\n",
              "      <td>4.8</td>\n",
              "      <td>6.0</td>\n",
              "      <td>International Relations</td>\n",
              "      <td>Humour</td>\n",
              "      <td>299.00</td>\n",
              "      <td>1982</td>\n",
              "    </tr>\n",
              "    <tr>\n",
              "      <th>3</th>\n",
              "      <td>Agatha Christie</td>\n",
              "      <td>Paperback</td>\n",
              "      <td>4.1</td>\n",
              "      <td>13.0</td>\n",
              "      <td>Contemporary Fiction (Books)</td>\n",
              "      <td>Crime, Thriller &amp; Mystery</td>\n",
              "      <td>180.00</td>\n",
              "      <td>2017</td>\n",
              "    </tr>\n",
              "    <tr>\n",
              "      <th>4</th>\n",
              "      <td>Editors of Life</td>\n",
              "      <td>Hardcover</td>\n",
              "      <td>5.0</td>\n",
              "      <td>1.0</td>\n",
              "      <td>Photography Textbooks</td>\n",
              "      <td>Arts, Film &amp; Photography</td>\n",
              "      <td>965.62</td>\n",
              "      <td>2006</td>\n",
              "    </tr>\n",
              "  </tbody>\n",
              "</table>\n",
              "</div>"
            ],
            "text/plain": [
              "            Author    Edition  ...   Price  Edition_Year\n",
              "0   Chris Kuzneski  Paperback  ...  220.00          2016\n",
              "1     Arun Khopkar  Paperback  ...  202.93          2012\n",
              "2    Thomas Hobbes  Paperback  ...  299.00          1982\n",
              "3  Agatha Christie  Paperback  ...  180.00          2017\n",
              "4  Editors of Life  Hardcover  ...  965.62          2006\n",
              "\n",
              "[5 rows x 8 columns]"
            ]
          },
          "metadata": {
            "tags": []
          },
          "execution_count": 12
        }
      ]
    },
    {
      "cell_type": "markdown",
      "metadata": {
        "id": "CJPpUrNZilDE"
      },
      "source": [
        "Book Category Normalization / Extract Categories"
      ]
    },
    {
      "cell_type": "code",
      "metadata": {
        "id": "2YMm7wBoi0Bf"
      },
      "source": [
        "train_data= pd.get_dummies(train_data, columns= ['BookCategory'],drop_first=True)"
      ],
      "execution_count": 13,
      "outputs": []
    },
    {
      "cell_type": "markdown",
      "metadata": {
        "id": "J9_VvYKToPrq"
      },
      "source": [
        "Finish training inputs(z)"
      ]
    },
    {
      "cell_type": "code",
      "metadata": {
        "id": "Bd__7oEcnzIe"
      },
      "source": [
        "z = train_data"
      ],
      "execution_count": 14,
      "outputs": []
    },
    {
      "cell_type": "code",
      "metadata": {
        "colab": {
          "base_uri": "https://localhost:8080/",
          "height": 400
        },
        "id": "u68uHxTKn8pS",
        "outputId": "e9e9c7ab-dc6b-4b65-b21f-02be0078e9d8"
      },
      "source": [
        "train_data.head()"
      ],
      "execution_count": 15,
      "outputs": [
        {
          "output_type": "execute_result",
          "data": {
            "text/html": [
              "<div>\n",
              "<style scoped>\n",
              "    .dataframe tbody tr th:only-of-type {\n",
              "        vertical-align: middle;\n",
              "    }\n",
              "\n",
              "    .dataframe tbody tr th {\n",
              "        vertical-align: top;\n",
              "    }\n",
              "\n",
              "    .dataframe thead th {\n",
              "        text-align: right;\n",
              "    }\n",
              "</style>\n",
              "<table border=\"1\" class=\"dataframe\">\n",
              "  <thead>\n",
              "    <tr style=\"text-align: right;\">\n",
              "      <th></th>\n",
              "      <th>Author</th>\n",
              "      <th>Edition</th>\n",
              "      <th>Reviews</th>\n",
              "      <th>Ratings</th>\n",
              "      <th>Genre</th>\n",
              "      <th>Price</th>\n",
              "      <th>Edition_Year</th>\n",
              "      <th>BookCategory_Arts, Film &amp; Photography</th>\n",
              "      <th>BookCategory_Biographies, Diaries &amp; True Accounts</th>\n",
              "      <th>BookCategory_Comics &amp; Mangas</th>\n",
              "      <th>BookCategory_Computing, Internet &amp; Digital Media</th>\n",
              "      <th>BookCategory_Crime, Thriller &amp; Mystery</th>\n",
              "      <th>BookCategory_Humour</th>\n",
              "      <th>BookCategory_Language, Linguistics &amp; Writing</th>\n",
              "      <th>BookCategory_Politics</th>\n",
              "      <th>BookCategory_Romance</th>\n",
              "      <th>BookCategory_Sports</th>\n",
              "    </tr>\n",
              "  </thead>\n",
              "  <tbody>\n",
              "    <tr>\n",
              "      <th>0</th>\n",
              "      <td>Chris Kuzneski</td>\n",
              "      <td>Paperback</td>\n",
              "      <td>4.0</td>\n",
              "      <td>8.0</td>\n",
              "      <td>Action &amp; Adventure (Books)</td>\n",
              "      <td>220.00</td>\n",
              "      <td>2016</td>\n",
              "      <td>0</td>\n",
              "      <td>0</td>\n",
              "      <td>0</td>\n",
              "      <td>0</td>\n",
              "      <td>0</td>\n",
              "      <td>0</td>\n",
              "      <td>0</td>\n",
              "      <td>0</td>\n",
              "      <td>0</td>\n",
              "      <td>0</td>\n",
              "    </tr>\n",
              "    <tr>\n",
              "      <th>1</th>\n",
              "      <td>Arun Khopkar</td>\n",
              "      <td>Paperback</td>\n",
              "      <td>3.9</td>\n",
              "      <td>14.0</td>\n",
              "      <td>Cinema &amp; Broadcast (Books)</td>\n",
              "      <td>202.93</td>\n",
              "      <td>2012</td>\n",
              "      <td>0</td>\n",
              "      <td>1</td>\n",
              "      <td>0</td>\n",
              "      <td>0</td>\n",
              "      <td>0</td>\n",
              "      <td>0</td>\n",
              "      <td>0</td>\n",
              "      <td>0</td>\n",
              "      <td>0</td>\n",
              "      <td>0</td>\n",
              "    </tr>\n",
              "    <tr>\n",
              "      <th>2</th>\n",
              "      <td>Thomas Hobbes</td>\n",
              "      <td>Paperback</td>\n",
              "      <td>4.8</td>\n",
              "      <td>6.0</td>\n",
              "      <td>International Relations</td>\n",
              "      <td>299.00</td>\n",
              "      <td>1982</td>\n",
              "      <td>0</td>\n",
              "      <td>0</td>\n",
              "      <td>0</td>\n",
              "      <td>0</td>\n",
              "      <td>0</td>\n",
              "      <td>1</td>\n",
              "      <td>0</td>\n",
              "      <td>0</td>\n",
              "      <td>0</td>\n",
              "      <td>0</td>\n",
              "    </tr>\n",
              "    <tr>\n",
              "      <th>3</th>\n",
              "      <td>Agatha Christie</td>\n",
              "      <td>Paperback</td>\n",
              "      <td>4.1</td>\n",
              "      <td>13.0</td>\n",
              "      <td>Contemporary Fiction (Books)</td>\n",
              "      <td>180.00</td>\n",
              "      <td>2017</td>\n",
              "      <td>0</td>\n",
              "      <td>0</td>\n",
              "      <td>0</td>\n",
              "      <td>0</td>\n",
              "      <td>1</td>\n",
              "      <td>0</td>\n",
              "      <td>0</td>\n",
              "      <td>0</td>\n",
              "      <td>0</td>\n",
              "      <td>0</td>\n",
              "    </tr>\n",
              "    <tr>\n",
              "      <th>4</th>\n",
              "      <td>Editors of Life</td>\n",
              "      <td>Hardcover</td>\n",
              "      <td>5.0</td>\n",
              "      <td>1.0</td>\n",
              "      <td>Photography Textbooks</td>\n",
              "      <td>965.62</td>\n",
              "      <td>2006</td>\n",
              "      <td>1</td>\n",
              "      <td>0</td>\n",
              "      <td>0</td>\n",
              "      <td>0</td>\n",
              "      <td>0</td>\n",
              "      <td>0</td>\n",
              "      <td>0</td>\n",
              "      <td>0</td>\n",
              "      <td>0</td>\n",
              "      <td>0</td>\n",
              "    </tr>\n",
              "  </tbody>\n",
              "</table>\n",
              "</div>"
            ],
            "text/plain": [
              "            Author    Edition  ...  BookCategory_Romance  BookCategory_Sports\n",
              "0   Chris Kuzneski  Paperback  ...                     0                    0\n",
              "1     Arun Khopkar  Paperback  ...                     0                    0\n",
              "2    Thomas Hobbes  Paperback  ...                     0                    0\n",
              "3  Agatha Christie  Paperback  ...                     0                    0\n",
              "4  Editors of Life  Hardcover  ...                     0                    0\n",
              "\n",
              "[5 rows x 17 columns]"
            ]
          },
          "metadata": {
            "tags": []
          },
          "execution_count": 15
        }
      ]
    },
    {
      "cell_type": "markdown",
      "metadata": {
        "id": "8HlOsPmfomM_"
      },
      "source": [
        "##Test Data Preprocessing##"
      ]
    },
    {
      "cell_type": "markdown",
      "metadata": {
        "id": "p6g0wsKgpNB7"
      },
      "source": [
        "Reviews Normalization"
      ]
    },
    {
      "cell_type": "code",
      "metadata": {
        "id": "xHvVloNcowkL"
      },
      "source": [
        "test_data['Reviews'] = test_data.Reviews.apply(lambda r: float(r.split()[0])) # get only the review rule \n",
        "#test_data[['Reviews']] = power.fit_transform(test_data[['Reviews']])\n",
        "# test_data['Reviews'] = (test_data.Reviews - test_data.Reviews.mean())/(test_data.Reviews.std()) # normalize reviews "
      ],
      "execution_count": 16,
      "outputs": []
    },
    {
      "cell_type": "markdown",
      "metadata": {
        "id": "6AhUA_qjpP0_"
      },
      "source": [
        "Ratings Normalization"
      ]
    },
    {
      "cell_type": "code",
      "metadata": {
        "id": "usjQWRpBpRvG"
      },
      "source": [
        "test_data['Ratings'] = test_data.Ratings.apply(lambda r: float(r.split()[0].replace(',',''))) # get only the rating \n",
        "#test_data[['Ratings']] = power.fit_transform(test_data[['Ratings']])\n",
        "# test_data['Ratings'] = (test_data.Ratings - test_data.Ratings.mean())/(test_data.Ratings.std()) # normalize rating "
      ],
      "execution_count": 17,
      "outputs": []
    },
    {
      "cell_type": "markdown",
      "metadata": {
        "id": "ioo8hl6apgRW"
      },
      "source": [
        "Drop Title & Synopsis columns"
      ]
    },
    {
      "cell_type": "code",
      "metadata": {
        "colab": {
          "base_uri": "https://localhost:8080/"
        },
        "id": "nPuONcnkpgu5",
        "outputId": "1ef8a813-419a-40dd-9b61-3876e8cd2b89"
      },
      "source": [
        "test_data.pop('Title')\n",
        "test_data.pop('Synopsis')"
      ],
      "execution_count": 18,
      "outputs": [
        {
          "output_type": "execute_result",
          "data": {
            "text/plain": [
              "0       A collection of entire body of work of the She...\n",
              "1       Enhance your software deployment workflow usin...\n",
              "2       'Watch out, world. Here I come!'\\nFor Victoria...\n",
              "3       If you want to learn how to program, working w...\n",
              "4       Learn and practise the verbs, prepositions and...\n",
              "                              ...                        \n",
              "1555    We design to elicit responses from people. We ...\n",
              "1556    A 30-day course to write simple, sharp and att...\n",
              "1557    The perennial bestseller-now available as a se...\n",
              "1558    Heinz Guderian - master of the Blitzkrieg and ...\n",
              "1559    Learn Spanish with the most convenient and eff...\n",
              "Name: Synopsis, Length: 1560, dtype: object"
            ]
          },
          "metadata": {
            "tags": []
          },
          "execution_count": 18
        }
      ]
    },
    {
      "cell_type": "markdown",
      "metadata": {
        "id": "JU-2_lAVpo3b"
      },
      "source": [
        "Edition Normalization / Drop edition "
      ]
    },
    {
      "cell_type": "code",
      "metadata": {
        "id": "tXHrEkgEpq7A"
      },
      "source": [
        "# test_data['Edition'] = test_data.Edition.apply(lambda r: r.split(',')[0]) # get only the type of book e.g Paperback or Hardcover\n",
        "# test_editions = test_data['Edition'].unique()\n",
        "# total_editions = np.unique(np.append(editions,test_editions))\n",
        "# print(total_editions)\n",
        "# test_data= pd.get_dummies(test_data, columns= ['Edition'])\n",
        "# test_data[editions] = 0\n",
        "#Remove edition column because we have different editions on train set and different editions on test set\n",
        "test_data['Edition_Year'] = test_data['Edition'].apply(lambda x: x.split()[-1] if x.split()[-1].isdigit() else 'na')\n",
        "test_data['Edition'] = test_data['Edition'].apply(lambda x: x.split(',')[0])\n",
        "#test_data.pop('Edition')"
      ],
      "execution_count": 19,
      "outputs": []
    },
    {
      "cell_type": "code",
      "metadata": {
        "colab": {
          "base_uri": "https://localhost:8080/",
          "height": 0
        },
        "id": "GngcnxzHMoz2",
        "outputId": "d6b37dfc-fcba-49f9-8e31-1fe77702de44"
      },
      "source": [
        "test_data.head()"
      ],
      "execution_count": 20,
      "outputs": [
        {
          "output_type": "execute_result",
          "data": {
            "text/html": [
              "<div>\n",
              "<style scoped>\n",
              "    .dataframe tbody tr th:only-of-type {\n",
              "        vertical-align: middle;\n",
              "    }\n",
              "\n",
              "    .dataframe tbody tr th {\n",
              "        vertical-align: top;\n",
              "    }\n",
              "\n",
              "    .dataframe thead th {\n",
              "        text-align: right;\n",
              "    }\n",
              "</style>\n",
              "<table border=\"1\" class=\"dataframe\">\n",
              "  <thead>\n",
              "    <tr style=\"text-align: right;\">\n",
              "      <th></th>\n",
              "      <th>Author</th>\n",
              "      <th>Edition</th>\n",
              "      <th>Reviews</th>\n",
              "      <th>Ratings</th>\n",
              "      <th>Genre</th>\n",
              "      <th>BookCategory</th>\n",
              "      <th>Edition_Year</th>\n",
              "    </tr>\n",
              "  </thead>\n",
              "  <tbody>\n",
              "    <tr>\n",
              "      <th>0</th>\n",
              "      <td>Sir Arthur Conan Doyle</td>\n",
              "      <td>Mass Market Paperback</td>\n",
              "      <td>4.4</td>\n",
              "      <td>960.0</td>\n",
              "      <td>Short Stories (Books)</td>\n",
              "      <td>Crime, Thriller &amp; Mystery</td>\n",
              "      <td>1986</td>\n",
              "    </tr>\n",
              "    <tr>\n",
              "      <th>1</th>\n",
              "      <td>Gabriel N. Schenker</td>\n",
              "      <td>Paperback</td>\n",
              "      <td>5.0</td>\n",
              "      <td>1.0</td>\n",
              "      <td>Operating Systems Textbooks</td>\n",
              "      <td>Computing, Internet &amp; Digital Media</td>\n",
              "      <td>2018</td>\n",
              "    </tr>\n",
              "    <tr>\n",
              "      <th>2</th>\n",
              "      <td>Danielle Steel</td>\n",
              "      <td>Paperback</td>\n",
              "      <td>5.0</td>\n",
              "      <td>4.0</td>\n",
              "      <td>Romance (Books)</td>\n",
              "      <td>Romance</td>\n",
              "      <td>2011</td>\n",
              "    </tr>\n",
              "    <tr>\n",
              "      <th>3</th>\n",
              "      <td>Allen B. Downey</td>\n",
              "      <td>Paperback</td>\n",
              "      <td>4.1</td>\n",
              "      <td>11.0</td>\n",
              "      <td>Programming &amp; Software Development (Books)</td>\n",
              "      <td>Computing, Internet &amp; Digital Media</td>\n",
              "      <td>2016</td>\n",
              "    </tr>\n",
              "    <tr>\n",
              "      <th>4</th>\n",
              "      <td>Redman Gairns</td>\n",
              "      <td>Paperback</td>\n",
              "      <td>4.4</td>\n",
              "      <td>9.0</td>\n",
              "      <td>Linguistics (Books)</td>\n",
              "      <td>Language, Linguistics &amp; Writing</td>\n",
              "      <td>2011</td>\n",
              "    </tr>\n",
              "  </tbody>\n",
              "</table>\n",
              "</div>"
            ],
            "text/plain": [
              "                   Author  ... Edition_Year\n",
              "0  Sir Arthur Conan Doyle  ...         1986\n",
              "1     Gabriel N. Schenker  ...         2018\n",
              "2          Danielle Steel  ...         2011\n",
              "3         Allen B. Downey  ...         2016\n",
              "4           Redman Gairns  ...         2011\n",
              "\n",
              "[5 rows x 7 columns]"
            ]
          },
          "metadata": {
            "tags": []
          },
          "execution_count": 20
        }
      ]
    },
    {
      "cell_type": "markdown",
      "metadata": {
        "id": "RguWaZQXp3Iz"
      },
      "source": [
        "Book Category Normalization / Extract Categories"
      ]
    },
    {
      "cell_type": "code",
      "metadata": {
        "id": "iSU2ovyBp3ju"
      },
      "source": [
        "test_data= pd.get_dummies(test_data, columns= ['BookCategory'],drop_first=True)"
      ],
      "execution_count": 21,
      "outputs": []
    },
    {
      "cell_type": "markdown",
      "metadata": {
        "id": "PgJqI6IKqDOg"
      },
      "source": [
        "Finish Test set Inputs"
      ]
    },
    {
      "cell_type": "code",
      "metadata": {
        "colab": {
          "base_uri": "https://localhost:8080/",
          "height": 0
        },
        "id": "XoEkL8CKqFGI",
        "outputId": "72f7720c-cfc1-4980-de9e-d3cb9c55440f"
      },
      "source": [
        "z_test = test_data\n",
        "z_test.head()"
      ],
      "execution_count": 22,
      "outputs": [
        {
          "output_type": "execute_result",
          "data": {
            "text/html": [
              "<div>\n",
              "<style scoped>\n",
              "    .dataframe tbody tr th:only-of-type {\n",
              "        vertical-align: middle;\n",
              "    }\n",
              "\n",
              "    .dataframe tbody tr th {\n",
              "        vertical-align: top;\n",
              "    }\n",
              "\n",
              "    .dataframe thead th {\n",
              "        text-align: right;\n",
              "    }\n",
              "</style>\n",
              "<table border=\"1\" class=\"dataframe\">\n",
              "  <thead>\n",
              "    <tr style=\"text-align: right;\">\n",
              "      <th></th>\n",
              "      <th>Author</th>\n",
              "      <th>Edition</th>\n",
              "      <th>Reviews</th>\n",
              "      <th>Ratings</th>\n",
              "      <th>Genre</th>\n",
              "      <th>Edition_Year</th>\n",
              "      <th>BookCategory_Arts, Film &amp; Photography</th>\n",
              "      <th>BookCategory_Biographies, Diaries &amp; True Accounts</th>\n",
              "      <th>BookCategory_Comics &amp; Mangas</th>\n",
              "      <th>BookCategory_Computing, Internet &amp; Digital Media</th>\n",
              "      <th>BookCategory_Crime, Thriller &amp; Mystery</th>\n",
              "      <th>BookCategory_Humour</th>\n",
              "      <th>BookCategory_Language, Linguistics &amp; Writing</th>\n",
              "      <th>BookCategory_Politics</th>\n",
              "      <th>BookCategory_Romance</th>\n",
              "      <th>BookCategory_Sports</th>\n",
              "    </tr>\n",
              "  </thead>\n",
              "  <tbody>\n",
              "    <tr>\n",
              "      <th>0</th>\n",
              "      <td>Sir Arthur Conan Doyle</td>\n",
              "      <td>Mass Market Paperback</td>\n",
              "      <td>4.4</td>\n",
              "      <td>960.0</td>\n",
              "      <td>Short Stories (Books)</td>\n",
              "      <td>1986</td>\n",
              "      <td>0</td>\n",
              "      <td>0</td>\n",
              "      <td>0</td>\n",
              "      <td>0</td>\n",
              "      <td>1</td>\n",
              "      <td>0</td>\n",
              "      <td>0</td>\n",
              "      <td>0</td>\n",
              "      <td>0</td>\n",
              "      <td>0</td>\n",
              "    </tr>\n",
              "    <tr>\n",
              "      <th>1</th>\n",
              "      <td>Gabriel N. Schenker</td>\n",
              "      <td>Paperback</td>\n",
              "      <td>5.0</td>\n",
              "      <td>1.0</td>\n",
              "      <td>Operating Systems Textbooks</td>\n",
              "      <td>2018</td>\n",
              "      <td>0</td>\n",
              "      <td>0</td>\n",
              "      <td>0</td>\n",
              "      <td>1</td>\n",
              "      <td>0</td>\n",
              "      <td>0</td>\n",
              "      <td>0</td>\n",
              "      <td>0</td>\n",
              "      <td>0</td>\n",
              "      <td>0</td>\n",
              "    </tr>\n",
              "    <tr>\n",
              "      <th>2</th>\n",
              "      <td>Danielle Steel</td>\n",
              "      <td>Paperback</td>\n",
              "      <td>5.0</td>\n",
              "      <td>4.0</td>\n",
              "      <td>Romance (Books)</td>\n",
              "      <td>2011</td>\n",
              "      <td>0</td>\n",
              "      <td>0</td>\n",
              "      <td>0</td>\n",
              "      <td>0</td>\n",
              "      <td>0</td>\n",
              "      <td>0</td>\n",
              "      <td>0</td>\n",
              "      <td>0</td>\n",
              "      <td>1</td>\n",
              "      <td>0</td>\n",
              "    </tr>\n",
              "    <tr>\n",
              "      <th>3</th>\n",
              "      <td>Allen B. Downey</td>\n",
              "      <td>Paperback</td>\n",
              "      <td>4.1</td>\n",
              "      <td>11.0</td>\n",
              "      <td>Programming &amp; Software Development (Books)</td>\n",
              "      <td>2016</td>\n",
              "      <td>0</td>\n",
              "      <td>0</td>\n",
              "      <td>0</td>\n",
              "      <td>1</td>\n",
              "      <td>0</td>\n",
              "      <td>0</td>\n",
              "      <td>0</td>\n",
              "      <td>0</td>\n",
              "      <td>0</td>\n",
              "      <td>0</td>\n",
              "    </tr>\n",
              "    <tr>\n",
              "      <th>4</th>\n",
              "      <td>Redman Gairns</td>\n",
              "      <td>Paperback</td>\n",
              "      <td>4.4</td>\n",
              "      <td>9.0</td>\n",
              "      <td>Linguistics (Books)</td>\n",
              "      <td>2011</td>\n",
              "      <td>0</td>\n",
              "      <td>0</td>\n",
              "      <td>0</td>\n",
              "      <td>0</td>\n",
              "      <td>0</td>\n",
              "      <td>0</td>\n",
              "      <td>1</td>\n",
              "      <td>0</td>\n",
              "      <td>0</td>\n",
              "      <td>0</td>\n",
              "    </tr>\n",
              "  </tbody>\n",
              "</table>\n",
              "</div>"
            ],
            "text/plain": [
              "                   Author  ... BookCategory_Sports\n",
              "0  Sir Arthur Conan Doyle  ...                   0\n",
              "1     Gabriel N. Schenker  ...                   0\n",
              "2          Danielle Steel  ...                   0\n",
              "3         Allen B. Downey  ...                   0\n",
              "4           Redman Gairns  ...                   0\n",
              "\n",
              "[5 rows x 16 columns]"
            ]
          },
          "metadata": {
            "tags": []
          },
          "execution_count": 22
        }
      ]
    },
    {
      "cell_type": "markdown",
      "metadata": {
        "id": "6CvImNyopZ8x"
      },
      "source": [
        "## Combine Train and Test datasets to extract categorical features ##"
      ]
    },
    {
      "cell_type": "code",
      "metadata": {
        "id": "mBt-9AkypiuG"
      },
      "source": [
        "train = train_data.copy()\n",
        "test = test_data.copy()\n",
        "concat = pd.concat(objs=[train,test],axis=0)"
      ],
      "execution_count": 23,
      "outputs": []
    },
    {
      "cell_type": "code",
      "metadata": {
        "id": "c4Uz0mSsrLG3"
      },
      "source": [
        "y = train.pop('Price')"
      ],
      "execution_count": 24,
      "outputs": []
    },
    {
      "cell_type": "code",
      "metadata": {
        "id": "pnlOBQdWqLNc"
      },
      "source": [
        "from sklearn.preprocessing import LabelEncoder\n",
        "\n",
        "le = LabelEncoder()"
      ],
      "execution_count": 25,
      "outputs": []
    },
    {
      "cell_type": "code",
      "metadata": {
        "id": "zd-MTWTsqNs2"
      },
      "source": [
        "cols_toEncode = ['Author','Genre','Edition_Year']"
      ],
      "execution_count": 26,
      "outputs": []
    },
    {
      "cell_type": "code",
      "metadata": {
        "id": "vbh0diN0qUPb"
      },
      "source": [
        "concat['Edition_Year'] = le.fit_transform(concat['Edition_Year'])\n",
        "concat['Author'] = le.fit_transform(concat['Author'])\n",
        "concat['Genre'] = le.fit_transform(concat['Genre'])\n",
        "concat['Edition'] = le.fit_transform(concat['Edition'])"
      ],
      "execution_count": 27,
      "outputs": []
    },
    {
      "cell_type": "code",
      "metadata": {
        "id": "fSowQ-XUqeBg"
      },
      "source": [
        "train_size = len(train)\n",
        "train = concat[:train_size]\n",
        "test = concat[train_size:]"
      ],
      "execution_count": 28,
      "outputs": []
    },
    {
      "cell_type": "code",
      "metadata": {
        "id": "noJh9rzwqglO"
      },
      "source": [
        "train = train.astype({'Author':'int','Genre':'int','Edition':'int','Edition_Year':'int'})\n",
        "test = test.astype({'Author':'int','Genre':'int','Edition':'int','Edition_Year':'int'})"
      ],
      "execution_count": 29,
      "outputs": []
    },
    {
      "cell_type": "code",
      "metadata": {
        "id": "aOWqGAjjq3vH",
        "colab": {
          "base_uri": "https://localhost:8080/",
          "height": 0
        },
        "outputId": "00302358-18fb-4854-ae8f-a8cd8c3b08c9"
      },
      "source": [
        "train.head()"
      ],
      "execution_count": 30,
      "outputs": [
        {
          "output_type": "execute_result",
          "data": {
            "text/html": [
              "<div>\n",
              "<style scoped>\n",
              "    .dataframe tbody tr th:only-of-type {\n",
              "        vertical-align: middle;\n",
              "    }\n",
              "\n",
              "    .dataframe tbody tr th {\n",
              "        vertical-align: top;\n",
              "    }\n",
              "\n",
              "    .dataframe thead th {\n",
              "        text-align: right;\n",
              "    }\n",
              "</style>\n",
              "<table border=\"1\" class=\"dataframe\">\n",
              "  <thead>\n",
              "    <tr style=\"text-align: right;\">\n",
              "      <th></th>\n",
              "      <th>Author</th>\n",
              "      <th>Edition</th>\n",
              "      <th>Reviews</th>\n",
              "      <th>Ratings</th>\n",
              "      <th>Genre</th>\n",
              "      <th>Price</th>\n",
              "      <th>Edition_Year</th>\n",
              "      <th>BookCategory_Arts, Film &amp; Photography</th>\n",
              "      <th>BookCategory_Biographies, Diaries &amp; True Accounts</th>\n",
              "      <th>BookCategory_Comics &amp; Mangas</th>\n",
              "      <th>BookCategory_Computing, Internet &amp; Digital Media</th>\n",
              "      <th>BookCategory_Crime, Thriller &amp; Mystery</th>\n",
              "      <th>BookCategory_Humour</th>\n",
              "      <th>BookCategory_Language, Linguistics &amp; Writing</th>\n",
              "      <th>BookCategory_Politics</th>\n",
              "      <th>BookCategory_Romance</th>\n",
              "      <th>BookCategory_Sports</th>\n",
              "    </tr>\n",
              "  </thead>\n",
              "  <tbody>\n",
              "    <tr>\n",
              "      <th>0</th>\n",
              "      <td>748</td>\n",
              "      <td>13</td>\n",
              "      <td>4.0</td>\n",
              "      <td>8.0</td>\n",
              "      <td>1</td>\n",
              "      <td>220.00</td>\n",
              "      <td>54</td>\n",
              "      <td>0</td>\n",
              "      <td>0</td>\n",
              "      <td>0</td>\n",
              "      <td>0</td>\n",
              "      <td>0</td>\n",
              "      <td>0</td>\n",
              "      <td>0</td>\n",
              "      <td>0</td>\n",
              "      <td>0</td>\n",
              "      <td>0</td>\n",
              "    </tr>\n",
              "    <tr>\n",
              "      <th>1</th>\n",
              "      <td>370</td>\n",
              "      <td>13</td>\n",
              "      <td>3.9</td>\n",
              "      <td>14.0</td>\n",
              "      <td>78</td>\n",
              "      <td>202.93</td>\n",
              "      <td>50</td>\n",
              "      <td>0</td>\n",
              "      <td>1</td>\n",
              "      <td>0</td>\n",
              "      <td>0</td>\n",
              "      <td>0</td>\n",
              "      <td>0</td>\n",
              "      <td>0</td>\n",
              "      <td>0</td>\n",
              "      <td>0</td>\n",
              "      <td>0</td>\n",
              "    </tr>\n",
              "    <tr>\n",
              "      <th>2</th>\n",
              "      <td>4045</td>\n",
              "      <td>13</td>\n",
              "      <td>4.8</td>\n",
              "      <td>6.0</td>\n",
              "      <td>202</td>\n",
              "      <td>299.00</td>\n",
              "      <td>20</td>\n",
              "      <td>0</td>\n",
              "      <td>0</td>\n",
              "      <td>0</td>\n",
              "      <td>0</td>\n",
              "      <td>0</td>\n",
              "      <td>1</td>\n",
              "      <td>0</td>\n",
              "      <td>0</td>\n",
              "      <td>0</td>\n",
              "      <td>0</td>\n",
              "    </tr>\n",
              "    <tr>\n",
              "      <th>3</th>\n",
              "      <td>79</td>\n",
              "      <td>13</td>\n",
              "      <td>4.1</td>\n",
              "      <td>13.0</td>\n",
              "      <td>96</td>\n",
              "      <td>180.00</td>\n",
              "      <td>55</td>\n",
              "      <td>0</td>\n",
              "      <td>0</td>\n",
              "      <td>0</td>\n",
              "      <td>0</td>\n",
              "      <td>1</td>\n",
              "      <td>0</td>\n",
              "      <td>0</td>\n",
              "      <td>0</td>\n",
              "      <td>0</td>\n",
              "      <td>0</td>\n",
              "    </tr>\n",
              "    <tr>\n",
              "      <th>4</th>\n",
              "      <td>1138</td>\n",
              "      <td>8</td>\n",
              "      <td>5.0</td>\n",
              "      <td>1.0</td>\n",
              "      <td>264</td>\n",
              "      <td>965.62</td>\n",
              "      <td>44</td>\n",
              "      <td>1</td>\n",
              "      <td>0</td>\n",
              "      <td>0</td>\n",
              "      <td>0</td>\n",
              "      <td>0</td>\n",
              "      <td>0</td>\n",
              "      <td>0</td>\n",
              "      <td>0</td>\n",
              "      <td>0</td>\n",
              "      <td>0</td>\n",
              "    </tr>\n",
              "  </tbody>\n",
              "</table>\n",
              "</div>"
            ],
            "text/plain": [
              "   Author  Edition  ...  BookCategory_Romance  BookCategory_Sports\n",
              "0     748       13  ...                     0                    0\n",
              "1     370       13  ...                     0                    0\n",
              "2    4045       13  ...                     0                    0\n",
              "3      79       13  ...                     0                    0\n",
              "4    1138        8  ...                     0                    0\n",
              "\n",
              "[5 rows x 17 columns]"
            ]
          },
          "metadata": {
            "tags": []
          },
          "execution_count": 30
        }
      ]
    },
    {
      "cell_type": "code",
      "metadata": {
        "id": "UJnh0eZercvc",
        "colab": {
          "base_uri": "https://localhost:8080/",
          "height": 0
        },
        "outputId": "39e43ca8-866f-4a82-e684-6ecf49b38cd4"
      },
      "source": [
        "y = train.pop('Price')\n",
        "train.head()"
      ],
      "execution_count": 31,
      "outputs": [
        {
          "output_type": "execute_result",
          "data": {
            "text/html": [
              "<div>\n",
              "<style scoped>\n",
              "    .dataframe tbody tr th:only-of-type {\n",
              "        vertical-align: middle;\n",
              "    }\n",
              "\n",
              "    .dataframe tbody tr th {\n",
              "        vertical-align: top;\n",
              "    }\n",
              "\n",
              "    .dataframe thead th {\n",
              "        text-align: right;\n",
              "    }\n",
              "</style>\n",
              "<table border=\"1\" class=\"dataframe\">\n",
              "  <thead>\n",
              "    <tr style=\"text-align: right;\">\n",
              "      <th></th>\n",
              "      <th>Author</th>\n",
              "      <th>Edition</th>\n",
              "      <th>Reviews</th>\n",
              "      <th>Ratings</th>\n",
              "      <th>Genre</th>\n",
              "      <th>Edition_Year</th>\n",
              "      <th>BookCategory_Arts, Film &amp; Photography</th>\n",
              "      <th>BookCategory_Biographies, Diaries &amp; True Accounts</th>\n",
              "      <th>BookCategory_Comics &amp; Mangas</th>\n",
              "      <th>BookCategory_Computing, Internet &amp; Digital Media</th>\n",
              "      <th>BookCategory_Crime, Thriller &amp; Mystery</th>\n",
              "      <th>BookCategory_Humour</th>\n",
              "      <th>BookCategory_Language, Linguistics &amp; Writing</th>\n",
              "      <th>BookCategory_Politics</th>\n",
              "      <th>BookCategory_Romance</th>\n",
              "      <th>BookCategory_Sports</th>\n",
              "    </tr>\n",
              "  </thead>\n",
              "  <tbody>\n",
              "    <tr>\n",
              "      <th>0</th>\n",
              "      <td>748</td>\n",
              "      <td>13</td>\n",
              "      <td>4.0</td>\n",
              "      <td>8.0</td>\n",
              "      <td>1</td>\n",
              "      <td>54</td>\n",
              "      <td>0</td>\n",
              "      <td>0</td>\n",
              "      <td>0</td>\n",
              "      <td>0</td>\n",
              "      <td>0</td>\n",
              "      <td>0</td>\n",
              "      <td>0</td>\n",
              "      <td>0</td>\n",
              "      <td>0</td>\n",
              "      <td>0</td>\n",
              "    </tr>\n",
              "    <tr>\n",
              "      <th>1</th>\n",
              "      <td>370</td>\n",
              "      <td>13</td>\n",
              "      <td>3.9</td>\n",
              "      <td>14.0</td>\n",
              "      <td>78</td>\n",
              "      <td>50</td>\n",
              "      <td>0</td>\n",
              "      <td>1</td>\n",
              "      <td>0</td>\n",
              "      <td>0</td>\n",
              "      <td>0</td>\n",
              "      <td>0</td>\n",
              "      <td>0</td>\n",
              "      <td>0</td>\n",
              "      <td>0</td>\n",
              "      <td>0</td>\n",
              "    </tr>\n",
              "    <tr>\n",
              "      <th>2</th>\n",
              "      <td>4045</td>\n",
              "      <td>13</td>\n",
              "      <td>4.8</td>\n",
              "      <td>6.0</td>\n",
              "      <td>202</td>\n",
              "      <td>20</td>\n",
              "      <td>0</td>\n",
              "      <td>0</td>\n",
              "      <td>0</td>\n",
              "      <td>0</td>\n",
              "      <td>0</td>\n",
              "      <td>1</td>\n",
              "      <td>0</td>\n",
              "      <td>0</td>\n",
              "      <td>0</td>\n",
              "      <td>0</td>\n",
              "    </tr>\n",
              "    <tr>\n",
              "      <th>3</th>\n",
              "      <td>79</td>\n",
              "      <td>13</td>\n",
              "      <td>4.1</td>\n",
              "      <td>13.0</td>\n",
              "      <td>96</td>\n",
              "      <td>55</td>\n",
              "      <td>0</td>\n",
              "      <td>0</td>\n",
              "      <td>0</td>\n",
              "      <td>0</td>\n",
              "      <td>1</td>\n",
              "      <td>0</td>\n",
              "      <td>0</td>\n",
              "      <td>0</td>\n",
              "      <td>0</td>\n",
              "      <td>0</td>\n",
              "    </tr>\n",
              "    <tr>\n",
              "      <th>4</th>\n",
              "      <td>1138</td>\n",
              "      <td>8</td>\n",
              "      <td>5.0</td>\n",
              "      <td>1.0</td>\n",
              "      <td>264</td>\n",
              "      <td>44</td>\n",
              "      <td>1</td>\n",
              "      <td>0</td>\n",
              "      <td>0</td>\n",
              "      <td>0</td>\n",
              "      <td>0</td>\n",
              "      <td>0</td>\n",
              "      <td>0</td>\n",
              "      <td>0</td>\n",
              "      <td>0</td>\n",
              "      <td>0</td>\n",
              "    </tr>\n",
              "  </tbody>\n",
              "</table>\n",
              "</div>"
            ],
            "text/plain": [
              "   Author  Edition  ...  BookCategory_Romance  BookCategory_Sports\n",
              "0     748       13  ...                     0                    0\n",
              "1     370       13  ...                     0                    0\n",
              "2    4045       13  ...                     0                    0\n",
              "3      79       13  ...                     0                    0\n",
              "4    1138        8  ...                     0                    0\n",
              "\n",
              "[5 rows x 16 columns]"
            ]
          },
          "metadata": {
            "tags": []
          },
          "execution_count": 31
        }
      ]
    },
    {
      "cell_type": "code",
      "metadata": {
        "id": "Bj56JCqTrm53",
        "colab": {
          "base_uri": "https://localhost:8080/",
          "height": 0
        },
        "outputId": "6ff1bd6c-c6bd-4815-c1f5-32df866bde4b"
      },
      "source": [
        "test.pop('Price')\n",
        "test.head()"
      ],
      "execution_count": 32,
      "outputs": [
        {
          "output_type": "execute_result",
          "data": {
            "text/html": [
              "<div>\n",
              "<style scoped>\n",
              "    .dataframe tbody tr th:only-of-type {\n",
              "        vertical-align: middle;\n",
              "    }\n",
              "\n",
              "    .dataframe tbody tr th {\n",
              "        vertical-align: top;\n",
              "    }\n",
              "\n",
              "    .dataframe thead th {\n",
              "        text-align: right;\n",
              "    }\n",
              "</style>\n",
              "<table border=\"1\" class=\"dataframe\">\n",
              "  <thead>\n",
              "    <tr style=\"text-align: right;\">\n",
              "      <th></th>\n",
              "      <th>Author</th>\n",
              "      <th>Edition</th>\n",
              "      <th>Reviews</th>\n",
              "      <th>Ratings</th>\n",
              "      <th>Genre</th>\n",
              "      <th>Edition_Year</th>\n",
              "      <th>BookCategory_Arts, Film &amp; Photography</th>\n",
              "      <th>BookCategory_Biographies, Diaries &amp; True Accounts</th>\n",
              "      <th>BookCategory_Comics &amp; Mangas</th>\n",
              "      <th>BookCategory_Computing, Internet &amp; Digital Media</th>\n",
              "      <th>BookCategory_Crime, Thriller &amp; Mystery</th>\n",
              "      <th>BookCategory_Humour</th>\n",
              "      <th>BookCategory_Language, Linguistics &amp; Writing</th>\n",
              "      <th>BookCategory_Politics</th>\n",
              "      <th>BookCategory_Romance</th>\n",
              "      <th>BookCategory_Sports</th>\n",
              "    </tr>\n",
              "  </thead>\n",
              "  <tbody>\n",
              "    <tr>\n",
              "      <th>0</th>\n",
              "      <td>3769</td>\n",
              "      <td>12</td>\n",
              "      <td>4.4</td>\n",
              "      <td>960.0</td>\n",
              "      <td>304</td>\n",
              "      <td>24</td>\n",
              "      <td>0</td>\n",
              "      <td>0</td>\n",
              "      <td>0</td>\n",
              "      <td>0</td>\n",
              "      <td>1</td>\n",
              "      <td>0</td>\n",
              "      <td>0</td>\n",
              "      <td>0</td>\n",
              "      <td>0</td>\n",
              "      <td>0</td>\n",
              "    </tr>\n",
              "    <tr>\n",
              "      <th>1</th>\n",
              "      <td>1303</td>\n",
              "      <td>13</td>\n",
              "      <td>5.0</td>\n",
              "      <td>1.0</td>\n",
              "      <td>255</td>\n",
              "      <td>56</td>\n",
              "      <td>0</td>\n",
              "      <td>0</td>\n",
              "      <td>0</td>\n",
              "      <td>1</td>\n",
              "      <td>0</td>\n",
              "      <td>0</td>\n",
              "      <td>0</td>\n",
              "      <td>0</td>\n",
              "      <td>0</td>\n",
              "      <td>0</td>\n",
              "    </tr>\n",
              "    <tr>\n",
              "      <th>2</th>\n",
              "      <td>887</td>\n",
              "      <td>13</td>\n",
              "      <td>5.0</td>\n",
              "      <td>4.0</td>\n",
              "      <td>294</td>\n",
              "      <td>49</td>\n",
              "      <td>0</td>\n",
              "      <td>0</td>\n",
              "      <td>0</td>\n",
              "      <td>0</td>\n",
              "      <td>0</td>\n",
              "      <td>0</td>\n",
              "      <td>0</td>\n",
              "      <td>0</td>\n",
              "      <td>1</td>\n",
              "      <td>0</td>\n",
              "    </tr>\n",
              "    <tr>\n",
              "      <th>3</th>\n",
              "      <td>166</td>\n",
              "      <td>13</td>\n",
              "      <td>4.1</td>\n",
              "      <td>11.0</td>\n",
              "      <td>275</td>\n",
              "      <td>54</td>\n",
              "      <td>0</td>\n",
              "      <td>0</td>\n",
              "      <td>0</td>\n",
              "      <td>1</td>\n",
              "      <td>0</td>\n",
              "      <td>0</td>\n",
              "      <td>0</td>\n",
              "      <td>0</td>\n",
              "      <td>0</td>\n",
              "      <td>0</td>\n",
              "    </tr>\n",
              "    <tr>\n",
              "      <th>4</th>\n",
              "      <td>3261</td>\n",
              "      <td>13</td>\n",
              "      <td>4.4</td>\n",
              "      <td>9.0</td>\n",
              "      <td>219</td>\n",
              "      <td>49</td>\n",
              "      <td>0</td>\n",
              "      <td>0</td>\n",
              "      <td>0</td>\n",
              "      <td>0</td>\n",
              "      <td>0</td>\n",
              "      <td>0</td>\n",
              "      <td>1</td>\n",
              "      <td>0</td>\n",
              "      <td>0</td>\n",
              "      <td>0</td>\n",
              "    </tr>\n",
              "  </tbody>\n",
              "</table>\n",
              "</div>"
            ],
            "text/plain": [
              "   Author  Edition  ...  BookCategory_Romance  BookCategory_Sports\n",
              "0    3769       12  ...                     0                    0\n",
              "1    1303       13  ...                     0                    0\n",
              "2     887       13  ...                     1                    0\n",
              "3     166       13  ...                     0                    0\n",
              "4    3261       13  ...                     0                    0\n",
              "\n",
              "[5 rows x 16 columns]"
            ]
          },
          "metadata": {
            "tags": []
          },
          "execution_count": 32
        }
      ]
    },
    {
      "cell_type": "markdown",
      "metadata": {
        "id": "BAkbjxgojgJh"
      },
      "source": [
        "##Prediction Methods##"
      ]
    },
    {
      "cell_type": "markdown",
      "metadata": {
        "id": "1x5owWboubGF"
      },
      "source": [
        "Split train and test data\n"
      ]
    },
    {
      "cell_type": "code",
      "metadata": {
        "id": "Qk5c9T64ubgJ"
      },
      "source": [
        "#y = train_data.pop('Price').to_numpy()\n",
        "#X = train_data.to_numpy()\n",
        "X = train.to_numpy()"
      ],
      "execution_count": 33,
      "outputs": []
    },
    {
      "cell_type": "markdown",
      "metadata": {
        "id": "BSB71Ok0uT_w"
      },
      "source": [
        "Import packages"
      ]
    },
    {
      "cell_type": "code",
      "metadata": {
        "id": "hoDaDxKNtIBM"
      },
      "source": [
        "from sklearn.linear_model import LinearRegression\n",
        "from sklearn.linear_model import Lasso\n",
        "from sklearn.linear_model import ElasticNet\n",
        "from sklearn.tree import DecisionTreeRegressor\n",
        "from sklearn.neighbors import KNeighborsRegressor\n",
        "from sklearn.ensemble import GradientBoostingRegressor\n",
        "from sklearn.ensemble import RandomForestRegressor\n",
        "from sklearn.svm import SVR\n",
        "from sklearn.svm import LinearSVR\n",
        "from sklearn.preprocessing import StandardScaler\n",
        "from sklearn.model_selection import KFold\n",
        "from sklearn.model_selection import cross_val_score\n",
        "from sklearn.metrics import mean_squared_error\n",
        "import warnings\n",
        "warnings.filterwarnings(\"ignore\")"
      ],
      "execution_count": 34,
      "outputs": []
    },
    {
      "cell_type": "markdown",
      "metadata": {
        "id": "_VVB_OhCuYfB"
      },
      "source": [
        "Create pipelines"
      ]
    },
    {
      "cell_type": "code",
      "metadata": {
        "id": "8oxkyjmEuTkt",
        "colab": {
          "base_uri": "https://localhost:8080/"
        },
        "outputId": "840a14ff-8277-4a8c-8ccc-dd8a83124347"
      },
      "source": [
        "from sklearn.pipeline import Pipeline\n",
        "pipelines = []\n",
        "pipelines.append(('ScaledLR', Pipeline([('Scaler', StandardScaler()),('LR',LinearRegression())])))\n",
        "pipelines.append(('ScaledLASSO', Pipeline([('Scaler', StandardScaler()),('LASSO', Lasso())])))\n",
        "pipelines.append(('ScaledEN', Pipeline([('Scaler', StandardScaler()),('EN', ElasticNet())])))\n",
        "pipelines.append(('ScaledKNN', Pipeline([('Scaler', StandardScaler()),('KNN', KNeighborsRegressor())])))\n",
        "pipelines.append(('ScaledDT', Pipeline([('Scaler', StandardScaler()),('DT', DecisionTreeRegressor())])))\n",
        "pipelines.append(('ScaledGBM', Pipeline([('Scaler', StandardScaler()),('GBM', GradientBoostingRegressor())])))\n",
        "pipelines.append(('ScaledRF', Pipeline([('Scaler', StandardScaler()),('RF',RandomForestRegressor())])))\n",
        "pipelines.append(('ScaledSVR', Pipeline([('Scaler', StandardScaler()),('SVR',SVR())])))\n",
        "results = []\n",
        "names = []\n",
        "for name, model in pipelines:\n",
        "    kfold = KFold(n_splits=10, random_state=21)\n",
        "    cv_results = cross_val_score(model, X, y, cv=kfold, scoring='neg_mean_squared_error')\n",
        "    results.append(cv_results)\n",
        "    names.append(name)\n",
        "    msg = \"%s: %f (%f)\" % (name,-cv_results.mean(), cv_results.std())\n",
        "    print(msg)\n",
        "\n"
      ],
      "execution_count": 35,
      "outputs": [
        {
          "output_type": "stream",
          "text": [
            "ScaledLR: 411986.144653 (120787.488019)\n",
            "ScaledLASSO: 411901.545415 (120880.251289)\n",
            "ScaledEN: 418065.885062 (121850.498519)\n",
            "ScaledKNN: 436879.336901 (109723.905190)\n",
            "ScaledDT: 763856.647247 (266252.889389)\n",
            "ScaledGBM: 394906.100733 (111721.010153)\n",
            "ScaledRF: 411228.548629 (123303.423545)\n",
            "ScaledSVR: 485082.973523 (128353.412820)\n"
          ],
          "name": "stdout"
        }
      ]
    },
    {
      "cell_type": "markdown",
      "metadata": {
        "id": "YYn-NOx4JJvm"
      },
      "source": [
        "Decision Tree Regressor\n",
        "\n",
        "\n",
        "*   One time run\n",
        "*   Not used to extract final results\n",
        "\n"
      ]
    },
    {
      "cell_type": "code",
      "metadata": {
        "id": "PBvLUau8JI8U",
        "outputId": "04f29592-bf0f-4e02-95ec-cb9afb57cfa9",
        "colab": {
          "base_uri": "https://localhost:8080/",
          "height": 206
        }
      },
      "source": [
        "scaler = StandardScaler().fit(X)\n",
        "rescaled_X_train = scaler.transform(X)\n",
        "model = DecisionTreeRegressor()\n",
        "model.fit(rescaled_X_train, y)\n",
        "\n",
        "scaler = StandardScaler().fit(test)\n",
        "rescaled_X_test = scaler.transform(test)\n",
        "predictions = model.predict(rescaled_X_test)\n",
        "\n",
        "df_dt = pd.DataFrame(predictions.astype(int))\n",
        "df_dt.columns=['Price']\n",
        "filepath_dt = 'Predictions_DecisionTrees.xlsx'\n",
        "df_dt.to_excel(filepath_dt, index=False)\n",
        "df_dt.head()"
      ],
      "execution_count": 36,
      "outputs": [
        {
          "output_type": "execute_result",
          "data": {
            "text/html": [
              "<div>\n",
              "<style scoped>\n",
              "    .dataframe tbody tr th:only-of-type {\n",
              "        vertical-align: middle;\n",
              "    }\n",
              "\n",
              "    .dataframe tbody tr th {\n",
              "        vertical-align: top;\n",
              "    }\n",
              "\n",
              "    .dataframe thead th {\n",
              "        text-align: right;\n",
              "    }\n",
              "</style>\n",
              "<table border=\"1\" class=\"dataframe\">\n",
              "  <thead>\n",
              "    <tr style=\"text-align: right;\">\n",
              "      <th></th>\n",
              "      <th>Price</th>\n",
              "    </tr>\n",
              "  </thead>\n",
              "  <tbody>\n",
              "    <tr>\n",
              "      <th>0</th>\n",
              "      <td>488</td>\n",
              "    </tr>\n",
              "    <tr>\n",
              "      <th>1</th>\n",
              "      <td>1000</td>\n",
              "    </tr>\n",
              "    <tr>\n",
              "      <th>2</th>\n",
              "      <td>571</td>\n",
              "    </tr>\n",
              "    <tr>\n",
              "      <th>3</th>\n",
              "      <td>1025</td>\n",
              "    </tr>\n",
              "    <tr>\n",
              "      <th>4</th>\n",
              "      <td>277</td>\n",
              "    </tr>\n",
              "  </tbody>\n",
              "</table>\n",
              "</div>"
            ],
            "text/plain": [
              "   Price\n",
              "0    488\n",
              "1   1000\n",
              "2    571\n",
              "3   1025\n",
              "4    277"
            ]
          },
          "metadata": {
            "tags": []
          },
          "execution_count": 36
        }
      ]
    },
    {
      "cell_type": "markdown",
      "metadata": {
        "id": "G2SogEi7Htta"
      },
      "source": [
        "Gradient Boosting Regressor\n",
        "\n",
        "\n",
        "*   Used for the final results\n",
        "\n"
      ]
    },
    {
      "cell_type": "code",
      "metadata": {
        "id": "HCjDIffgIRq3",
        "colab": {
          "base_uri": "https://localhost:8080/"
        },
        "outputId": "32ef6505-8de5-4a8b-ec50-eaae140f64a1"
      },
      "source": [
        "best_lr = 0\n",
        "best_num_est = 0 \n",
        "best_mse = np.Infinity\n",
        "for num_estim in (50,60,70,80,90,100,110,120,130):\n",
        "    for lr in (0.01,0.03,0.05,0.1,0.3,0.5):\n",
        "        kfold = KFold(n_splits=10, random_state=21)\n",
        "        gbr = GradientBoostingRegressor(n_estimators=num_estim,learning_rate=lr)\n",
        "        cv_results = cross_val_score(gbr, X, y, cv=kfold, scoring='neg_mean_squared_error')\n",
        "        if -cv_results.mean() < best_mse:\n",
        "            best_lr = lr\n",
        "            best_num_est = num_estim\n",
        "            best_mse = -cv_results.mean()\n",
        "        msg = \"%s %s: %f (%f)\" % (num_estim,lr,-cv_results.mean(), cv_results.std())\n",
        "        print(msg)\n",
        "print(best_lr,best_num_est)"
      ],
      "execution_count": 37,
      "outputs": [
        {
          "output_type": "stream",
          "text": [
            "50 0.01: 439566.560917 (122938.792575)\n",
            "50 0.03: 413377.568376 (122049.131752)\n",
            "50 0.05: 404585.655200 (121746.687231)\n",
            "50 0.1: 393860.260027 (119428.884331)\n",
            "50 0.3: 400413.436330 (115698.096088)\n",
            "50 0.5: 430847.178097 (127849.675469)\n",
            "60 0.01: 435473.437884 (122939.992120)\n",
            "60 0.03: 409768.487224 (121608.638336)\n",
            "60 0.05: 402146.080642 (122704.178678)\n",
            "60 0.1: 392145.082054 (117701.721561)\n",
            "60 0.3: 403779.812318 (114321.711708)\n",
            "60 0.5: 436920.870366 (115848.749004)\n",
            "70 0.01: 431883.631725 (122890.587836)\n",
            "70 0.03: 407346.103991 (121858.919162)\n",
            "70 0.05: 400214.292750 (122453.913171)\n",
            "70 0.1: 391501.911585 (116712.672212)\n",
            "70 0.3: 407025.133866 (113522.277377)\n",
            "70 0.5: 437139.522893 (126515.311606)\n",
            "80 0.01: 428642.242704 (122919.296958)\n",
            "80 0.03: 404779.886904 (121465.194019)\n",
            "80 0.05: 398659.407599 (122138.486164)\n",
            "80 0.1: 393876.836522 (116147.338912)\n",
            "80 0.3: 406820.874505 (113911.925831)\n",
            "80 0.5: 424735.012067 (122978.753133)\n",
            "90 0.01: 425558.603184 (122550.243666)\n",
            "90 0.03: 403429.339702 (121540.193621)\n",
            "90 0.05: 397516.239212 (121179.274833)\n",
            "90 0.1: 396126.092087 (113871.546599)\n",
            "90 0.3: 408777.757138 (113409.418829)\n",
            "90 0.5: 440749.896997 (131107.918812)\n",
            "100 0.01: 422686.842520 (122233.325455)\n",
            "100 0.03: 400609.468386 (121091.729557)\n",
            "100 0.05: 395932.905251 (119554.088224)\n",
            "100 0.1: 396369.143701 (112198.003972)\n",
            "100 0.3: 404910.607353 (111859.815607)\n",
            "100 0.5: 430701.903688 (128139.373599)\n",
            "110 0.01: 420325.045599 (121987.902741)\n",
            "110 0.03: 402012.082333 (122043.760626)\n",
            "110 0.05: 395496.904426 (118961.626784)\n",
            "110 0.1: 395721.586576 (111706.520098)\n",
            "110 0.3: 419730.380012 (118328.370012)\n",
            "110 0.5: 431115.900709 (122289.613604)\n",
            "120 0.01: 418154.154957 (121977.438085)\n",
            "120 0.03: 399909.193022 (120996.170152)\n",
            "120 0.05: 395444.413218 (118583.853323)\n",
            "120 0.1: 398192.796595 (113520.521155)\n",
            "120 0.3: 411196.965087 (113921.417307)\n",
            "120 0.5: 431389.988423 (117921.999084)\n",
            "130 0.01: 416122.800244 (121918.714686)\n",
            "130 0.03: 397483.879277 (119777.798295)\n",
            "130 0.05: 396176.011786 (117765.349225)\n",
            "130 0.1: 396476.609983 (112770.590732)\n",
            "130 0.3: 415643.245002 (111917.489142)\n",
            "130 0.5: 438746.284449 (129064.342229)\n",
            "0.1 70\n"
          ],
          "name": "stdout"
        }
      ]
    },
    {
      "cell_type": "code",
      "metadata": {
        "id": "HKPeQ4qfvHFh",
        "colab": {
          "base_uri": "https://localhost:8080/",
          "height": 206
        },
        "outputId": "226e3e02-e851-4532-f4f1-bd45e87fc489"
      },
      "source": [
        "scaler = StandardScaler().fit(X)\n",
        "rescaled_X_train = scaler.transform(X)\n",
        "model = GradientBoostingRegressor(random_state=21, n_estimators=best_num_est, learning_rate= best_lr)\n",
        "model.fit(rescaled_X_train, y)\n",
        "\n",
        "scaler = StandardScaler().fit(test)\n",
        "rescaled_X_test = scaler.transform(test)\n",
        "predictions = model.predict(rescaled_X_test)\n",
        "\n",
        "df2 = pd.DataFrame(predictions.astype(int))\n",
        "df2.columns=['Price']\n",
        "df2['Price']= df2['Price']\n",
        "filepath2 = 'PredictionsGradientBoosting.xlsx'\n",
        "df2.to_excel(filepath2, index=False)\n",
        "df2.head()"
      ],
      "execution_count": 38,
      "outputs": [
        {
          "output_type": "execute_result",
          "data": {
            "text/html": [
              "<div>\n",
              "<style scoped>\n",
              "    .dataframe tbody tr th:only-of-type {\n",
              "        vertical-align: middle;\n",
              "    }\n",
              "\n",
              "    .dataframe tbody tr th {\n",
              "        vertical-align: top;\n",
              "    }\n",
              "\n",
              "    .dataframe thead th {\n",
              "        text-align: right;\n",
              "    }\n",
              "</style>\n",
              "<table border=\"1\" class=\"dataframe\">\n",
              "  <thead>\n",
              "    <tr style=\"text-align: right;\">\n",
              "      <th></th>\n",
              "      <th>Price</th>\n",
              "    </tr>\n",
              "  </thead>\n",
              "  <tbody>\n",
              "    <tr>\n",
              "      <th>0</th>\n",
              "      <td>262</td>\n",
              "    </tr>\n",
              "    <tr>\n",
              "      <th>1</th>\n",
              "      <td>1018</td>\n",
              "    </tr>\n",
              "    <tr>\n",
              "      <th>2</th>\n",
              "      <td>505</td>\n",
              "    </tr>\n",
              "    <tr>\n",
              "      <th>3</th>\n",
              "      <td>804</td>\n",
              "    </tr>\n",
              "    <tr>\n",
              "      <th>4</th>\n",
              "      <td>379</td>\n",
              "    </tr>\n",
              "  </tbody>\n",
              "</table>\n",
              "</div>"
            ],
            "text/plain": [
              "   Price\n",
              "0    262\n",
              "1   1018\n",
              "2    505\n",
              "3    804\n",
              "4    379"
            ]
          },
          "metadata": {
            "tags": []
          },
          "execution_count": 38
        }
      ]
    },
    {
      "cell_type": "markdown",
      "metadata": {
        "id": "35EG6H4PHyYs"
      },
      "source": [
        "Random Forest regressor\n",
        "\n",
        "\n",
        "*   Used for the final results\n",
        "\n",
        "\n"
      ]
    },
    {
      "cell_type": "code",
      "metadata": {
        "id": "cMP20SNE-bcS",
        "outputId": "599a0170-23b0-4838-9cc1-00a63dd04539",
        "colab": {
          "base_uri": "https://localhost:8080/"
        }
      },
      "source": [
        "best_num_est = 0 \n",
        "best_mse = np.Infinity\n",
        "for num_estim in (50,60,70,80,90,100,110,120,130):\n",
        "        kfold = KFold(n_splits=10, random_state=21)\n",
        "        rf = RandomForestRegressor(n_estimators=num_estim,)\n",
        "        cv_results = cross_val_score(rf, X, y, cv=kfold, scoring='neg_mean_squared_error')\n",
        "        if -cv_results.mean() < best_mse:\n",
        "            best_num_est = num_estim\n",
        "            best_mse = -cv_results.mean()\n",
        "        msg = \"%s: %f (%f)\" % (num_estim,-cv_results.mean(), cv_results.std())\n",
        "        print(msg)\n",
        "print(best_num_est)"
      ],
      "execution_count": 39,
      "outputs": [
        {
          "output_type": "stream",
          "text": [
            "50: 420798.961647 (121655.627948)\n",
            "60: 411560.492574 (120930.736443)\n",
            "70: 415428.038785 (124775.109531)\n",
            "80: 414445.043761 (125022.257224)\n",
            "90: 413925.301829 (119658.790611)\n",
            "100: 411677.283716 (122233.019261)\n",
            "110: 409019.780498 (121933.066037)\n",
            "120: 411908.956109 (124233.229650)\n",
            "130: 413693.169999 (126560.852649)\n",
            "110\n"
          ],
          "name": "stdout"
        }
      ]
    },
    {
      "cell_type": "code",
      "metadata": {
        "id": "-6b_ltNoH0Q_",
        "colab": {
          "base_uri": "https://localhost:8080/",
          "height": 206
        },
        "outputId": "5b7b1c17-952a-49fa-fcc6-d92a20c1595d"
      },
      "source": [
        "scaler = StandardScaler().fit(X)\n",
        "rescaled_X_train = scaler.transform(X)\n",
        "model = RandomForestRegressor(n_estimators=best_num_est)\n",
        "model.fit(rescaled_X_train, y)\n",
        "\n",
        "scaler = StandardScaler().fit(test)\n",
        "rescaled_X_test = scaler.transform(test)\n",
        "predictions = model.predict(rescaled_X_test)\n",
        "\n",
        "df3 = pd.DataFrame(predictions.astype(int))\n",
        "df3.columns=['Price']\n",
        "filepath3 = 'Predictions_RandomForest.xlsx'\n",
        "df3.to_excel(filepath3, index=False)\n",
        "df3.head()"
      ],
      "execution_count": 40,
      "outputs": [
        {
          "output_type": "execute_result",
          "data": {
            "text/html": [
              "<div>\n",
              "<style scoped>\n",
              "    .dataframe tbody tr th:only-of-type {\n",
              "        vertical-align: middle;\n",
              "    }\n",
              "\n",
              "    .dataframe tbody tr th {\n",
              "        vertical-align: top;\n",
              "    }\n",
              "\n",
              "    .dataframe thead th {\n",
              "        text-align: right;\n",
              "    }\n",
              "</style>\n",
              "<table border=\"1\" class=\"dataframe\">\n",
              "  <thead>\n",
              "    <tr style=\"text-align: right;\">\n",
              "      <th></th>\n",
              "      <th>Price</th>\n",
              "    </tr>\n",
              "  </thead>\n",
              "  <tbody>\n",
              "    <tr>\n",
              "      <th>0</th>\n",
              "      <td>378</td>\n",
              "    </tr>\n",
              "    <tr>\n",
              "      <th>1</th>\n",
              "      <td>1269</td>\n",
              "    </tr>\n",
              "    <tr>\n",
              "      <th>2</th>\n",
              "      <td>490</td>\n",
              "    </tr>\n",
              "    <tr>\n",
              "      <th>3</th>\n",
              "      <td>1393</td>\n",
              "    </tr>\n",
              "    <tr>\n",
              "      <th>4</th>\n",
              "      <td>326</td>\n",
              "    </tr>\n",
              "  </tbody>\n",
              "</table>\n",
              "</div>"
            ],
            "text/plain": [
              "   Price\n",
              "0    378\n",
              "1   1269\n",
              "2    490\n",
              "3   1393\n",
              "4    326"
            ]
          },
          "metadata": {
            "tags": []
          },
          "execution_count": 40
        }
      ]
    },
    {
      "cell_type": "markdown",
      "metadata": {
        "id": "YB2sJDICLCtA"
      },
      "source": [
        "KNeighbors Regressor\n",
        "*   One time run\n",
        "*   Not used to extract final results\n",
        "\n"
      ]
    },
    {
      "cell_type": "code",
      "metadata": {
        "id": "65P71E2jLFTf",
        "colab": {
          "base_uri": "https://localhost:8080/",
          "height": 206
        },
        "outputId": "a3181c59-356f-4fd1-c6a2-f808e08dc940"
      },
      "source": [
        "scaler = StandardScaler().fit(X)\n",
        "rescaled_X_train = scaler.transform(X)\n",
        "model = KNeighborsRegressor()\n",
        "model.fit(rescaled_X_train, y)\n",
        "\n",
        "scaler = StandardScaler().fit(test)\n",
        "rescaled_X_test = scaler.transform(test)\n",
        "predictions = model.predict(rescaled_X_test)\n",
        "\n",
        "df4 = pd.DataFrame(predictions.astype(int))\n",
        "df4.columns=['Price']\n",
        "filepath4 = 'Predictions_KNeighbors.xlsx'\n",
        "df4.to_excel(filepath4, index=False)\n",
        "df4.head()"
      ],
      "execution_count": 41,
      "outputs": [
        {
          "output_type": "execute_result",
          "data": {
            "text/html": [
              "<div>\n",
              "<style scoped>\n",
              "    .dataframe tbody tr th:only-of-type {\n",
              "        vertical-align: middle;\n",
              "    }\n",
              "\n",
              "    .dataframe tbody tr th {\n",
              "        vertical-align: top;\n",
              "    }\n",
              "\n",
              "    .dataframe thead th {\n",
              "        text-align: right;\n",
              "    }\n",
              "</style>\n",
              "<table border=\"1\" class=\"dataframe\">\n",
              "  <thead>\n",
              "    <tr style=\"text-align: right;\">\n",
              "      <th></th>\n",
              "      <th>Price</th>\n",
              "    </tr>\n",
              "  </thead>\n",
              "  <tbody>\n",
              "    <tr>\n",
              "      <th>0</th>\n",
              "      <td>260</td>\n",
              "    </tr>\n",
              "    <tr>\n",
              "      <th>1</th>\n",
              "      <td>954</td>\n",
              "    </tr>\n",
              "    <tr>\n",
              "      <th>2</th>\n",
              "      <td>371</td>\n",
              "    </tr>\n",
              "    <tr>\n",
              "      <th>3</th>\n",
              "      <td>997</td>\n",
              "    </tr>\n",
              "    <tr>\n",
              "      <th>4</th>\n",
              "      <td>357</td>\n",
              "    </tr>\n",
              "  </tbody>\n",
              "</table>\n",
              "</div>"
            ],
            "text/plain": [
              "   Price\n",
              "0    260\n",
              "1    954\n",
              "2    371\n",
              "3    997\n",
              "4    357"
            ]
          },
          "metadata": {
            "tags": []
          },
          "execution_count": 41
        }
      ]
    },
    {
      "cell_type": "markdown",
      "metadata": {
        "id": "KFUsfysCMAqF"
      },
      "source": [
        "Elastic Net\n",
        "*   One time run\n",
        "*   Not used to extract final results\n",
        "\n"
      ]
    },
    {
      "cell_type": "code",
      "metadata": {
        "id": "jw2HN91eMBz7",
        "colab": {
          "base_uri": "https://localhost:8080/",
          "height": 206
        },
        "outputId": "967b1ed0-9873-4e60-baef-6f6c6ac42c92"
      },
      "source": [
        "scaler = StandardScaler().fit(X)\n",
        "rescaled_X_train = scaler.transform(X)\n",
        "model = ElasticNet()\n",
        "model.fit(rescaled_X_train, y)\n",
        "\n",
        "scaler = StandardScaler().fit(test)\n",
        "rescaled_X_test = scaler.transform(test)\n",
        "predictions = model.predict(rescaled_X_test)\n",
        "\n",
        "df5 = pd.DataFrame(predictions.astype(int))\n",
        "df5.columns=['Price']\n",
        "filepath5 = 'Predictions_ElasticNet.xlsx'\n",
        "df5.to_excel(filepath5, index=False)\n",
        "df5.head()"
      ],
      "execution_count": 42,
      "outputs": [
        {
          "output_type": "execute_result",
          "data": {
            "text/html": [
              "<div>\n",
              "<style scoped>\n",
              "    .dataframe tbody tr th:only-of-type {\n",
              "        vertical-align: middle;\n",
              "    }\n",
              "\n",
              "    .dataframe tbody tr th {\n",
              "        vertical-align: top;\n",
              "    }\n",
              "\n",
              "    .dataframe thead th {\n",
              "        text-align: right;\n",
              "    }\n",
              "</style>\n",
              "<table border=\"1\" class=\"dataframe\">\n",
              "  <thead>\n",
              "    <tr style=\"text-align: right;\">\n",
              "      <th></th>\n",
              "      <th>Price</th>\n",
              "    </tr>\n",
              "  </thead>\n",
              "  <tbody>\n",
              "    <tr>\n",
              "      <th>0</th>\n",
              "      <td>370</td>\n",
              "    </tr>\n",
              "    <tr>\n",
              "      <th>1</th>\n",
              "      <td>842</td>\n",
              "    </tr>\n",
              "    <tr>\n",
              "      <th>2</th>\n",
              "      <td>461</td>\n",
              "    </tr>\n",
              "    <tr>\n",
              "      <th>3</th>\n",
              "      <td>794</td>\n",
              "    </tr>\n",
              "    <tr>\n",
              "      <th>4</th>\n",
              "      <td>463</td>\n",
              "    </tr>\n",
              "  </tbody>\n",
              "</table>\n",
              "</div>"
            ],
            "text/plain": [
              "   Price\n",
              "0    370\n",
              "1    842\n",
              "2    461\n",
              "3    794\n",
              "4    463"
            ]
          },
          "metadata": {
            "tags": []
          },
          "execution_count": 42
        }
      ]
    },
    {
      "cell_type": "markdown",
      "metadata": {
        "id": "pllMX3gAMn0J"
      },
      "source": [
        "Lasso\n",
        "*   One time run\n",
        "*   Not used to extract final results\n",
        "\n"
      ]
    },
    {
      "cell_type": "code",
      "metadata": {
        "id": "JfI1s-lyMo8T",
        "colab": {
          "base_uri": "https://localhost:8080/",
          "height": 206
        },
        "outputId": "c976396e-9679-447b-e50c-060dc8c168d8"
      },
      "source": [
        "scaler = StandardScaler().fit(X)\n",
        "rescaled_X_train = scaler.transform(X)\n",
        "model = Lasso()\n",
        "model.fit(rescaled_X_train, y)\n",
        "\n",
        "scaler = StandardScaler().fit(test)\n",
        "rescaled_X_test = scaler.transform(test)\n",
        "predictions = model.predict(rescaled_X_test)\n",
        "\n",
        "df6 = pd.DataFrame(predictions.astype(int))\n",
        "df6.columns=['Price']\n",
        "filepath6 = 'Predictions_Lasso.xlsx'\n",
        "df6.to_excel(filepath6, index=False)\n",
        "df6.head()"
      ],
      "execution_count": 43,
      "outputs": [
        {
          "output_type": "execute_result",
          "data": {
            "text/html": [
              "<div>\n",
              "<style scoped>\n",
              "    .dataframe tbody tr th:only-of-type {\n",
              "        vertical-align: middle;\n",
              "    }\n",
              "\n",
              "    .dataframe tbody tr th {\n",
              "        vertical-align: top;\n",
              "    }\n",
              "\n",
              "    .dataframe thead th {\n",
              "        text-align: right;\n",
              "    }\n",
              "</style>\n",
              "<table border=\"1\" class=\"dataframe\">\n",
              "  <thead>\n",
              "    <tr style=\"text-align: right;\">\n",
              "      <th></th>\n",
              "      <th>Price</th>\n",
              "    </tr>\n",
              "  </thead>\n",
              "  <tbody>\n",
              "    <tr>\n",
              "      <th>0</th>\n",
              "      <td>349</td>\n",
              "    </tr>\n",
              "    <tr>\n",
              "      <th>1</th>\n",
              "      <td>963</td>\n",
              "    </tr>\n",
              "    <tr>\n",
              "      <th>2</th>\n",
              "      <td>423</td>\n",
              "    </tr>\n",
              "    <tr>\n",
              "      <th>3</th>\n",
              "      <td>896</td>\n",
              "    </tr>\n",
              "    <tr>\n",
              "      <th>4</th>\n",
              "      <td>420</td>\n",
              "    </tr>\n",
              "  </tbody>\n",
              "</table>\n",
              "</div>"
            ],
            "text/plain": [
              "   Price\n",
              "0    349\n",
              "1    963\n",
              "2    423\n",
              "3    896\n",
              "4    420"
            ]
          },
          "metadata": {
            "tags": []
          },
          "execution_count": 43
        }
      ]
    },
    {
      "cell_type": "markdown",
      "metadata": {
        "id": "xtR6cqYINEoF"
      },
      "source": [
        "Linear Regression\n",
        "*   One time run\n",
        "*   Not used to extract final results\n",
        "\n"
      ]
    },
    {
      "cell_type": "code",
      "metadata": {
        "id": "8WV8RLy2NGDV",
        "colab": {
          "base_uri": "https://localhost:8080/",
          "height": 206
        },
        "outputId": "a31469ff-560e-47da-a3c8-25bfcd694390"
      },
      "source": [
        "scaler = StandardScaler().fit(X)\n",
        "rescaled_X_train = scaler.transform(X)\n",
        "model = LinearRegression()\n",
        "model.fit(rescaled_X_train, y)\n",
        "\n",
        "scaler = StandardScaler().fit(test)\n",
        "rescaled_X_test = scaler.transform(test)\n",
        "predictions = model.predict(rescaled_X_test)\n",
        "\n",
        "df7 = pd.DataFrame(predictions.astype(int))\n",
        "df7.columns=['Price']\n",
        "filepath7 = 'Predictions_LinearRegression.xlsx'\n",
        "df7.to_excel(filepath7, index=False)\n",
        "df7.head()"
      ],
      "execution_count": 44,
      "outputs": [
        {
          "output_type": "execute_result",
          "data": {
            "text/html": [
              "<div>\n",
              "<style scoped>\n",
              "    .dataframe tbody tr th:only-of-type {\n",
              "        vertical-align: middle;\n",
              "    }\n",
              "\n",
              "    .dataframe tbody tr th {\n",
              "        vertical-align: top;\n",
              "    }\n",
              "\n",
              "    .dataframe thead th {\n",
              "        text-align: right;\n",
              "    }\n",
              "</style>\n",
              "<table border=\"1\" class=\"dataframe\">\n",
              "  <thead>\n",
              "    <tr style=\"text-align: right;\">\n",
              "      <th></th>\n",
              "      <th>Price</th>\n",
              "    </tr>\n",
              "  </thead>\n",
              "  <tbody>\n",
              "    <tr>\n",
              "      <th>0</th>\n",
              "      <td>346</td>\n",
              "    </tr>\n",
              "    <tr>\n",
              "      <th>1</th>\n",
              "      <td>964</td>\n",
              "    </tr>\n",
              "    <tr>\n",
              "      <th>2</th>\n",
              "      <td>420</td>\n",
              "    </tr>\n",
              "    <tr>\n",
              "      <th>3</th>\n",
              "      <td>896</td>\n",
              "    </tr>\n",
              "    <tr>\n",
              "      <th>4</th>\n",
              "      <td>424</td>\n",
              "    </tr>\n",
              "  </tbody>\n",
              "</table>\n",
              "</div>"
            ],
            "text/plain": [
              "   Price\n",
              "0    346\n",
              "1    964\n",
              "2    420\n",
              "3    896\n",
              "4    424"
            ]
          },
          "metadata": {
            "tags": []
          },
          "execution_count": 44
        }
      ]
    }
  ]
}